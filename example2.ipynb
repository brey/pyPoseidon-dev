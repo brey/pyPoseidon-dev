{
 "cells": [
  {
   "cell_type": "markdown",
   "metadata": {
    "deletable": true,
    "editable": true
   },
   "source": [
    "## Meteo to nc"
   ]
  },
  {
   "cell_type": "code",
   "execution_count": 110,
   "metadata": {
    "collapsed": false,
    "deletable": true,
    "editable": true
   },
   "outputs": [],
   "source": [
    "from Poseidon.utils import *\n",
    "from Poseidon.meteo import *\n",
    "from netCDF4 import Dataset\n",
    "import datetime"
   ]
  },
  {
   "cell_type": "markdown",
   "metadata": {
    "deletable": true,
    "editable": true
   },
   "source": [
    "### setup"
   ]
  },
  {
   "cell_type": "code",
   "execution_count": 111,
   "metadata": {
    "collapsed": false,
    "deletable": true,
    "editable": true
   },
   "outputs": [],
   "source": [
    "#define in a dictionary the properties e.g\n",
    "dic={'lon0':0., # lat/lon window\n",
    "     'lon1':10.,\n",
    "     'lat0':28.,\n",
    "     'lat1':38.}"
   ]
  },
  {
   "cell_type": "markdown",
   "metadata": {
    "deletable": true,
    "editable": true
   },
   "source": [
    "### extract meteo forcing"
   ]
  },
  {
   "cell_type": "code",
   "execution_count": 115,
   "metadata": {
    "collapsed": false,
    "deletable": true,
    "editable": true
   },
   "outputs": [],
   "source": [
    "#set meteo forcing\n",
    "m = ecmwf() # initialize"
   ]
  },
  {
   "cell_type": "code",
   "execution_count": 118,
   "metadata": {
    "collapsed": false,
    "deletable": true,
    "editable": true
   },
   "outputs": [],
   "source": [
    "# specify the forecast times ft1,ft2\n",
    "m.ft1 = 0\n",
    "m.ft2 = 2 #that is 0,1 hours"
   ]
  },
  {
   "cell_type": "code",
   "execution_count": 119,
   "metadata": {
    "collapsed": false,
    "deletable": true,
    "editable": true
   },
   "outputs": [
    {
     "name": "stderr",
     "output_type": "stream",
     "text": [
      "100%|██████████| 6/6 [00:02<00:00,  2.33it/s]"
     ]
    },
    {
     "name": "stdout",
     "output_type": "stream",
     "text": [
      "\n",
      "meteo done\n"
     ]
    },
    {
     "name": "stderr",
     "output_type": "stream",
     "text": [
      "\n"
     ]
    }
   ],
   "source": [
    "# parse the ecmwf grib file.\n",
    "m.parse(path='/Users/brey/Downloads/20130301.00.tropical_cyclone.grib',**dic)"
   ]
  },
  {
   "cell_type": "markdown",
   "metadata": {
    "deletable": true,
    "editable": true
   },
   "source": [
    "## output "
   ]
  },
  {
   "cell_type": "markdown",
   "metadata": {},
   "source": [
    "Below the output specifically for Schism but one can adapt appropriately"
   ]
  },
  {
   "cell_type": "code",
   "execution_count": 120,
   "metadata": {
    "collapsed": true,
    "deletable": true,
    "editable": true
   },
   "outputs": [],
   "source": [
    "#from DataFile class create a file\n",
    "d = DataFile('/Users/brey/Downloads/test.nc', write=True, create=True,format='NETCDF3_64BIT')"
   ]
  },
  {
   "cell_type": "code",
   "execution_count": 121,
   "metadata": {
    "collapsed": true
   },
   "outputs": [],
   "source": [
    "## add OPTIONAL attributes to the nc file\n",
    "info = {'description' : '',\n",
    "    'history' :'JRC Ispra European Commission',\n",
    "    'source' : 'netCDF4 python module'}"
   ]
  },
  {
   "cell_type": "code",
   "execution_count": 122,
   "metadata": {
    "collapsed": false
   },
   "outputs": [],
   "source": [
    "d.info(**info)"
   ]
  },
  {
   "cell_type": "code",
   "execution_count": 123,
   "metadata": {
    "collapsed": true
   },
   "outputs": [],
   "source": [
    "tstamp = datetime.datetime(2013,3,1,0)"
   ]
  },
  {
   "cell_type": "code",
   "execution_count": 124,
   "metadata": {
    "collapsed": true
   },
   "outputs": [],
   "source": [
    "tu = datetime.datetime.strftime(tstamp,'%Y-%m-%d' )\n",
    "bd = datetime.datetime.strftime(tstamp,'[%Y  %-m  %-d  %-H]' )"
   ]
  },
  {
   "cell_type": "code",
   "execution_count": 125,
   "metadata": {
    "collapsed": false
   },
   "outputs": [],
   "source": [
    "time = np.arange(m.ft1,m.ft2)"
   ]
  },
  {
   "cell_type": "code",
   "execution_count": 126,
   "metadata": {
    "collapsed": true
   },
   "outputs": [],
   "source": [
    "spfh = np.empty(m.v.shape)"
   ]
  },
  {
   "cell_type": "code",
   "execution_count": 127,
   "metadata": {
    "collapsed": false,
    "deletable": true,
    "editable": true
   },
   "outputs": [],
   "source": [
    "#Write variables\n",
    "d.write('time',time, ['time'], **{'limited':False,'long_name': 'Time', 'standard_name': 'time', 'units': tu,'base_date': bd})\n",
    "\n",
    "\n",
    "d.write('lat',m.lats, ['nx_grid','ny_grid'], **{'long_name': 'Latitude', 'standard_name': 'latitude', 'units': 'degrees_north'})\n",
    "d.write('lon',m.lons, ['nx_grid','ny_grid'], **{'long_name': 'Longitude', 'standard_name': 'longitude', 'units': 'degrees_east'})\n",
    "d.write('prmsl',m.p, ['time','nx_grid','ny_grid'], **{'long_name': 'Pressure reduced to MSL', 'standard_name': 'air_pressure_at_sea_level', 'units': 'Pa'})\n",
    "d.write('uwind',m.u, ['time','nx_grid','ny_grid'], **{'long_name': 'Surface Eastward Air Velocity', 'standard_name': 'eastward_wind', 'units': 'm/s'})\n",
    "d.write('vwind',m.v, ['time','nx_grid','ny_grid'], **{'long_name': 'Surface Northward Air Velocity', 'standard_name': 'northward_wind', 'units': 'm/s'})\n",
    "d.write('spfh',spfh, ['time','nx_grid','ny_grid'], **{'long_name': 'Surface Specific Humidity (2m AGL)', 'standard_name': 'specific_humidity', 'units': '1'})\n",
    "d.write('stmp',spfh, ['time','nx_grid','ny_grid'], **{'long_name': 'Surface Temperature', 'standard_name': 'surface temperature', 'units': 'degrees'})"
   ]
  },
  {
   "cell_type": "code",
   "execution_count": 128,
   "metadata": {
    "collapsed": true,
    "deletable": true,
    "editable": true
   },
   "outputs": [],
   "source": [
    "#close\n",
    "d.close()"
   ]
  },
  {
   "cell_type": "code",
   "execution_count": 129,
   "metadata": {
    "collapsed": true,
    "deletable": true,
    "editable": true
   },
   "outputs": [],
   "source": [
    "#check\n",
    "q = Dataset('/Users/brey/Downloads/test.nc')"
   ]
  },
  {
   "cell_type": "code",
   "execution_count": 130,
   "metadata": {
    "collapsed": false,
    "deletable": true,
    "editable": true
   },
   "outputs": [
    {
     "data": {
      "text/plain": [
       "<type 'netCDF4._netCDF4.Variable'>\n",
       "int32 time(time)\n",
       "    units: 2013-03-01\n",
       "    standard_name: time\n",
       "    base_date: [2013  3  1  0]\n",
       "    long_name: Time\n",
       "unlimited dimensions: time\n",
       "current shape = (2,)\n",
       "filling off"
      ]
     },
     "execution_count": 130,
     "metadata": {},
     "output_type": "execute_result"
    }
   ],
   "source": [
    "q.variables['time']"
   ]
  },
  {
   "cell_type": "code",
   "execution_count": null,
   "metadata": {
    "collapsed": true
   },
   "outputs": [],
   "source": []
  }
 ],
 "metadata": {
  "kernelspec": {
   "display_name": "Python 2 (cforge)",
   "language": "python",
   "name": "py2-cforge"
  },
  "language_info": {
   "codemirror_mode": {
    "name": "ipython",
    "version": 2
   },
   "file_extension": ".py",
   "mimetype": "text/x-python",
   "name": "python",
   "nbconvert_exporter": "python",
   "pygments_lexer": "ipython2",
   "version": "2.7.13"
  }
 },
 "nbformat": 4,
 "nbformat_minor": 2
}
