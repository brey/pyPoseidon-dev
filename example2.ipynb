{
 "cells": [
  {
   "cell_type": "markdown",
   "metadata": {
    "deletable": true,
    "editable": true
   },
   "source": [
    "## Meteo to nc"
   ]
  },
  {
   "cell_type": "code",
   "execution_count": 1,
   "metadata": {
    "collapsed": false,
    "deletable": true,
    "editable": true
   },
   "outputs": [],
   "source": [
    "from Poseidon.utils import *\n",
    "from Poseidon.meteo import *\n",
    "from netCDF4 import Dataset\n",
    "import datetime"
   ]
  },
  {
   "cell_type": "markdown",
   "metadata": {
    "deletable": true,
    "editable": true
   },
   "source": [
    "### setup"
   ]
  },
  {
   "cell_type": "code",
   "execution_count": 2,
   "metadata": {
    "collapsed": false,
    "deletable": true,
    "editable": true
   },
   "outputs": [],
   "source": [
    "#define in a dictionary the properties e.g\n",
    "dic={'lon0':0., # lat/lon window\n",
    "     'lon1':10.,\n",
    "     'lat0':28.,\n",
    "     'lat1':38.}"
   ]
  },
  {
   "cell_type": "markdown",
   "metadata": {
    "deletable": true,
    "editable": true
   },
   "source": [
    "### extract meteo forcing"
   ]
  },
  {
   "cell_type": "code",
   "execution_count": 3,
   "metadata": {
    "collapsed": false,
    "deletable": true,
    "editable": true
   },
   "outputs": [],
   "source": [
    "#set meteo forcing\n",
    "m = ecmwf() # initialize"
   ]
  },
  {
   "cell_type": "code",
   "execution_count": 4,
   "metadata": {
    "collapsed": true,
    "deletable": true,
    "editable": true
   },
   "outputs": [],
   "source": [
    "# specify the forecast times ft1,ft2\n",
    "m.ft1 = 0\n",
    "m.ft2 = 2 #that is 0,1 hours"
   ]
  },
  {
   "cell_type": "code",
   "execution_count": 5,
   "metadata": {
    "collapsed": false,
    "deletable": true,
    "editable": true
   },
   "outputs": [
    {
     "name": "stderr",
     "output_type": "stream",
     "text": [
      "100%|██████████| 6/6 [00:02<00:00,  2.15it/s]"
     ]
    },
    {
     "name": "stdout",
     "output_type": "stream",
     "text": [
      "\n",
      "meteo done\n"
     ]
    },
    {
     "name": "stderr",
     "output_type": "stream",
     "text": [
      "\n"
     ]
    }
   ],
   "source": [
    "# parse the ecmwf grib file.\n",
    "m.parse(path='/Users/brey/Downloads/20130301.00.tropical_cyclone.grib',**dic)"
   ]
  },
  {
   "cell_type": "markdown",
   "metadata": {
    "deletable": true,
    "editable": true
   },
   "source": [
    "## output "
   ]
  },
  {
   "cell_type": "markdown",
   "metadata": {},
   "source": [
    "Below the output specifically for Schism but one can adapt appropriately"
   ]
  },
  {
   "cell_type": "code",
   "execution_count": 6,
   "metadata": {
    "collapsed": true,
    "deletable": true,
    "editable": true
   },
   "outputs": [],
   "source": [
    "#from DataFile class create a file\n",
    "d = DataFile('/Users/brey/Downloads/test.nc', write=True, create=True,format='NETCDF3_64BIT')"
   ]
  },
  {
   "cell_type": "code",
   "execution_count": 7,
   "metadata": {
    "collapsed": true
   },
   "outputs": [],
   "source": [
    "## add OPTIONAL attributes to the nc file\n",
    "info = {'description' : '',\n",
    "    'history' :'JRC Ispra European Commission',\n",
    "    'source' : 'netCDF4 python module'}"
   ]
  },
  {
   "cell_type": "code",
   "execution_count": 8,
   "metadata": {
    "collapsed": false
   },
   "outputs": [],
   "source": [
    "d.info(**info)"
   ]
  },
  {
   "cell_type": "code",
   "execution_count": 9,
   "metadata": {
    "collapsed": true
   },
   "outputs": [],
   "source": [
    "tstamp = datetime.datetime(2013,3,1,0)"
   ]
  },
  {
   "cell_type": "code",
   "execution_count": 10,
   "metadata": {
    "collapsed": true
   },
   "outputs": [],
   "source": [
    "tu = datetime.datetime.strftime(tstamp,'%Y-%m-%d' )\n",
    "bd = datetime.datetime.strftime(tstamp,'[%Y  %m  %d  %H]' )"
   ]
  },
  {
   "cell_type": "code",
   "execution_count": 11,
   "metadata": {
    "collapsed": false
   },
   "outputs": [],
   "source": [
    "time = np.arange(m.ft1,m.ft2)"
   ]
  },
  {
   "cell_type": "code",
   "execution_count": 12,
   "metadata": {
    "collapsed": true
   },
   "outputs": [],
   "source": [
    "spfh = np.empty(m.v.shape)"
   ]
  },
  {
   "cell_type": "code",
   "execution_count": 13,
   "metadata": {
    "collapsed": false,
    "deletable": true,
    "editable": true
   },
   "outputs": [],
   "source": [
    "#Write variables\n",
    "d.write('time',time, **{'long_name': 'Time', 'standard_name': 'time', 'units': tu,'base_date': bd})\n",
    "\n",
    "\n",
    "d.write('lat',m.lats, **{'long_name': 'Latitude', 'standard_name': 'latitude', 'units': 'degrees_north'})\n",
    "d.write('lon',m.lons, **{'long_name': 'Longitude', 'standard_name': 'longitude', 'units': 'degrees_east'})\n",
    "d.write('prmsl',m.p, **{'long_name': 'Pressure reduced to MSL', 'standard_name': 'air_pressure_at_sea_level', 'units': 'Pa'})\n",
    "d.write('uwind',m.u, **{'long_name': 'Surface Eastward Air Velocity', 'standard_name': 'eastward_wind', 'units': 'm/s'})\n",
    "d.write('vwind',m.v, **{'long_name': 'Surface Northward Air Velocity', 'standard_name': 'northward_wind', 'units': 'm/s'})\n",
    "d.write('spfh',spfh, **{'long_name': 'Surface Specific Humidity (2m AGL)', 'standard_name': 'specific_humidity', 'units': '1'})\n",
    "d.write('stmp',spfh, **{'long_name': 'Surface Temperature', 'standard_name': 'surface temperature', 'units': 'degrees'})"
   ]
  },
  {
   "cell_type": "code",
   "execution_count": 14,
   "metadata": {
    "collapsed": true,
    "deletable": true,
    "editable": true
   },
   "outputs": [],
   "source": [
    "#close\n",
    "d.close()"
   ]
  },
  {
   "cell_type": "code",
   "execution_count": 15,
   "metadata": {
    "collapsed": true,
    "deletable": true,
    "editable": true
   },
   "outputs": [],
   "source": [
    "#check\n",
    "q = Dataset('/Users/brey/Downloads/test.nc')"
   ]
  },
  {
   "cell_type": "code",
   "execution_count": 16,
   "metadata": {
    "collapsed": false,
    "deletable": true,
    "editable": true
   },
   "outputs": [
    {
     "data": {
      "text/plain": [
       "<type 'netCDF4._netCDF4.Dataset'>\n",
       "root group (NETCDF3_64BIT_OFFSET data model, file format NETCDF3):\n",
       "    source: netCDF4 python module\n",
       "    description: \n",
       "    history: JRC Ispra European Commission\n",
       "    dimensions(sizes): x(2), x2(75), y(75), z(75)\n",
       "    variables(dimensions): int32 \u001b[4mtime\u001b[0m(x), float64 \u001b[4mlat\u001b[0m(x2,y), float64 \u001b[4mlon\u001b[0m(x2,y), float64 \u001b[4mprmsl\u001b[0m(x,y,z), float64 \u001b[4muwind\u001b[0m(x,y,z), float64 \u001b[4mvwind\u001b[0m(x,y,z), float64 \u001b[4mspfh\u001b[0m(x,y,z), float64 \u001b[4mstmp\u001b[0m(x,y,z)\n",
       "    groups: "
      ]
     },
     "execution_count": 16,
     "metadata": {},
     "output_type": "execute_result"
    }
   ],
   "source": [
    "q"
   ]
  },
  {
   "cell_type": "code",
   "execution_count": null,
   "metadata": {
    "collapsed": true
   },
   "outputs": [],
   "source": []
  }
 ],
 "metadata": {
  "kernelspec": {
   "display_name": "Python 2 (cforge)",
   "language": "python",
   "name": "py2-cforge"
  },
  "language_info": {
   "codemirror_mode": {
    "name": "ipython",
    "version": 2
   },
   "file_extension": ".py",
   "mimetype": "text/x-python",
   "name": "python",
   "nbconvert_exporter": "python",
   "pygments_lexer": "ipython2",
   "version": "2.7.13"
  }
 },
 "nbformat": 4,
 "nbformat_minor": 2
}
