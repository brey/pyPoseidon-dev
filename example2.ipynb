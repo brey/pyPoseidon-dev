{
 "cells": [
  {
   "cell_type": "markdown",
   "metadata": {
    "deletable": true,
    "editable": true
   },
   "source": [
    "## Meteo to nc"
   ]
  },
  {
   "cell_type": "code",
   "execution_count": 85,
   "metadata": {
    "collapsed": false,
    "deletable": true,
    "editable": true
   },
   "outputs": [],
   "source": [
    "from Poseidon.utils import *\n",
    "from Poseidon.meteo import *\n",
    "from netCDF4 import Dataset\n",
    "import datetime"
   ]
  },
  {
   "cell_type": "markdown",
   "metadata": {
    "deletable": true,
    "editable": true
   },
   "source": [
    "### setup"
   ]
  },
  {
   "cell_type": "code",
   "execution_count": 2,
   "metadata": {
    "collapsed": false,
    "deletable": true,
    "editable": true
   },
   "outputs": [],
   "source": [
    "#define in a dictionary the properties e.g\n",
    "dic={'lon0':0., # lat/lon window\n",
    "     'lon1':10.,\n",
    "     'lat0':28.,\n",
    "     'lat1':38.}"
   ]
  },
  {
   "cell_type": "markdown",
   "metadata": {
    "deletable": true,
    "editable": true
   },
   "source": [
    "### extract meteo forcing"
   ]
  },
  {
   "cell_type": "code",
   "execution_count": 3,
   "metadata": {
    "collapsed": false,
    "deletable": true,
    "editable": true
   },
   "outputs": [],
   "source": [
    "#set meteo forcing\n",
    "m = ecmwf() # initialize"
   ]
  },
  {
   "cell_type": "code",
   "execution_count": 4,
   "metadata": {
    "collapsed": true,
    "deletable": true,
    "editable": true
   },
   "outputs": [],
   "source": [
    "# specify the forecast times ft1,ft2\n",
    "m.ft1 = 0\n",
    "m.ft2 = 2 #that is 0,1 hours"
   ]
  },
  {
   "cell_type": "code",
   "execution_count": 5,
   "metadata": {
    "collapsed": false,
    "deletable": true,
    "editable": true
   },
   "outputs": [
    {
     "name": "stderr",
     "output_type": "stream",
     "text": [
      "100%|██████████| 6/6 [00:02<00:00,  2.38it/s]"
     ]
    },
    {
     "name": "stdout",
     "output_type": "stream",
     "text": [
      "\n",
      "meteo done\n"
     ]
    },
    {
     "name": "stderr",
     "output_type": "stream",
     "text": [
      "\n"
     ]
    }
   ],
   "source": [
    "# parse the ecmwf grib file.\n",
    "m.parse(path='/Users/brey/Downloads/20130301.00.tropical_cyclone.grib',**dic)"
   ]
  },
  {
   "cell_type": "markdown",
   "metadata": {
    "deletable": true,
    "editable": true
   },
   "source": [
    "## output "
   ]
  },
  {
   "cell_type": "markdown",
   "metadata": {},
   "source": [
    "Below the output specifically for Schism but one can adapt appropriately"
   ]
  },
  {
   "cell_type": "code",
   "execution_count": 96,
   "metadata": {
    "collapsed": true,
    "deletable": true,
    "editable": true
   },
   "outputs": [],
   "source": [
    "#from DataFile class create a file\n",
    "d = DataFile('/Users/brey/Downloads/test.nc', write=True, create=True,format='NETCDF3_64BIT')"
   ]
  },
  {
   "cell_type": "code",
   "execution_count": 97,
   "metadata": {
    "collapsed": true
   },
   "outputs": [],
   "source": [
    "d.description = ''\n",
    "d.history = 'JRC Ispra European Commission'\n",
    "d.source = 'netCDF4 python module'\n"
   ]
  },
  {
   "cell_type": "code",
   "execution_count": 98,
   "metadata": {
    "collapsed": true
   },
   "outputs": [],
   "source": [
    "tstamp = datetime.datetime(2013,3,1,0)"
   ]
  },
  {
   "cell_type": "code",
   "execution_count": 99,
   "metadata": {
    "collapsed": true
   },
   "outputs": [],
   "source": [
    "tu = datetime.datetime.strftime(tstamp,'%Y-%m-%d' )\n",
    "bd = datetime.datetime.strftime(tstamp,'[%Y  %m  %d  %H]' )"
   ]
  },
  {
   "cell_type": "code",
   "execution_count": 100,
   "metadata": {
    "collapsed": false
   },
   "outputs": [],
   "source": [
    "time = np.arange(m.ft1,m.ft2)"
   ]
  },
  {
   "cell_type": "code",
   "execution_count": 101,
   "metadata": {
    "collapsed": true
   },
   "outputs": [],
   "source": [
    "spfh = np.empty(m.v.shape)"
   ]
  },
  {
   "cell_type": "code",
   "execution_count": 102,
   "metadata": {
    "collapsed": false,
    "deletable": true,
    "editable": true
   },
   "outputs": [],
   "source": [
    "#Write variables\n",
    "d.write('time',time, **{'long_name': 'Time', 'standard_name': 'time', 'units': tu,'base_date': bd})\n",
    "\n",
    "\n",
    "d.write('lat',m.lats, **{'long_name': 'Latitude', 'standard_name': 'latitude', 'units': 'degrees_north'})\n",
    "d.write('lon',m.lons, **{'long_name': 'Longitude', 'standard_name': 'longitude', 'units': 'degrees_east'})\n",
    "d.write('prmsl',m.p, **{'long_name': 'Pressure reduced to MSL', 'standard_name': 'air_pressure_at_sea_level', 'units': 'Pa'})\n",
    "d.write('uwind',m.u, **{'long_name': 'Surface Eastward Air Velocity', 'standard_name': 'eastward_wind', 'units': 'm/s'})\n",
    "d.write('vwind',m.v, **{'long_name': 'Surface Northward Air Velocity', 'standard_name': 'northward_wind', 'units': 'm/s'})\n",
    "d.write('spfh',spfh, **{'long_name': 'Surface Specific Humidity (2m AGL)', 'standard_name': 'specific_humidity', 'units': '1'})\n",
    "d.write('stmp',spfh, **{'long_name': 'Surface Temperature', 'standard_name': 'surface temperature', 'units': 'degrees'})"
   ]
  },
  {
   "cell_type": "code",
   "execution_count": 103,
   "metadata": {
    "collapsed": true,
    "deletable": true,
    "editable": true
   },
   "outputs": [],
   "source": [
    "#close\n",
    "d.close()"
   ]
  },
  {
   "cell_type": "code",
   "execution_count": 104,
   "metadata": {
    "collapsed": true,
    "deletable": true,
    "editable": true
   },
   "outputs": [],
   "source": [
    "#check\n",
    "q = Dataset('/Users/brey/Downloads/test.nc')"
   ]
  },
  {
   "cell_type": "code",
   "execution_count": 105,
   "metadata": {
    "collapsed": false,
    "deletable": true,
    "editable": true
   },
   "outputs": [
    {
     "data": {
      "text/plain": [
       "OrderedDict([(u'time', <type 'netCDF4._netCDF4.Variable'>\n",
       "              int32 time(x)\n",
       "                  units: 2013-03-01\n",
       "                  long_name: Time\n",
       "                  standard_name: time\n",
       "                  base_date: [2013  03  01  00]\n",
       "              unlimited dimensions: \n",
       "              current shape = (2,)\n",
       "              filling off), (u'lat', <type 'netCDF4._netCDF4.Variable'>\n",
       "              float64 lat(x2, y)\n",
       "                  units: degrees_north\n",
       "                  long_name: Latitude\n",
       "                  standard_name: latitude\n",
       "              unlimited dimensions: \n",
       "              current shape = (75, 75)\n",
       "              filling off), (u'lon', <type 'netCDF4._netCDF4.Variable'>\n",
       "              float64 lon(x2, y)\n",
       "                  units: degrees_east\n",
       "                  long_name: Longitude\n",
       "                  standard_name: longitude\n",
       "              unlimited dimensions: \n",
       "              current shape = (75, 75)\n",
       "              filling off), (u'prmsl', <type 'netCDF4._netCDF4.Variable'>\n",
       "              float64 prmsl(x, y, z)\n",
       "                  units: Pa\n",
       "                  long_name: Pressure reduced to MSL\n",
       "                  standard_name: air_pressure_at_sea_level\n",
       "              unlimited dimensions: \n",
       "              current shape = (2, 75, 75)\n",
       "              filling off), (u'uwind', <type 'netCDF4._netCDF4.Variable'>\n",
       "              float64 uwind(x, y, z)\n",
       "                  units: m/s\n",
       "                  long_name: Surface Eastward Air Velocity\n",
       "                  standard_name: eastward_wind\n",
       "              unlimited dimensions: \n",
       "              current shape = (2, 75, 75)\n",
       "              filling off), (u'vwind', <type 'netCDF4._netCDF4.Variable'>\n",
       "              float64 vwind(x, y, z)\n",
       "                  units: m/s\n",
       "                  long_name: Surface Northward Air Velocity\n",
       "                  standard_name: northward_wind\n",
       "              unlimited dimensions: \n",
       "              current shape = (2, 75, 75)\n",
       "              filling off), (u'spfh', <type 'netCDF4._netCDF4.Variable'>\n",
       "              float64 spfh(x, y, z)\n",
       "                  units: 1\n",
       "                  long_name: Surface Specific Humidity (2m AGL)\n",
       "                  standard_name: specific_humidity\n",
       "              unlimited dimensions: \n",
       "              current shape = (2, 75, 75)\n",
       "              filling off), (u'stmp', <type 'netCDF4._netCDF4.Variable'>\n",
       "              float64 stmp(x, y, z)\n",
       "                  units: degrees\n",
       "                  long_name: Surface Temperature\n",
       "                  standard_name: surface temperature\n",
       "              unlimited dimensions: \n",
       "              current shape = (2, 75, 75)\n",
       "              filling off)])"
      ]
     },
     "execution_count": 105,
     "metadata": {},
     "output_type": "execute_result"
    }
   ],
   "source": [
    "q.variables"
   ]
  },
  {
   "cell_type": "code",
   "execution_count": null,
   "metadata": {
    "collapsed": true,
    "deletable": true,
    "editable": true
   },
   "outputs": [],
   "source": []
  }
 ],
 "metadata": {
  "kernelspec": {
   "display_name": "Python 2 (cforge)",
   "language": "python",
   "name": "py2-cforge"
  },
  "language_info": {
   "codemirror_mode": {
    "name": "ipython",
    "version": 2
   },
   "file_extension": ".py",
   "mimetype": "text/x-python",
   "name": "python",
   "nbconvert_exporter": "python",
   "pygments_lexer": "ipython2",
   "version": "2.7.13"
  }
 },
 "nbformat": 4,
 "nbformat_minor": 2
}
