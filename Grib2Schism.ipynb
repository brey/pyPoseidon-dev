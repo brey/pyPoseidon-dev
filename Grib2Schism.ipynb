{
 "cells": [
  {
   "cell_type": "markdown",
   "metadata": {
    "collapsed": true,
    "deletable": true,
    "editable": true
   },
   "source": [
    "## Extract from ECMWF grib files to Schism NetCDF input"
   ]
  },
  {
   "cell_type": "code",
   "execution_count": 1,
   "metadata": {
    "collapsed": true,
    "deletable": true,
    "editable": true
   },
   "outputs": [],
   "source": [
    "#!/usr/bin/env python\n",
    "#\n",
    "# Meteo to nc for Schism\n",
    "\n",
    "from Poseidon.utils import *\n",
    "from Poseidon.meteo import *\n",
    "from netCDF4 import Dataset\n",
    "import datetime\n",
    "\n",
    "inPATH='/home/critechproc/STORAGE/meteo/'\n",
    "outPATH='/home/critechproc/STORAGE/SCHISM/test1/sflux/'\n",
    "\n",
    "\n",
    "#define in a dictionary the properties e.g\n",
    "dic={'lon0':-35., # lat/lon window\n",
    "     'lon1':43.,\n",
    "     'lat0':24.5,\n",
    "     'lat1':76.5}\n",
    "\n",
    "\n",
    "#creating a time sequence of the runs\n",
    "\n",
    "start_date = datetime.datetime(2010,2,1,0)\n",
    "\n",
    "end_date = datetime.datetime(2010,3,31,12)\n",
    "\n",
    "time_interval = datetime.timedelta(hours=12)\n",
    "\n",
    "dt=(end_date-start_date).total_seconds()\n",
    "\n",
    "ndt=dt/time_interval.total_seconds()\n",
    "\n",
    "ndt=np.int(ndt)+1\n",
    "\n",
    "\n",
    "date_list = [start_date + time_interval*x for x in range(ndt)]\n",
    "\n",
    "#creating a sequence of folder from which we read the meteo.\n",
    "\n",
    "it=1 #initialize index"
   ]
  },
  {
   "cell_type": "code",
   "execution_count": 2,
   "metadata": {
    "collapsed": false,
    "deletable": true,
    "editable": true
   },
   "outputs": [
    {
     "data": {
      "text/plain": [
       "[datetime.datetime(2010, 2, 1, 0, 0),\n",
       " datetime.datetime(2010, 2, 1, 12, 0),\n",
       " datetime.datetime(2010, 2, 2, 0, 0),\n",
       " datetime.datetime(2010, 2, 2, 12, 0),\n",
       " datetime.datetime(2010, 2, 3, 0, 0),\n",
       " datetime.datetime(2010, 2, 3, 12, 0),\n",
       " datetime.datetime(2010, 2, 4, 0, 0),\n",
       " datetime.datetime(2010, 2, 4, 12, 0),\n",
       " datetime.datetime(2010, 2, 5, 0, 0),\n",
       " datetime.datetime(2010, 2, 5, 12, 0),\n",
       " datetime.datetime(2010, 2, 6, 0, 0),\n",
       " datetime.datetime(2010, 2, 6, 12, 0),\n",
       " datetime.datetime(2010, 2, 7, 0, 0),\n",
       " datetime.datetime(2010, 2, 7, 12, 0),\n",
       " datetime.datetime(2010, 2, 8, 0, 0),\n",
       " datetime.datetime(2010, 2, 8, 12, 0),\n",
       " datetime.datetime(2010, 2, 9, 0, 0),\n",
       " datetime.datetime(2010, 2, 9, 12, 0),\n",
       " datetime.datetime(2010, 2, 10, 0, 0),\n",
       " datetime.datetime(2010, 2, 10, 12, 0),\n",
       " datetime.datetime(2010, 2, 11, 0, 0),\n",
       " datetime.datetime(2010, 2, 11, 12, 0),\n",
       " datetime.datetime(2010, 2, 12, 0, 0),\n",
       " datetime.datetime(2010, 2, 12, 12, 0),\n",
       " datetime.datetime(2010, 2, 13, 0, 0),\n",
       " datetime.datetime(2010, 2, 13, 12, 0),\n",
       " datetime.datetime(2010, 2, 14, 0, 0),\n",
       " datetime.datetime(2010, 2, 14, 12, 0),\n",
       " datetime.datetime(2010, 2, 15, 0, 0),\n",
       " datetime.datetime(2010, 2, 15, 12, 0),\n",
       " datetime.datetime(2010, 2, 16, 0, 0),\n",
       " datetime.datetime(2010, 2, 16, 12, 0),\n",
       " datetime.datetime(2010, 2, 17, 0, 0),\n",
       " datetime.datetime(2010, 2, 17, 12, 0),\n",
       " datetime.datetime(2010, 2, 18, 0, 0),\n",
       " datetime.datetime(2010, 2, 18, 12, 0),\n",
       " datetime.datetime(2010, 2, 19, 0, 0),\n",
       " datetime.datetime(2010, 2, 19, 12, 0),\n",
       " datetime.datetime(2010, 2, 20, 0, 0),\n",
       " datetime.datetime(2010, 2, 20, 12, 0),\n",
       " datetime.datetime(2010, 2, 21, 0, 0),\n",
       " datetime.datetime(2010, 2, 21, 12, 0),\n",
       " datetime.datetime(2010, 2, 22, 0, 0),\n",
       " datetime.datetime(2010, 2, 22, 12, 0),\n",
       " datetime.datetime(2010, 2, 23, 0, 0),\n",
       " datetime.datetime(2010, 2, 23, 12, 0),\n",
       " datetime.datetime(2010, 2, 24, 0, 0),\n",
       " datetime.datetime(2010, 2, 24, 12, 0),\n",
       " datetime.datetime(2010, 2, 25, 0, 0),\n",
       " datetime.datetime(2010, 2, 25, 12, 0),\n",
       " datetime.datetime(2010, 2, 26, 0, 0),\n",
       " datetime.datetime(2010, 2, 26, 12, 0),\n",
       " datetime.datetime(2010, 2, 27, 0, 0),\n",
       " datetime.datetime(2010, 2, 27, 12, 0),\n",
       " datetime.datetime(2010, 2, 28, 0, 0),\n",
       " datetime.datetime(2010, 2, 28, 12, 0),\n",
       " datetime.datetime(2010, 3, 1, 0, 0),\n",
       " datetime.datetime(2010, 3, 1, 12, 0),\n",
       " datetime.datetime(2010, 3, 2, 0, 0),\n",
       " datetime.datetime(2010, 3, 2, 12, 0),\n",
       " datetime.datetime(2010, 3, 3, 0, 0),\n",
       " datetime.datetime(2010, 3, 3, 12, 0),\n",
       " datetime.datetime(2010, 3, 4, 0, 0),\n",
       " datetime.datetime(2010, 3, 4, 12, 0),\n",
       " datetime.datetime(2010, 3, 5, 0, 0),\n",
       " datetime.datetime(2010, 3, 5, 12, 0),\n",
       " datetime.datetime(2010, 3, 6, 0, 0),\n",
       " datetime.datetime(2010, 3, 6, 12, 0),\n",
       " datetime.datetime(2010, 3, 7, 0, 0),\n",
       " datetime.datetime(2010, 3, 7, 12, 0),\n",
       " datetime.datetime(2010, 3, 8, 0, 0),\n",
       " datetime.datetime(2010, 3, 8, 12, 0),\n",
       " datetime.datetime(2010, 3, 9, 0, 0),\n",
       " datetime.datetime(2010, 3, 9, 12, 0),\n",
       " datetime.datetime(2010, 3, 10, 0, 0),\n",
       " datetime.datetime(2010, 3, 10, 12, 0),\n",
       " datetime.datetime(2010, 3, 11, 0, 0),\n",
       " datetime.datetime(2010, 3, 11, 12, 0),\n",
       " datetime.datetime(2010, 3, 12, 0, 0),\n",
       " datetime.datetime(2010, 3, 12, 12, 0),\n",
       " datetime.datetime(2010, 3, 13, 0, 0),\n",
       " datetime.datetime(2010, 3, 13, 12, 0),\n",
       " datetime.datetime(2010, 3, 14, 0, 0),\n",
       " datetime.datetime(2010, 3, 14, 12, 0),\n",
       " datetime.datetime(2010, 3, 15, 0, 0),\n",
       " datetime.datetime(2010, 3, 15, 12, 0),\n",
       " datetime.datetime(2010, 3, 16, 0, 0),\n",
       " datetime.datetime(2010, 3, 16, 12, 0),\n",
       " datetime.datetime(2010, 3, 17, 0, 0),\n",
       " datetime.datetime(2010, 3, 17, 12, 0),\n",
       " datetime.datetime(2010, 3, 18, 0, 0),\n",
       " datetime.datetime(2010, 3, 18, 12, 0),\n",
       " datetime.datetime(2010, 3, 19, 0, 0),\n",
       " datetime.datetime(2010, 3, 19, 12, 0),\n",
       " datetime.datetime(2010, 3, 20, 0, 0),\n",
       " datetime.datetime(2010, 3, 20, 12, 0),\n",
       " datetime.datetime(2010, 3, 21, 0, 0),\n",
       " datetime.datetime(2010, 3, 21, 12, 0),\n",
       " datetime.datetime(2010, 3, 22, 0, 0),\n",
       " datetime.datetime(2010, 3, 22, 12, 0),\n",
       " datetime.datetime(2010, 3, 23, 0, 0),\n",
       " datetime.datetime(2010, 3, 23, 12, 0),\n",
       " datetime.datetime(2010, 3, 24, 0, 0),\n",
       " datetime.datetime(2010, 3, 24, 12, 0),\n",
       " datetime.datetime(2010, 3, 25, 0, 0),\n",
       " datetime.datetime(2010, 3, 25, 12, 0),\n",
       " datetime.datetime(2010, 3, 26, 0, 0),\n",
       " datetime.datetime(2010, 3, 26, 12, 0),\n",
       " datetime.datetime(2010, 3, 27, 0, 0),\n",
       " datetime.datetime(2010, 3, 27, 12, 0),\n",
       " datetime.datetime(2010, 3, 28, 0, 0),\n",
       " datetime.datetime(2010, 3, 28, 12, 0),\n",
       " datetime.datetime(2010, 3, 29, 0, 0),\n",
       " datetime.datetime(2010, 3, 29, 12, 0),\n",
       " datetime.datetime(2010, 3, 30, 0, 0),\n",
       " datetime.datetime(2010, 3, 30, 12, 0),\n",
       " datetime.datetime(2010, 3, 31, 0, 0),\n",
       " datetime.datetime(2010, 3, 31, 12, 0)]"
      ]
     },
     "execution_count": 2,
     "metadata": {},
     "output_type": "execute_result"
    }
   ],
   "source": [
    "date_list"
   ]
  },
  {
   "cell_type": "code",
   "execution_count": null,
   "metadata": {
    "collapsed": false,
    "deletable": true,
    "editable": true,
    "scrolled": true
   },
   "outputs": [
    {
     "name": "stderr",
     "output_type": "stream",
     "text": [
      "100%|██████████| 36/36 [00:13<00:00,  2.80it/s]\n"
     ]
    },
    {
     "name": "stdout",
     "output_type": "stream",
     "text": [
      "\n",
      "meteo done\n",
      "/home/critechproc/STORAGE/SCHISM/test1/sflux/sflux_air_1.001.nc"
     ]
    },
    {
     "name": "stderr",
     "output_type": "stream",
     "text": [
      "100%|██████████| 36/36 [00:13<00:00,  2.62it/s]"
     ]
    },
    {
     "name": "stdout",
     "output_type": "stream",
     "text": [
      "\n"
     ]
    },
    {
     "name": "stderr",
     "output_type": "stream",
     "text": [
      "\n"
     ]
    },
    {
     "name": "stdout",
     "output_type": "stream",
     "text": [
      "\n",
      "meteo done\n",
      "/home/critechproc/STORAGE/SCHISM/test1/sflux/sflux_air_1.002.nc"
     ]
    },
    {
     "name": "stderr",
     "output_type": "stream",
     "text": [
      "100%|██████████| 36/36 [00:12<00:00,  2.75it/s]"
     ]
    },
    {
     "name": "stdout",
     "output_type": "stream",
     "text": [
      "\n"
     ]
    },
    {
     "name": "stderr",
     "output_type": "stream",
     "text": [
      "\n"
     ]
    },
    {
     "name": "stdout",
     "output_type": "stream",
     "text": [
      "\n",
      "meteo done\n",
      "/home/critechproc/STORAGE/SCHISM/test1/sflux/sflux_air_1.003.nc"
     ]
    },
    {
     "name": "stderr",
     "output_type": "stream",
     "text": [
      "100%|██████████| 36/36 [00:12<00:00,  2.80it/s]"
     ]
    },
    {
     "name": "stdout",
     "output_type": "stream",
     "text": [
      "\n"
     ]
    },
    {
     "name": "stderr",
     "output_type": "stream",
     "text": [
      "\n"
     ]
    },
    {
     "name": "stdout",
     "output_type": "stream",
     "text": [
      "\n",
      "meteo done\n",
      "/home/critechproc/STORAGE/SCHISM/test1/sflux/sflux_air_1.004.nc"
     ]
    },
    {
     "name": "stderr",
     "output_type": "stream",
     "text": [
      "100%|██████████| 36/36 [00:12<00:00,  2.88it/s]"
     ]
    },
    {
     "name": "stdout",
     "output_type": "stream",
     "text": [
      "\n"
     ]
    },
    {
     "name": "stderr",
     "output_type": "stream",
     "text": [
      "\n"
     ]
    },
    {
     "name": "stdout",
     "output_type": "stream",
     "text": [
      "\n",
      "meteo done\n",
      "/home/critechproc/STORAGE/SCHISM/test1/sflux/sflux_air_1.005.nc\n"
     ]
    },
    {
     "name": "stderr",
     "output_type": "stream",
     "text": [
      "100%|██████████| 36/36 [00:12<00:00,  2.70it/s]\n"
     ]
    },
    {
     "name": "stdout",
     "output_type": "stream",
     "text": [
      "\n",
      "meteo done\n",
      "/home/critechproc/STORAGE/SCHISM/test1/sflux/sflux_air_1.006.nc"
     ]
    },
    {
     "name": "stderr",
     "output_type": "stream",
     "text": [
      "100%|██████████| 36/36 [00:12<00:00,  2.77it/s]"
     ]
    },
    {
     "name": "stdout",
     "output_type": "stream",
     "text": [
      "\n"
     ]
    },
    {
     "name": "stderr",
     "output_type": "stream",
     "text": [
      "\n"
     ]
    },
    {
     "name": "stdout",
     "output_type": "stream",
     "text": [
      "\n",
      "meteo done\n",
      "/home/critechproc/STORAGE/SCHISM/test1/sflux/sflux_air_1.007.nc"
     ]
    },
    {
     "name": "stderr",
     "output_type": "stream",
     "text": [
      "100%|██████████| 36/36 [00:13<00:00,  2.70it/s]"
     ]
    },
    {
     "name": "stdout",
     "output_type": "stream",
     "text": [
      "\n"
     ]
    },
    {
     "name": "stderr",
     "output_type": "stream",
     "text": [
      "\n"
     ]
    },
    {
     "name": "stdout",
     "output_type": "stream",
     "text": [
      "\n",
      "meteo done\n",
      "/home/critechproc/STORAGE/SCHISM/test1/sflux/sflux_air_1.008.nc"
     ]
    },
    {
     "name": "stderr",
     "output_type": "stream",
     "text": [
      "100%|██████████| 36/36 [00:13<00:00,  2.76it/s]"
     ]
    },
    {
     "name": "stdout",
     "output_type": "stream",
     "text": [
      "\n"
     ]
    },
    {
     "name": "stderr",
     "output_type": "stream",
     "text": [
      "\n"
     ]
    },
    {
     "name": "stdout",
     "output_type": "stream",
     "text": [
      "\n",
      "meteo done\n",
      "/home/critechproc/STORAGE/SCHISM/test1/sflux/sflux_air_1.009.nc"
     ]
    },
    {
     "name": "stderr",
     "output_type": "stream",
     "text": [
      "100%|██████████| 36/36 [00:12<00:00,  2.92it/s]"
     ]
    },
    {
     "name": "stdout",
     "output_type": "stream",
     "text": [
      "\n"
     ]
    },
    {
     "name": "stderr",
     "output_type": "stream",
     "text": [
      "\n"
     ]
    },
    {
     "name": "stdout",
     "output_type": "stream",
     "text": [
      "\n",
      "meteo done\n",
      "/home/critechproc/STORAGE/SCHISM/test1/sflux/sflux_air_1.010.nc"
     ]
    },
    {
     "name": "stderr",
     "output_type": "stream",
     "text": [
      "100%|██████████| 36/36 [00:13<00:00,  2.69it/s]"
     ]
    },
    {
     "name": "stdout",
     "output_type": "stream",
     "text": [
      "\n"
     ]
    },
    {
     "name": "stderr",
     "output_type": "stream",
     "text": [
      "\n"
     ]
    },
    {
     "name": "stdout",
     "output_type": "stream",
     "text": [
      "\n",
      "meteo done\n",
      "/home/critechproc/STORAGE/SCHISM/test1/sflux/sflux_air_1.011.nc"
     ]
    },
    {
     "name": "stderr",
     "output_type": "stream",
     "text": [
      "100%|██████████| 36/36 [00:12<00:00,  2.86it/s]"
     ]
    },
    {
     "name": "stdout",
     "output_type": "stream",
     "text": [
      "\n"
     ]
    },
    {
     "name": "stderr",
     "output_type": "stream",
     "text": [
      "\n"
     ]
    },
    {
     "name": "stdout",
     "output_type": "stream",
     "text": [
      "\n",
      "meteo done\n",
      "/home/critechproc/STORAGE/SCHISM/test1/sflux/sflux_air_1.012.nc"
     ]
    },
    {
     "name": "stderr",
     "output_type": "stream",
     "text": [
      "100%|██████████| 36/36 [00:12<00:00,  2.82it/s]"
     ]
    },
    {
     "name": "stdout",
     "output_type": "stream",
     "text": [
      "\n"
     ]
    },
    {
     "name": "stderr",
     "output_type": "stream",
     "text": [
      "\n"
     ]
    },
    {
     "name": "stdout",
     "output_type": "stream",
     "text": [
      "\n",
      "meteo done\n",
      "/home/critechproc/STORAGE/SCHISM/test1/sflux/sflux_air_1.013.nc"
     ]
    },
    {
     "name": "stderr",
     "output_type": "stream",
     "text": [
      "100%|██████████| 36/36 [00:13<00:00,  2.70it/s]"
     ]
    },
    {
     "name": "stdout",
     "output_type": "stream",
     "text": [
      "\n"
     ]
    },
    {
     "name": "stderr",
     "output_type": "stream",
     "text": [
      "\n"
     ]
    },
    {
     "name": "stdout",
     "output_type": "stream",
     "text": [
      "\n",
      "meteo done\n",
      "/home/critechproc/STORAGE/SCHISM/test1/sflux/sflux_air_1.014.nc"
     ]
    },
    {
     "name": "stderr",
     "output_type": "stream",
     "text": [
      "100%|██████████| 36/36 [00:12<00:00,  2.72it/s]"
     ]
    },
    {
     "name": "stdout",
     "output_type": "stream",
     "text": [
      "\n"
     ]
    },
    {
     "name": "stderr",
     "output_type": "stream",
     "text": [
      "\n"
     ]
    },
    {
     "name": "stdout",
     "output_type": "stream",
     "text": [
      "\n",
      "meteo done\n",
      "/home/critechproc/STORAGE/SCHISM/test1/sflux/sflux_air_1.015.nc"
     ]
    },
    {
     "name": "stderr",
     "output_type": "stream",
     "text": [
      "100%|██████████| 36/36 [00:12<00:00,  2.75it/s]"
     ]
    },
    {
     "name": "stdout",
     "output_type": "stream",
     "text": [
      "\n"
     ]
    },
    {
     "name": "stderr",
     "output_type": "stream",
     "text": [
      "\n"
     ]
    },
    {
     "name": "stdout",
     "output_type": "stream",
     "text": [
      "\n",
      "meteo done\n",
      "/home/critechproc/STORAGE/SCHISM/test1/sflux/sflux_air_1.016.nc"
     ]
    },
    {
     "name": "stderr",
     "output_type": "stream",
     "text": [
      "100%|██████████| 36/36 [00:12<00:00,  2.79it/s]"
     ]
    },
    {
     "name": "stdout",
     "output_type": "stream",
     "text": [
      "\n"
     ]
    },
    {
     "name": "stderr",
     "output_type": "stream",
     "text": [
      "\n"
     ]
    },
    {
     "name": "stdout",
     "output_type": "stream",
     "text": [
      "\n",
      "meteo done\n",
      "/home/critechproc/STORAGE/SCHISM/test1/sflux/sflux_air_1.017.nc"
     ]
    },
    {
     "name": "stderr",
     "output_type": "stream",
     "text": [
      "100%|██████████| 36/36 [00:12<00:00,  2.81it/s]"
     ]
    },
    {
     "name": "stdout",
     "output_type": "stream",
     "text": [
      "\n"
     ]
    },
    {
     "name": "stderr",
     "output_type": "stream",
     "text": [
      "\n"
     ]
    },
    {
     "name": "stdout",
     "output_type": "stream",
     "text": [
      "\n",
      "meteo done\n",
      "/home/critechproc/STORAGE/SCHISM/test1/sflux/sflux_air_1.018.nc"
     ]
    },
    {
     "name": "stderr",
     "output_type": "stream",
     "text": [
      "100%|██████████| 36/36 [00:13<00:00,  2.74it/s]"
     ]
    },
    {
     "name": "stdout",
     "output_type": "stream",
     "text": [
      "\n"
     ]
    },
    {
     "name": "stderr",
     "output_type": "stream",
     "text": [
      "\n"
     ]
    },
    {
     "name": "stdout",
     "output_type": "stream",
     "text": [
      "\n",
      "meteo done\n",
      "/home/critechproc/STORAGE/SCHISM/test1/sflux/sflux_air_1.019.nc"
     ]
    },
    {
     "name": "stderr",
     "output_type": "stream",
     "text": [
      "100%|██████████| 36/36 [00:12<00:00,  2.82it/s]"
     ]
    },
    {
     "name": "stdout",
     "output_type": "stream",
     "text": [
      "\n"
     ]
    },
    {
     "name": "stderr",
     "output_type": "stream",
     "text": [
      "\n"
     ]
    },
    {
     "name": "stdout",
     "output_type": "stream",
     "text": [
      "\n",
      "meteo done\n",
      "/home/critechproc/STORAGE/SCHISM/test1/sflux/sflux_air_1.020.nc"
     ]
    },
    {
     "name": "stderr",
     "output_type": "stream",
     "text": [
      "100%|██████████| 36/36 [00:14<00:00,  2.62it/s]"
     ]
    },
    {
     "name": "stdout",
     "output_type": "stream",
     "text": [
      "\n"
     ]
    },
    {
     "name": "stderr",
     "output_type": "stream",
     "text": [
      "\n"
     ]
    },
    {
     "name": "stdout",
     "output_type": "stream",
     "text": [
      "\n",
      "meteo done\n",
      "/home/critechproc/STORAGE/SCHISM/test1/sflux/sflux_air_1.021.nc"
     ]
    },
    {
     "name": "stderr",
     "output_type": "stream",
     "text": [
      "100%|██████████| 36/36 [00:14<00:00,  2.48it/s]"
     ]
    },
    {
     "name": "stdout",
     "output_type": "stream",
     "text": [
      "\n"
     ]
    },
    {
     "name": "stderr",
     "output_type": "stream",
     "text": [
      "\n"
     ]
    },
    {
     "name": "stdout",
     "output_type": "stream",
     "text": [
      "\n",
      "meteo done\n",
      "/home/critechproc/STORAGE/SCHISM/test1/sflux/sflux_air_1.022.nc"
     ]
    },
    {
     "name": "stderr",
     "output_type": "stream",
     "text": [
      "100%|██████████| 36/36 [00:13<00:00,  2.76it/s]"
     ]
    },
    {
     "name": "stdout",
     "output_type": "stream",
     "text": [
      "\n"
     ]
    },
    {
     "name": "stderr",
     "output_type": "stream",
     "text": [
      "\n"
     ]
    },
    {
     "name": "stdout",
     "output_type": "stream",
     "text": [
      "\n",
      "meteo done\n",
      "/home/critechproc/STORAGE/SCHISM/test1/sflux/sflux_air_1.023.nc"
     ]
    },
    {
     "name": "stderr",
     "output_type": "stream",
     "text": [
      "100%|██████████| 36/36 [00:13<00:00,  2.65it/s]"
     ]
    },
    {
     "name": "stdout",
     "output_type": "stream",
     "text": [
      "\n"
     ]
    },
    {
     "name": "stderr",
     "output_type": "stream",
     "text": [
      "\n"
     ]
    },
    {
     "name": "stdout",
     "output_type": "stream",
     "text": [
      "\n",
      "meteo done\n",
      "/home/critechproc/STORAGE/SCHISM/test1/sflux/sflux_air_1.024.nc"
     ]
    },
    {
     "name": "stderr",
     "output_type": "stream",
     "text": [
      "100%|██████████| 36/36 [00:14<00:00,  2.67it/s]"
     ]
    },
    {
     "name": "stdout",
     "output_type": "stream",
     "text": [
      "\n"
     ]
    },
    {
     "name": "stderr",
     "output_type": "stream",
     "text": [
      "\n"
     ]
    },
    {
     "name": "stdout",
     "output_type": "stream",
     "text": [
      "\n",
      "meteo done\n",
      "/home/critechproc/STORAGE/SCHISM/test1/sflux/sflux_air_1.025.nc"
     ]
    },
    {
     "name": "stderr",
     "output_type": "stream",
     "text": [
      "100%|██████████| 36/36 [00:14<00:00,  2.56it/s]"
     ]
    },
    {
     "name": "stdout",
     "output_type": "stream",
     "text": [
      "\n"
     ]
    },
    {
     "name": "stderr",
     "output_type": "stream",
     "text": [
      "\n"
     ]
    },
    {
     "name": "stdout",
     "output_type": "stream",
     "text": [
      "\n",
      "meteo done\n",
      "/home/critechproc/STORAGE/SCHISM/test1/sflux/sflux_air_1.026.nc"
     ]
    },
    {
     "name": "stderr",
     "output_type": "stream",
     "text": [
      "100%|██████████| 36/36 [00:13<00:00,  2.57it/s]"
     ]
    },
    {
     "name": "stdout",
     "output_type": "stream",
     "text": [
      "\n"
     ]
    },
    {
     "name": "stderr",
     "output_type": "stream",
     "text": [
      "\n"
     ]
    },
    {
     "name": "stdout",
     "output_type": "stream",
     "text": [
      "\n",
      "meteo done\n",
      "/home/critechproc/STORAGE/SCHISM/test1/sflux/sflux_air_1.027.nc"
     ]
    },
    {
     "name": "stderr",
     "output_type": "stream",
     "text": [
      "100%|██████████| 36/36 [00:14<00:00,  2.67it/s]"
     ]
    },
    {
     "name": "stdout",
     "output_type": "stream",
     "text": [
      "\n"
     ]
    },
    {
     "name": "stderr",
     "output_type": "stream",
     "text": [
      "\n"
     ]
    },
    {
     "name": "stdout",
     "output_type": "stream",
     "text": [
      "\n",
      "meteo done\n",
      "/home/critechproc/STORAGE/SCHISM/test1/sflux/sflux_air_1.028.nc"
     ]
    },
    {
     "name": "stderr",
     "output_type": "stream",
     "text": [
      "100%|██████████| 36/36 [00:13<00:00,  2.66it/s]"
     ]
    },
    {
     "name": "stdout",
     "output_type": "stream",
     "text": [
      "\n"
     ]
    },
    {
     "name": "stderr",
     "output_type": "stream",
     "text": [
      "\n"
     ]
    },
    {
     "name": "stdout",
     "output_type": "stream",
     "text": [
      "\n",
      "meteo done\n",
      "/home/critechproc/STORAGE/SCHISM/test1/sflux/sflux_air_1.029.nc"
     ]
    },
    {
     "name": "stderr",
     "output_type": "stream",
     "text": [
      "100%|██████████| 36/36 [00:14<00:00,  2.59it/s]"
     ]
    },
    {
     "name": "stdout",
     "output_type": "stream",
     "text": [
      "\n"
     ]
    },
    {
     "name": "stderr",
     "output_type": "stream",
     "text": [
      "\n"
     ]
    },
    {
     "name": "stdout",
     "output_type": "stream",
     "text": [
      "\n",
      "meteo done\n",
      "/home/critechproc/STORAGE/SCHISM/test1/sflux/sflux_air_1.030.nc"
     ]
    },
    {
     "name": "stderr",
     "output_type": "stream",
     "text": [
      "100%|██████████| 36/36 [00:13<00:00,  2.61it/s]"
     ]
    },
    {
     "name": "stdout",
     "output_type": "stream",
     "text": [
      "\n"
     ]
    },
    {
     "name": "stderr",
     "output_type": "stream",
     "text": [
      "\n"
     ]
    },
    {
     "name": "stdout",
     "output_type": "stream",
     "text": [
      "\n",
      "meteo done\n",
      "/home/critechproc/STORAGE/SCHISM/test1/sflux/sflux_air_1.031.nc"
     ]
    },
    {
     "name": "stderr",
     "output_type": "stream",
     "text": [
      "100%|██████████| 36/36 [00:14<00:00,  2.64it/s]"
     ]
    },
    {
     "name": "stdout",
     "output_type": "stream",
     "text": [
      "\n"
     ]
    },
    {
     "name": "stderr",
     "output_type": "stream",
     "text": [
      "\n"
     ]
    },
    {
     "name": "stdout",
     "output_type": "stream",
     "text": [
      "\n",
      "meteo done\n",
      "/home/critechproc/STORAGE/SCHISM/test1/sflux/sflux_air_1.032.nc"
     ]
    },
    {
     "name": "stderr",
     "output_type": "stream",
     "text": [
      "100%|██████████| 36/36 [00:14<00:00,  2.63it/s]"
     ]
    },
    {
     "name": "stdout",
     "output_type": "stream",
     "text": [
      "\n"
     ]
    },
    {
     "name": "stderr",
     "output_type": "stream",
     "text": [
      "\n"
     ]
    },
    {
     "name": "stdout",
     "output_type": "stream",
     "text": [
      "\n",
      "meteo done\n",
      "/home/critechproc/STORAGE/SCHISM/test1/sflux/sflux_air_1.033.nc"
     ]
    },
    {
     "name": "stderr",
     "output_type": "stream",
     "text": [
      "100%|██████████| 36/36 [00:13<00:00,  2.61it/s]"
     ]
    },
    {
     "name": "stdout",
     "output_type": "stream",
     "text": [
      "\n"
     ]
    },
    {
     "name": "stderr",
     "output_type": "stream",
     "text": [
      "\n"
     ]
    },
    {
     "name": "stdout",
     "output_type": "stream",
     "text": [
      "\n",
      "meteo done\n",
      "/home/critechproc/STORAGE/SCHISM/test1/sflux/sflux_air_1.034.nc"
     ]
    },
    {
     "name": "stderr",
     "output_type": "stream",
     "text": [
      "100%|██████████| 36/36 [00:13<00:00,  2.50it/s]"
     ]
    },
    {
     "name": "stdout",
     "output_type": "stream",
     "text": [
      "\n"
     ]
    },
    {
     "name": "stderr",
     "output_type": "stream",
     "text": [
      "\n"
     ]
    },
    {
     "name": "stdout",
     "output_type": "stream",
     "text": [
      "\n",
      "meteo done\n",
      "/home/critechproc/STORAGE/SCHISM/test1/sflux/sflux_air_1.035.nc"
     ]
    },
    {
     "name": "stderr",
     "output_type": "stream",
     "text": [
      "100%|██████████| 36/36 [00:14<00:00,  2.61it/s]"
     ]
    },
    {
     "name": "stdout",
     "output_type": "stream",
     "text": [
      "\n"
     ]
    },
    {
     "name": "stderr",
     "output_type": "stream",
     "text": [
      "\n"
     ]
    },
    {
     "name": "stdout",
     "output_type": "stream",
     "text": [
      "\n",
      "meteo done\n",
      "/home/critechproc/STORAGE/SCHISM/test1/sflux/sflux_air_1.036.nc"
     ]
    },
    {
     "name": "stderr",
     "output_type": "stream",
     "text": [
      "100%|██████████| 36/36 [00:14<00:00,  2.54it/s]"
     ]
    },
    {
     "name": "stdout",
     "output_type": "stream",
     "text": [
      "\n"
     ]
    },
    {
     "name": "stderr",
     "output_type": "stream",
     "text": [
      "\n"
     ]
    },
    {
     "name": "stdout",
     "output_type": "stream",
     "text": [
      "\n",
      "meteo done\n",
      "/home/critechproc/STORAGE/SCHISM/test1/sflux/sflux_air_1.037.nc"
     ]
    },
    {
     "name": "stderr",
     "output_type": "stream",
     "text": [
      "100%|██████████| 36/36 [00:14<00:00,  2.58it/s]"
     ]
    },
    {
     "name": "stdout",
     "output_type": "stream",
     "text": [
      "\n"
     ]
    },
    {
     "name": "stderr",
     "output_type": "stream",
     "text": [
      "\n"
     ]
    },
    {
     "name": "stdout",
     "output_type": "stream",
     "text": [
      "\n",
      "meteo done\n",
      "/home/critechproc/STORAGE/SCHISM/test1/sflux/sflux_air_1.038.nc"
     ]
    },
    {
     "name": "stderr",
     "output_type": "stream",
     "text": [
      "100%|██████████| 36/36 [00:14<00:00,  2.53it/s]"
     ]
    },
    {
     "name": "stdout",
     "output_type": "stream",
     "text": [
      "\n"
     ]
    },
    {
     "name": "stderr",
     "output_type": "stream",
     "text": [
      "\n"
     ]
    },
    {
     "name": "stdout",
     "output_type": "stream",
     "text": [
      "\n",
      "meteo done\n",
      "/home/critechproc/STORAGE/SCHISM/test1/sflux/sflux_air_1.039.nc"
     ]
    },
    {
     "name": "stderr",
     "output_type": "stream",
     "text": [
      "100%|██████████| 36/36 [00:13<00:00,  2.62it/s]"
     ]
    },
    {
     "name": "stdout",
     "output_type": "stream",
     "text": [
      "\n"
     ]
    },
    {
     "name": "stderr",
     "output_type": "stream",
     "text": [
      "\n"
     ]
    },
    {
     "name": "stdout",
     "output_type": "stream",
     "text": [
      "\n",
      "meteo done\n",
      "/home/critechproc/STORAGE/SCHISM/test1/sflux/sflux_air_1.040.nc"
     ]
    },
    {
     "name": "stderr",
     "output_type": "stream",
     "text": [
      "100%|██████████| 36/36 [00:14<00:00,  2.66it/s]"
     ]
    },
    {
     "name": "stdout",
     "output_type": "stream",
     "text": [
      "\n"
     ]
    },
    {
     "name": "stderr",
     "output_type": "stream",
     "text": [
      "\n"
     ]
    },
    {
     "name": "stdout",
     "output_type": "stream",
     "text": [
      "\n",
      "meteo done\n",
      "/home/critechproc/STORAGE/SCHISM/test1/sflux/sflux_air_1.041.nc"
     ]
    },
    {
     "name": "stderr",
     "output_type": "stream",
     "text": [
      "100%|██████████| 36/36 [00:13<00:00,  2.64it/s]"
     ]
    },
    {
     "name": "stdout",
     "output_type": "stream",
     "text": [
      "\n"
     ]
    },
    {
     "name": "stderr",
     "output_type": "stream",
     "text": [
      "\n"
     ]
    },
    {
     "name": "stdout",
     "output_type": "stream",
     "text": [
      "\n",
      "meteo done\n",
      "/home/critechproc/STORAGE/SCHISM/test1/sflux/sflux_air_1.042.nc"
     ]
    },
    {
     "name": "stderr",
     "output_type": "stream",
     "text": [
      "100%|██████████| 36/36 [00:13<00:00,  2.64it/s]"
     ]
    },
    {
     "name": "stdout",
     "output_type": "stream",
     "text": [
      "\n"
     ]
    },
    {
     "name": "stderr",
     "output_type": "stream",
     "text": [
      "\n"
     ]
    },
    {
     "name": "stdout",
     "output_type": "stream",
     "text": [
      "\n",
      "meteo done\n",
      "/home/critechproc/STORAGE/SCHISM/test1/sflux/sflux_air_1.043.nc"
     ]
    },
    {
     "name": "stderr",
     "output_type": "stream",
     "text": [
      "100%|██████████| 36/36 [00:13<00:00,  2.58it/s]"
     ]
    },
    {
     "name": "stdout",
     "output_type": "stream",
     "text": [
      "\n"
     ]
    },
    {
     "name": "stderr",
     "output_type": "stream",
     "text": [
      "\n"
     ]
    },
    {
     "name": "stdout",
     "output_type": "stream",
     "text": [
      "\n",
      "meteo done\n",
      "/home/critechproc/STORAGE/SCHISM/test1/sflux/sflux_air_1.044.nc"
     ]
    },
    {
     "name": "stderr",
     "output_type": "stream",
     "text": [
      "100%|██████████| 36/36 [00:13<00:00,  2.62it/s]"
     ]
    },
    {
     "name": "stdout",
     "output_type": "stream",
     "text": [
      "\n"
     ]
    },
    {
     "name": "stderr",
     "output_type": "stream",
     "text": [
      "\n"
     ]
    },
    {
     "name": "stdout",
     "output_type": "stream",
     "text": [
      "\n",
      "meteo done\n",
      "/home/critechproc/STORAGE/SCHISM/test1/sflux/sflux_air_1.045.nc"
     ]
    },
    {
     "name": "stderr",
     "output_type": "stream",
     "text": [
      "100%|██████████| 36/36 [00:14<00:00,  2.66it/s]"
     ]
    },
    {
     "name": "stdout",
     "output_type": "stream",
     "text": [
      "\n"
     ]
    },
    {
     "name": "stderr",
     "output_type": "stream",
     "text": [
      "\n"
     ]
    },
    {
     "name": "stdout",
     "output_type": "stream",
     "text": [
      "\n",
      "meteo done\n",
      "/home/critechproc/STORAGE/SCHISM/test1/sflux/sflux_air_1.046.nc"
     ]
    },
    {
     "name": "stderr",
     "output_type": "stream",
     "text": [
      "100%|██████████| 36/36 [00:13<00:00,  2.70it/s]"
     ]
    },
    {
     "name": "stdout",
     "output_type": "stream",
     "text": [
      "\n"
     ]
    },
    {
     "name": "stderr",
     "output_type": "stream",
     "text": [
      "\n"
     ]
    },
    {
     "name": "stdout",
     "output_type": "stream",
     "text": [
      "\n",
      "meteo done\n",
      "/home/critechproc/STORAGE/SCHISM/test1/sflux/sflux_air_1.047.nc"
     ]
    },
    {
     "name": "stderr",
     "output_type": "stream",
     "text": [
      "100%|██████████| 36/36 [00:13<00:00,  2.69it/s]"
     ]
    },
    {
     "name": "stdout",
     "output_type": "stream",
     "text": [
      "\n"
     ]
    },
    {
     "name": "stderr",
     "output_type": "stream",
     "text": [
      "\n"
     ]
    },
    {
     "name": "stdout",
     "output_type": "stream",
     "text": [
      "\n",
      "meteo done\n",
      "/home/critechproc/STORAGE/SCHISM/test1/sflux/sflux_air_1.048.nc"
     ]
    },
    {
     "name": "stderr",
     "output_type": "stream",
     "text": [
      "100%|██████████| 36/36 [00:13<00:00,  2.66it/s]"
     ]
    },
    {
     "name": "stdout",
     "output_type": "stream",
     "text": [
      "\n"
     ]
    },
    {
     "name": "stderr",
     "output_type": "stream",
     "text": [
      "\n"
     ]
    },
    {
     "name": "stdout",
     "output_type": "stream",
     "text": [
      "\n",
      "meteo done\n",
      "/home/critechproc/STORAGE/SCHISM/test1/sflux/sflux_air_1.049.nc"
     ]
    },
    {
     "name": "stderr",
     "output_type": "stream",
     "text": [
      "100%|██████████| 36/36 [00:14<00:00,  2.64it/s]"
     ]
    },
    {
     "name": "stdout",
     "output_type": "stream",
     "text": [
      "\n"
     ]
    },
    {
     "name": "stderr",
     "output_type": "stream",
     "text": [
      "\n"
     ]
    },
    {
     "name": "stdout",
     "output_type": "stream",
     "text": [
      "\n",
      "meteo done\n",
      "/home/critechproc/STORAGE/SCHISM/test1/sflux/sflux_air_1.050.nc"
     ]
    },
    {
     "name": "stderr",
     "output_type": "stream",
     "text": [
      "100%|██████████| 36/36 [00:13<00:00,  2.63it/s]"
     ]
    },
    {
     "name": "stdout",
     "output_type": "stream",
     "text": [
      "\n"
     ]
    },
    {
     "name": "stderr",
     "output_type": "stream",
     "text": [
      "\n"
     ]
    },
    {
     "name": "stdout",
     "output_type": "stream",
     "text": [
      "\n",
      "meteo done\n",
      "/home/critechproc/STORAGE/SCHISM/test1/sflux/sflux_air_1.051.nc"
     ]
    },
    {
     "name": "stderr",
     "output_type": "stream",
     "text": [
      "100%|██████████| 36/36 [00:14<00:00,  2.61it/s]"
     ]
    },
    {
     "name": "stdout",
     "output_type": "stream",
     "text": [
      "\n"
     ]
    },
    {
     "name": "stderr",
     "output_type": "stream",
     "text": [
      "\n"
     ]
    },
    {
     "name": "stdout",
     "output_type": "stream",
     "text": [
      "\n",
      "meteo done\n",
      "/home/critechproc/STORAGE/SCHISM/test1/sflux/sflux_air_1.052.nc"
     ]
    },
    {
     "name": "stderr",
     "output_type": "stream",
     "text": [
      "100%|██████████| 36/36 [00:13<00:00,  2.66it/s]"
     ]
    },
    {
     "name": "stdout",
     "output_type": "stream",
     "text": [
      "\n"
     ]
    },
    {
     "name": "stderr",
     "output_type": "stream",
     "text": [
      "\n"
     ]
    },
    {
     "name": "stdout",
     "output_type": "stream",
     "text": [
      "\n",
      "meteo done\n",
      "/home/critechproc/STORAGE/SCHISM/test1/sflux/sflux_air_1.053.nc"
     ]
    },
    {
     "name": "stderr",
     "output_type": "stream",
     "text": [
      "100%|██████████| 36/36 [00:13<00:00,  2.67it/s]"
     ]
    },
    {
     "name": "stdout",
     "output_type": "stream",
     "text": [
      "\n"
     ]
    },
    {
     "name": "stderr",
     "output_type": "stream",
     "text": [
      "\n"
     ]
    },
    {
     "name": "stdout",
     "output_type": "stream",
     "text": [
      "\n",
      "meteo done\n",
      "/home/critechproc/STORAGE/SCHISM/test1/sflux/sflux_air_1.054.nc"
     ]
    },
    {
     "name": "stderr",
     "output_type": "stream",
     "text": [
      "100%|██████████| 36/36 [00:13<00:00,  2.65it/s]"
     ]
    },
    {
     "name": "stdout",
     "output_type": "stream",
     "text": [
      "\n"
     ]
    },
    {
     "name": "stderr",
     "output_type": "stream",
     "text": [
      "\n"
     ]
    },
    {
     "name": "stdout",
     "output_type": "stream",
     "text": [
      "\n",
      "meteo done\n",
      "/home/critechproc/STORAGE/SCHISM/test1/sflux/sflux_air_1.055.nc"
     ]
    },
    {
     "name": "stderr",
     "output_type": "stream",
     "text": [
      "100%|██████████| 36/36 [00:14<00:00,  2.58it/s]"
     ]
    },
    {
     "name": "stdout",
     "output_type": "stream",
     "text": [
      "\n"
     ]
    },
    {
     "name": "stderr",
     "output_type": "stream",
     "text": [
      "\n"
     ]
    },
    {
     "name": "stdout",
     "output_type": "stream",
     "text": [
      "\n",
      "meteo done\n",
      "/home/critechproc/STORAGE/SCHISM/test1/sflux/sflux_air_1.056.nc"
     ]
    },
    {
     "name": "stderr",
     "output_type": "stream",
     "text": [
      "100%|██████████| 36/36 [00:13<00:00,  2.61it/s]"
     ]
    },
    {
     "name": "stdout",
     "output_type": "stream",
     "text": [
      "\n"
     ]
    },
    {
     "name": "stderr",
     "output_type": "stream",
     "text": [
      "\n"
     ]
    },
    {
     "name": "stdout",
     "output_type": "stream",
     "text": [
      "\n",
      "meteo done\n",
      "/home/critechproc/STORAGE/SCHISM/test1/sflux/sflux_air_1.057.nc"
     ]
    },
    {
     "name": "stderr",
     "output_type": "stream",
     "text": [
      "100%|██████████| 36/36 [00:13<00:00,  2.63it/s]"
     ]
    },
    {
     "name": "stdout",
     "output_type": "stream",
     "text": [
      "\n"
     ]
    },
    {
     "name": "stderr",
     "output_type": "stream",
     "text": [
      "\n"
     ]
    },
    {
     "name": "stdout",
     "output_type": "stream",
     "text": [
      "\n",
      "meteo done\n",
      "/home/critechproc/STORAGE/SCHISM/test1/sflux/sflux_air_1.058.nc"
     ]
    },
    {
     "name": "stderr",
     "output_type": "stream",
     "text": [
      "100%|██████████| 36/36 [00:14<00:00,  2.46it/s]"
     ]
    },
    {
     "name": "stdout",
     "output_type": "stream",
     "text": [
      "\n"
     ]
    },
    {
     "name": "stderr",
     "output_type": "stream",
     "text": [
      "\n"
     ]
    },
    {
     "name": "stdout",
     "output_type": "stream",
     "text": [
      "\n",
      "meteo done\n",
      "/home/critechproc/STORAGE/SCHISM/test1/sflux/sflux_air_1.059.nc"
     ]
    },
    {
     "name": "stderr",
     "output_type": "stream",
     "text": [
      "100%|██████████| 36/36 [00:13<00:00,  2.57it/s]"
     ]
    },
    {
     "name": "stdout",
     "output_type": "stream",
     "text": [
      "\n"
     ]
    },
    {
     "name": "stderr",
     "output_type": "stream",
     "text": [
      "\n"
     ]
    },
    {
     "name": "stdout",
     "output_type": "stream",
     "text": [
      "\n",
      "meteo done\n",
      "/home/critechproc/STORAGE/SCHISM/test1/sflux/sflux_air_1.060.nc"
     ]
    },
    {
     "name": "stderr",
     "output_type": "stream",
     "text": [
      "100%|██████████| 36/36 [00:13<00:00,  2.73it/s]"
     ]
    },
    {
     "name": "stdout",
     "output_type": "stream",
     "text": [
      "\n"
     ]
    },
    {
     "name": "stderr",
     "output_type": "stream",
     "text": [
      "\n"
     ]
    },
    {
     "name": "stdout",
     "output_type": "stream",
     "text": [
      "\n",
      "meteo done\n",
      "/home/critechproc/STORAGE/SCHISM/test1/sflux/sflux_air_1.061.nc"
     ]
    },
    {
     "name": "stderr",
     "output_type": "stream",
     "text": [
      "100%|██████████| 36/36 [00:13<00:00,  2.58it/s]"
     ]
    },
    {
     "name": "stdout",
     "output_type": "stream",
     "text": [
      "\n"
     ]
    },
    {
     "name": "stderr",
     "output_type": "stream",
     "text": [
      "\n"
     ]
    },
    {
     "name": "stdout",
     "output_type": "stream",
     "text": [
      "\n",
      "meteo done\n",
      "/home/critechproc/STORAGE/SCHISM/test1/sflux/sflux_air_1.062.nc"
     ]
    },
    {
     "name": "stderr",
     "output_type": "stream",
     "text": [
      "100%|██████████| 36/36 [00:13<00:00,  2.60it/s]"
     ]
    },
    {
     "name": "stdout",
     "output_type": "stream",
     "text": [
      "\n"
     ]
    },
    {
     "name": "stderr",
     "output_type": "stream",
     "text": [
      "\n"
     ]
    },
    {
     "name": "stdout",
     "output_type": "stream",
     "text": [
      "\n",
      "meteo done\n",
      "/home/critechproc/STORAGE/SCHISM/test1/sflux/sflux_air_1.063.nc"
     ]
    },
    {
     "name": "stderr",
     "output_type": "stream",
     "text": [
      "100%|██████████| 36/36 [00:14<00:00,  2.31it/s]"
     ]
    },
    {
     "name": "stdout",
     "output_type": "stream",
     "text": [
      "\n"
     ]
    },
    {
     "name": "stderr",
     "output_type": "stream",
     "text": [
      "\n"
     ]
    },
    {
     "name": "stdout",
     "output_type": "stream",
     "text": [
      "\n",
      "meteo done\n",
      "/home/critechproc/STORAGE/SCHISM/test1/sflux/sflux_air_1.064.nc"
     ]
    },
    {
     "name": "stderr",
     "output_type": "stream",
     "text": [
      "100%|██████████| 36/36 [00:13<00:00,  2.58it/s]"
     ]
    },
    {
     "name": "stdout",
     "output_type": "stream",
     "text": [
      "\n"
     ]
    },
    {
     "name": "stderr",
     "output_type": "stream",
     "text": [
      "\n"
     ]
    },
    {
     "name": "stdout",
     "output_type": "stream",
     "text": [
      "\n",
      "meteo done\n",
      "/home/critechproc/STORAGE/SCHISM/test1/sflux/sflux_air_1.065.nc"
     ]
    },
    {
     "name": "stderr",
     "output_type": "stream",
     "text": [
      " 86%|████████▌ | 31/36 [00:11<00:01,  2.69it/s]"
     ]
    }
   ],
   "source": [
    "for date in date_list:\n",
    "\n",
    "    yyyy=date.year # this is for facilitating the folder format below\n",
    "\n",
    "    mm=date.month\n",
    "\n",
    "    dd=date.day\n",
    "\n",
    "    hh=date.hour\n",
    "\n",
    "  # set PATH of the database.\n",
    "\n",
    "    PATH=inPATH+'/{:04d}/{:02d}/{:02d}/'.format(yyyy,mm,dd)\n",
    "\n",
    "    dpath=glob.glob(PATH+'*{:04d}{:02d}{:02d}.{:02d}.tropical_cyclone.grib'.format(yyyy,mm,dd,hh))\n",
    "\n",
    "#set meteo forcing\n",
    "\n",
    "# specify the forecast times ft1,ft2\n",
    "    ft1 = 0\n",
    "    ft2 = 11 #that is 0...12(including) hours\n",
    "\n",
    "# parse the ecmwf grib file.\n",
    "    m = ecmwf(mpath=dpath[0],ft1=ft1,ft2=ft2,**dic)\n",
    "\n",
    "\n",
    "# Below the output specifically for Schism but one can adapt appropriately\n",
    "\n",
    "#from DataFile class create a file\n",
    "    d = DataFile(outPATH+'sflux_air_1.{:03d}.nc'.format(it), write=True, create=True,format='NETCDF4_CLASSIC')\n",
    "    \n",
    "    print outPATH+'sflux_air_1.{:03d}.nc'.format(it)\n",
    "\n",
    "## add OPTIONAL attributes to the nc file\n",
    "    info = {'description' : 'Schism forsing',\n",
    "    'history' :'JRC Ispra European Commission',\n",
    "    'source' : 'netCDF4 python module'}\n",
    "\n",
    "    d.info(**info)\n",
    "\n",
    "\n",
    "    tu = datetime.datetime.strftime(date,'%Y-%m-%d' )\n",
    "    bd = np.array([yyyy,mm,dd,0])\n",
    "\n",
    "    time = np.arange(ft1,ft2+1)/24. + hh/24.\n",
    "\n",
    "\n",
    "    tt=time[:]#.astype(np.float32)\n",
    "    pp=m.p[:,:,:]#.astype(np.float32)\n",
    "    uu=m.u[:,:,:]#.astype(np.float32)\n",
    "    vv=m.v[:,:,:]#.astype(np.float32)\n",
    "    lats=m.lats#.astype(np.float32)\n",
    "    lons=m.lons#.astype(np.float32)\n",
    "\n",
    "\n",
    "    spfh = np.zeros(vv.shape)\n",
    "\n",
    "#Write variables\n",
    "    d.write('time',tt, **{'vname':['time'], 'limited':False,'long_name': 'Time', 'standard_name': 'time', 'units': tu,'base_date': bd})\n",
    "    d.write('lat',lats,  **{'vname':['nx_grid','ny_grid'],'long_name': 'Latitude', 'standard_name': 'latitude', 'units': 'degrees_north'})\n",
    "    d.write('lon',lons,  **{'vname':['nx_grid','ny_grid'],'long_name': 'Longitude', 'standard_name': 'longitude', 'units': 'degrees_east'})\n",
    "    d.write('prmsl',pp,  **{'vname':['time','nx_grid','ny_grid'],'long_name': 'Pressure reduced to MSL', 'standard_name': 'air_pressure_at_sea_level', 'units': 'Pa'})\n",
    "    d.write('uwind',uu, **{'vname':['time','nx_grid','ny_grid'], 'long_name': 'Surface Eastward Air Velocity', 'standard_name': 'eastward_wind', 'units':\n",
    "'m/s'})\n",
    "    d.write('vwind',vv,  **{'vname':['time','nx_grid','ny_grid'],'long_name': 'Surface Northward Air Velocity', 'standard_name': 'northward_wind', 'units'\n",
    ": 'm/s'})\n",
    "    d.write('spfh',spfh, **{'vname':['time','nx_grid','ny_grid'], 'long_name': 'Surface Specific Humidity (2m AGL)', 'standard_name': 'specific_humidity',\n",
    " 'units': '1'})\n",
    "    d.write('stmp',spfh,  **{'vname':['time','nx_grid','ny_grid'],'long_name': 'Surface Temperature', 'standard_name': 'surface temperature', 'units': 'degrees'})\n",
    "\n",
    "\n",
    "    d.close()\n",
    "\n",
    "    it+=1"
   ]
  },
  {
   "cell_type": "code",
   "execution_count": 4,
   "metadata": {
    "collapsed": false,
    "deletable": true,
    "editable": true
   },
   "outputs": [],
   "source": [
    "f = Dataset('/home/critechproc/STORAGE/SCHISM/test1/sflux/sflux_air_1.001.nc')"
   ]
  },
  {
   "cell_type": "code",
   "execution_count": 5,
   "metadata": {
    "collapsed": false,
    "deletable": true,
    "editable": true
   },
   "outputs": [
    {
     "data": {
      "text/plain": [
       "[u'time', u'lat', u'lon', u'prmsl', u'uwind', u'vwind', u'spfh', u'stmp']"
      ]
     },
     "execution_count": 5,
     "metadata": {},
     "output_type": "execute_result"
    }
   ],
   "source": [
    "f.variables.keys()\n"
   ]
  },
  {
   "cell_type": "code",
   "execution_count": 18,
   "metadata": {
    "collapsed": false,
    "deletable": true,
    "editable": true
   },
   "outputs": [
    {
     "data": {
      "text/plain": [
       "<type 'netCDF4._netCDF4.Variable'>\n",
       "float32 time(time)\n",
       "    long_name: Time\n",
       "    standard_name: time\n",
       "    base_date: [2010    2    1    0]\n",
       "    units: 2010-02-01\n",
       "unlimited dimensions: time\n",
       "current shape = (12,)\n",
       "filling off"
      ]
     },
     "execution_count": 18,
     "metadata": {},
     "output_type": "execute_result"
    }
   ],
   "source": [
    "f.variables['time']"
   ]
  },
  {
   "cell_type": "code",
   "execution_count": 20,
   "metadata": {
    "collapsed": false,
    "deletable": true,
    "editable": true
   },
   "outputs": [
    {
     "data": {
      "text/plain": [
       "array([ 0.        ,  0.04166667,  0.08333334,  0.125     ,  0.16666667,\n",
       "        0.20833333,  0.25      ,  0.29166666,  0.33333334,  0.375     ,\n",
       "        0.41666666,  0.45833334], dtype=float32)"
      ]
     },
     "execution_count": 20,
     "metadata": {},
     "output_type": "execute_result"
    }
   ],
   "source": [
    "f.variables['time'][:]"
   ]
  },
  {
   "cell_type": "code",
   "execution_count": null,
   "metadata": {
    "collapsed": true,
    "deletable": true,
    "editable": true
   },
   "outputs": [],
   "source": []
  }
 ],
 "metadata": {
  "kernelspec": {
   "display_name": "Python 2",
   "language": "python",
   "name": "python2"
  },
  "language_info": {
   "codemirror_mode": {
    "name": "ipython",
    "version": 2
   },
   "file_extension": ".py",
   "mimetype": "text/x-python",
   "name": "python",
   "nbconvert_exporter": "python",
   "pygments_lexer": "ipython2",
   "version": "2.7.12"
  }
 },
 "nbformat": 4,
 "nbformat_minor": 2
}
