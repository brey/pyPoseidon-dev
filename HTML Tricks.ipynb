{
 "cells": [
  {
   "cell_type": "markdown",
   "metadata": {},
   "source": [
    "# HTML tricks"
   ]
  },
  {
   "cell_type": "code",
   "execution_count": 1,
   "metadata": {
    "collapsed": false,
    "deletable": true,
    "editable": true
   },
   "outputs": [],
   "source": [
    "from IPython.display import display, HTML"
   ]
  },
  {
   "cell_type": "markdown",
   "metadata": {},
   "source": [
    "## 2 videos same time"
   ]
  },
  {
   "cell_type": "code",
   "execution_count": 63,
   "metadata": {
    "collapsed": false,
    "deletable": true,
    "editable": true
   },
   "outputs": [],
   "source": [
    "html_string='''\n",
    "<html>\n",
    "<head>\n",
    "  <title>Synchronize 3 HTML5 video's</title>\n",
    "  \n",
    "  <script src=\"https://ajax.googleapis.com/ajax/libs/jquery/3.1.1/jquery.min.js\"></script>\n",
    "  <link rel=\"stylesheet\" href=\"style.min.css\">\n",
    "  \n",
    "</head>\n",
    "\n",
    "<body>\n",
    "        <!-- *** Section 1 *** --->\n",
    "    <div id=\"videoInterlace\"> \n",
    "        <div id=\"video-canvas-R\">\n",
    "         <iframe width=48% height=\"550\" frameborder=\"25\" \\\n",
    "             <video id=\"video-channel-1\" oncanplay=\"readyVidInterlace();\" src=\"/Users/brey/Downloads/anim.mp4\"></video>?align=\"left\">\\\n",
    "         </iframe>\n",
    "         </div>\n",
    "         <div id=\"video-canvas-G\">\n",
    "         <iframe width=48% height=\"550\" frameborder=\"25\"  \\\n",
    "             <video id=\"video-channel-2\" oncanplay=\"readyVidInterlace();\" src=\"/Users/brey/Downloads/anim.mp4\"</video>?align=\"right\"> \\\n",
    "         </iframe>\n",
    "         </div>\n",
    "    </div>\n",
    "    <div class=\"row\" id=\"controls\">\n",
    "        <button id=\"play-pause\">Play</button>\n",
    "    </div>\n",
    "\n",
    "      <!-- syncHTML5 -->\n",
    "    <script src=\"/Users/brey/GitHub/syncHTML5/js/syncHTML5.min.js\"></script>\n",
    "\n",
    "\n",
    "</body>\n",
    "</html>'''"
   ]
  },
  {
   "cell_type": "code",
   "execution_count": 1,
   "metadata": {
    "collapsed": true,
    "deletable": true,
    "editable": true
   },
   "outputs": [],
   "source": [
    "html_string='''\n",
    "<html>\n",
    "<head>\n",
    "  <title>Synchronize 3 HTML5 video's</title>\n",
    "  \n",
    "  <script src=\"https://ajax.googleapis.com/ajax/libs/jquery/3.1.1/jquery.min.js\"></script>\n",
    "  <link rel=\"stylesheet\" href=\"style.min.css\">\n",
    "  \n",
    "</head>\n",
    "<body>\n",
    "    <div id=\"videoInterlace\">\n",
    "      <!-- start of channel 1 -->\n",
    "      <div id=\"video-canvas-R\">\n",
    "        <video id=\"video-channel-1\" oncanplay=\"readyVidInterlace();\" src=\"/Users/brey/Downloads/anim.mp4\"></video>\n",
    "      </div>\n",
    "      <!-- end of channel 1 -->\n",
    "      <!-- start of channel 2 -->\n",
    "      <div id=\"video-canvas-G\">\n",
    "        <video id=\"video-channel-2\" oncanplay=\"readyVidInterlace();\" src=\"/Users/brey/Downloads/anim.mp4\" muted></video>\n",
    "      </div>\n",
    "      <!-- end of channel 2 -->\n",
    "    </div>\n",
    "    <div class=\"row\" id=\"controls\">\n",
    "        <button id=\"play-pause\">Play</button>\n",
    "    </div>\n",
    "  \n",
    "  <!-- syncHTML5 -->\n",
    "  <script src=\"/Users/brey/GitHub/syncHTML5/js/syncHTML5.min.js\"></script>\n",
    "  \n",
    "</body>\n",
    "</html>'''"
   ]
  },
  {
   "cell_type": "code",
   "execution_count": 2,
   "metadata": {
    "collapsed": true,
    "deletable": true,
    "editable": true
   },
   "outputs": [],
   "source": [
    "with open('/Users/brey/Downloads/test.html', 'w') as f:\n",
    "    f.write(html_string)"
   ]
  },
  {
   "cell_type": "markdown",
   "metadata": {},
   "source": [
    "## import a video and play it"
   ]
  },
  {
   "cell_type": "code",
   "execution_count": 3,
   "metadata": {
    "collapsed": false
   },
   "outputs": [],
   "source": [
    "vfile='/Users/brey/Downloads/anim.mp4'"
   ]
  },
  {
   "cell_type": "code",
   "execution_count": 10,
   "metadata": {
    "collapsed": false
   },
   "outputs": [
    {
     "data": {
      "text/html": [
       "<video alt=\"test\" controls>\n",
       "                <source src=\"data:video/mp4;base64,AAAAIGZ0eXBpc29tAAACAGlzb21pc28yYXZjMW1wNDEAAAAIZnJlZQAANVptZGF0AAACoAYF//+c3EXpvebZSLeWLNgg2SPu73gyNjQgLSBjb3JlIDE0MiAtIEguMjY0L01QRUctNCBBVkMgY29kZWMgLSBDb3B5bGVmdCAyMDAzLTIwMTQgLSBodHRwOi8vd3d3LnZpZGVvbGFuLm9yZy94MjY0Lmh0bWwgLSBvcHRpb25zOiBjYWJhYz0xIHJlZj0zIGRlYmxvY2s9MTowOjAgYW5hbHlzZT0weDM6MHgxMTMgbWU9aGV4IHN1Ym1lPTcgcHN5PTEgcHN5X3JkPTEuMDA6MC4wMCBtaXhlZF9yZWY9MSBtZV9yYW5nZT0xNiBjaHJvbWFfbWU9MSB0cmVsbGlzPTEgOHg4ZGN0PTEgY3FtPTAgZGVhZHpvbmU9MjEsMTEgZmFzdF9wc2tpcD0xIGNocm9tYV9xcF9vZmZzZXQ9LTIgdGhyZWFkcz02IGxvb2thaGVhZF90aHJlYWRzPTEgc2xpY2VkX3RocmVhZHM9MCBucj0wIGRlY2ltYXRlPTEgaW50ZXJsYWNlZD0wIGJsdXJheV9jb21wYXQ9MCBjb25zdHJhaW5lZF9pbnRyYT0wIGJmcmFtZXM9MyBiX3B5cmFtaWQ9MiBiX2FkYXB0PTEgYl9iaWFzPTAgZGlyZWN0PTEgd2VpZ2h0Yj0xIG9wZW5fZ29wPTAgd2VpZ2h0cD0yIGtleWludD0yNTAga2V5aW50X21pbj0xMCBzY2VuZWN1dD00MCBpbnRyYV9yZWZyZXNoPTAgcmNfbG9va2FoZWFkPTQwIHJjPWNyZiBtYnRyZWU9MSBjcmY9MjMuMCBxY29tcD0wLjYwIHFwbWluPTAgcXBtYXg9NjkgcXBzdGVwPTQgaXBfcmF0aW89MS40MCBhcT0xOjEuMDAAgAAAGKRliIQAEf/+94gfMstp+TrXchHnrS6tH1DuRnFepL3+IAAAAwAACv/IAHV+ESBtoJM6A3gAAAMAZ4AQf/W/ieOYyABVf39frqHf2GwS92Db1N1sbo9i7kqAC+NfSWKJGM2wc8LjfqD+uCxjSuLdN9RMGOBwxsjn+ibpZ2x2yL0bq1Ta9LRjLJpwomLWQ8Smd56nwpE40NhMCCCyAZi8c6ttPGml9yGdZM8nMchYYw9FEmADlVIxYiw6c5zAEfwT6DQCDiozS8KBjK9o9fgKSXTnrYfw/zLwjrmTLmcTJvFwa7vOglC3LPJQzOx735wFjBPYdVTnfR/0JIu5Il68afsGqyM9v5ZylGFQkYBTsg8POY9Dll+U5Rpq0RFXinleJC+KEKkgNiouzQNgLcsCues8EK4W9IpTMtftc7nweQ2Pj8XlUYS2eRoIn34aqOSblSbO3ZpR4lBzMLJsJ8UMclZ7p5JzUWUgyPo/O+jbbFD84kUMvvgzM/rSMkEa+uZgXeNDSp8HsG7kjTF5GPM1MfZsdetlSCuJoJDr6yBKrtiUEuKfXF0qTw9rFrJCR0udxOZBxoQVF4xUqbDy+KB+euH/Cq3vKsOqhTBBckwFgHP8eZOv5KYxyC9qTwUR0Vg2opyZQr9KD6/KJGAhh0Qvi+jdJLuwHc7/vE9oVeb0qjchwFI2aO4DItSb80NjA1G2u+ImRnICKNb6DJ3XH/fY7piBdm+Qye3MFsbGmi/2Zh7wEbNUlQEFB4nT7gsj9t0W3QPLFEN8dYX39JAR5+T5tq7M6OaJ/S5s/jvVNDEQH7QFf//pE1BHpQIDsZMdIJzPbV/WJ137oumzR4nzgXzLPyDab5IjyxO5lJE2n6vZyxMXfx6bo4QHIA7ODyx2OfEvQgojRr7O5sIFWaL36/8Lfb1Z+WU10Cc3zExCtT4iQAvvWHALBDGw3vJARjrtkTHK81KQL4rTMa0BSy2n5JKZKA0g/SyAyL83zrqehM4U8gAO88z9CTAZAaB5+x8xsB26QZY1ZqcMrAiyu7VufOJwMdVxgBBNYXvvTFKmasAO4ttTB15F2ExK0+E9JQJQyT//vvVJ9rWFsq6r2BOwfS6dSWQ6DbQAFgowrDNgrdL6dG4TLOjhw6pNGu5eSMMozzvS7Il+3103u0wBUeKUyi9e1TVV0ef0jDq5ijycqEwJ37JwtFH+Z9l3v9YnoKIzHeQVNuCi4xXAND3YxsyfbmC+4HhF0Sf0PvdtIlEtJtYS77m0cuIKp/qPPx6ssuRBNypbrRI1vbGnO/7Wy2ZaOWngz4ILdP4H8VHAzlNWWUcdutK2MAxdaTJ4l9P1nrnboDcZQ+OIOzdY9V2alJlke/8NpKjvt6SIF9qKDY8I8k0IIyrH9YAOf6VTUWJ7WyI2RkzhMcX3mXNHmkuZKVY1OoOsMVawfHxGVAZMt22LakSSscDh0Q3z6nflUlaRiREUYssl4GcWsUHUSNOaYrVCL9tst36kEDb4WPdt+bqmD5NIerufL84WGOLGmpbk7qTa2Fsr3wvxTQLFPDgf0HLHU0jSGLEUOH2gL2+NadJDQaKlJJmX+zICgXHRij1QbmJjujxPmFhh4nxjA1WLBi9DKHwqEQmdDRgBj6O7/pwAhrqif+hQKYhF9yCaqtVs6p6pEOv1upf4Cudkjo+YYDch3HB266cXiFnyDBCU/SqdMNLkl66lCJKSXKiYwARy6w8KN8/hvt+6I5JekgAFT+p1Q8W+sNUFp42U6alqHZwA0vRrlGt0JVcGcKEiZygSO9cWaT/HX7yjc4zT8utCf02QtVBk4HIa3lUGMhJRGmV51AbnqBJisMWwsnIiQCuyY6p0zhvXcqAwWUS4U7u0+IHozOvKTtHNrM8dMIYjWd2AJ45WbY9YEv7t/ov+w1cjBL+2fZAaCMCOjT5dnQmi33iZW62ZGR+u1QTodGGurgkU6xnK1YXYBwX4ufe3Rb/8mFPZYEoVd7DaHj/6LDn4unex8H+t2yIZ6HzIYUKwGaTIwp5aP1YYLlr5oZVnsbLXuFTTQOtStONGB5mofP1jMMOSBxznszk8NsNG5Y87gQld2QmI5tAkenqk++Fq0i6TcVytu2Kq+Xfucd61lzhIaQ3hUImJPw2X9st/tZup2kTZtV0pPUZVX6vrJqiX1oRdWthxdvSpJuveSQs1OYbHjynP5QYu1YxeO9PPuEJItaqXMEiPDuaY7qnIui/AVjwZq9jMGyu5QeebZEufyGl8PNLM2h9uJPYXdvH4Jsz2HosLVhGvaRrPuFyWm6nEd4CfNoLmrSFrE3Iq9asYfPQxvm7Vva/VVWxcfCFvh2DdXxcnya469JGeRzHogHOPsOgOpD9xsCnfkoe22d+WPvhA/QjEJOSzeNsZdIWQyWMaVDXO14EQUGKawBk9yEnvXHeTefS3WnaQa5OfwIt1gYt2Zq29KNrFhSJUp4TpjgC6gJvep4IKx+cMJCz6RsrunGthsJi4tyG/bOxBzux3vf4kKpigtpIMt84mJL7N4+nOP3OQcFNrONOrLLR95NWe4y+wEgJmJH2Z5zrL9tAadCf1vgW7PtMG1klXpNJMNUvnjyufV0y4oQFG3T4YU5nRT5uVAVNZId7XVvFvMzEA+NZo5SaNx3cbJk2rsCBqMLt9bE2VNk0Ta9fRUzE9IYmUXonU27PVLQiNxeeRDo3BcUv1Umr3JMS6R+jG2FGBzV1ySlndniTeC4CigqZ55fllT6kU+86thL2PbpzmtSu71//kNx86A4BAd2ewHs5VkwqEHTmo5TMAbaAgoahOQn/M9bsE4mFhVW1PGYB4vo2jfkYGkLikGY3L2YS5FvTPk5PLrB9MgJRb8XO1QaDrNglHyrKQqI3IY8b8/zLg7G3fQDqHCtdAOaBi/rCFQ9YLkodOWD/yf6EWGIOVerbfigNeibVDd4dCSt4/55Egt1noKlr9zXpwe6fnRe6hbvWaw8IaX8NVIBSLnnbXck2A8tNwDXbFtowQwM4x61AMMgMko5f5uJIkiEZddP0Zax9k8AuhwSYkXAJvGbRHX9qrCtKAVWEhJLa9cwEgY3655SuuUPJgE8er0FhDZdkHZCl8G8tqreOzyNygsCiBvHYs+kkgcWxDnX4EUBUOL1YgnazQUd6MxBUI6dwbtMa3iZV+62U2FxDoP9UAmpzEABZr/UCuaJyEDTQAssnIhPoTLNC0ILX9PvSbQRh0I1EVIf+twZT7pkCGX2ye54q0DUXCqeSZvPMR1ypb5/pPc9GCOkW15EwueR96o0JTVdLaXiL9kcu/IIrknRMIW0Iqihcp+V74QTfFApde+byA2dgrQo4zYzxNy2jXCg4SV2OZ5bwTEDIL52knFgXiszErQldE+Z1j9q57vAXpOjsXsJGteGdbVdkEb3V7krmXhiyO00lwYzrc0+n1B5caZmVWqlDIiyKhWUZwQdXmX9XffyzE+hH4zRsVDoarRdcGEJ99JD7e1xbiZl32gqq7mwx3BqFxgcee2vYn8kNZgZAxZ94HRl+kbIQVZwZWP+qTzyeOGW63cpiF3o+m5I8boTnOCWRRFhkSMzGQh5FLoruwfkt9x5DPr7Gu+Ghpou6UwrOPddxgVW8mw762eH4CeG+wAAfEcjhv+0TIwDlhAo5nOIiHrmSWW/9c/V7s5kQvuO106l39UwLwInmU5vgg51TRQhIfLtRCepGVnnWZMHcKkoSNMfLtVw7FWz3RsqU71Ja2RtwBerYktkJMfLshDFJa0a6MhdwoZa0TCv0zYSFjuXhcMTAopawjCvLsgDIlrCroyF3Hix3Owr9M2OW8TgwuGJgyJa/9NeXZATvSlmrGQu6o6Usaa/TNpKxzPSOSqtHdK0kx8uyBgS1eqsZC7xljmgmP6Zti3i+G3AF3ppavOmvLsg2JavVWMhd/m8XzhX6Zuvlq8ockqrn+laSY+XZC7lq9VYyF4Zy1edNfpm/u8S07cAXixLX75ry7If94lwdGQvG28S2Qr9M4olr9Y5JVYe6Usackq4OqaBYlyLkUcvNumdvvfj0x2rpQGE8VUmGPSIyTCIiUgr6IjlJwXqtG4Jbv0ZA6sxhtEUpAPkIEpj2vDK0QlLG3OiZOxOQgU3n//WHKBTw/TsTGSM30eRrFqBr1X4+6fLPaZeJ3seIFnGF64WvJANUX9HGLPxA63QZXaSpfiU02tgGyrT7bc6HSDJkF7ltHdZjf1hzywlVuHK36x/N0ILVzyZ+kyw0nWrOXrV2QV4Ffe6a938bg1uzRH6eIvjElgg5u9J00wRUkasri4XRxv84bh+h9krKtdxcbEeCZJepHjlN+AaRf3UxqY5YYJd/R5AcsoLk2qipAv5Cv0zq3SVF24Au8t0j+cMkqsyasKpNeXZjOksO6NlTG4bnFtNAjFq+tFpusybe1ZUpj5dms1YVtY2VNL0kP200CMb0N83WMheu4bnLCvLs4+rCtrGypoukh+2mgSqL+wTDfN1jIXq2G5ywry7qBx65HnpvRAYzXCHK7n3GCGwNH69317LmCe48+GZ46loNfzdjTXm459//BtJ////7GfTLt3flYsb6bCbItgzyBbZER//Jx9vfanGEcZnQf0c6tMkBEG5icTfIdySyOkHyokYZ8Z1cOkvuPGJ8NkGR1T/W/hPd6r8NruEeDKmCFKk9RlpQDgf63cjcbKRNWw6BIBHO9TNTDnqbkHPLcF1iUUnaf84gXzyNGl01pRVPSHwgyKxUWOVX1P7TB51UECa6uKr5hlKYruEaJvuv4wF9x/chxr7Xh6tboO2Bf02lNpiDyFbPHtD+W86EuGzQE/CkHZeI1Mf7O0cOH03rOTmV0A0w3QCG5Wis/YdCbXlza6fzAL9iClvYjcqxauSqXHzLZWbWpz9weZevKrbMWq7rT2euV2xpw6CuCR+DjJgGqUk/1xdKZc81+ekvzOE7K/1JTDUlXxBu+ya/nEpr3dbtAAEcAAARMP77jLwG2Pf6S7eQA7Tu/c6Q8KP2wL/Xg+gB1G6hS2HcJKrb6/zulNgMUuUXEGyY8oQ5E/qiIaer6LuhdYo3QKsiprYPeCJYtZ3gAAAMAAAMAAAMAAAMAAAn52QTB2M9mKrCqAQlZm+wE4CSkQSWRVcgxuXth52OKndA7/PcyNNXkRmgc/m+NUw9tC5UpjqhGtTY+Z69id9PF3rcUKvrzK08TlaTS9xhye4DThcQMO19lMvGDMP30PNpnWwsOHpr81zzdmyXBMjP5EJJiSDgZowLyZexrIvUuP7GfPykxAZZWtSXrjUBIErMTPmNMbrTYgzZyGld0xjEL/Kl1A5WraBU8QdyUQFUDYF/vAxkLwtVdfAUlVsCceEC9uQeXdAvbkDiUI7gshapbhZXX8xKY3h5PDAaaukMvuAH/qKJay60FB8HCR1NJElfVpkvRUHa+1V4k/MfVNCPGyynUvzC469WWMxJIEVQFZYy/MTtP6uGuSpLUBQO72slN2jmMZiOS0SyWRhVpGG5SIUm7X5mUNUT+GV4tKqqc1A9cBCmEma/dWTBoFY+zGm5M4i7PB2uPypDt7pJShLyhpI1sKHfjE1go5ElxCJ+leSgVI0WsNBWozxfWzRpQTC8SYwu89CDsu9J6K5dHMnHaHJS5s2UcnnxtTTW+zZRwGLIYyuy74Qxldl4DnplteJf6uHesHNKK1I4Gb8WPYqrIoT+DIgjhMi5ikHTyYMQda9phgljC1MR8saF8zULHw2RAyNrFGH7tYaHQ/daoU6H7vcbJW+4u8BhBsUQSGSHmCqYFWqoc83oLDWadKCutbmA+rTBLEI1rWg5csDSXBR6wFZE0EiFwnzhc3cOUuQ+s+CakDO+x1Sc9kSoJFXtqhO/6fYyM1mqzyjq46xYE7fyEqRq5OGZHi0ZKUuJ1v/j4yTkwdgY1DVXNrDH1T6PLcKG16JkNvAI5PkGYBbFdM1X0eM56vIG6F0WwUUMBnavpaoCS1TzcnrpBGAANJD0h3qaI4PCkEbJbNLntGm448ygHHZ+JDyQ2rhD5JkOdB+mFqSC3rdInC1qFapG6NJPtLsD/wsino7mDt3DN+92v3ioFWiT/NQNp4CRMbKhoFUoWZvfIV9T1oJQ2LRH6mdMXkhDAgfo7+h6Y2Bvk/7etYrfAHzyKiTNX6h9jtdLyoRgKxfioLSFN7kxzHWIH4cibt2gfiurC26OWF1gjYu/HlNkksGuaxTUNuWpj/6RMG9hpt0nhKwcLe4ztipXL9wQSG/fDdRDgjSHnlP88vVlYoRfHY4yzqGgEr6F5dV8zHw0X0GQsEn1ab2Q15XZ/hjSVSS/UUoPRilNa9bJPSlwMPiNsGLKj+Ir2wC8kIK1EkcIsJ3FeHeVkUj9yM/cRre5LUy65N5Ikb/18AxegooktvEVdUv8D2i7N+uo2eR/w3axCJg7LLZuBN+CtajXXclqSU3R2CjdhirMHYnrxGmHSLcGCavon4pK8+bvSuXAaySjB7nCKXX7c+uQHpJlGe+mFBKR2kkxXWQlVbrhHvC7toRFDAxXA0GgZ4epFIswWZNlR4eKKn5UC7n2CxtVSsAE8QjJjyoN5m3B+35qhvQqfgDpUfOkd55rzly2RLk1W1BvdKJj7wd1YkGxO/QmL4LrXqkcfruc69I+WdybFwMSKuyBEfTHmSNwA1Z1goBFq/9yCsQbqz/H2rVbyl0ppQjL5sRvAL6sT9Q/i5wGEZH+LdTFZdQvPyQ9BMilarmHcIYQH4E8Ii6FDk1egFd9ASM1mAAADAOdbP+/XyNYAjqh4DyaqlI2v8IDiq32DQ5LeGF1K+cS9GP3uiOKvFRi5XW/o1/djtXR6Eq6iKSmda3F7Yps1tM4oZeSVv6HLzc/6XJRxd7ODeSn9bxWaWwqPAhSci39WKxhzOguqiYaqCeAO2/QN/xQKz1AsCCv4gx4ruUxzd/0QklY6s90v5j4A8PpH/jdC/0DO4gQGab+raZnDmkR+M+u/jqyKVA6s25y/wNyJgRJ/WsTd7lkEAqG9V0d9CZ9WT+h6psQypL/vFt0HcVMXtor4MpSbTi7kmK4Jjg6+cNkeqvenwTgAEm+BspjAX1Ajhuar82ozFU3bvtruHDtxfcHJtxcgN00Zhp+GWl6zoSlcXga9wSDXVmLHyzQZIyFE24EO5tYNVl3hi0K303IkznjinnMZefuKZW6cvb0mv6d09xjf3hcKYbTBgL0PYVvE0+VlDjAKK6fc4al7PMSbKsXs2HSdTxnsIIWqdvbXpmhKe144wPyPDvikXvFI4INEvlJgWoSZ5s1vmqMhhuPX3tYl7dXtuRptD7olNabMVAXv9jg6c37BRaj+bGLklKjRgym3bJ0v5a6mPtl4YMbjMXrwcVwOVsmGEIDRaOnH7akIi3yG9Hc80cGAbkCwWNj0e/wxyRjZ38SCqgrSUvlg778wSyM/kWAGXSYtru3KtqA+sPLR+X+yT+s3GhQ17k+cBo7Ql0IOd0EyNMrkVggx6ge8rrh0LZoAxUP7VdMGv02minClRblKeyWShORbG3YBl8tBrv/v2XzwZX2DuqoUswcRbVeHbQRLTkh3q+p7V/bnuALHBSjwqvmvTVw8FbXSYvYLMMptBcshofOKlu3jWLF/Q93yzqDC64BjzutSRUqFa09hUQqlHvrcZpVXsEkbPr3tWhoyL6aoe6ecKF3SV/nm1NWrkf18PVgn/6oBn7s0M9OK9VYscY98K8ygqn/2so7egheKx/FFwiv42ogQNC3mIpSIDJJjHAr+xGw35ZXjfMk5/4B5U6SdFCP43llY3BBy7BCLWJ8zYbbWS8vEo1d31jWw/ohxyTGC+Z/ohEvUfJS3pq5VSmtJkwNkdWpCHX/uH8I9oGgodA4QakHz1VJh3PdLnW2xOStJFqM5hXuhmUCsdilhHwYHCsgR9Hef920x5QAX3j7k5mTIPxJ4uuqDfZIlUWFM1ifkF/JqD6eqdEuCMJ2/35pZaRUbhBV28p9RFjWx1WpOM8jBrrQViUxEJp/rwImoSLjoAAKU9G7Rqmedhw0iKaqGS8ZzAw3ZHZDKKalg64KdtoB04+lhG86x29gCBwvXQLntMx+V97A/sGLbDP2HbxpTNkYMGHZowsfFNMT1GNyS+ta5nLyNVxd9NhkBrurFbuXWtrSMGE4XRjZYW3HjmQuR1Mk89G9k1lCVEuV1hB2Sv/LsxCICWkYIGCx4Ud487Lqb/O/ea78dOVGarrDYJtgZUt4j4qImYo6xxumI+Zp5QTGjoTu6Qeb/7p4Wkdc/w0QoVOS/3fiuZmt9rSGXbB7OaC5rL9eVYcOZxNn9VOA8LV+3gAymIq1tQ4fWq2ucPAXHTkiWg+msZ+I+5ylSVGC1bPXHLW4GjAjvmJLy8UGLBQbLFRNWsTNQBjPhCoDtQAAAAwAAAwAAAwAAAwBVQQAAArpBmiRsQQ/+qlUABKFz4ABwRhhVHf+bSGj+cUYzmjCd0g8tNQ1e6ogkz5qFBYnfHNruGfREfwiA2qQ7mtnOmSzIlnkVWE5A1niCFr0roNYMGq94ZTYOdaeU7VNybDxUS1qIccyfmicx+8N2BKG8yknCKKlXIePVmYZDvHqZrDHt8e8QS8/Ei/oCD2f8vOc7znNsuZbGf7ExN4qokq/fhWS1NN06l8kO/wFRegmxZlU+7K2iY7gexYyivMyLvur1iR+1KSWSq4ufhCCNN3lsekzx9GYrEBJ++LUp0XP60p58Vgrfng364/JSNmy/tothCggJH5fwKYrNwOw5AsyuMJc2RqQH3EqZlMW6bl9rRCZTXfT8iEArH7Z4k/UEkoGlv6afsnrytE6WzBH0rXHAxo1meZk1PgqC+fmUhGKK7mgx50g35sctxkSoUPU3BbvcU3b6TMHlioCL+EaJBm4gTMkPLO+877t9aed7ESeogWJzIIm/vLIAXI7mZ0j0EF8QvXbbkztd7eqL/eUCGQWGpt9Z/sdNQ8+OIIkqAnHNRVCePA0H+Bz/vpNRmkvhSJub1noszWsmK2Ke7qJ/FthZnDTeAzlnM1AOvOhvNdrhMZNf6xpj2OZqMWY2yqpkgt/gHCNXKHNLtQWOJO1kfbT5CU+R7qNcc6UQnloKeyM99PAptrRQq+r34XUuZm6Luo/Ab8d69rer8+TfRBgsw8Vwru7ClLZggCcRAKyeywLGKOFU/Hf4Gxbsv8YbToXJ3b9CjhK1qYgLhlJBPWM9CAUpv0NVxFYkIbd9VgOEAAAn+71vNw4LkN5vAduNNm+VAOP1QNu6casaQtT5EPZICNOOfLOK3lOqRR3DX9eMLBXss6H8wlDy6S8XbOYlXrv0Ja5N3TY3+XFeIH/iokt4GeuToV3fa0Ug9dfClAAj4AAABLxBnkJ4h38ACQOUzkJAYUO0AFzb3KAE7K9SFv65IhMPoZ2fEZMHVBKH7hG7dFmmsvks/r9wVqr6MPn/8hUhNvNOMXMTmPLwq8T1fdAzkQdVMF9zUMq4mLK8I9CQXWtVOkRxja+t6wW6LnCma8Sh7AVnWZWzfjWWVHxL6fiObF1k2GQJ994SC5Vo8pkiBS5EKETIIFO4mFIECqF0c5UQxFzc0kY0Gse0+XNygpOUhwIhRk6ajBYGxyRqxuFDob0cYysWPco501gVGgpZhPvZEXav3SArvnqIz92h5hVNyFIdzknwLfqx567tuOkuxMj7ZCPKPrg/n8eFNWJPqI+RbVm3C0Oe7+oMzRAABMJ9RuzKblDYNmwoTMDAbAkYGYJEWNShfqMLPT5e6ItVoj8CkTHrCgBq8x5O9CRuPNII++RcC+toxEdbpDJY3md0uSOGwrTrnWm5PxgCnO/iW3/zen0OZvZGRpjk09EflWJ4hm5zCOUtRdmf4C491q+kpARwWiQJQA/8AC7ym5rsbfUgxKcZIUki3IniqDgJaezoSyFHVsVtmrE8DNFYKdnR/7pfclkesJN+kACfGFiDo3AKmXluXxr/R6YANna6+z2w32T+bSv2bKUEhjKC8wGNvKx0KxAkgXi/QKYZxsV+F9v9DZLCQiER0o+NtEyuIgV/JNXXPoCoYHhY9X8neB2UMwKywkYh3BVF5iIkYI39kxVxPJK6rYpW5gWbgQ9tJMOyi7vAzPnn7HX/4n5XHdUuU53gaJwmbc+soqcMjE9Iec93nHCTTi/nJG3grAWM///GI+ti05x58KXwJSIcRHrHit9MTK3CwN4HF+xRfpe/sIK2LkTxw0gkDet8nQqd1XVq03+yOrdf/diFlmQbbo3aSVdTl8GVA6ORkLwvtwQJv+ti1IWkzqjn8mdVxnV23BmJDleecze6cDlzlulRa8tdNxZZ4qs9L1HULeXbQDmiEIcZEyki8Lp8gPPvwtJ/2urQg/n4IKOlMt1VLc22qIgh94IF0N8hjX18xBr/phh4nEQsg5o5u7Wg91N2NaAvKe9r9yKPHpyaasS23CmwCCkVdFcZZbh7P8X+uHpyZUnZBOvIGzd7klLs6CTxy3wNDizthpbJd2EQCxt8Uq2WABLWieB5dXPCRNDIAJXHYThrmhsBRBMsBCERQhLCyG3ZoBABQTHK9SiIjON0u8RaD8iMOLuVSnl6r005F0cu1gClchy5GN4+0EmLDFpAkh9aIvaKHcNM4nGKeo4Z8+P2b6Lw4P+rrCUNX9Y41VnXU1/9NTZbW6sbNlhBQNI9Bo9b+K94IIRwdDUMgyu65CvertVl2NgloIMz8KFWNpQlCRJDI5TqjV/cDeguB/0onkTQ9SaBQCgIhTeEn3S+k1JqwcjKp0kHZ9SgjpdlhuWS9vFMgmVe7RSJ3F31T03hbXWY7OPENaEF8mTxf/gN6INIfKd/244Myj6/4Os6UbSE7hyDN0JZblDE7wixxIGXnxmvD/8K3K0qSZ0nIKIUiDUNsbdURqjrOjivzqPloN8C3IW1DkXwwGutoIQoympNiytLNH3sSiyE4AAACa4mFxBwYyL31bXMabWBBDb6v6dVSgAAHBEAAADYAZ5hdEN/AAzfWCILkACdaHKlGUT47I1bBnOXW/AFGc5Q5+1BCkraDFn0BzgvYaZD2ujbhRzLfAhC+O4LkktIylfXxf2opIAgCBhblaNvvV4Dv+G8wo68FhiAKmVU7kif18O0tFGhiPs3CzLqozP2jxh5WL1S0CTPq/r3ZLCxV0yLydP4Ja5BSkxS0bYA3UZtR/AlwpTEJP9fctGuCmsLQYj8C1EwUlW8QMcVhhCdbFBpJtybfGzxvy0xQ0AAAFv4gUlNNtri4XGctgCBKsu9RVe59RwwAAYMAAADrwGeY2pDfwAJ88+SMiYUACdtccZE8MrwedL+yXHf05dkGS/KlTa1KlePj+mgVfWnZu0rk+Js0vGKfBFv2ufjQFWnNjcnPp8A8CvYQ6Dxu7WhxQOgEDBDJN8+fmcX5yry9G07AA+WHpVWdvweUmyiWbNOohgwcsUSt6PMFPxf2sIxDYS8/D5dYMf/Oehm1ilUcw2l5cbpH0+mfPtGTpaD2orFx4ypCPMn7L+K3MLLZJqfer+DmDskVh6IEM40CoVrq3nLYVALCGLZCHO2VYGuZFQrZx6iCgYklIwULIZMD+0IWKHWRtOT1XwUZieCorvzqGYt38rEk1/gAHor7K6EcTHkgtiysobf3GxsHBh2kC9D5NallDYh/SuYox2lI4/EkvG5csMdkhKuS52GJ9U8Ak7soif9v/9Qa0XzbdaK38UOuq8y4qb4n3pX7ZPO1vWH2Seplm+TFWuLolT/T7MfmBBld3QbvxTKHfyjGdxZ09o1JY9AyXJVGJvz0cdDKhDIJM4/boXHZmI9YPgrnArpSvVEp4LaQjTkw7gDnB6lGVNKb3Q6zcnMhtkQaykJL24AbRS2bqdUXjBBJMFn64EjR3XwJnJowlLiF+aYOaa44PG2E9jy61vHwAZoj9nKVvflFWYR0xTavnz/AYWM/850sk2ujZaZ9Y7NGXLGCjGOHGiUWOT4pcBXtttbafsAU0T7t2dfdFSl9bto/+6NuQQIU5RQ4sZE/xBZqIBgt1Tw6eR/DcnNK6Hq1cRjXI94vYHjoSdT1hss5eJXqb/97ryQBkzfOx5ZRR+9b6o952MixRIB5KXvA/P2NF8aXNo0jvfuYc1fNa4yBIZi/s40hmD13j9HxCvGTYmkcvg/PHjn1y1GGJ0cb7MrxeuemwxgtMMAJzmexxchBx6+6Q85vwZ/MAFu2PUdKjNb7H9vq1lfGxZ+xMwd1MH3793OdTAUx97mJfFfSWQQg0M3l81wq1u1dVrGzTI+agtx5GunL3ulcWy10PwFeYTnSYCEe9z609dSMRq5ov6EPMZj76kNzq5tYU9vo3ozbOtXdEyeoxOVmHIk8Y4QbMaJpamp/qYyNkfU6lCrXZU2gwKnTpOcvvn0YyhUFptQInxBhyVhzWk8Bb5eS9UcC6WYByrBp4c/epbtPpDVLljptRS4kRv0IpaeosQ8qeH5Zy2ViOCA5iJU2OU/nWlrf9eGT7hfNB3ZGkvrO0gaEZKfK/HxoAABXou3Tl0pe6oI+CnFFX20iXAADpkAAAFNQZpoSahBaJlMCH///qmWAA2nulR/+qrwAfwiI++tWKYQ6pCfvyB1yWEXdH1WMrWrf032yauXIeyjm4uGXE+UX0f9KNwf/b1osIwzck9xu43GGXhwsKEy5hH0PCB7UfrraD0YPJ54zbODi5llmpNOkVrvct9loKsPuWSOsdP3J6RePi6kUTGCofiUdLg+TxVu7ryM1ulPdSYbxxSEE5WTFvYAodqtpL/U19sGBaZemxQXwXraxoKJ7y0kfb0uCbi2QKVva4/9F+dc39xM6LFl0vczGiXvciPxLErRlHizG/t/yW6nNhVot20yjWs8ql28nviJKF4pLEJiJixlePDu8C3gXULKtE98iBlF8/GKRAjEmqhKloiQuMLK/9wGd2I9DPrOd8qZ6OLKKjZqxO5lUbc4RWMaYL29faAAAA8+xhNItSz/cp3rl7djAOOBAAAE4kGehkURLDv/AAb0j9pcQDjmaADi1m9z3AOmPZsX47JQLVH/vMyzwqyadvuR9ffKP2CS3urPokaL005D6n/Z1Fxwo5rXtV3T1engAnZ4Zu1/ozdnLiKFHo6KEAkNPrpT1s7+qJfW3VmGqF7EvpEcHODYWqZu27fYpSs4L8Ze5VPyg6+d1FOTZnqFRO1u8QpwFBdzw6ZBIQdk7pwnG+Y9ZP7IqBSYx4AwQ3TFBm+qqbpfKWj4ilvlDpxCU1GwWVIJfnsi/EoULrS5lhiVQJHfJ+G0tH5QI3G79K5yMr8SEjregIrRf5EdODuBjCZ6lYxXkiRLrYAND8Bd1PwS3qGOSm0S8NZdCJY+6UcBfTX6oaX7ohuU7Lkuw+Nws+v7CMwehCAj5fMyM0va+ENg70Nqf5KOqiBKRgByeegeFM+IEIzCnDfO/ygTJZmaivBqazgxC/3HEODylqaSEcekmjv/mT1ocl/SHGhytsZ7Fbodv/8b26rIY9lPq+qu2yHvvtNGMSGiu4ksu7bHY5R1wDFmQr5cMOH3PoUHOsHFbboXY6RoCuazoGcvvi9egsRdKKR7L43RXToOvqfPqB/Sieje5NMO9NnBvIKF3oL82Ne8b0sveHL7sJsDxsOfnTA2QJ1b2vHiSDYMdCEFLXTWwmkGe/6lDfzVYYgpXdGc97ZRvVLAKyJDSjnifF2ymUmAdTMqd9X5yn6CAQML98Lq1WsFuqIF08usrwB7dMR29pRgsJ9AFsxnsquoEvk4cH+eDo7b9J/eKuJkmPF9IH/gna2lNHY/cSdss+ICL6GEsfrE/ofkV/9inBAvbhHmuB+KOQZGbRPabo0SOWkQ9phUd98oyuPzDzE5vlLxxR/voJkAEOHNze2Iv+jg1wwT+dEVDHJIYl9Kr9nxRNNZatjOvJ46ROeLNVzEdL5jJ1ru5HG6saMb4grZQRwDnEyrv1IMaHqVDiVx6Dovd1rA/nPZO5ggiTXxjR27WKzq/W3yZlw44uDrT+Wj8IXTFsDMwsFAtL1qZlT9uoiTHtHjyO/9aI23LVDS/wMSeSLUg525UFeFqjYIxcVQaWCgu1mP7pp3rmVVGhYr0UGH6zlf48TGNGxi+2NHXzvA6Pb4FwmUVc7dB1r/wJhX99ZikHRIt55OMi22t/+IcgZVbkb7cizwj2IRNLaeiTEX5oS0kOcluDDEL7zGp8GERabVz4XrewDgjbO4ykVTm4Qe3i+848wB1GNuO9NiggFXOP8m0spczThXoLb4EoAmy8q1dRRwqgAEJY8TBFJzNeVjn05dS4K9G0CDK3lbburW/pLzXW9hIraT53Gq+wkttPN7wo92kpang71PMsnoSpM8eg0f0TnLEzh09N1c2ZtRigQtrBBRA/Blt4+f7oG5ECy+zGC3LWxnkYYgnDjqovjW+03rPIqT4rB2NZ+RIy9kXw5Px3ZeAYR0p66Fcw8gwmmfg74U02COmO0K6a2+jvWKODKmI3E8EKvSvvDsavuCqqZUABiBmw9F9qZ7+/rpzjQHF2FTyFx3hhNgS0+2jIcBuDhAAELbCaJdpv4c6jro5a6W46ocsRPHfgP0AqP8jdqbkocqFY81E4vxe2soaMLdd733FRLD+JlzjX/PwPxEbSQucTeQ0JDzFw43b9jLGAAAMBfMuES4hvKrwA9pAAABQQGepXRDfwAJ8d0a5EwoAE7e80+Ik+C4tW2QifwScSfjNC0RoEiA/pCgAxJuFrIRGvQkENrWlwUrOTM1Wjbl/2cFtvXTFqjMTRSZTPvYt8g17xx/kydBR6Vr3zGhHV17phCgW+iaIIJ0jL0dD4zDkaIDaBuvPi8or+1OFjTdfiHJQ+CJFNQdF1CAuqD/3fPudsoqb/HaoPh091PkbDtmAmCdwgG0g2R9yfU8Ua3+JD3utkEbyQzfMPOW67Ww5gKwIiBLbW2wZDcNd5oRXpy++BCydCE+TzCfLnKzJpoCc38mkWL94t3sOQCtqc9TNshkuq4wnMy/J7GbU+yCTQrCwkj16GbRpRnDTbvKpNUoZWVCfyCB/UwTcBYvOPZVSkVEUrb6QnZKl7WKoQGpcONZND/KaDmwAAAGCTYwKgie5iAD0wAAAlQBnqdqQ38ACfPPkjH3cCAE0x1Qody7TZzKpRpgZTy4p5lBhvIvP5y0EjzN0YpSKF4QCuzehkhtAJZd23xbolutSYP38po51sWfnTCt8UDwGmZGtn7/VrrCOWYm2cIYVfGh81J0qWiakOCX/E0QKNKxrmfVJMAwElfPdGzEIqJXvjHsi98bLO0DAvb3dbswJXjdg1KMh8M0WhvxdZfC0gM70F3wcSOWq4uhLu9hKJS8rvtnQcZLWL+731rbDV/1TamMO+Z+GIY6Gw53LUANtcVT3NI/Eu76I3fwUXwlKuWPGE1EnMs7k/fTkq7tVZuoekjyAIAX+8YjW64iVaCuPOA64OkZxwkFX/o01YBYi+2QlNDuH2t9+yqJ6U05172qYq93cAET993MRcvSQs+4FKnvejqMcZ7leyUko60oGbyQDIrQ/9c8VD1ujOrXAxCc9Kf9nhKdUfxt6djOPu1KJcEkUX7wgGWn29c7vByTAky/Qqz+or7kLeH0JKUM8R7qUnpOEJMu3zHHyg3Bc3voyaQ6yOU7jf7NRywvsOaJnPNDdb+TbNe20YZ2GtQklpAcfmLsablm4HN9dOSp79weVZ87zcsoN1zX+1ng8RQTU/MvViolwYpnCKJu9C2Ks1offlbOcLNl6E21qOiNWr+i9VqXwfptUaxwJbfZp2SwQX8Z47PoSl2Mee8VIA4p717NGkvMq9FlkuRRaNw8ITCkKa6d7tzJbWcvLZnCHVb0NWnRDfKFb9lBG4FjYLnOeZd6cF+w9nU32uKQ2xFsQ+/AAABRTaAsoAAAAsNBmqlJqEFsmUwId//+qZYAB0jKVABdJoVcA89plw+0aKk2dX4RTt7YFVK9lWaK/9nhDSVtXSpoL0DapiYo/ZkahU4VXiFt5E8DvVYKvRZMuCLW5nDtI8oxw6x1cCLZiOXXJvELMOb7nWw4+qtVc1jZp+BeRBbRZv/jPkfgi0DQOfcFM8MYNwiY2pjfvTv23udZ+g52V+uqtoSCmZ4PajVNSnPLEYLGLiIWPSLtZ9bJiVfiPUEibto9LoNui2ObRGw1+Rx+pnIdmFcBwAAd/DtSh//LbBzbH2ZcCtCZ0qyeAvrQRIFKbHs4rmspBL3WHb/2YqSs2/gn+zkUgW75KMXQl802vT2RM2xhV48n9PxJrgvImH3a2DzxMl0d99BAx89T+hxBrF7JtFdhP15h98EabYH+AW5QPg0zMy6eFwraQztvRSyomfWEvLIkudWVhVZISYZNGDcuySjr1Mv+FesiivvC2jE0DGl2AvKqvdEKFURoUC2OoQrDtXC0Ajl6JJmfEg/7/if6p16J0d7QjQWe79CgETRaaq1OZgBx1we2A2YyArXTL4G43d3d5SoWX4pMs3O2/ZZL7zNKoFQ7skjAmtYxOpAy7v7cvvyG8PU0fH7jtoAY4WUBTX/+N0EpI+2aCBjxPcE8UpbLdIdcOfHBtFExljnF4g7oFz+frJjkhze6YpYZtCegmIuyAMvR8dA+cc+BQSZW8IBSMB4CoYMG5Q37qeKRkBfwIkQw3TGYX/4fi/Yvad/+H7FzIdiOxRjwD4t22gtnVs0YcWhELedvusuQzPkh+DZKT/YqanntkkTm8mEVmksASb7kN2Ie1fqOmES6/EFiFDVbnBzxXlLvnLQaRpzWBhJbDCYOgSyN2NjW9mH/FlEKkZqs3aHEwxXKcX0RRmPXUA857SWfUWVhHw6zuH7JLXScrRlygAAAAwAEbAAAAVpBmspJ4QpSZTAhv/6nhAArXvCjU137jj5yAE6wsQM/PIXDI/9umD0tSy6sGUjZry+UeeQhKm2frcx7HvYNNQ+1Ke9G0XUg1y2iEWSNb3Zp4qqEUsX8G5dqM410FfdZoZiGPqIxJkxfC90xBANpca282YQHWVJAaehyD6o4Ew5lI9i3W9xmB6xmIvBOgx8H7AsClIwNiblOWgWBOwvOS8Ead2Wf5t9vZ4BIU4CeiQRrznOpmk1n4ym0weQZkvGFN98sfz3nEULhA/c2+8OzaNjM9q9DTNFnjFtRxyI8tirbFwpjnGv3OT3wg7L827c9KJN6YpYPUJ843/HyDHudSCAjpEmaVrz529k04S8PE3AoXuf4W7SzUvzSiMxEgZnL+6vxVwMDR9KTz3Nzp+bnvaQHIe76zcVDXPWcCeI01S2GkFM5TU6rvwNdTaCsgfzZPVs6u0IAAAMAAAwJAAADjW1vb3YAAABsbXZoZAAAAAAAAAAAAAAAAAAAA+gAAARMAAEAAAEAAAAAAAAAAAAAAAABAAAAAAAAAAAAAAAAAAAAAQAAAAAAAAAAAAAAAAAAQAAAAAAAAAAAAAAAAAAAAAAAAAAAAAAAAAAAAAAAAAIAAAK4dHJhawAAAFx0a2hkAAAAAwAAAAAAAAAAAAAAAQAAAAAAAARMAAAAAAAAAAAAAAAAAAAAAAABAAAAAAAAAAAAAAAAAAAAAQAAAAAAAAAAAAAAAAAAQAAAAALQAAACQAAAAAAAJGVkdHMAAAAcZWxzdAAAAAAAAAABAAAETAAACAAAAQAAAAACMG1kaWEAAAAgbWRoZAAAAAAAAAAAAAAAAAAAKAAAACwAVcQAAAAAAC1oZGxyAAAAAAAAAAB2aWRlAAAAAAAAAAAAAAAAVmlkZW9IYW5kbGVyAAAAAdttaW5mAAAAFHZtaGQAAAABAAAAAAAAAAAAAAAkZGluZgAAABxkcmVmAAAAAAAAAAEAAAAMdXJsIAAAAAEAAAGbc3RibAAAAJdzdHNkAAAAAAAAAAEAAACHYXZjMQAAAAAAAAABAAAAAAAAAAAAAAAAAAAAAALQAkAASAAAAEgAAAAAAAAAAQAAAAAAAAAAAAAAAAAAAAAAAAAAAAAAAAAAAAAAAAAAABj//wAAADFhdmNDAWQAFv/hABhnZAAWrNlAtBJoQAAAAwBAAAAFA8WLZYABAAZo6+PLIsAAAAAYc3R0cwAAAAAAAAABAAAACwAABAAAAAAUc3RzcwAAAAAAAAABAAAAAQAAAGBjdHRzAAAAAAAAAAoAAAABAAAIAAAAAAEAABQAAAAAAQAACAAAAAABAAAAAAAAAAEAAAQAAAAAAQAAFAAAAAABAAAIAAAAAAEAAAAAAAAAAQAABAAAAAACAAAIAAAAABxzdHNjAAAAAAAAAAEAAAABAAAACwAAAAEAAABAc3RzegAAAAAAAAAAAAAACwAAG0wAAAK+AAAEwAAAANwAAAOzAAABUQAABOYAAAFFAAACWAAAAscAAAFeAAAAFHN0Y28AAAAAAAAAAQAAADAAAABhdWR0YQAAAFltZXRhAAAAAAAAACFoZGxyAAAAAAAAAABtZGlyYXBwbAAAAAAAAAAAAAAAACxpbHN0AAAAJKl0b28AAAAcZGF0YQAAAAEAAAAATGF2ZjU2LjQuMTAx\" type=\"video/mp4\" />\n",
       "             </video>"
      ],
      "text/plain": [
       "<IPython.core.display.HTML object>"
      ]
     },
     "execution_count": 10,
     "metadata": {},
     "output_type": "execute_result"
    }
   ],
   "source": [
    "import io\n",
    "import base64\n",
    "from IPython.display import HTML\n",
    "\n",
    "video = io.open(vfile, 'r+b').read()\n",
    "encoded = base64.b64encode(video)\n",
    "HTML(data='''<video alt=\"test\" controls>\n",
    "                <source src=\"data:video/mp4;base64,{0}\" type=\"video/mp4\" />\n",
    "             </video>'''.format(encoded.decode('ascii')))"
   ]
  },
  {
   "cell_type": "code",
   "execution_count": null,
   "metadata": {
    "collapsed": true
   },
   "outputs": [],
   "source": []
  }
 ],
 "metadata": {
  "kernelspec": {
   "display_name": "Poseidon",
   "language": "python",
   "name": "poseidon"
  },
  "language_info": {
   "codemirror_mode": {
    "name": "ipython",
    "version": 2
   },
   "file_extension": ".py",
   "mimetype": "text/x-python",
   "name": "python",
   "nbconvert_exporter": "python",
   "pygments_lexer": "ipython2",
   "version": "2.7.13"
  }
 },
 "nbformat": 4,
 "nbformat_minor": 2
}
