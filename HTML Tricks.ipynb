{
 "cells": [
  {
   "cell_type": "markdown",
   "metadata": {},
   "source": [
    "# HTML tricks"
   ]
  },
  {
   "cell_type": "code",
   "execution_count": null,
   "metadata": {
    "collapsed": false,
    "deletable": true,
    "editable": true
   },
   "outputs": [],
   "source": [
    "from IPython.display import display, HTML"
   ]
  },
  {
   "cell_type": "markdown",
   "metadata": {},
   "source": [
    "## 2 videos same time"
   ]
  },
  {
   "cell_type": "code",
   "execution_count": null,
   "metadata": {
    "collapsed": false,
    "deletable": true,
    "editable": true
   },
   "outputs": [],
   "source": [
    "html_string='''\n",
    "<html>\n",
    "<head>\n",
    "  <title>Synchronize 3 HTML5 video's</title>\n",
    "  \n",
    "  <script src=\"https://ajax.googleapis.com/ajax/libs/jquery/3.1.1/jquery.min.js\"></script>\n",
    "  <link rel=\"stylesheet\" href=\"style.min.css\">\n",
    "  \n",
    "</head>\n",
    "\n",
    "<body>\n",
    "        <!-- *** Section 1 *** --->\n",
    "    <div id=\"videoInterlace\"> \n",
    "        <div id=\"video-canvas-R\">\n",
    "         <iframe width=48% height=\"550\" frameborder=\"25\" \\\n",
    "             <video id=\"video-channel-1\" oncanplay=\"readyVidInterlace();\" src=\"/Users/brey/Downloads/anim.mp4\"></video>?align=\"left\">\\\n",
    "         </iframe>\n",
    "         </div>\n",
    "         <div id=\"video-canvas-G\">\n",
    "         <iframe width=48% height=\"550\" frameborder=\"25\"  \\\n",
    "             <video id=\"video-channel-2\" oncanplay=\"readyVidInterlace();\" src=\"/Users/brey/Downloads/anim.mp4\"</video>?align=\"right\"> \\\n",
    "         </iframe>\n",
    "         </div>\n",
    "    </div>\n",
    "    <div class=\"row\" id=\"controls\">\n",
    "        <button id=\"play-pause\">Play</button>\n",
    "    </div>\n",
    "\n",
    "      <!-- syncHTML5 -->\n",
    "    <script src=\"/Users/brey/GitHub/syncHTML5/js/syncHTML5.min.js\"></script>\n",
    "\n",
    "\n",
    "</body>\n",
    "</html>'''"
   ]
  },
  {
   "cell_type": "code",
   "execution_count": null,
   "metadata": {
    "collapsed": true,
    "deletable": true,
    "editable": true
   },
   "outputs": [],
   "source": [
    "html_string='''\n",
    "<html>\n",
    "<head>\n",
    "  <title>Synchronize 3 HTML5 video's</title>\n",
    "  \n",
    "  <script src=\"https://ajax.googleapis.com/ajax/libs/jquery/3.1.1/jquery.min.js\"></script>\n",
    "  <link rel=\"stylesheet\" href=\"style.min.css\">\n",
    "  \n",
    "</head>\n",
    "<body>\n",
    "    <div id=\"videoInterlace\">\n",
    "      <!-- start of channel 1 -->\n",
    "      <div id=\"video-canvas-R\">\n",
    "        <video id=\"video-channel-1\" oncanplay=\"readyVidInterlace();\" src=\"/Users/brey/Downloads/anim.mp4\"></video>\n",
    "      </div>\n",
    "      <!-- end of channel 1 -->\n",
    "      <!-- start of channel 2 -->\n",
    "      <div id=\"video-canvas-G\">\n",
    "        <video id=\"video-channel-2\" oncanplay=\"readyVidInterlace();\" src=\"/Users/brey/Downloads/anim.mp4\" muted></video>\n",
    "      </div>\n",
    "      <!-- end of channel 2 -->\n",
    "    </div>\n",
    "    <div class=\"row\" id=\"controls\">\n",
    "        <button id=\"play-pause\">Play</button>\n",
    "    </div>\n",
    "  \n",
    "  <!-- syncHTML5 -->\n",
    "  <script src=\"/Users/brey/GitHub/syncHTML5/js/syncHTML5.min.js\"></script>\n",
    "  \n",
    "</body>\n",
    "</html>'''"
   ]
  },
  {
   "cell_type": "code",
   "execution_count": null,
   "metadata": {
    "collapsed": true,
    "deletable": true,
    "editable": true
   },
   "outputs": [],
   "source": [
    "with open('/Users/brey/Downloads/test.html', 'w') as f:\n",
    "    f.write(html_string)"
   ]
  },
  {
   "cell_type": "markdown",
   "metadata": {},
   "source": [
    "## import a video and play it"
   ]
  },
  {
   "cell_type": "code",
   "execution_count": null,
   "metadata": {
    "collapsed": false
   },
   "outputs": [],
   "source": [
    "vfile='/Users/brey/Downloads/anim.mp4'"
   ]
  },
  {
   "cell_type": "code",
   "execution_count": null,
   "metadata": {
    "collapsed": false
   },
   "outputs": [],
   "source": [
    "import io\n",
    "import base64\n",
    "from IPython.display import HTML\n",
    "\n",
    "video = io.open(vfile, 'r+b').read()\n",
    "encoded = base64.b64encode(video)\n",
    "HTML(data='''<video alt=\"test\" controls>\n",
    "                <source src=\"data:video/mp4;base64,{0}\" type=\"video/mp4\" />\n",
    "             </video>'''.format(encoded.decode('ascii')))"
   ]
  },
  {
   "cell_type": "code",
   "execution_count": null,
   "metadata": {
    "collapsed": true
   },
   "outputs": [],
   "source": []
  }
 ],
 "metadata": {
  "kernelspec": {
   "display_name": "Poseidon",
   "language": "python",
   "name": "poseidon"
  },
  "language_info": {
   "codemirror_mode": {
    "name": "ipython",
    "version": 2
   },
   "file_extension": ".py",
   "mimetype": "text/x-python",
   "name": "python",
   "nbconvert_exporter": "python",
   "pygments_lexer": "ipython2",
   "version": "2.7.13"
  }
 },
 "nbformat": 4,
 "nbformat_minor": 2
}
