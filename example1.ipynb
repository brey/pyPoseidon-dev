{
 "cells": [
  {
   "cell_type": "markdown",
   "metadata": {
    "deletable": true,
    "editable": true
   },
   "source": [
    "## An example workflow"
   ]
  },
  {
   "cell_type": "code",
   "execution_count": 1,
   "metadata": {
    "collapsed": false,
    "deletable": true,
    "editable": true
   },
   "outputs": [],
   "source": [
    "from Poseidon.model import *\n",
    "from Poseidon.dem import *\n",
    "from Poseidon.meteo import *"
   ]
  },
  {
   "cell_type": "markdown",
   "metadata": {
    "deletable": true,
    "editable": true
   },
   "source": [
    "### setup"
   ]
  },
  {
   "cell_type": "code",
   "execution_count": 2,
   "metadata": {
    "collapsed": false,
    "deletable": true,
    "editable": true
   },
   "outputs": [],
   "source": [
    "#define in a dictionary the properties e.g\n",
    "dic={'lon0':0., # lat/lon window\n",
    "     'lon1':10.,\n",
    "     'lat0':28.,\n",
    "     'lat1':38.,\n",
    "     'tag':'test',\n",
    "     'date':datetime.datetime(2013,3,1,0),\n",
    "     'resolution':0.1}"
   ]
  },
  {
   "cell_type": "code",
   "execution_count": 3,
   "metadata": {
    "collapsed": false,
    "deletable": true,
    "editable": true
   },
   "outputs": [
    {
     "name": "stdout",
     "output_type": "stream",
     "text": [
      "create grid\n"
     ]
    }
   ],
   "source": [
    "#create a d3d model\n",
    "b = d3d()\n",
    "b.set(**dic) #set it up "
   ]
  },
  {
   "cell_type": "code",
   "execution_count": 4,
   "metadata": {
    "collapsed": false,
    "deletable": true,
    "editable": true
   },
   "outputs": [],
   "source": [
    "#view model\n",
    "#b.__dict__"
   ]
  },
  {
   "cell_type": "markdown",
   "metadata": {
    "deletable": true,
    "editable": true
   },
   "source": [
    "### Define preferences "
   ]
  },
  {
   "cell_type": "code",
   "execution_count": 5,
   "metadata": {
    "collapsed": false,
    "deletable": true,
    "editable": true
   },
   "outputs": [],
   "source": [
    "Tstart = 0\n",
    "Tstop = 60\n",
    "step = 60"
   ]
  },
  {
   "cell_type": "code",
   "execution_count": 6,
   "metadata": {
    "collapsed": false,
    "deletable": true,
    "editable": true
   },
   "outputs": [],
   "source": [
    "  #define grid file\n",
    "b.mdf.inp['Filcco']=b.tag+'.grd'\n",
    "  \n",
    "  #define enc file\n",
    "b.mdf.inp['Filgrd']=b.tag+'.enc'\n",
    "  \n",
    "  #define dep file\n",
    "b.mdf.inp['Fildep']=b.tag+'.dep'\n",
    "  \n",
    "  #define obs file\n",
    "b.mdf.inp['Filsta']='' #b.tag+'.obs'\n",
    "  \n",
    "  \n",
    "  # adjust ni,nj\n",
    "b.mdf.inp['MNKmax']=[b.ni+1,b.nj+1,1]  # add one like ddb\n",
    "  \n",
    "  # adjust iteration date\n",
    "b.mdf.inp['Itdate']=datetime.datetime.strftime(b.date,'%Y-%m-%d')\n",
    "  \n",
    "  #set time unit\n",
    "b.mdf.inp['Tunit']='M'\n",
    "\n",
    "  #adjust iteration start\n",
    "b.mdf.inp['Tstart']=[Tstart]\n",
    "  \n",
    "  #adjust iteration stop\n",
    "b.mdf.inp['Tstop']=[Tstop]\n",
    "  \n",
    "  #adjust time step\n",
    "b.mdf.inp['Dt']=[1.]\n",
    "  \n",
    "  #adjust time for output\n",
    "step=60\n",
    "b.mdf.inp['Flmap']=[Tstart,step,Tstop]\n",
    "b.mdf.inp['Flhis']=[Tstart,1,Tstop]\n",
    "b.mdf.inp['Flpp']=[0,0,0]\n",
    "b.mdf.inp['Flrst']=[720]\n",
    "  \n",
    "  #time interval to smooth the hydrodynamic boundary conditions\n",
    "b.mdf.inp['Tlfsmo']=[0.]\n",
    "\n",
    "\n",
    "  # set tide only run\n",
    "#if 'tide' in kwargs.keys() :\n",
    "#     if (kwargs['tide']==True) & (force==False):\n",
    "#        inp['Sub1'] = ' '\n",
    "#        inp['Filbnd']=basename+'.bnd'\n",
    "#        inp['Filana']=basename+'.bca'\n",
    "#       if 'Tidfor' not in order: order.append('Tidfor')\n",
    "#       inp['Tidfor']=[['M2','S2','N2','K2'], \\\n",
    "#                      ['K1','O1','P1','Q1'], \\\n",
    "#                      ['-----------']]\n",
    " \n",
    "  # specify ini file\n",
    "# if 'Filic' not in order: order.append('Filic')\n",
    "# inp['Filic']=basename+'.ini'\n",
    "\n",
    "  # netCDF output\n",
    "if 'FlNcdf' not in b.mdf.order: b.mdf.order.append('FlNcdf')\n",
    "\n",
    "b.mdf.inp['FlNcdf'] = 'map his'\n"
   ]
  },
  {
   "cell_type": "markdown",
   "metadata": {
    "deletable": true,
    "editable": true
   },
   "source": [
    "### extract meteo forcing"
   ]
  },
  {
   "cell_type": "code",
   "execution_count": 7,
   "metadata": {
    "collapsed": false,
    "deletable": true,
    "editable": true
   },
   "outputs": [],
   "source": [
    "#set meteo forcing\n",
    "b.meteo = ecmwf() # initialize"
   ]
  },
  {
   "cell_type": "code",
   "execution_count": 8,
   "metadata": {
    "collapsed": true,
    "deletable": true,
    "editable": true
   },
   "outputs": [],
   "source": [
    "# specify the forecast times ft1,ft2\n",
    "b.meteo.ft1 = 0\n",
    "b.meteo.ft2 = 2 #that is 0,1 hours"
   ]
  },
  {
   "cell_type": "code",
   "execution_count": 9,
   "metadata": {
    "collapsed": false,
    "deletable": true,
    "editable": true
   },
   "outputs": [
    {
     "name": "stderr",
     "output_type": "stream",
     "text": [
      "100%|██████████| 6/6 [00:02<00:00,  2.47it/s]"
     ]
    },
    {
     "name": "stdout",
     "output_type": "stream",
     "text": [
      "\n",
      "meteo done\n"
     ]
    },
    {
     "name": "stderr",
     "output_type": "stream",
     "text": [
      "\n"
     ]
    }
   ],
   "source": [
    "# parse the ecmwf grib file.\n",
    "b.meteo.parse(path='/Users/brey/Downloads/20130301.00.tropical_cyclone.grib',**b.__dict__)"
   ]
  },
  {
   "cell_type": "code",
   "execution_count": 10,
   "metadata": {
    "collapsed": false,
    "deletable": true,
    "editable": true
   },
   "outputs": [],
   "source": [
    "# view results\n",
    "#b.meteo.__dict__"
   ]
  },
  {
   "cell_type": "markdown",
   "metadata": {
    "deletable": true,
    "editable": true
   },
   "source": [
    "### extract bathymetry"
   ]
  },
  {
   "cell_type": "code",
   "execution_count": 11,
   "metadata": {
    "collapsed": true,
    "deletable": true,
    "editable": true
   },
   "outputs": [],
   "source": [
    "#set dem data\n",
    "b.dem = gebco08(**b.__dict__) # initialize"
   ]
  },
  {
   "cell_type": "code",
   "execution_count": 12,
   "metadata": {
    "collapsed": false,
    "deletable": true,
    "editable": true
   },
   "outputs": [],
   "source": [
    "b.dem.get(file='/Users/brey/Downloads/gebco30_DELTARES.nc',grid_x=b.grid.x,grid_y=b.grid.y)"
   ]
  },
  {
   "cell_type": "code",
   "execution_count": 13,
   "metadata": {
    "collapsed": false,
    "deletable": true,
    "editable": true
   },
   "outputs": [],
   "source": [
    "#view model\n",
    "#b.dem.__dict__"
   ]
  },
  {
   "cell_type": "markdown",
   "metadata": {
    "deletable": true,
    "editable": true
   },
   "source": [
    "## output "
   ]
  },
  {
   "cell_type": "code",
   "execution_count": 14,
   "metadata": {
    "collapsed": true,
    "deletable": true,
    "editable": true
   },
   "outputs": [],
   "source": [
    "#create the model folder\n",
    "path='/Users/brey/Downloads/test/'\n",
    "if not os.path.exists(path):\n",
    "    os.makedirs(path)"
   ]
  },
  {
   "cell_type": "code",
   "execution_count": 15,
   "metadata": {
    "collapsed": false,
    "deletable": true,
    "editable": true
   },
   "outputs": [],
   "source": [
    "b.output(path=path)"
   ]
  },
  {
   "cell_type": "code",
   "execution_count": 16,
   "metadata": {
    "collapsed": false,
    "deletable": true,
    "editable": true
   },
   "outputs": [],
   "source": [
    "# save model for further use\n",
    "b.save(path=path)"
   ]
  },
  {
   "cell_type": "markdown",
   "metadata": {
    "deletable": true,
    "editable": true
   },
   "source": [
    "### execute"
   ]
  },
  {
   "cell_type": "code",
   "execution_count": 16,
   "metadata": {
    "collapsed": false,
    "deletable": true,
    "editable": true
   },
   "outputs": [
    {
     "name": "stdout",
     "output_type": "stream",
     "text": [
      "MPI process number 000 has host unknown and is running on processor Ronin.local\n",
      "\n",
      "MPI process number 001 has host unknown and is running on processor Ronin.local\n",
      "\n",
      "MPI process number 003 has host unknown and is running on processor Ronin.local\n",
      "\n",
      "MPI process number 002 has host unknown and is running on processor Ronin.local\n",
      "\n",
      "--------------------------------------------------------------------------------\n",
      "\n",
      "       Deltares, FLOW2D3D Version 6.02.10.7072, Mar 11 2017, 09:06:36\n",
      "\n",
      "       libflow2d3d.so entry Flow2D3D::Run\n",
      "\n",
      "--------------------------------------------------------------------------------\n",
      "\n",
      "\n",
      "\n",
      "Part I    - Initialisation Time Dep. Data module...    \n",
      "\n",
      "            runid : test\n",
      "\n",
      "Part II   - Creating intermediate files...             \n",
      "\n",
      "Part III  - Initialisation of the Execution module...  \n",
      "\n",
      "Part IV   - Reading complete MD-file...                     \n",
      "\n",
      "Part V    - Initialisation & checking input...              \n",
      "\n",
      "Part VI   - Initialisation & checking second part...        \n",
      "\n",
      "Part VII  - Initialisation output...                        \n",
      "\n",
      "Part VIII - Start Simulation...                             \n",
      "\n",
      "\n",
      "\n",
      "  Time to finish   0s,    0.0% completed, time steps left  60\n",
      "\n",
      "  Time to finish   2s,    1.7% completed, time steps left  59\n",
      "\n",
      "  Time to finish   2s,    3.3% completed, time steps left  58\n",
      "\n",
      "  Time to finish   1s,    5.0% completed, time steps left  57\n",
      "\n",
      "  Time to finish   1s,    6.7% completed, time steps left  56\n",
      "\n",
      "  Time to finish   1s,    8.3% completed, time steps left  55\n",
      "\n",
      "  Time to finish   1s,   10.0% completed, time steps left  54\n",
      "\n",
      "  Time to finish   1s,   11.7% completed, time steps left  53\n",
      "\n",
      "  Time to finish   1s,   13.3% completed, time steps left  52\n",
      "\n",
      "  Time to finish   1s,   15.0% completed, time steps left  51\n",
      "\n",
      "  Time to finish   1s,   16.7% completed, time steps left  50\n",
      "\n",
      "  Time to finish   1s,   18.3% completed, time steps left  49\n",
      "\n",
      "  Time to finish   1s,   20.0% completed, time steps left  48\n",
      "\n",
      "  Time to finish   1s,   21.7% completed, time steps left  47\n",
      "\n",
      "  Time to finish   1s,   23.3% completed, time steps left  46\n",
      "\n",
      "  Time to finish   1s,   25.0% completed, time steps left  45\n",
      "\n",
      "  Time to finish   1s,   26.7% completed, time steps left  44\n",
      "\n",
      "  Time to finish   1s,   28.3% completed, time steps left  43\n",
      "\n",
      "  Time to finish   1s,   30.0% completed, time steps left  42\n",
      "\n",
      "  Time to finish   1s,   31.7% completed, time steps left  41\n",
      "\n",
      "  Time to finish   1s,   33.3% completed, time steps left  40\n",
      "\n",
      "  Time to finish   1s,   35.0% completed, time steps left  39\n",
      "\n",
      "  Time to finish   1s,   36.7% completed, time steps left  38\n",
      "\n",
      "  Time to finish   1s,   38.3% completed, time steps left  37\n",
      "\n",
      "  Time to finish   1s,   40.0% completed, time steps left  36\n",
      "\n",
      "  Time to finish   1s,   41.7% completed, time steps left  35\n",
      "\n",
      "  Time to finish   1s,   43.3% completed, time steps left  34\n",
      "\n",
      "  Time to finish   1s,   45.0% completed, time steps left  33\n",
      "\n",
      "  Time to finish   1s,   46.7% completed, time steps left  32\n",
      "\n",
      "  Time to finish   1s,   48.3% completed, time steps left  31\n",
      "\n",
      "  Time to finish   1s,   50.0% completed, time steps left  30\n",
      "\n",
      "  Time to finish   1s,   51.7% completed, time steps left  29\n",
      "\n",
      "  Time to finish   0s,   53.3% completed, time steps left  28\n",
      "\n",
      "  Time to finish   0s,   55.0% completed, time steps left  27\n",
      "\n",
      "  Time to finish   0s,   56.7% completed, time steps left  26\n",
      "\n",
      "  Time to finish   0s,   58.3% completed, time steps left  25\n",
      "\n",
      "  Time to finish   0s,   60.0% completed, time steps left  24\n",
      "\n",
      "  Time to finish   0s,   61.7% completed, time steps left  23\n",
      "\n",
      "  Time to finish   0s,   63.3% completed, time steps left  22\n",
      "\n",
      "  Time to finish   0s,   65.0% completed, time steps left  21\n",
      "\n",
      "  Time to finish   0s,   66.7% completed, time steps left  20\n",
      "\n",
      "  Time to finish   0s,   68.3% completed, time steps left  19\n",
      "\n",
      "  Time to finish   0s,   70.0% completed, time steps left  18\n",
      "\n",
      "  Time to finish   0s,   71.7% completed, time steps left  17\n",
      "\n",
      "  Time to finish   0s,   73.3% completed, time steps left  16\n",
      "\n",
      "  Time to finish   0s,   75.0% completed, time steps left  15\n",
      "\n",
      "  Time to finish   0s,   76.7% completed, time steps left  14\n",
      "\n",
      "  Time to finish   0s,   78.3% completed, time steps left  13\n",
      "\n",
      "  Time to finish   0s,   80.0% completed, time steps left  12\n",
      "\n",
      "  Time to finish   0s,   81.7% completed, time steps left  11\n",
      "\n",
      "  Time to finish   0s,   83.3% completed, time steps left  10\n",
      "\n",
      "  Time to finish   0s,   85.0% completed, time steps left  9\n",
      "\n",
      "  Time to finish   0s,   86.7% completed, time steps left  8\n",
      "\n",
      "  Time to finish   0s,   88.3% completed, time steps left  7\n",
      "\n",
      "  Time to finish   0s,   90.0% completed, time steps left  6\n",
      "\n",
      "  Time to finish   0s,   91.7% completed, time steps left  5\n",
      "\n",
      "  Time to finish   0s,   93.3% completed, time steps left  4\n",
      "\n",
      "  Time to finish   0s,   95.0% completed, time steps left  3\n",
      "\n",
      "  Time to finish   0s,   96.7% completed, time steps left  2\n",
      "\n",
      "  Time to finish   0s,   98.3% completed, time steps left  1\n",
      "\n",
      "\n",
      "\n",
      "------------------------------------------------------------------------------\n",
      "\n",
      "  FINISHED    Delft3D-FLOW\n",
      "\n",
      "              runid      : test\n",
      "\n",
      "              date, time : 2017-06-07, 15:11:54\n",
      "\n",
      "SUMMARY FOR PARTITION :  1\n",
      "\n",
      "*** WARNING File will not be created - No output for HIS selected\n",
      "\n",
      "*** WARNING The file tri-rst.test.20130301.010000 for restart already exists, w\n",
      "\n",
      "***         ritten over\n",
      "\n",
      "    0 errors and     2 warnings\n",
      "\n",
      "returning to main program from domain test\n",
      "\n",
      "------------------------------------------------------------------------------\n",
      "\n",
      "SUMMARY FOR PARTITION :  2\n",
      "\n",
      "*** WARNING File will not be created - No output for HIS selected\n",
      "\n",
      "    0 errors and     1 warnings\n",
      "\n",
      "returning to main program from domain test\n",
      "\n",
      "------------------------------------------------------------------------------\n",
      "\n",
      "SUMMARY FOR PARTITION :  3\n",
      "\n",
      "*** WARNING File will not be created - No output for HIS selected\n",
      "\n",
      "    0 errors and     1 warnings\n",
      "\n",
      "returning to main program from domain test\n",
      "\n",
      "------------------------------------------------------------------------------\n",
      "\n",
      "SUMMARY FOR PARTITION :  4\n",
      "\n",
      "*** WARNING File will not be created - No output for HIS selected\n",
      "\n",
      "    0 errors and     1 warnings\n",
      "\n",
      "returning to main program from domain test\n",
      "\n",
      "------------------------------------------------------------------------------\n",
      "\n",
      "D_Hydro [1496841114.537592] <anonymous> >> d_hydro shutting down normally\n",
      "\n",
      "D_Hydro [1496841114.537806] <anonymous> >> d_hydro shutting down normally\n",
      "\n",
      "D_Hydro [1496841114.537812] <anonymous> >> d_hydro shutting down normally\n",
      "\n",
      "D_Hydro [1496841114.538465] <anonymous> >> d_hydro shutting down normally\n",
      "\n"
     ]
    }
   ],
   "source": [
    "#execute\n",
    "b.run(run_path=path,d3d='/Users/brey/DELFT3D',arch='lnx64',ncores=4)"
   ]
  },
  {
   "cell_type": "code",
   "execution_count": null,
   "metadata": {
    "collapsed": true,
    "deletable": true,
    "editable": true
   },
   "outputs": [],
   "source": []
  }
 ],
 "metadata": {
  "kernelspec": {
   "display_name": "Python 2 (cforge)",
   "language": "python",
   "name": "py2-cforge"
  },
  "language_info": {
   "codemirror_mode": {
    "name": "ipython",
    "version": 2
   },
   "file_extension": ".py",
   "mimetype": "text/x-python",
   "name": "python",
   "nbconvert_exporter": "python",
   "pygments_lexer": "ipython2",
   "version": "2.7.13"
  }
 },
 "nbformat": 4,
 "nbformat_minor": 2
}
