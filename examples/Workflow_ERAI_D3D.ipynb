{
 "cells": [
  {
   "cell_type": "markdown",
   "metadata": {},
   "source": [
    "## An example workflow for D3D"
   ]
  },
  {
   "cell_type": "markdown",
   "metadata": {},
   "source": [
    "A D3D workflow using local ERAI data."
   ]
  },
  {
   "cell_type": "code",
   "execution_count": null,
   "metadata": {},
   "outputs": [],
   "source": [
    "#to use the full width of the browser window uncomment the code below and execute the cell\n",
    "from IPython.core.display import display, HTML\n",
    "display(HTML(\"<style>.container { width:100% !important; }</style>\"))"
   ]
  },
  {
   "cell_type": "code",
   "execution_count": null,
   "metadata": {},
   "outputs": [],
   "source": [
    "import pyPoseidon\n",
    "import pyPoseidon.model as pm\n",
    "import datetime\n",
    "from pyPoseidon.utils import data,point\n",
    "from pyPoseidon.utils.vis import video\n",
    "import pandas as pd\n",
    "import matplotlib.pyplot as plt\n",
    "import numpy as np"
   ]
  },
  {
   "cell_type": "code",
   "execution_count": null,
   "metadata": {},
   "outputs": [],
   "source": [
    "pyPoseidon.__version__"
   ]
  },
  {
   "cell_type": "code",
   "execution_count": null,
   "metadata": {},
   "outputs": [],
   "source": [
    "import holoviews as hv\n",
    "import geoviews as gv\n",
    "import geoviews.feature as gf\n",
    "import cartopy.crs as ccrs\n",
    "from hvplot import pandas,xarray"
   ]
  },
  {
   "cell_type": "markdown",
   "metadata": {},
   "source": [
    "### Define case"
   ]
  },
  {
   "cell_type": "code",
   "execution_count": null,
   "metadata": {},
   "outputs": [],
   "source": [
    "#define in a dictionary the properties of the model..\n",
    "dic={'minlon':-35., # lat/lon window\n",
    "     'maxlon':42.,\n",
    "     'minlat':25.05,\n",
    "     'maxlat':76.5,\n",
    "     'solver':'d3d',\n",
    "     'tag':'eur01',\n",
    "     'resolution':0.1, #grid resoltuion \n",
    "     'step':60, # step for output of map field in d3d\n",
    "     'rstep': 'end' ,  # step for restart file\n",
    "     'ostep': 5, # observation points save step\n",
    "     'start_date':'2016-1-1 0:0:0',\n",
    "     'end_date':'2016-1-2 0:0:0',\n",
    "     'ft1':0, # initial forecasting hour per file\n",
    "     'ft2':11, # final forecasting hour per file\n",
    "     'meteo':'erai',\n",
    "     'dem': 'gebco',\n",
    "     'dpath' : '/Users/brey/DATA/BATH/GEBCO_2014_2D.nc',\n",
    "     'epath':'/Users/brey/DELFT3D/SVN/7545/bin/lnx64/', #folder for solver executables\n",
    "     'ncores': 4 , #number of cores\n",
    "     'rpath':'/Users/brey/Downloads/EUR/D3D/ERAI/201701/', #location of calc folder\n",
    "#     'Dt':1.0, # simulation time step\n",
    "     'config': {'Dt':1.0}, #add any additional relevant setup variable\n",
    "     'conda_bin' : '/Users/brey/miniconda3/bin', #optional conda bin path\n",
    "     'conda_env': 'mpi3', # optional conda env for the solver\n",
    "     'ofilename': '/Users/brey/DATA/OBS/eu.csv',\n",
    "     'update':[] # optional list of components to be updated\n",
    "    }"
   ]
  },
  {
   "cell_type": "markdown",
   "metadata": {},
   "source": [
    "#### Local operational ECMWF files"
   ]
  },
  {
   "cell_type": "code",
   "execution_count": null,
   "metadata": {},
   "outputs": [],
   "source": [
    "start_date = pd.to_datetime(dic['start_date']) \n",
    "end_date = pd.to_datetime(dic['end_date']) "
   ]
  },
  {
   "cell_type": "code",
   "execution_count": null,
   "metadata": {},
   "outputs": [],
   "source": [
    "#keep the years\n",
    "dr = np.arange(start_date.year,end_date.year+1)\n",
    "dr"
   ]
  },
  {
   "cell_type": "code",
   "execution_count": null,
   "metadata": {},
   "outputs": [],
   "source": [
    "#Set rstep\n",
    "dt=end_date-start_date\n",
    "dt = dt.total_seconds()/60\n",
    "dic.update({'rstep':int(dt)})"
   ]
  },
  {
   "cell_type": "code",
   "execution_count": null,
   "metadata": {},
   "outputs": [],
   "source": [
    "#creating a sequence of folder from which we read the meteo.\n",
    "\n",
    "PATH='/Users/brey/DATA/ERAI/'#Path to meteo files\n",
    "\n",
    "meteo_files = [PATH+'eraInterim_uvp_{:04d}.grib'.format(x) for x in dr]\n",
    "meteo_files"
   ]
  },
  {
   "cell_type": "markdown",
   "metadata": {},
   "source": [
    "#### update dictionary"
   ]
  },
  {
   "cell_type": "code",
   "execution_count": null,
   "metadata": {},
   "outputs": [],
   "source": [
    "dic.update({'mpaths':meteo_files})"
   ]
  },
  {
   "cell_type": "markdown",
   "metadata": {},
   "source": [
    "## Initialize"
   ]
  },
  {
   "cell_type": "code",
   "execution_count": null,
   "metadata": {},
   "outputs": [],
   "source": [
    "#initialize a model\n",
    "b = pm.model(**dic)"
   ]
  },
  {
   "cell_type": "markdown",
   "metadata": {},
   "source": [
    "### set it up"
   ]
  },
  {
   "cell_type": "code",
   "execution_count": null,
   "metadata": {
    "scrolled": true
   },
   "outputs": [],
   "source": [
    "b.set() #set it up "
   ]
  },
  {
   "cell_type": "code",
   "execution_count": null,
   "metadata": {},
   "outputs": [],
   "source": [
    "b.impl.meteo.impl.uvp"
   ]
  },
  {
   "cell_type": "code",
   "execution_count": null,
   "metadata": {},
   "outputs": [],
   "source": [
    "b.impl.dem.impl.Dataset"
   ]
  },
  {
   "cell_type": "code",
   "execution_count": null,
   "metadata": {},
   "outputs": [],
   "source": [
    "b.impl.dem.impl.Dataset.ival.hvplot('ilon','ilat',width=800, height=600, cmap='viridis')# test coverage"
   ]
  },
  {
   "cell_type": "markdown",
   "metadata": {},
   "source": [
    "#### Optional adjust the wet area based on a coastline shapefile"
   ]
  },
  {
   "cell_type": "code",
   "execution_count": null,
   "metadata": {},
   "outputs": [],
   "source": [
    "b.impl.dem.impl.adjust('/Users/brey/DATA/COASTLINES/naturalearth/coastline/ne_50m_coastline.shp',**{'nc':50,'ncores':4}) "
   ]
  },
  {
   "cell_type": "code",
   "execution_count": null,
   "metadata": {},
   "outputs": [],
   "source": [
    "b.impl.dem.impl.Dataset"
   ]
  },
  {
   "cell_type": "code",
   "execution_count": null,
   "metadata": {},
   "outputs": [],
   "source": [
    "b.impl.dem.impl.Dataset.fval.hvplot('ilon','ilat',width=800, height=600, cmap='viridis')# test coverage"
   ]
  },
  {
   "cell_type": "markdown",
   "metadata": {},
   "source": [
    "## Save to folder for execution "
   ]
  },
  {
   "cell_type": "code",
   "execution_count": null,
   "metadata": {
    "scrolled": false
   },
   "outputs": [],
   "source": [
    "#set the run by saving the files\n",
    "b.output()"
   ]
  },
  {
   "cell_type": "code",
   "execution_count": null,
   "metadata": {},
   "outputs": [],
   "source": [
    "# save model info for further use\n",
    "b.save()"
   ]
  },
  {
   "cell_type": "code",
   "execution_count": null,
   "metadata": {},
   "outputs": [],
   "source": [
    "# save all matrices for further use\n",
    "#b.pickle(path=path)"
   ]
  },
  {
   "cell_type": "markdown",
   "metadata": {},
   "source": [
    "### execute"
   ]
  },
  {
   "cell_type": "code",
   "execution_count": null,
   "metadata": {
    "scrolled": true
   },
   "outputs": [],
   "source": [
    "#execute\n",
    "b.run()"
   ]
  },
  {
   "cell_type": "markdown",
   "metadata": {},
   "source": [
    "## Analysis of output "
   ]
  },
  {
   "cell_type": "code",
   "execution_count": null,
   "metadata": {},
   "outputs": [],
   "source": [
    "otp = data(**{'solver':'d3d','rpath':dic['rpath']})#,'savenc':True})#,tag='eur025')# optional tag for data selection ,sa_date='2010-2-1 5:0:0',se_date='2010-2-1 22:0:0') # optionally set range for tide gauge data acquisition "
   ]
  },
  {
   "cell_type": "code",
   "execution_count": null,
   "metadata": {},
   "outputs": [],
   "source": [
    "otp.impl.Dataset"
   ]
  },
  {
   "cell_type": "markdown",
   "metadata": {},
   "source": [
    "### Visualize"
   ]
  },
  {
   "cell_type": "code",
   "execution_count": null,
   "metadata": {},
   "outputs": [],
   "source": [
    "otp.impl.Dataset.hvplot.quadmesh(x='XZ', y='YZ', z='S1', groupby='time', width=800, height=600,cmap='viridis', dynamic=True, rasterize=True, clim=(-1., 1.))#, geo=True) #* gv.feature.coastline(plot=dict(scale='50m'), style=dict(linewidth=1.5))"
   ]
  },
  {
   "cell_type": "code",
   "execution_count": null,
   "metadata": {},
   "outputs": [],
   "source": [
    "otp.impl.Dataset.S1.hvplot(x='XZ',y='YZ',width=800, height=600,cmap='viridis', geo=True, dynamic=True, rasterize=True, clim=(-1., 1.)) * gv.feature.coastline(plot=dict(scale='50m'), style=dict(linewidth=1.5))"
   ]
  },
  {
   "cell_type": "code",
   "execution_count": null,
   "metadata": {},
   "outputs": [],
   "source": [
    "otp.impl.Dataset.S1.isel(time=10).hvplot.contour(x='XZ',y='YZ',width=800, height=600,cmap='viridis', levels = 30)"
   ]
  },
  {
   "cell_type": "code",
   "execution_count": null,
   "metadata": {},
   "outputs": [],
   "source": [
    "otp.impl.Dataset.S1.isel(time=10).hvplot.contourf(x='XZ',y='YZ',width=800, height=600,cmap='viridis', levels = 30)"
   ]
  },
  {
   "cell_type": "code",
   "execution_count": null,
   "metadata": {},
   "outputs": [],
   "source": [
    "otp.impl.Dataset.S1.hvplot.line(width=800, height=600)"
   ]
  },
  {
   "cell_type": "code",
   "execution_count": null,
   "metadata": {},
   "outputs": [],
   "source": [
    "otp.impl.Dataset.S1.isel(time=10).hvplot.points(x='XZ',y='YZ', geo=True, datashade=True, width=800, height=600) * gv.feature.coastline(plot=dict(scale='50m'), style=dict(linewidth=1.5))"
   ]
  },
  {
   "cell_type": "code",
   "execution_count": null,
   "metadata": {
    "scrolled": false
   },
   "outputs": [],
   "source": [
    "v = otp.impl.frames(['S1'],title='SSH', nv =20 )#,vmin=-.5, vmax=.5)\n",
    "v"
   ]
  },
  {
   "cell_type": "code",
   "execution_count": null,
   "metadata": {},
   "outputs": [],
   "source": [
    "v.save('/Users/brey/Downloads/ssh.mp4', writer='ffmpeg')"
   ]
  },
  {
   "cell_type": "code",
   "execution_count": null,
   "metadata": {},
   "outputs": [],
   "source": [
    "video('/Users/brey/Downloads/ssh.mp4','mp4') # optional show mp4 video"
   ]
  },
  {
   "cell_type": "code",
   "execution_count": null,
   "metadata": {
    "scrolled": false
   },
   "outputs": [],
   "source": [
    "w = otp.impl.frames(['U1Z','V1Z'],title='Vel')#,scale=.1)\n",
    "w"
   ]
  },
  {
   "cell_type": "code",
   "execution_count": null,
   "metadata": {},
   "outputs": [],
   "source": [
    "w.save('/Users/brey/Downloads/uv.mp4', writer='ffmpeg')"
   ]
  },
  {
   "cell_type": "code",
   "execution_count": null,
   "metadata": {},
   "outputs": [],
   "source": [
    "video('/Users/brey/Downloads/uv.mp4','mp4') # optional show mp4 video"
   ]
  },
  {
   "cell_type": "markdown",
   "metadata": {},
   "source": [
    "## Observation points / Validation"
   ]
  },
  {
   "cell_type": "code",
   "execution_count": null,
   "metadata": {},
   "outputs": [],
   "source": [
    "otp.impl.obs.locations"
   ]
  },
  {
   "cell_type": "code",
   "execution_count": null,
   "metadata": {},
   "outputs": [],
   "source": [
    "# Get with index number\n",
    "p = otp.impl.obs.iloc(210)\n",
    "print (p.head())\n",
    "print (p.tail())"
   ]
  },
  {
   "cell_type": "code",
   "execution_count": null,
   "metadata": {},
   "outputs": [],
   "source": [
    "#get with Station Name  \n",
    "p = otp.impl.obs.loc('UK - Ullapool')\n",
    "p.head()"
   ]
  },
  {
   "cell_type": "code",
   "execution_count": null,
   "metadata": {},
   "outputs": [],
   "source": [
    "#plot\n",
    "ax = p.plot()"
   ]
  },
  {
   "cell_type": "markdown",
   "metadata": {},
   "source": [
    "### sample nearest point from simulation "
   ]
  },
  {
   "cell_type": "code",
   "execution_count": null,
   "metadata": {},
   "outputs": [],
   "source": [
    "plat,plon = otp.impl.obs.locations.loc[32,['lat','lon']]\n",
    "plat, plon"
   ]
  },
  {
   "cell_type": "code",
   "execution_count": null,
   "metadata": {},
   "outputs": [],
   "source": [
    "fig = plt.figure(figsize=(12,8))\n",
    "ax = plt.subplot(projection=ccrs.PlateCarree());\n",
    "\n",
    "gp = ax.contourf(otp.impl.dem.longitude, otp.impl.dem.latitude, otp.impl.dem.bathymetry, transform=ccrs.PlateCarree());\n",
    "\n",
    "pp = ax.scatter(plon, plat, marker='x', s=50, color='r', label='obs locations', transform=ccrs.PlateCarree());\n",
    "\n"
   ]
  },
  {
   "cell_type": "code",
   "execution_count": null,
   "metadata": {},
   "outputs": [],
   "source": [
    "#ts = otp.vars.S1.sel(XZ=[lon], method='nearest', tolerance=5).sel(YZ=[lat], method='nearest', tolerance=5)\n",
    "#ts = ts.squeeze().to_pandas()\n",
    "#ts.head()"
   ]
  },
  {
   "cell_type": "code",
   "execution_count": null,
   "metadata": {},
   "outputs": [],
   "source": [
    "ts = point(lon=plon,lat=plat,data=otp.impl)\n",
    "ts.tseries(var='S1')"
   ]
  },
  {
   "cell_type": "code",
   "execution_count": null,
   "metadata": {},
   "outputs": [],
   "source": [
    "ts.S1.head()"
   ]
  },
  {
   "cell_type": "code",
   "execution_count": null,
   "metadata": {},
   "outputs": [],
   "source": [
    "ts.S1.plot()"
   ]
  },
  {
   "cell_type": "code",
   "execution_count": null,
   "metadata": {},
   "outputs": [],
   "source": [
    "## Join the graphs\n",
    "ax = p.plot(figsize=(14,10))\n",
    "ts.S1.plot(ax=ax,color=['r'])\n",
    "ax.legend(list(p.columns.values) + ['D3D'], loc='center left',bbox_to_anchor=(1.1, 0.5))"
   ]
  },
  {
   "cell_type": "markdown",
   "metadata": {},
   "source": [
    "...or..."
   ]
  },
  {
   "cell_type": "code",
   "execution_count": null,
   "metadata": {},
   "outputs": [],
   "source": [
    "## Join the graphs\n",
    "p.hvplot(figsize=(14,10)) * ts.S1.hvplot(label='d3d',color='red')"
   ]
  },
  {
   "cell_type": "code",
   "execution_count": null,
   "metadata": {},
   "outputs": [],
   "source": [
    "otp.impl.Dataset.PATM.hvplot.image('XZ','YZ',groupby='time', width=500,colormap='jet', dynamic=False)"
   ]
  }
 ],
 "metadata": {
  "kernelspec": {
   "display_name": "pyPoseidon",
   "language": "python",
   "name": "pyposeidon"
  },
  "language_info": {
   "codemirror_mode": {
    "name": "ipython",
    "version": 3
   },
   "file_extension": ".py",
   "mimetype": "text/x-python",
   "name": "python",
   "nbconvert_exporter": "python",
   "pygments_lexer": "ipython3",
   "version": "3.6.7"
  },
  "toc": {
   "base_numbering": 1,
   "nav_menu": {},
   "number_sections": true,
   "sideBar": true,
   "skip_h1_title": false,
   "title_cell": "Table of Contents",
   "title_sidebar": "Contents",
   "toc_cell": false,
   "toc_position": {
    "height": "calc(100% - 180px)",
    "left": "10px",
    "top": "150px",
    "width": "278px"
   },
   "toc_section_display": true,
   "toc_window_display": false
  }
 },
 "nbformat": 4,
 "nbformat_minor": 2
}
