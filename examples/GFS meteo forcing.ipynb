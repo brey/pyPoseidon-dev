{
 "cells": [
  {
   "cell_type": "markdown",
   "metadata": {},
   "source": [
    "## Meteo example"
   ]
  },
  {
   "cell_type": "markdown",
   "metadata": {},
   "source": [
    "This is a presentation of the GFS meteo retrieval function from an erdap server. Minimum info required. "
   ]
  },
  {
   "cell_type": "code",
   "execution_count": null,
   "metadata": {},
   "outputs": [],
   "source": [
    "#to use the full width of the browser window\n",
    "from IPython.core.display import display, HTML\n",
    "display(HTML(\"<style>.container { width:100% !important; }</style>\"))"
   ]
  },
  {
   "cell_type": "code",
   "execution_count": null,
   "metadata": {},
   "outputs": [],
   "source": [
    "import pyPoseidon\n",
    "\n",
    "import pyPoseidon.meteo as pm\n",
    "\n",
    "import matplotlib.pyplot as plt\n",
    "\n",
    "import cartopy.crs as ccrs\n",
    "\n",
    "import holoviews as hv\n",
    "\n",
    "import geoviews as gv\n",
    "\n",
    "import geoviews.feature as gf"
   ]
  },
  {
   "cell_type": "code",
   "execution_count": null,
   "metadata": {},
   "outputs": [],
   "source": [
    "pyPoseidon.__version__"
   ]
  },
  {
   "cell_type": "code",
   "execution_count": null,
   "metadata": {},
   "outputs": [],
   "source": [
    "from hvplot import pandas, xarray"
   ]
  },
  {
   "cell_type": "code",
   "execution_count": null,
   "metadata": {},
   "outputs": [],
   "source": [
    "#define in a dictionary the properties of the model..\n",
    "dic={'lon_min':-35., # lat/lon window\n",
    "     'lon_max':42.,\n",
    "     'lat_min':25.05,\n",
    "     'lat_max':76.5,\n",
    "     'start_date':'2019-10-28',\n",
    "     'end_date':'2019-10-29'\n",
    "    }"
   ]
  },
  {
   "cell_type": "code",
   "execution_count": null,
   "metadata": {},
   "outputs": [],
   "source": [
    "### retrieve UVP\n",
    "meteo = pm.meteo(**dic)"
   ]
  },
  {
   "cell_type": "code",
   "execution_count": null,
   "metadata": {},
   "outputs": [],
   "source": [
    "# Data provenance is readily available by xarray. Note that the original variables are renamed to match pyPoseidon nomenclature \n",
    "meteo.Dataset"
   ]
  },
  {
   "cell_type": "code",
   "execution_count": null,
   "metadata": {},
   "outputs": [],
   "source": [
    "# simple frame plots\n",
    "meteo.Dataset.msl[0,:,:].plot()"
   ]
  },
  {
   "cell_type": "code",
   "execution_count": null,
   "metadata": {},
   "outputs": [],
   "source": [
    "# using Cartopy we can project on the globe\n",
    "fig, ax = plt.subplots(figsize=(10, 10))\n",
    "\n",
    "ax = plt.axes(projection=ccrs.Orthographic(0, 35))\n",
    "\n",
    "meteo.Dataset.msl[0,:,:].plot.contourf(ax=ax, transform=ccrs.PlateCarree());\n",
    "\n",
    "ax.set_global(); ax.coastlines();"
   ]
  },
  {
   "cell_type": "markdown",
   "metadata": {},
   "source": [
    "### Holoviews"
   ]
  },
  {
   "cell_type": "code",
   "execution_count": null,
   "metadata": {},
   "outputs": [],
   "source": [
    "meteo.Dataset.msl.hvplot.contourf(x='longitude',y='latitude',cmap='viridis')"
   ]
  },
  {
   "cell_type": "markdown",
   "metadata": {},
   "source": [
    "## Geoviews"
   ]
  },
  {
   "cell_type": "code",
   "execution_count": null,
   "metadata": {},
   "outputs": [],
   "source": [
    "g50 = gv.feature.coastline(plot=dict(scale='50m'), style=dict(linewidth=1.5))"
   ]
  },
  {
   "cell_type": "code",
   "execution_count": null,
   "metadata": {},
   "outputs": [],
   "source": [
    "meteo.Dataset.msl.hvplot.quadmesh(x='longitude',y='latitude',geo=True, rasterize=True, cmap='viridis') * g50 * gf.borders()"
   ]
  },
  {
   "cell_type": "markdown",
   "metadata": {},
   "source": [
    "## Write out"
   ]
  },
  {
   "cell_type": "code",
   "execution_count": null,
   "metadata": {},
   "outputs": [],
   "source": [
    "#save to generic netcdf\n",
    "meteo.Dataset.to_netcdf('./test/test.nc')"
   ]
  },
  {
   "cell_type": "code",
   "execution_count": null,
   "metadata": {},
   "outputs": [],
   "source": [
    "#save to DELFT3D format\n",
    "meteo.to_output(solver='d3d',rpath='./test/') "
   ]
  },
  {
   "cell_type": "code",
   "execution_count": null,
   "metadata": {},
   "outputs": [],
   "source": [
    "#save to SCHISM format\n",
    "meteo.to_output(solver='schism',rpath='./test/')"
   ]
  },
  {
   "cell_type": "code",
   "execution_count": null,
   "metadata": {},
   "outputs": [],
   "source": []
  }
 ],
 "metadata": {
  "kernelspec": {
   "display_name": "pyPoseidon",
   "language": "python",
   "name": "pyposeidon"
  },
  "language_info": {
   "codemirror_mode": {
    "name": "ipython",
    "version": 3
   },
   "file_extension": ".py",
   "mimetype": "text/x-python",
   "name": "python",
   "nbconvert_exporter": "python",
   "pygments_lexer": "ipython3",
   "version": "3.8.6"
  },
  "toc": {
   "base_numbering": 1,
   "nav_menu": {},
   "number_sections": true,
   "sideBar": true,
   "skip_h1_title": false,
   "title_cell": "Table of Contents",
   "title_sidebar": "Contents",
   "toc_cell": false,
   "toc_position": {},
   "toc_section_display": true,
   "toc_window_display": false
  },
  "widgets": {
   "state": {
    "01982b628a1b42a58f58409983b305fc": {
     "views": []
    },
    "06ce44ed2d66492791f03f726a488340": {
     "views": []
    },
    "082c45c99c14418a94626b59c00d325b": {
     "views": []
    },
    "121124ad2ad44d429010d799209f611b": {
     "views": []
    },
    "1aff2ac3a8bc432ca22c73858a6dba86": {
     "views": []
    },
    "1b036c33dfe14f288454b3e08b8e7b1e": {
     "views": []
    },
    "1b69fd8a665640c894120f850fa2c0ec": {
     "views": []
    },
    "1cef1dc08c66457d8af8ebb39f390a08": {
     "views": []
    },
    "20c6533930584c33ac63a1ef5740eabe": {
     "views": []
    },
    "2554ecbfcac543988f94883ddaefd58a": {
     "views": []
    },
    "2d9e56f7f6904996afac989477be65d1": {
     "views": []
    },
    "39f4682a5b724848b50d720610780bdb": {
     "views": []
    },
    "4743d6ea59624b2fa8673f1455f4b95d": {
     "views": []
    },
    "4dfd891067814443ba4376587680b1cc": {
     "views": []
    },
    "52cc571bb6644927a33ca7864b9fa8c4": {
     "views": []
    },
    "558d3cc8bccf4831a0602fcd64f9de11": {
     "views": []
    },
    "576260ecd41747b28896529bc24743a5": {
     "views": []
    },
    "58bbcad85c834c96a7e96bba1f72c9b5": {
     "views": []
    },
    "5a9eca7878c84e5db4309df4b96ade0c": {
     "views": []
    },
    "634f9c7e29054873b5cf418581770398": {
     "views": []
    },
    "6c9100a9095646c58c2abfd51ec58085": {
     "views": []
    },
    "6d12f231fc894e30a033b71bc2180c70": {
     "views": []
    },
    "80e9a15d5dd049c59db3a1ffcadd8595": {
     "views": [
      {
       "cell_index": 23
      }
     ]
    },
    "812f4fe2b87f427493db9d734ab7e1dd": {
     "views": []
    },
    "86ec675760014692864a7e2aea53a172": {
     "views": []
    },
    "88e99e0f79964f2e968622cbf0b3579d": {
     "views": []
    },
    "8a51308cdbdc43659d52b35935d0e3a8": {
     "views": []
    },
    "8bf298288e6a46e2b213991686438c99": {
     "views": []
    },
    "92c9bd86f08a4576968e25eb94e3dc55": {
     "views": []
    },
    "92ddb576b1124d48af360d1f92bcf6d8": {
     "views": []
    },
    "986a106beb9745d891a54d4505266226": {
     "views": []
    },
    "99d88e347aed4bb1984292e64ea60fea": {
     "views": []
    },
    "99f6987460e446b19633d89f65df0241": {
     "views": []
    },
    "a4557f2654004f44a82b34843d21c36a": {
     "views": []
    },
    "aa72aa6685e544839c7b1ae4f5c20da7": {
     "views": []
    },
    "b2b2e60f469f48d6a5043ee573f2857d": {
     "views": []
    },
    "ba83144f6fae42bdb3e83ce79e27a96e": {
     "views": []
    },
    "c244852a5c2a42d4bddca47ccec4479f": {
     "views": []
    },
    "c989e71bad9348689e491f88389685c6": {
     "views": []
    },
    "d109cdd581f0472c8319365656fa2b09": {
     "views": []
    },
    "d62803ed055047c498ae85d3c1254e59": {
     "views": []
    },
    "d9e9a0334e0f41ceb3bda3d999d99609": {
     "views": []
    },
    "dcf54dd4109348969171a97ebc117f38": {
     "views": []
    },
    "dd42386962e64fef84e02bcf42a3c3ab": {
     "views": []
    },
    "ee47612f109b4acc82aa3816cc783014": {
     "views": []
    },
    "f06f1d7a6b144d0f8f5589d951a88df5": {
     "views": []
    },
    "f084d28e0a2046999699eb3da3b79f07": {
     "views": []
    },
    "f23287c557184a1d9251c3e4be4bbede": {
     "views": []
    },
    "f2a210f0f441491ab9db880eedf6520c": {
     "views": []
    },
    "f4c24098fb6e41f3a56d38af3aa9da17": {
     "views": []
    }
   },
   "version": "1.1.1"
  }
 },
 "nbformat": 4,
 "nbformat_minor": 4
}
