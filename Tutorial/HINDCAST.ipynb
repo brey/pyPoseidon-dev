{
 "cells": [
  {
   "cell_type": "markdown",
   "id": "b0cc9915",
   "metadata": {
    "tags": []
   },
   "source": [
    "# Hindcasts"
   ]
  },
  {
   "cell_type": "markdown",
   "id": "55aa5010",
   "metadata": {},
   "source": [
    "When doing a long hindcast simulation is preferable to split the process in several steps and use hotstarting for compliting the task.\n",
    "\n",
    "\n",
    "- Requires:\n",
    "\n",
    "    - The data folder. See [README](README.md) in this folder."
   ]
  },
  {
   "cell_type": "code",
   "execution_count": null,
   "id": "0afa2bff",
   "metadata": {},
   "outputs": [],
   "source": [
    "#to use the full width of the browser window\n",
    "from IPython.display import display, HTML\n",
    "display(HTML(\"<style>.container { width:100% !important; }</style>\"))"
   ]
  },
  {
   "cell_type": "code",
   "execution_count": null,
   "id": "bf0acd12",
   "metadata": {},
   "outputs": [],
   "source": [
    "# Not neccessarily needed. Just to check version. Must be >= 0.6\n",
    "import pyposeidon\n",
    "pyposeidon.__version__"
   ]
  },
  {
   "cell_type": "code",
   "execution_count": null,
   "id": "a386193d",
   "metadata": {},
   "outputs": [],
   "source": [
    "import pyposeidon.model as pm"
   ]
  },
  {
   "cell_type": "markdown",
   "id": "c92a0fb7",
   "metadata": {},
   "source": [
    "### Graphics"
   ]
  },
  {
   "cell_type": "code",
   "execution_count": null,
   "id": "e598c4c1",
   "metadata": {},
   "outputs": [],
   "source": [
    "import pyposeidon.utils.pplot # initialize matplolib accessor"
   ]
  },
  {
   "cell_type": "code",
   "execution_count": null,
   "id": "d6151cde",
   "metadata": {},
   "outputs": [],
   "source": [
    "#optional\n",
    "#pyposeidon.utils.pplot.__init__(dark_background=True) # set plt style for pplot graphics below"
   ]
  },
  {
   "cell_type": "code",
   "execution_count": null,
   "id": "c5d0fa8a",
   "metadata": {},
   "outputs": [],
   "source": [
    "import pyposeidon.utils.hplot # initialize pyviz accessor"
   ]
  },
  {
   "cell_type": "markdown",
   "id": "7bb12d59",
   "metadata": {},
   "source": [
    "- In order to have within the Notebook the executable binaries installed in the conda env of the Kernel we add the corresponding path to the env `PATH`. This is not needed when we are running from python."
   ]
  },
  {
   "cell_type": "code",
   "execution_count": null,
   "id": "df0cdb10",
   "metadata": {},
   "outputs": [],
   "source": [
    "#Create a folder to save the output\n",
    "import os\n",
    "if not os.path.exists('test'):\n",
    "            os.makedirs('test')"
   ]
  },
  {
   "cell_type": "code",
   "execution_count": null,
   "id": "79cf9f40",
   "metadata": {},
   "outputs": [],
   "source": [
    "import numpy\n",
    "cpath = numpy.__path__[0].split('/lib/')[0] # get the current kernel path\n",
    "\n",
    "os.environ['PATH'] += os.pathsep + cpath + '/bin' # add to PATH"
   ]
  },
  {
   "cell_type": "code",
   "execution_count": null,
   "id": "babf0b70",
   "metadata": {},
   "outputs": [],
   "source": [
    "import geopandas as gp\n",
    "# use cartopy to get coastlines\n",
    "import cartopy.feature as cf"
   ]
  },
  {
   "cell_type": "markdown",
   "id": "0d2cf9a6",
   "metadata": {},
   "source": [
    "Without loss of generality we are using the natural earth's intermediate resolution dataset as coastlines"
   ]
  },
  {
   "cell_type": "code",
   "execution_count": null,
   "id": "ca7b2d33",
   "metadata": {},
   "outputs": [],
   "source": [
    "cr='i'\n",
    "\n",
    "coast = cf.NaturalEarthFeature(\n",
    "    category='physical',\n",
    "    name='land',\n",
    "    scale='{}m'.format({'l':110, 'i':50, 'h':10}[cr]))"
   ]
  },
  {
   "cell_type": "code",
   "execution_count": null,
   "id": "41ffb94f",
   "metadata": {},
   "outputs": [],
   "source": [
    "import geopandas as gp\n",
    "ne_i = gp.GeoDataFrame(geometry = [x for x in coast.geometries()])"
   ]
  },
  {
   "cell_type": "markdown",
   "id": "e80f83d5",
   "metadata": {},
   "source": [
    "## Setup"
   ]
  },
  {
   "cell_type": "markdown",
   "id": "006853b5",
   "metadata": {},
   "source": [
    "The minimum information required is an initial model and corresponding run. We set this one up. For more info see the [MODEL](./MODEL.ipynb) Notebook.\n"
   ]
  },
  {
   "cell_type": "code",
   "execution_count": null,
   "id": "a0029c65",
   "metadata": {},
   "outputs": [],
   "source": [
    "#define in a dictionary the properties of the model..\n",
    "model={'solver_name':'schism',\n",
    "     'geometry':{'lon_min' : -25,'lon_max' : -12.,'lat_min' : 56.,'lat_max' : 74.}, \n",
    "     'coastlines':ne_i,\n",
    "     'mesh_generator' : 'jigsaw', # set grid generator \n",
    "     'start_date':'2011-01-1 0:0:0',\n",
    "     'time_frame':'12h',\n",
    "     'meteo_source' : './data/era5.grib', #path to meteo files\n",
    "     'dem_source' : './data/dem.nc', #path to dem file\n",
    "     'rpath':'./test/hindcast/20110101.00/', #location of calc folder\n",
    "     'parameters':{'dt':400, 'rnday':.5, 'nhot':1, 'ihot':0,'nspool':9, 'ihfskip':36, 'nhot_write':108 } # set param.in components\n",
    "    }"
   ]
  },
  {
   "cell_type": "markdown",
   "id": "61c0f613",
   "metadata": {},
   "source": [
    "* Note that the parameters arguments will override relevant settings"
   ]
  },
  {
   "cell_type": "markdown",
   "id": "0af8de5f",
   "metadata": {},
   "source": [
    "## Initialize"
   ]
  },
  {
   "cell_type": "code",
   "execution_count": null,
   "id": "64e40e31",
   "metadata": {},
   "outputs": [],
   "source": [
    "#initialize a model\n",
    "b = pm.set(**model)"
   ]
  },
  {
   "cell_type": "code",
   "execution_count": null,
   "id": "682e75f1",
   "metadata": {},
   "outputs": [],
   "source": [
    "#Execute\n",
    "b.execute()"
   ]
  },
  {
   "cell_type": "markdown",
   "id": "adaa1c93",
   "metadata": {},
   "source": [
    "## Setup a hindcast\n",
    "\n",
    "Let's assume we want to split the hindcast on a `12h` splits. Doing a hindcast doesn't, in general, entail overlaping meteo forcing. However when more than one meteo file is needed one needs to be consistent into aligning the dates accordingly. There is an extra argument that provides that functionality (see documentation). \n",
    "\n",
    "We setup the hindcast process as"
   ]
  },
  {
   "cell_type": "code",
   "execution_count": null,
   "id": "35f8898a",
   "metadata": {},
   "outputs": [],
   "source": [
    "from pyposeidon.utils import cast\n",
    "import pandas as pd\n",
    "import datetime"
   ]
  },
  {
   "cell_type": "code",
   "execution_count": null,
   "id": "791cf7db",
   "metadata": {},
   "outputs": [],
   "source": [
    "# creating a time sequence of the runs\n",
    "start_date = pd.to_datetime(\"2011-1-1 0:0:0\")\n",
    "end_date = pd.to_datetime(\"2011-1-2 0:0:0\")\n",
    "date_list = pd.date_range(start_date, end_date, freq=\"12h\")\n",
    "date_list"
   ]
  },
  {
   "cell_type": "code",
   "execution_count": null,
   "id": "4f74f74d",
   "metadata": {},
   "outputs": [],
   "source": [
    "# creating a sequence of folder to store the runs. In this case we name them after the date attribute.\n",
    "# NOTE that the first folder is the fisrt run already perfomed!!\n",
    "rpaths = ['./test/hindcast/' + datetime.datetime.strftime(x, \"%Y%m%d.%H\") + \"/\" for x in date_list]\n",
    "rpaths"
   ]
  },
  {
   "cell_type": "markdown",
   "id": "a1e05079",
   "metadata": {},
   "source": [
    "So now we can execute the cast sequencially as"
   ]
  },
  {
   "cell_type": "code",
   "execution_count": null,
   "id": "cbfe869b",
   "metadata": {},
   "outputs": [],
   "source": [
    "for l in range(len(rpaths) - 1):\n",
    "\n",
    "    fc = cast.set(solver_name='schism',\n",
    "            model=b,\n",
    "            ppath=rpaths[l],\n",
    "            cpath=rpaths[l + 1],\n",
    "            meteo='./data/era5.grib',\n",
    "            sdate=date_list[l + 1],\n",
    "                ) \n",
    "    fc.run(execute=True)"
   ]
  },
  {
   "cell_type": "markdown",
   "id": "6e646caf",
   "metadata": {},
   "source": [
    "## Output"
   ]
  },
  {
   "cell_type": "markdown",
   "id": "9af80e0e",
   "metadata": {},
   "source": [
    "The output data can be combined using the data utility as"
   ]
  },
  {
   "cell_type": "code",
   "execution_count": null,
   "id": "3b1c04dd",
   "metadata": {},
   "outputs": [],
   "source": [
    "from pyposeidon.utils import data"
   ]
  },
  {
   "cell_type": "code",
   "execution_count": null,
   "id": "ee0e1226",
   "metadata": {},
   "outputs": [],
   "source": [
    "d = data.get_output(solver_name='schism', folders=rpaths)"
   ]
  },
  {
   "cell_type": "code",
   "execution_count": null,
   "id": "d8944969",
   "metadata": {},
   "outputs": [],
   "source": [
    "d.Dataset"
   ]
  },
  {
   "cell_type": "code",
   "execution_count": null,
   "id": "9354e870",
   "metadata": {},
   "outputs": [],
   "source": [
    "d.folders"
   ]
  }
 ],
 "metadata": {
  "kernelspec": {
   "display_name": "pyPoseidon",
   "language": "python",
   "name": "pyposeidon"
  },
  "language_info": {
   "codemirror_mode": {
    "name": "ipython",
    "version": 3
   },
   "file_extension": ".py",
   "mimetype": "text/x-python",
   "name": "python",
   "nbconvert_exporter": "python",
   "pygments_lexer": "ipython3",
   "version": "3.8.12"
  }
 },
 "nbformat": 4,
 "nbformat_minor": 5
}
