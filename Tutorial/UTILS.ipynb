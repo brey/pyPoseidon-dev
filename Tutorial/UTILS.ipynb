{
 "cells": [
  {
   "cell_type": "markdown",
   "id": "1817362a",
   "metadata": {},
   "source": [
    "# Various utilities "
   ]
  },
  {
   "cell_type": "markdown",
   "id": "2deef54a",
   "metadata": {},
   "source": [
    "This Notebook presents some usefull utilities included in `pyposeidon`. \n",
    "\n",
    "\n",
    "- Requires:\n",
    "\n",
    "    - The *./test/global/results.nc* file from the [Global Storm Surge](GSS.ipynb) Notebook.\n",
    "\n",
    "    - The data folder. See [README](README.md) in this folder."
   ]
  },
  {
   "cell_type": "code",
   "execution_count": null,
   "id": "d81f8cd7",
   "metadata": {},
   "outputs": [],
   "source": [
    "#to use the full width of the browser window\n",
    "from IPython.display import display, HTML\n",
    "display(HTML(\"<style>.container { width:100% !important; }</style>\"))"
   ]
  },
  {
   "cell_type": "code",
   "execution_count": null,
   "id": "d15fe22e",
   "metadata": {},
   "outputs": [],
   "source": [
    "# Not neccessarily needed. Just to check version. Must be >= 0.6\n",
    "import pyposeidon\n",
    "pyposeidon.__version__"
   ]
  },
  {
   "cell_type": "code",
   "execution_count": null,
   "id": "bbbb79c3",
   "metadata": {},
   "outputs": [],
   "source": [
    "import pyposeidon.utils.pplot # initialize matplolib accessor"
   ]
  },
  {
   "cell_type": "code",
   "execution_count": null,
   "id": "7a5b400a",
   "metadata": {},
   "outputs": [],
   "source": [
    "#optional\n",
    "#pyposeidon.utils.pplot.__init__(dark_background=True) # set plt style for pplot graphics below"
   ]
  },
  {
   "cell_type": "code",
   "execution_count": null,
   "id": "c9eba621",
   "metadata": {},
   "outputs": [],
   "source": [
    "import pyposeidon.utils.mplot # initialize pyviz accessor"
   ]
  },
  {
   "cell_type": "code",
   "execution_count": null,
   "id": "3c64b6c1",
   "metadata": {},
   "outputs": [],
   "source": [
    "import xarray as xr"
   ]
  },
  {
   "cell_type": "code",
   "execution_count": null,
   "id": "1cbf5882",
   "metadata": {},
   "outputs": [],
   "source": [
    "import numpy as np"
   ]
  },
  {
   "cell_type": "markdown",
   "id": "9b4a7d43",
   "metadata": {},
   "source": [
    "## 2D Visualization of a global mesh"
   ]
  },
  {
   "cell_type": "markdown",
   "id": "50ced222",
   "metadata": {},
   "source": [
    "When working with a global mesh the 2D representation of the data is problematic."
   ]
  },
  {
   "cell_type": "code",
   "execution_count": null,
   "id": "4d4dc5f0",
   "metadata": {},
   "outputs": [],
   "source": [
    "r = xr.open_dataset('./test/global/results.nc')"
   ]
  },
  {
   "cell_type": "code",
   "execution_count": null,
   "id": "7fbd688c",
   "metadata": {},
   "outputs": [],
   "source": [
    "r"
   ]
  },
  {
   "cell_type": "markdown",
   "id": "5b0137b0",
   "metadata": {},
   "source": [
    "We can visualize in 3D correctly with"
   ]
  },
  {
   "cell_type": "code",
   "execution_count": null,
   "id": "03836182",
   "metadata": {},
   "outputs": [],
   "source": [
    "r.mplot.mesh(dim='3D')"
   ]
  },
  {
   "cell_type": "markdown",
   "id": "1fc42ce6",
   "metadata": {},
   "source": [
    "But in 2D we get artifacts due to the cross over elements..."
   ]
  },
  {
   "cell_type": "code",
   "execution_count": null,
   "id": "9e345ddc",
   "metadata": {},
   "outputs": [],
   "source": [
    "r.pplot.mesh()"
   ]
  },
  {
   "cell_type": "markdown",
   "id": "c972c179",
   "metadata": {},
   "source": [
    "However, using the corresponding utility from `pyposeidon` we can create a seam on the international time line mitigating the problem."
   ]
  },
  {
   "cell_type": "code",
   "execution_count": null,
   "id": "a7713a1c",
   "metadata": {},
   "outputs": [],
   "source": [
    "from pyposeidon.utils.seam import get_seam"
   ]
  },
  {
   "cell_type": "code",
   "execution_count": null,
   "id": "fc5bde95",
   "metadata": {},
   "outputs": [],
   "source": [
    "#original mesh topology\n",
    "x = r.SCHISM_hgrid_node_x[:].values\n",
    "y = r.SCHISM_hgrid_node_y[:].values\n",
    "tri3 = r.SCHISM_hgrid_face_nodes.values[:,:3].astype(int)"
   ]
  },
  {
   "cell_type": "code",
   "execution_count": null,
   "id": "f9d2a4b1",
   "metadata": {},
   "outputs": [],
   "source": [
    "x.shape, y.shape, tri3.shape"
   ]
  },
  {
   "cell_type": "code",
   "execution_count": null,
   "id": "1b767821",
   "metadata": {},
   "outputs": [],
   "source": [
    "xn,yn,tri3n= get_seam(x,y,None,tri3) # get seamed arrays "
   ]
  },
  {
   "cell_type": "code",
   "execution_count": null,
   "id": "d0ea75bd",
   "metadata": {},
   "outputs": [],
   "source": [
    "#These arrays can be saved for future use (see below)\n",
    "np.save(\"./test/global/to2d\", [xn, yn, tri3n])\n",
    "#load if needed\n",
    "#[xn, yn, tri3n] = np.load(\"./test/global/to2d.npy\",allow_pickle=True)"
   ]
  },
  {
   "cell_type": "code",
   "execution_count": null,
   "id": "ce1bed8f",
   "metadata": {},
   "outputs": [],
   "source": [
    "# we see that the number of elements and nodes increased due to the split\n",
    "xn.shape, yn.shape, tri3n.shape"
   ]
  },
  {
   "cell_type": "code",
   "execution_count": null,
   "id": "d180e30d",
   "metadata": {},
   "outputs": [],
   "source": [
    "r.pplot.mesh(x=xn,y=yn,tes=tri3n)"
   ]
  },
  {
   "cell_type": "markdown",
   "id": "cb0f1758",
   "metadata": {},
   "source": [
    "The creation of the seam can best visualized in 3D"
   ]
  },
  {
   "cell_type": "code",
   "execution_count": null,
   "id": "3e6d40a2",
   "metadata": {},
   "outputs": [],
   "source": [
    "r.mplot.mesh(x=xn,y=yn,tes=tri3n,dim='3D')"
   ]
  },
  {
   "cell_type": "markdown",
   "id": "108a9269",
   "metadata": {},
   "source": [
    "## Get variables on the new 2D mesh"
   ]
  },
  {
   "cell_type": "markdown",
   "id": "69a53216",
   "metadata": {},
   "source": [
    "Having the new 2D topology we can compute the corresponding values for any variable in a dataset.\n",
    "\n",
    "Here we use the data from the global run."
   ]
  },
  {
   "cell_type": "code",
   "execution_count": null,
   "id": "4a3298a9",
   "metadata": {},
   "outputs": [],
   "source": [
    "from pyposeidon.utils.seam import to_2d"
   ]
  },
  {
   "cell_type": "markdown",
   "id": "661dfadc",
   "metadata": {},
   "source": [
    "Specifying the variable we can then extract the new dataset e.g. for \"depth\""
   ]
  },
  {
   "cell_type": "code",
   "execution_count": null,
   "id": "48c75eb3",
   "metadata": {},
   "outputs": [],
   "source": [
    "bathymetry = to_2d(r,var='depth', mesh=[xn,yn,tri3n])"
   ]
  },
  {
   "cell_type": "code",
   "execution_count": null,
   "id": "28c00a46",
   "metadata": {},
   "outputs": [],
   "source": [
    "bathymetry.mplot.contourf(var='depth', dim='3D') # plot in 3D"
   ]
  },
  {
   "cell_type": "markdown",
   "id": "b7745d23",
   "metadata": {},
   "source": [
    ".. or  in 2D .."
   ]
  },
  {
   "cell_type": "code",
   "execution_count": null,
   "id": "fa6f5338",
   "metadata": {},
   "outputs": [],
   "source": [
    "bathymetry.pplot.contourf(var='depth')"
   ]
  },
  {
   "cell_type": "markdown",
   "id": "9ea2f4d5",
   "metadata": {},
   "source": [
    "Likewise for the time variables..."
   ]
  },
  {
   "cell_type": "code",
   "execution_count": null,
   "id": "037df0e2",
   "metadata": {},
   "outputs": [],
   "source": [
    "sl = to_2d(r,var='elev', mesh=[xn,yn,tri3n])"
   ]
  },
  {
   "cell_type": "code",
   "execution_count": null,
   "id": "1c13475b",
   "metadata": {},
   "outputs": [],
   "source": [
    "# animate in 2D\n",
    "sl.pplot.frames(var='elev',title='SSH')"
   ]
  },
  {
   "cell_type": "code",
   "execution_count": null,
   "id": "20793a5f",
   "metadata": {},
   "outputs": [],
   "source": [
    "#this dataset can be saved to a new netcdf file as usual\n",
    "sl.to_netcdf('./test/global/elev.nc')"
   ]
  },
  {
   "cell_type": "code",
   "execution_count": null,
   "id": "c8469a8c",
   "metadata": {},
   "outputs": [],
   "source": [
    "# We can plot the elevation data for the last timestep in 3D as\n",
    "sl.mplot.contourf(var='elev', it=-1, dim='3D')"
   ]
  }
 ],
 "metadata": {
  "kernelspec": {
   "display_name": "pyPoseidon",
   "language": "python",
   "name": "pyposeidon"
  },
  "language_info": {
   "codemirror_mode": {
    "name": "ipython",
    "version": 3
   },
   "file_extension": ".py",
   "mimetype": "text/x-python",
   "name": "python",
   "nbconvert_exporter": "python",
   "pygments_lexer": "ipython3",
   "version": "3.8.12"
  }
 },
 "nbformat": 4,
 "nbformat_minor": 5
}
