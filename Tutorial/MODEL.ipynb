{
 "cells": [
  {
   "cell_type": "markdown",
   "id": "160e6fc6",
   "metadata": {
    "tags": []
   },
   "source": [
    "# The Model module"
   ]
  },
  {
   "cell_type": "markdown",
   "id": "0e3778b5",
   "metadata": {},
   "source": [
    "The top module handles the main setup of the instance. \n",
    "\n",
    "\n",
    "- Requires:\n",
    "\n",
    "data folder. See [README](README.md) in this folder."
   ]
  },
  {
   "cell_type": "code",
   "execution_count": null,
   "id": "a7a0efd6",
   "metadata": {},
   "outputs": [],
   "source": [
    "#to use the full width of the browser window\n",
    "from IPython.core.display import display, HTML\n",
    "display(HTML(\"<style>.container { width:100% !important; }</style>\"))"
   ]
  },
  {
   "cell_type": "code",
   "execution_count": null,
   "id": "d4084953",
   "metadata": {},
   "outputs": [],
   "source": [
    "# Not neccessarily needed. Just to check version. Must be > 0.4.1\n",
    "import pyPoseidon\n",
    "pyPoseidon.__version__"
   ]
  },
  {
   "cell_type": "code",
   "execution_count": null,
   "id": "cf3a01f7",
   "metadata": {},
   "outputs": [],
   "source": [
    "import pyPoseidon.model as pm"
   ]
  },
  {
   "cell_type": "markdown",
   "id": "f6c8ec4c",
   "metadata": {},
   "source": [
    "### Graphics"
   ]
  },
  {
   "cell_type": "code",
   "execution_count": null,
   "id": "8ef6f59a",
   "metadata": {},
   "outputs": [],
   "source": [
    "import pyPoseidon.utils.pplot # initialize matplolib accessor"
   ]
  },
  {
   "cell_type": "code",
   "execution_count": null,
   "id": "d114cca9",
   "metadata": {},
   "outputs": [],
   "source": [
    "#optional\n",
    "#pyPoseidon.utils.pplot.__init__(dark_background=True) # set plt style for pplot graphics below"
   ]
  },
  {
   "cell_type": "code",
   "execution_count": null,
   "id": "2f565ef1",
   "metadata": {},
   "outputs": [],
   "source": [
    "import pyPoseidon.utils.hplot # initialize pyviz accessor"
   ]
  },
  {
   "cell_type": "markdown",
   "id": "78cb7ba3",
   "metadata": {},
   "source": [
    "- In order to have within the Notebook the executable binaries installed in the conda env of the Kernel we add the corresponding path to the env PATH. This is not needed when we are running from python."
   ]
  },
  {
   "cell_type": "code",
   "execution_count": null,
   "id": "260e00dc",
   "metadata": {},
   "outputs": [],
   "source": [
    "#Create a folder to save the output\n",
    "import os\n",
    "if not os.path.exists('test'):\n",
    "            os.makedirs('test')"
   ]
  },
  {
   "cell_type": "code",
   "execution_count": null,
   "id": "afc67a8c",
   "metadata": {},
   "outputs": [],
   "source": [
    "cpath = pyPoseidon.__path__[0].split('/lib/')[0] # get the current kernel path\n",
    "\n",
    "os.environ['PATH'] += os.pathsep + cpath + '/bin' # add to PATH"
   ]
  },
  {
   "cell_type": "markdown",
   "id": "3498f387",
   "metadata": {},
   "source": [
    "## Setup"
   ]
  },
  {
   "cell_type": "markdown",
   "id": "1419ecce",
   "metadata": {},
   "source": [
    "The minimum information required is the geomerty boundary. In the most simple case that is a lat/lon box that defines the area of interest. Without loss of generality we select below Iceland as a test case. Feel free to modify the coordinates. \n",
    "\n",
    "In addition, the coastlines need to be provided as internal boundaries. if not the default option is using natural earth intermediate resolution (https://www.naturalearthdata.com/downloads/).\n",
    "\n",
    "The coastlines can be given as a shapefile or GeoDataFrame."
   ]
  },
  {
   "cell_type": "code",
   "execution_count": null,
   "id": "ce371e18",
   "metadata": {},
   "outputs": [],
   "source": [
    "#define in a dictionary the properties of the model..\n",
    "model={'solver':'schism',\n",
    "     'geometry':{'lon_min' : -25,'lon_max' : -12.,'lat_min' : 56.,'lat_max' : 74.}, \n",
    "#     'manning':.12, #uniform manning value\n",
    "#     'windrot':0.00001, #uniform windrot value\n",
    "#     'tag':'schism', # optional tag \n",
    "#     'grid_generator' : 'gmsh', # set grid generator  \n",
    "#     'bgmesh':'auto', # option for background mesh size\n",
    "     'start_date':'2017-10-1 0:0:0',\n",
    "     'time_frame':'12H',\n",
    "     'meteo_source' : ['./data/erai.grib'], #path to meteo files\n",
    "     'meteo_engine':'cfgrib',\n",
    "     'dem_source' : './data/dem.nc', #path to dem file\n",
    "#     'ncores': 4 , # optional number of cores\n",
    "     'rpath':'./test/schism/', #location of calc folder\n",
    "#     'update':['all'], #set which component should be updated  (meteo,dem,model)\n",
    "#     'monitor':True, # get time series for observation points\n",
    "#     'parameters':{'dt':400, 'rnday':.5, 'hotout':1, 'ihot':0,'nspool':9, 'ihfskip':36, 'hotout_write':108 } # set param.in components\n",
    "    }"
   ]
  },
  {
   "cell_type": "markdown",
   "id": "0d6d1146",
   "metadata": {},
   "source": [
    "## Initialize"
   ]
  },
  {
   "cell_type": "code",
   "execution_count": null,
   "id": "9753dd47",
   "metadata": {},
   "outputs": [],
   "source": [
    "#initialize a model\n",
    "b = pm(**model)"
   ]
  },
  {
   "cell_type": "markdown",
   "id": "e4520c27",
   "metadata": {},
   "source": [
    "## Step by Step process"
   ]
  },
  {
   "cell_type": "code",
   "execution_count": null,
   "id": "16732714",
   "metadata": {},
   "outputs": [],
   "source": [
    "b.create()"
   ]
  },
  {
   "cell_type": "code",
   "execution_count": null,
   "id": "9f896706",
   "metadata": {},
   "outputs": [],
   "source": [
    "b.output()"
   ]
  },
  {
   "cell_type": "code",
   "execution_count": null,
   "id": "89bb2ae1",
   "metadata": {},
   "outputs": [],
   "source": [
    "b.save() # saves the json model file"
   ]
  },
  {
   "cell_type": "code",
   "execution_count": null,
   "id": "b1691aed",
   "metadata": {},
   "outputs": [],
   "source": [
    "b.set_obs() # setup station points"
   ]
  },
  {
   "cell_type": "code",
   "execution_count": null,
   "id": "122b1e72",
   "metadata": {},
   "outputs": [],
   "source": [
    "b.run() # execute"
   ]
  },
  {
   "cell_type": "markdown",
   "id": "1f645c90",
   "metadata": {},
   "source": [
    "## ... or simply in one step\n"
   ]
  },
  {
   "cell_type": "code",
   "execution_count": null,
   "id": "26afc4e9",
   "metadata": {},
   "outputs": [],
   "source": [
    "#initialize a model\n",
    "b = pm(**model)\n",
    "b.execute()"
   ]
  },
  {
   "cell_type": "markdown",
   "id": "4a27c722",
   "metadata": {},
   "source": [
    "The various datasets incorporated in the model can be accessed indepententy as attributes, namely :"
   ]
  },
  {
   "cell_type": "markdown",
   "id": "5cf55e99",
   "metadata": {},
   "source": [
    "- Meteo"
   ]
  },
  {
   "cell_type": "code",
   "execution_count": null,
   "id": "ce112cb2",
   "metadata": {},
   "outputs": [],
   "source": [
    "#plt.figure() # xarray uses existing ax if any. You might need to create a new figure to do it separately.\n",
    "b.meteo.Dataset.msl[2,:,:].plot()"
   ]
  },
  {
   "cell_type": "markdown",
   "id": "ef6dc41a",
   "metadata": {},
   "source": [
    "- Grid"
   ]
  },
  {
   "cell_type": "code",
   "execution_count": null,
   "id": "acec756f",
   "metadata": {},
   "outputs": [],
   "source": [
    "b.grid.Dataset.hplot.grid(lw=.5, markersize=.2) "
   ]
  },
  {
   "cell_type": "markdown",
   "id": "abb80efb",
   "metadata": {},
   "source": [
    "- Dem"
   ]
  },
  {
   "cell_type": "code",
   "execution_count": null,
   "id": "1f17e4d9",
   "metadata": {},
   "outputs": [],
   "source": [
    "b.dem.Dataset.elevation.plot()"
   ]
  },
  {
   "cell_type": "markdown",
   "id": "70bbe8a1",
   "metadata": {},
   "source": [
    "## Output"
   ]
  },
  {
   "cell_type": "markdown",
   "id": "2e4b6134",
   "metadata": {},
   "source": [
    "The output of the simulations could be in separate files (due to MPI) or specific folders. pyPoseidon can incorporate the resulting Datasets with "
   ]
  },
  {
   "cell_type": "code",
   "execution_count": null,
   "id": "9f67a278",
   "metadata": {},
   "outputs": [],
   "source": [
    "b.get_data() # integrate output"
   ]
  },
  {
   "cell_type": "code",
   "execution_count": null,
   "id": "5c9f8f2c",
   "metadata": {},
   "outputs": [],
   "source": [
    "out = b.data.Dataset"
   ]
  },
  {
   "cell_type": "code",
   "execution_count": null,
   "id": "1f44c666",
   "metadata": {},
   "outputs": [],
   "source": [
    "out"
   ]
  },
  {
   "cell_type": "code",
   "execution_count": null,
   "id": "4f4f0554",
   "metadata": {
    "tags": []
   },
   "outputs": [],
   "source": [
    "out.depth.compute().max(), out.depth.compute().min()"
   ]
  },
  {
   "cell_type": "code",
   "execution_count": null,
   "id": "064bd744",
   "metadata": {},
   "outputs": [],
   "source": [
    "out.pplot.grid(lw=.3, markersize=1)"
   ]
  },
  {
   "cell_type": "code",
   "execution_count": null,
   "id": "38443025",
   "metadata": {},
   "outputs": [],
   "source": [
    "out.pplot.contourf(var='depth' ,vmin=out.depth.min(), vmax=out.depth.max())"
   ]
  },
  {
   "cell_type": "code",
   "execution_count": null,
   "id": "42c727a5",
   "metadata": {},
   "outputs": [],
   "source": [
    "out.pplot.quiver(it = 2, u=out.hvel.values[2,:,0,0],v=out.hvel.values[2,:,0,1],scale=.01, title='hvel', color='k')"
   ]
  },
  {
   "cell_type": "markdown",
   "id": "94c91467",
   "metadata": {},
   "source": [
    "### with hvplot"
   ]
  },
  {
   "cell_type": "code",
   "execution_count": null,
   "id": "6ab2ae65",
   "metadata": {},
   "outputs": [],
   "source": [
    "out.hplot.contourf(var='depth' , vmin=out.depth.min(), vmax=out.depth.max())#,tiles=True)"
   ]
  },
  {
   "cell_type": "code",
   "execution_count": null,
   "id": "07b7246c",
   "metadata": {},
   "outputs": [],
   "source": [
    "out.hplot.grid(width=800, height=400,tiles=True)"
   ]
  },
  {
   "cell_type": "markdown",
   "id": "a586a737",
   "metadata": {},
   "source": [
    "### Animate"
   ]
  },
  {
   "cell_type": "code",
   "execution_count": null,
   "id": "a6b50632",
   "metadata": {},
   "outputs": [],
   "source": [
    "v = out.pplot.frames(var='elev',title='SSH') # change to hplot for holoviews\n",
    "v"
   ]
  },
  {
   "cell_type": "code",
   "execution_count": null,
   "id": "f4696ca1",
   "metadata": {},
   "outputs": [],
   "source": [
    "v.save('test/elev.mp4')"
   ]
  },
  {
   "cell_type": "code",
   "execution_count": null,
   "id": "8d941718",
   "metadata": {},
   "outputs": [],
   "source": [
    "out.pplot.qframes(u=out.hvel.values[:,:,0,0],v=out.hvel.values[:,:,0,1],title='Vel',scale=.01)#, color='w')"
   ]
  },
  {
   "cell_type": "markdown",
   "id": "053511a8",
   "metadata": {},
   "source": [
    "## Read Model"
   ]
  },
  {
   "cell_type": "markdown",
   "id": "f712b6aa",
   "metadata": {},
   "source": [
    "If a model is created by pyPoseidon then there is a .json file that describes the model. One can read into pyPoseidon such a model with "
   ]
  },
  {
   "cell_type": "code",
   "execution_count": null,
   "id": "79b69ae0",
   "metadata": {},
   "outputs": [],
   "source": [
    "a = pyPoseidon.read_model('./test/schism/schism_model.json')"
   ]
  },
  {
   "cell_type": "code",
   "execution_count": null,
   "id": "5c8435be",
   "metadata": {},
   "outputs": [],
   "source": [
    "#a.execute()"
   ]
  },
  {
   "cell_type": "markdown",
   "id": "e4a6df24",
   "metadata": {},
   "source": [
    "However, there might be a model created by other means. pyPoseidon does it's best to incorporate such model with"
   ]
  },
  {
   "cell_type": "code",
   "execution_count": null,
   "id": "cddcf6f6",
   "metadata": {},
   "outputs": [],
   "source": [
    "c = pm(solver='schism', rfolder = './test/schism/', load_grid=True, load_meteo=True)"
   ]
  },
  {
   "cell_type": "code",
   "execution_count": null,
   "id": "7bbf765b",
   "metadata": {},
   "outputs": [],
   "source": [
    "c.grid.Dataset"
   ]
  },
  {
   "cell_type": "code",
   "execution_count": null,
   "id": "2a1d9cf2",
   "metadata": {},
   "outputs": [],
   "source": [
    "c.meteo.Dataset"
   ]
  },
  {
   "cell_type": "code",
   "execution_count": null,
   "id": "7d19c2f2",
   "metadata": {},
   "outputs": [],
   "source": []
  }
 ],
 "metadata": {
  "kernelspec": {
   "display_name": "ptests",
   "language": "python",
   "name": "ptests"
  },
  "language_info": {
   "codemirror_mode": {
    "name": "ipython",
    "version": 3
   },
   "file_extension": ".py",
   "mimetype": "text/x-python",
   "name": "python",
   "nbconvert_exporter": "python",
   "pygments_lexer": "ipython3",
   "version": "3.8.8"
  }
 },
 "nbformat": 4,
 "nbformat_minor": 5
}
