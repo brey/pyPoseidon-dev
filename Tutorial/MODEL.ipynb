{
 "cells": [
  {
   "cell_type": "markdown",
   "id": "bc4aed9d",
   "metadata": {
    "tags": []
   },
   "source": [
    "# The Model module"
   ]
  },
  {
   "cell_type": "markdown",
   "id": "dee34bd5",
   "metadata": {},
   "source": [
    "The top module handles the main setup of the instance. \n",
    "\n",
    "\n",
    "- Requires:\n",
    "\n",
    "data folder. See [README](README.md) in this folder."
   ]
  },
  {
   "cell_type": "code",
   "execution_count": null,
   "id": "b6989cbe",
   "metadata": {},
   "outputs": [],
   "source": [
    "#to use the full width of the browser window\n",
    "from IPython.core.display import display, HTML\n",
    "display(HTML(\"<style>.container { width:100% !important; }</style>\"))"
   ]
  },
  {
   "cell_type": "code",
   "execution_count": null,
   "id": "cc070bd6",
   "metadata": {},
   "outputs": [],
   "source": [
    "# Not neccessarily needed. Just to check version. Must be >= 0.5\n",
    "import pyposeidon\n",
    "pyposeidon.__version__"
   ]
  },
  {
   "cell_type": "code",
   "execution_count": null,
   "id": "e9ef39ed",
   "metadata": {},
   "outputs": [],
   "source": [
    "import pyposeidon.model as pm"
   ]
  },
  {
   "cell_type": "markdown",
   "id": "a8f852cd",
   "metadata": {},
   "source": [
    "### Graphics"
   ]
  },
  {
   "cell_type": "code",
   "execution_count": null,
   "id": "03e33d48",
   "metadata": {},
   "outputs": [],
   "source": [
    "import pyposeidon.utils.pplot # initialize matplolib accessor"
   ]
  },
  {
   "cell_type": "code",
   "execution_count": null,
   "id": "0a5b65df",
   "metadata": {},
   "outputs": [],
   "source": [
    "#optional\n",
    "#pyposeidon.utils.pplot.__init__(dark_background=True) # set plt style for pplot graphics below"
   ]
  },
  {
   "cell_type": "code",
   "execution_count": null,
   "id": "366296d7",
   "metadata": {},
   "outputs": [],
   "source": [
    "import pyposeidon.utils.hplot # initialize pyviz accessor"
   ]
  },
  {
   "cell_type": "markdown",
   "id": "c07c419d",
   "metadata": {},
   "source": [
    "- In order to have within the Notebook the executable binaries installed in the conda env of the Kernel we add the corresponding path to the env PATH. This is not needed when we are running from python."
   ]
  },
  {
   "cell_type": "code",
   "execution_count": null,
   "id": "649b82a1",
   "metadata": {},
   "outputs": [],
   "source": [
    "#Create a folder to save the output\n",
    "import os\n",
    "if not os.path.exists('test'):\n",
    "            os.makedirs('test')"
   ]
  },
  {
   "cell_type": "code",
   "execution_count": null,
   "id": "a0d1f471",
   "metadata": {},
   "outputs": [],
   "source": [
    "cpath = pyposeidon.__path__[0].split('/lib/')[0] # get the current kernel path\n",
    "\n",
    "os.environ['PATH'] += os.pathsep + cpath + '/bin' # add to PATH"
   ]
  },
  {
   "cell_type": "markdown",
   "id": "d0987596",
   "metadata": {},
   "source": [
    "## Setup"
   ]
  },
  {
   "cell_type": "markdown",
   "id": "fe6e259e",
   "metadata": {},
   "source": [
    "The minimum information required is the geometry's extent. In the most simple case that is a lat/lon box that defines the area of interest. Without loss of generality we select below Iceland as a test case. Feel free to modify the coordinates. \n",
    "\n",
    "In addition, the coastlines need to be provided as internal boundaries. if not the default option is using natural earth's 'intermediate' resolution (https://www.naturalearthdata.com/downloads/).\n",
    "\n",
    "The coastlines can be given as a shapefile or GeoDataFrame."
   ]
  },
  {
   "cell_type": "code",
   "execution_count": null,
   "id": "3a77407d",
   "metadata": {},
   "outputs": [],
   "source": [
    "#define in a dictionary the properties of the model..\n",
    "model={'solver':'schism',\n",
    "     'geometry':{'lon_min' : -25,'lon_max' : -12.,'lat_min' : 56.,'lat_max' : 74.}, \n",
    "#     'manning':.12, #uniform manning value\n",
    "#     'windrot':0.00001, #uniform windrot value\n",
    "#     'tag':'schism', # optional tag \n",
    "#     'grid_generator' : 'gmsh', # set grid generator  \n",
    "#     'bgmesh':'auto', # option for background mesh size\n",
    "     'start_date':'2017-10-1 0:0:0',\n",
    "     'time_frame':'12H',\n",
    "     'meteo_source' : ['./data/erai.grib'], #path to meteo files\n",
    "     'meteo_engine':'cfgrib',\n",
    "     'dem_source' : './data/dem.nc', #path to dem file\n",
    "#     'ncores': 4 , # optional number of cores\n",
    "     'rpath':'./test/schism/', #location of calc folder\n",
    "#     'update':['all'], #set which component should be updated  (meteo,dem,model)\n",
    "#     'monitor':True, # get time series for observation points\n",
    "#     'parameters':{'dt':400, 'rnday':.5, 'hotout':1, 'ihot':0,'nspool':9, 'ihfskip':36, 'hotout_write':108 } # set param.in components\n",
    "    }"
   ]
  },
  {
   "cell_type": "markdown",
   "id": "a84dc2a6",
   "metadata": {},
   "source": [
    "## Initialize"
   ]
  },
  {
   "cell_type": "code",
   "execution_count": null,
   "id": "954474f7",
   "metadata": {},
   "outputs": [],
   "source": [
    "#initialize a model\n",
    "b = pm(**model)"
   ]
  },
  {
   "cell_type": "markdown",
   "id": "41862710",
   "metadata": {},
   "source": [
    "## Step by Step process"
   ]
  },
  {
   "cell_type": "code",
   "execution_count": null,
   "id": "f35cfe5b",
   "metadata": {},
   "outputs": [],
   "source": [
    "b.create()"
   ]
  },
  {
   "cell_type": "code",
   "execution_count": null,
   "id": "69ba0bd8",
   "metadata": {},
   "outputs": [],
   "source": [
    "b.dem.Dataset"
   ]
  },
  {
   "cell_type": "code",
   "execution_count": null,
   "id": "3d8f4bb9",
   "metadata": {},
   "outputs": [],
   "source": [
    "b.output()"
   ]
  },
  {
   "cell_type": "code",
   "execution_count": null,
   "id": "224eb2d2",
   "metadata": {},
   "outputs": [],
   "source": [
    "b.save() # saves the json model file"
   ]
  },
  {
   "cell_type": "code",
   "execution_count": null,
   "id": "0104aaae",
   "metadata": {},
   "outputs": [],
   "source": [
    "b.set_obs() # setup station points"
   ]
  },
  {
   "cell_type": "code",
   "execution_count": null,
   "id": "27480bd8",
   "metadata": {},
   "outputs": [],
   "source": [
    "b.run() # execute"
   ]
  },
  {
   "cell_type": "markdown",
   "id": "283c5a23",
   "metadata": {},
   "source": [
    "## ... or simply in one step\n"
   ]
  },
  {
   "cell_type": "code",
   "execution_count": null,
   "id": "d38fc645",
   "metadata": {},
   "outputs": [],
   "source": [
    "#initialize a model\n",
    "b = pm(**model)\n",
    "b.execute()"
   ]
  },
  {
   "cell_type": "markdown",
   "id": "e0439e56",
   "metadata": {},
   "source": [
    "The various datasets incorporated in the model can be accessed independently as attributes, namely :"
   ]
  },
  {
   "cell_type": "markdown",
   "id": "34f89096",
   "metadata": {},
   "source": [
    "- Meteo"
   ]
  },
  {
   "cell_type": "code",
   "execution_count": null,
   "id": "32728083",
   "metadata": {},
   "outputs": [],
   "source": [
    "#plt.figure() # xarray uses existing ax if any. You might need to create a new figure to do it separately.\n",
    "b.meteo.Dataset.msl[2,:,:].plot()"
   ]
  },
  {
   "cell_type": "markdown",
   "id": "4c774918",
   "metadata": {},
   "source": [
    "- Grid"
   ]
  },
  {
   "cell_type": "code",
   "execution_count": null,
   "id": "17421837",
   "metadata": {},
   "outputs": [],
   "source": [
    "b.grid.Dataset.hplot.grid(lw=.5, markersize=.2) "
   ]
  },
  {
   "cell_type": "markdown",
   "id": "d5f22ad0",
   "metadata": {},
   "source": [
    "- Dem"
   ]
  },
  {
   "cell_type": "code",
   "execution_count": null,
   "id": "f54befec",
   "metadata": {},
   "outputs": [],
   "source": [
    "b.dem.Dataset.elevation.plot()"
   ]
  },
  {
   "cell_type": "markdown",
   "id": "70ad511a",
   "metadata": {},
   "source": [
    "## Output"
   ]
  },
  {
   "cell_type": "markdown",
   "id": "8a375cc3",
   "metadata": {},
   "source": [
    "The output of the simulations could be in separate files (due to MPI) or specific folders. pyposeidon can incorporate the resulting Datasets with "
   ]
  },
  {
   "cell_type": "code",
   "execution_count": null,
   "id": "ad074fc3",
   "metadata": {},
   "outputs": [],
   "source": [
    "b.get_data() # integrate output"
   ]
  },
  {
   "cell_type": "code",
   "execution_count": null,
   "id": "d1656fc6",
   "metadata": {},
   "outputs": [],
   "source": [
    "out = b.data.Dataset"
   ]
  },
  {
   "cell_type": "code",
   "execution_count": null,
   "id": "66220365",
   "metadata": {},
   "outputs": [],
   "source": [
    "out"
   ]
  },
  {
   "cell_type": "code",
   "execution_count": null,
   "id": "b5e8dd11",
   "metadata": {
    "tags": []
   },
   "outputs": [],
   "source": [
    "out.depth.compute().max(), out.depth.compute().min()"
   ]
  },
  {
   "cell_type": "code",
   "execution_count": null,
   "id": "18259868",
   "metadata": {},
   "outputs": [],
   "source": [
    "out.pplot.grid(lw=.3, markersize=1)"
   ]
  },
  {
   "cell_type": "code",
   "execution_count": null,
   "id": "26898af7",
   "metadata": {},
   "outputs": [],
   "source": [
    "out.pplot.contourf(var='depth' ,vmin=out.depth.min(), vmax=out.depth.max())"
   ]
  },
  {
   "cell_type": "code",
   "execution_count": null,
   "id": "58000b6c",
   "metadata": {},
   "outputs": [],
   "source": [
    "out.pplot.quiver(it = 2, u=out.hvel.values[2,:,0,0],v=out.hvel.values[2,:,0,1],scale=.01, title='hvel', color='k')"
   ]
  },
  {
   "cell_type": "markdown",
   "id": "eb1f0a86",
   "metadata": {},
   "source": [
    "### with hvplot"
   ]
  },
  {
   "cell_type": "code",
   "execution_count": null,
   "id": "d66aa039",
   "metadata": {},
   "outputs": [],
   "source": [
    "out.hplot.contourf(var='depth' , vmin=out.depth.min(), vmax=out.depth.max())#,tiles=True)"
   ]
  },
  {
   "cell_type": "code",
   "execution_count": null,
   "id": "077721a7",
   "metadata": {},
   "outputs": [],
   "source": [
    "out.hplot.grid(width=800, height=400,tiles=True)"
   ]
  },
  {
   "cell_type": "markdown",
   "id": "7ef00581",
   "metadata": {},
   "source": [
    "### Animate"
   ]
  },
  {
   "cell_type": "code",
   "execution_count": null,
   "id": "814d5fec",
   "metadata": {},
   "outputs": [],
   "source": [
    "v = out.pplot.frames(var='elev',title='SSH') # change to hplot for holoviews\n",
    "v"
   ]
  },
  {
   "cell_type": "code",
   "execution_count": null,
   "id": "a57c839e",
   "metadata": {},
   "outputs": [],
   "source": [
    "v.save('test/elev.mp4')"
   ]
  },
  {
   "cell_type": "code",
   "execution_count": null,
   "id": "861dbe9d",
   "metadata": {},
   "outputs": [],
   "source": [
    "out.pplot.qframes(u=out.hvel.values[:,:,0,0],v=out.hvel.values[:,:,0,1],title='Vel',scale=.01)#, color='w')"
   ]
  },
  {
   "cell_type": "markdown",
   "id": "ff8c31c9",
   "metadata": {},
   "source": [
    "## Read Model"
   ]
  },
  {
   "cell_type": "markdown",
   "id": "86890126",
   "metadata": {},
   "source": [
    "If a model is created by pyposeidon then there is a .json file that describes the model. One can read into pyposeidon such a model with "
   ]
  },
  {
   "cell_type": "code",
   "execution_count": null,
   "id": "3dcb389f",
   "metadata": {},
   "outputs": [],
   "source": [
    "a = pyposeidon.read_model('./test/schism/schism_model.json')"
   ]
  },
  {
   "cell_type": "code",
   "execution_count": null,
   "id": "2cb0c496",
   "metadata": {},
   "outputs": [],
   "source": [
    "#a.execute()"
   ]
  },
  {
   "cell_type": "markdown",
   "id": "148fc75f",
   "metadata": {},
   "source": [
    "However, there might be a model created by other means. pyposeidon does it's best to incorporate such model with"
   ]
  },
  {
   "cell_type": "code",
   "execution_count": null,
   "id": "1dd25f0c",
   "metadata": {},
   "outputs": [],
   "source": [
    "c = pm(solver='schism', rfolder = './test/schism/', load_grid=True, load_meteo=True)"
   ]
  },
  {
   "cell_type": "code",
   "execution_count": null,
   "id": "0d8574e3",
   "metadata": {},
   "outputs": [],
   "source": [
    "c.grid.Dataset"
   ]
  },
  {
   "cell_type": "code",
   "execution_count": null,
   "id": "14588ec6",
   "metadata": {},
   "outputs": [],
   "source": [
    "c.meteo.Dataset"
   ]
  },
  {
   "cell_type": "code",
   "execution_count": null,
   "id": "747c58d8",
   "metadata": {},
   "outputs": [],
   "source": []
  }
 ],
 "metadata": {
  "kernelspec": {
   "display_name": "pyPoseidon",
   "language": "python",
   "name": "pyposeidon"
  },
  "language_info": {
   "codemirror_mode": {
    "name": "ipython",
    "version": 3
   },
   "file_extension": ".py",
   "mimetype": "text/x-python",
   "name": "python",
   "nbconvert_exporter": "python",
   "pygments_lexer": "ipython3",
   "version": "3.8.8"
  }
 },
 "nbformat": 4,
 "nbformat_minor": 5
}
