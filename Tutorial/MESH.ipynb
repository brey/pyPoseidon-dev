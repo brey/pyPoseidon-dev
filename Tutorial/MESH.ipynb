{
 "cells": [
  {
   "cell_type": "markdown",
   "id": "c21a9c50",
   "metadata": {},
   "source": [
    "# The Mesh module"
   ]
  },
  {
   "cell_type": "markdown",
   "id": "e1e60f11",
   "metadata": {},
   "source": [
    "The mesh module handles mesh creation/integration based on given boundaries. \n",
    "\n",
    "\n",
    "- Requires:\n",
    "\n",
    "    - The data folder. See [README](README.md) in this folder."
   ]
  },
  {
   "cell_type": "code",
   "execution_count": null,
   "id": "251c6d64",
   "metadata": {},
   "outputs": [],
   "source": [
    "#to use the full width of the browser window\n",
    "from IPython.display import display, HTML\n",
    "display(HTML(\"<style>.container { width:100% !important; }</style>\"))"
   ]
  },
  {
   "cell_type": "code",
   "execution_count": null,
   "id": "5a8598ea",
   "metadata": {},
   "outputs": [],
   "source": [
    "# Not neccessarily needed. Just to check version. Must be >= 0.6\n",
    "import pyposeidon\n",
    "pyposeidon.__version__"
   ]
  },
  {
   "cell_type": "code",
   "execution_count": null,
   "id": "7c9ea006",
   "metadata": {},
   "outputs": [],
   "source": [
    "import pyposeidon.mesh as pmesh"
   ]
  },
  {
   "cell_type": "markdown",
   "id": "8538cc55",
   "metadata": {},
   "source": [
    "### Graphics"
   ]
  },
  {
   "cell_type": "code",
   "execution_count": null,
   "id": "4000cd49",
   "metadata": {},
   "outputs": [],
   "source": [
    "import pyposeidon.utils.pplot"
   ]
  },
  {
   "cell_type": "code",
   "execution_count": null,
   "id": "c99b1d37",
   "metadata": {},
   "outputs": [],
   "source": [
    "import pyposeidon.utils.hplot"
   ]
  },
  {
   "cell_type": "code",
   "execution_count": null,
   "id": "e7911c13",
   "metadata": {},
   "outputs": [],
   "source": [
    "import matplotlib.pyplot as plt"
   ]
  },
  {
   "cell_type": "code",
   "execution_count": null,
   "id": "a6e931e6",
   "metadata": {},
   "outputs": [],
   "source": [
    "#optional\n",
    "#pyposeidon.utils.pplot.__init__(dark_background=True) # set plt style for pplot graphics below"
   ]
  },
  {
   "cell_type": "code",
   "execution_count": null,
   "id": "8e5a31f5",
   "metadata": {},
   "outputs": [],
   "source": [
    "#optional\n",
    "#plt.style.use('dark_background')"
   ]
  },
  {
   "cell_type": "code",
   "execution_count": null,
   "id": "bcbccaf6",
   "metadata": {},
   "outputs": [],
   "source": [
    "%matplotlib widget"
   ]
  },
  {
   "cell_type": "code",
   "execution_count": null,
   "id": "d089efda",
   "metadata": {},
   "outputs": [],
   "source": [
    "#Create a folder to save the output\n",
    "import os\n",
    "if not os.path.exists('test'):\n",
    "            os.makedirs('test')"
   ]
  },
  {
   "cell_type": "markdown",
   "id": "573bfe31",
   "metadata": {},
   "source": [
    "- In order to have within the Notebook the executable binaries installed in the conda env of the Kernel we add the corresponding path to the env PATH. This is not needed when we are running from python."
   ]
  },
  {
   "cell_type": "code",
   "execution_count": null,
   "id": "2f35107d",
   "metadata": {},
   "outputs": [],
   "source": [
    "import numpy as np\n",
    "cpath = np.__path__[0].split('/lib/')[0] # get the current kernel path\n",
    "\n",
    "os.environ['PATH'] += os.pathsep + cpath + '/bin' # add to PATH"
   ]
  },
  {
   "cell_type": "markdown",
   "id": "a50816de",
   "metadata": {},
   "source": [
    "## Setup"
   ]
  },
  {
   "cell_type": "markdown",
   "id": "30ed0d79",
   "metadata": {},
   "source": [
    "The minimum information required is the geometry's extent. In the most simple case that is a lat/lon box that defines the area of interest. Without loss of generality we select below Iceland as a test case. Feel free to modify the coordinates. \n",
    "\n",
    "In addition, the coastlines need to be provided as internal boundaries.\n",
    "\n",
    "Altrenatively, the boundary can be given as a shapefile or GeoDataFrame."
   ]
  },
  {
   "cell_type": "code",
   "execution_count": null,
   "id": "0aba11b3",
   "metadata": {},
   "outputs": [],
   "source": [
    "#define in a dictionary the properties of the model..\n",
    "geometry={'lon_min':-25., # lat/lon window\n",
    "     'lon_max':-9.,\n",
    "     'lat_min':56.,\n",
    "     'lat_max':74.,\n",
    "    }"
   ]
  },
  {
   "cell_type": "code",
   "execution_count": null,
   "id": "a5218577",
   "metadata": {},
   "outputs": [],
   "source": [
    "# use cartopy to get coastlines\n",
    "import cartopy.feature as cf\n",
    "\n",
    "cr='i'\n",
    "\n",
    "coast = cf.NaturalEarthFeature(\n",
    "    category='physical',\n",
    "    name='land',\n",
    "    scale='{}m'.format({'l':110, 'i':50, 'h':10}[cr]))"
   ]
  },
  {
   "cell_type": "code",
   "execution_count": null,
   "id": "50135eeb",
   "metadata": {},
   "outputs": [],
   "source": [
    "import geopandas as gp\n",
    "ne_i = gp.GeoDataFrame(geometry = [x for x in coast.geometries()])"
   ]
  },
  {
   "cell_type": "markdown",
   "id": "ad48113b",
   "metadata": {},
   "source": [
    "We need to provide the type of element that we want (for now 'r2d' or 'tri2d' ) and the engine for grid generation ('jigsaw' or 'gmsh')."
   ]
  },
  {
   "cell_type": "code",
   "execution_count": null,
   "id": "8a7d22de",
   "metadata": {},
   "outputs": [],
   "source": [
    "mesh = pmesh.set(type='tri2d', geometry=geometry, \n",
    "                 coastlines = ne_i, \n",
    "                 mesh_generator = 'gmsh', \n",
    "                 use_bindings=False)"
   ]
  },
  {
   "cell_type": "code",
   "execution_count": null,
   "id": "5df9dbb8",
   "metadata": {},
   "outputs": [],
   "source": [
    "mesh.Dataset"
   ]
  },
  {
   "cell_type": "markdown",
   "id": "8b923edc",
   "metadata": {},
   "source": [
    "**TIP** : You can change the mesh generator above with  mesh_generator = 'gmsh'."
   ]
  },
  {
   "cell_type": "markdown",
   "id": "7de02a09",
   "metadata": {},
   "source": [
    "## Visualize"
   ]
  },
  {
   "cell_type": "markdown",
   "id": "6f3c9a40",
   "metadata": {
    "tags": []
   },
   "source": [
    "- with Matplolib"
   ]
  },
  {
   "cell_type": "code",
   "execution_count": null,
   "id": "46d29ba2",
   "metadata": {},
   "outputs": [],
   "source": [
    "mesh.Dataset.pplot.mesh()"
   ]
  },
  {
   "cell_type": "markdown",
   "id": "8a00f984",
   "metadata": {},
   "source": [
    "One can overlay the coastlines on the graph with "
   ]
  },
  {
   "cell_type": "code",
   "execution_count": null,
   "id": "892054ab",
   "metadata": {},
   "outputs": [],
   "source": [
    "aa=plt.gca()\n",
    "ne_i.boundary.plot(ax=aa,color='orange')"
   ]
  },
  {
   "cell_type": "markdown",
   "id": "c14b6157",
   "metadata": {
    "tags": []
   },
   "source": [
    "- with Holoviews"
   ]
  },
  {
   "cell_type": "code",
   "execution_count": null,
   "id": "fef4fcfd",
   "metadata": {},
   "outputs": [],
   "source": [
    "mesh.Dataset.hplot.mesh(tiles=True) "
   ]
  },
  {
   "cell_type": "markdown",
   "id": "e6ce3380",
   "metadata": {},
   "source": [
    "## Control mesh size"
   ]
  },
  {
   "cell_type": "markdown",
   "id": "f110ec7f",
   "metadata": {},
   "source": [
    "Better control on the mesh size can be obtained by providing a background control function usually in the form of a scaled DEM. One way to achieve this is to give as argument a dem file, like : "
   ]
  },
  {
   "cell_type": "code",
   "execution_count": null,
   "id": "e0ecff20",
   "metadata": {},
   "outputs": [],
   "source": [
    "mesh = pmesh.set(type='tri2d', geometry=geometry, coastlines = ne_i, mesh_generator = 'gmsh', \n",
    "               dem_source='data/dem.nc', resolution_min=0.01, resolution_max=.5,\n",
    "                bg_dem=True,\n",
    "                 bg_dem_grad=True,\n",
    "                 min_edge_length=0.01,\n",
    "                 max_edge_length=.5,\n",
    "                 slope_parameter = 50\n",
    ")"
   ]
  },
  {
   "cell_type": "code",
   "execution_count": null,
   "id": "054d9310",
   "metadata": {},
   "outputs": [],
   "source": [
    "# The background scale function is..\n",
    "plt.figure()\n",
    "mesh.bgmesh[0].h.plot()"
   ]
  },
  {
   "cell_type": "code",
   "execution_count": null,
   "id": "d7f5c99e-168f-432f-b8a9-49c090ad9881",
   "metadata": {},
   "outputs": [],
   "source": [
    "# The background gradient scale function is..\n",
    "plt.figure()\n",
    "mesh.bgmesh[1].h.plot()"
   ]
  },
  {
   "cell_type": "code",
   "execution_count": null,
   "id": "63b541e3",
   "metadata": {},
   "outputs": [],
   "source": [
    "mesh.Dataset.pplot.mesh()"
   ]
  },
  {
   "cell_type": "markdown",
   "id": "09e0956a",
   "metadata": {},
   "source": [
    "**TIP** : Change the grid generator above with  grid_generator = 'gmsh' to see how gmsh would do it."
   ]
  },
  {
   "cell_type": "markdown",
   "id": "0d80603f",
   "metadata": {},
   "source": [
    "## Output"
   ]
  },
  {
   "cell_type": "code",
   "execution_count": null,
   "id": "c3c86717",
   "metadata": {},
   "outputs": [],
   "source": [
    "mesh.to_file('./test/hgrid.gr3')"
   ]
  },
  {
   "cell_type": "markdown",
   "id": "d082fd69",
   "metadata": {},
   "source": [
    "## Read a given grid"
   ]
  },
  {
   "cell_type": "code",
   "execution_count": null,
   "id": "748f91d7",
   "metadata": {},
   "outputs": [],
   "source": [
    "m = pmesh.set(type='tri2d',mesh_file='./test/hgrid.gr3')"
   ]
  },
  {
   "cell_type": "code",
   "execution_count": null,
   "id": "e25a7958",
   "metadata": {},
   "outputs": [],
   "source": [
    "m.Dataset"
   ]
  },
  {
   "cell_type": "markdown",
   "id": "921a0d3e",
   "metadata": {},
   "source": [
    "### Mesh Validation"
   ]
  },
  {
   "cell_type": "markdown",
   "id": "b9bfc81a",
   "metadata": {},
   "source": [
    "If you model is SCHISM, the mesh can be validated against it as "
   ]
  },
  {
   "cell_type": "code",
   "execution_count": null,
   "id": "3d2282b3",
   "metadata": {},
   "outputs": [],
   "source": [
    "m.validate(rpath='./test/val/', scribes=0)"
   ]
  },
  {
   "cell_type": "markdown",
   "id": "902c02a3",
   "metadata": {},
   "source": [
    "### Mesh Verification"
   ]
  },
  {
   "cell_type": "markdown",
   "id": "0c182bd3",
   "metadata": {},
   "source": [
    "The mesh is created with a specific boundary defined, usually, as a coastline. In order to check whether that coastline is crossed by the generated mesh we can use :"
   ]
  },
  {
   "cell_type": "code",
   "execution_count": null,
   "id": "ae38d9e1",
   "metadata": {},
   "outputs": [],
   "source": [
    "m.verify(coastlines=ne_i)"
   ]
  },
  {
   "cell_type": "markdown",
   "id": "4871d54d",
   "metadata": {},
   "source": [
    "*Note* : This is still under development and there is no distiction between 'intersection' and 'touch' for the grid. That is, the nodes could very well be **on** the boundary as they should. "
   ]
  }
 ],
 "metadata": {
  "kernelspec": {
   "display_name": "dev",
   "language": "python",
   "name": "dev"
  },
  "language_info": {
   "codemirror_mode": {
    "name": "ipython",
    "version": 3
   },
   "file_extension": ".py",
   "mimetype": "text/x-python",
   "name": "python",
   "nbconvert_exporter": "python",
   "pygments_lexer": "ipython3",
   "version": "3.10.13"
  }
 },
 "nbformat": 4,
 "nbformat_minor": 5
}
