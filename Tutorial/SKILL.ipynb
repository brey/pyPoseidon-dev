{
 "cells": [
  {
   "cell_type": "markdown",
   "id": "519fe964",
   "metadata": {
    "tags": []
   },
   "source": [
    "# Forecast Skill"
   ]
  },
  {
   "cell_type": "markdown",
   "id": "1bc0c07c",
   "metadata": {},
   "source": [
    "Validation of operational systems usually includes skill assessment. This Notebook outlines the procedure using `pyposeidon`. \n",
    "\n",
    "\n",
    "- Requires:\n",
    "\n",
    "    - The data folder. See [README](README.md) in this folder.\n",
    "\n",
    "    - The output of the [FORECAST](./FORECAST.ipynb) Notebook."
   ]
  },
  {
   "cell_type": "code",
   "execution_count": null,
   "id": "ad4fa4d1",
   "metadata": {},
   "outputs": [],
   "source": [
    "#to use the full width of the browser window\n",
    "from IPython.display import display, HTML\n",
    "display(HTML(\"<style>.container { width:100% !important; }</style>\"))"
   ]
  },
  {
   "cell_type": "code",
   "execution_count": null,
   "id": "b3cbe861",
   "metadata": {},
   "outputs": [],
   "source": [
    "# Not neccessarily needed. Just to check version. Must be >= 0.6\n",
    "import pyposeidon\n",
    "pyposeidon.__version__"
   ]
  },
  {
   "cell_type": "code",
   "execution_count": null,
   "id": "74a1ab05",
   "metadata": {},
   "outputs": [],
   "source": [
    "import pyposeidon.model as pm"
   ]
  },
  {
   "cell_type": "code",
   "execution_count": null,
   "id": "e71e22e3",
   "metadata": {},
   "outputs": [],
   "source": [
    "import matplotlib.pyplot as plt"
   ]
  },
  {
   "cell_type": "code",
   "execution_count": null,
   "id": "cf2569a4",
   "metadata": {},
   "outputs": [],
   "source": [
    "%matplotlib widget"
   ]
  },
  {
   "cell_type": "markdown",
   "id": "9d2bc0e3",
   "metadata": {},
   "source": [
    "### Graphics"
   ]
  },
  {
   "cell_type": "code",
   "execution_count": null,
   "id": "66d5c8a6",
   "metadata": {},
   "outputs": [],
   "source": [
    "import pyposeidon.utils.pplot # initialize matplolib accessor"
   ]
  },
  {
   "cell_type": "code",
   "execution_count": null,
   "id": "ba12b66b",
   "metadata": {},
   "outputs": [],
   "source": [
    "#optional\n",
    "#pyposeidon.utils.pplot.__init__(dark_background=True) # set plt style for pplot graphics below"
   ]
  },
  {
   "cell_type": "code",
   "execution_count": null,
   "id": "34d3102c",
   "metadata": {},
   "outputs": [],
   "source": [
    "import pyposeidon.utils.hplot # initialize pyviz accessor"
   ]
  },
  {
   "cell_type": "markdown",
   "id": "56f3744a",
   "metadata": {},
   "source": [
    "- In order to have within the Notebook the executable binaries installed in the conda env of the Kernel we add the corresponding path to the env `PATH`. This is not needed when we are running from python."
   ]
  },
  {
   "cell_type": "code",
   "execution_count": null,
   "id": "a9dae22f",
   "metadata": {},
   "outputs": [],
   "source": [
    "#Create a folder to save the output\n",
    "import os\n",
    "if not os.path.exists('test'):\n",
    "            os.makedirs('test')"
   ]
  },
  {
   "cell_type": "code",
   "execution_count": null,
   "id": "40d16b5d",
   "metadata": {},
   "outputs": [],
   "source": [
    "import numpy\n",
    "cpath = numpy.__path__[0].split('/lib/')[0] # get the current kernel path\n",
    "\n",
    "os.environ['PATH'] += os.pathsep + cpath + '/bin' # add to PATH"
   ]
  },
  {
   "cell_type": "markdown",
   "id": "c4cf1607",
   "metadata": {},
   "source": [
    "## Setup"
   ]
  },
  {
   "cell_type": "markdown",
   "id": "8aed3d11",
   "metadata": {},
   "source": [
    "We will use the output of the [FORECAST](./FORECAST.ipynb) Notebook. Make sure you have executed that before.\n"
   ]
  },
  {
   "cell_type": "markdown",
   "id": "33e32108",
   "metadata": {},
   "source": [
    "The runs are all in different folders and we want to consolidate the station time series.\n",
    "\n",
    "* Note that because of the overlaping time frames we have a number of forecasted values per location, based on the frequence of the forecasts."
   ]
  },
  {
   "cell_type": "markdown",
   "id": "36b62aaa",
   "metadata": {},
   "source": [
    "We define the folders involved"
   ]
  },
  {
   "cell_type": "code",
   "execution_count": null,
   "id": "7e9e0937",
   "metadata": {},
   "outputs": [],
   "source": [
    "import glob"
   ]
  },
  {
   "cell_type": "code",
   "execution_count": null,
   "id": "4bc84ac4",
   "metadata": {},
   "outputs": [],
   "source": [
    "folders = glob.glob('./test/forecast/*')\n",
    "folders.sort()\n",
    "folders"
   ]
  },
  {
   "cell_type": "markdown",
   "id": "a964f354",
   "metadata": {},
   "source": [
    "We combine all available data with"
   ]
  },
  {
   "cell_type": "code",
   "execution_count": null,
   "id": "611a3076",
   "metadata": {},
   "outputs": [],
   "source": [
    "from pyposeidon.utils.post import to_thalassa"
   ]
  },
  {
   "cell_type": "code",
   "execution_count": null,
   "id": "de988751",
   "metadata": {},
   "outputs": [],
   "source": [
    "to_thalassa(folders,freq=6, rpath='./test/thalassa/')"
   ]
  },
  {
   "cell_type": "code",
   "execution_count": null,
   "id": "42a48d06",
   "metadata": {},
   "outputs": [],
   "source": [
    "import xarray as xr"
   ]
  },
  {
   "cell_type": "code",
   "execution_count": null,
   "id": "a1852016",
   "metadata": {},
   "outputs": [],
   "source": [
    "vdata = xr.open_dataset('./test/thalassa/fskill.nc')"
   ]
  },
  {
   "cell_type": "code",
   "execution_count": null,
   "id": "5babebe5",
   "metadata": {},
   "outputs": [],
   "source": [
    "vdata"
   ]
  },
  {
   "cell_type": "code",
   "execution_count": null,
   "id": "4a4cd5d6",
   "metadata": {},
   "outputs": [],
   "source": [
    "#select node\n",
    "node = vdata.sel(node=1)"
   ]
  },
  {
   "cell_type": "code",
   "execution_count": null,
   "id": "401319f3",
   "metadata": {},
   "outputs": [],
   "source": [
    "plt.figure()\n",
    "node.elevation.dropna(dim='time').plot(color='r',label='model')\n",
    "node.observation.dropna(dim='time').plot(label='obsrv')\n",
    "plt.legend()"
   ]
  },
  {
   "cell_type": "markdown",
   "id": "cab66dff",
   "metadata": {},
   "source": [
    "## Estimate forecasting skill"
   ]
  },
  {
   "cell_type": "code",
   "execution_count": null,
   "id": "a19a5a59",
   "metadata": {},
   "outputs": [],
   "source": [
    "#Visualize all forecasts plots\n",
    "plt.figure()\n",
    "vdata.isel(node=1).forecast.plot.line(x='ftime')"
   ]
  },
  {
   "cell_type": "markdown",
   "id": "04d7891a",
   "metadata": {},
   "source": [
    "Using the dataset (vdata), the indicator (RMSE) and the node (1) we can get the relative skill for 12,24,36,48,60,72 forecast lead time"
   ]
  },
  {
   "cell_type": "code",
   "execution_count": null,
   "id": "06a63255",
   "metadata": {},
   "outputs": [],
   "source": [
    "from pyposeidon.utils.post import fskill"
   ]
  },
  {
   "cell_type": "code",
   "execution_count": null,
   "id": "d5da4c22",
   "metadata": {},
   "outputs": [],
   "source": [
    "rr = fskill(vdata,'RMSE',1)\n",
    "rr"
   ]
  }
 ],
 "metadata": {
  "kernelspec": {
   "display_name": "pyPoseidon",
   "language": "python",
   "name": "pyposeidon"
  },
  "language_info": {
   "codemirror_mode": {
    "name": "ipython",
    "version": 3
   },
   "file_extension": ".py",
   "mimetype": "text/x-python",
   "name": "python",
   "nbconvert_exporter": "python",
   "pygments_lexer": "ipython3",
   "version": "3.8.12"
  }
 },
 "nbformat": 4,
 "nbformat_minor": 5
}
