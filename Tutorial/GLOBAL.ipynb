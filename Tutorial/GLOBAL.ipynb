{
 "cells": [
  {
   "cell_type": "markdown",
   "id": "74a966f1",
   "metadata": {},
   "source": [
    "# Global Mesh"
   ]
  },
  {
   "cell_type": "markdown",
   "id": "8113be08",
   "metadata": {},
   "source": [
    "This Notebook presents the workflow for developing global meshes. \n",
    "\n",
    "\n",
    "- Requires:\n",
    "\n",
    "    - The data folder. See [README](README.md) in this folder."
   ]
  },
  {
   "cell_type": "code",
   "execution_count": null,
   "id": "84e5ce80",
   "metadata": {},
   "outputs": [],
   "source": [
    "#to use the full width of the browser window\n",
    "from IPython.display import display, HTML\n",
    "display(HTML(\"<style>.container { width:100% !important; }</style>\"))"
   ]
  },
  {
   "cell_type": "code",
   "execution_count": null,
   "id": "b3f22a55",
   "metadata": {},
   "outputs": [],
   "source": [
    "# Not neccessarily needed. Just to check version. Must be >= 0.6\n",
    "import pyposeidon\n",
    "pyposeidon.__version__"
   ]
  },
  {
   "cell_type": "code",
   "execution_count": null,
   "id": "990f13ba",
   "metadata": {},
   "outputs": [],
   "source": [
    "import pyposeidon.mesh as pmesh"
   ]
  },
  {
   "cell_type": "markdown",
   "id": "b32e9527",
   "metadata": {},
   "source": [
    "### Graphics"
   ]
  },
  {
   "cell_type": "code",
   "execution_count": null,
   "id": "c107f799",
   "metadata": {},
   "outputs": [],
   "source": [
    "import pyposeidon.utils.pplot"
   ]
  },
  {
   "cell_type": "code",
   "execution_count": null,
   "id": "30890bf0",
   "metadata": {},
   "outputs": [],
   "source": [
    "import pyposeidon.utils.mplot"
   ]
  },
  {
   "cell_type": "code",
   "execution_count": null,
   "id": "1596278c",
   "metadata": {},
   "outputs": [],
   "source": [
    "#import pyposeidon.utils.hplot"
   ]
  },
  {
   "cell_type": "code",
   "execution_count": null,
   "id": "341e222c",
   "metadata": {},
   "outputs": [],
   "source": [
    "import matplotlib.pyplot as plt"
   ]
  },
  {
   "cell_type": "code",
   "execution_count": null,
   "id": "2f95510c",
   "metadata": {},
   "outputs": [],
   "source": [
    "import matplotlib as mpl\n",
    "mpl.rcParams['agg.path.chunksize'] = 10000"
   ]
  },
  {
   "cell_type": "code",
   "execution_count": null,
   "id": "e519db2a",
   "metadata": {},
   "outputs": [],
   "source": [
    "#optional\n",
    "#pyposeidon.utils.pplot.__init__(dark_background=True) # set plt style for pplot graphics below"
   ]
  },
  {
   "cell_type": "code",
   "execution_count": null,
   "id": "dcd07739",
   "metadata": {},
   "outputs": [],
   "source": [
    "#optional\n",
    "#plt.style.use('dark_background')"
   ]
  },
  {
   "cell_type": "code",
   "execution_count": null,
   "id": "4560eb2f",
   "metadata": {},
   "outputs": [],
   "source": [
    "%matplotlib widget"
   ]
  },
  {
   "cell_type": "code",
   "execution_count": null,
   "id": "1e94d4a0",
   "metadata": {},
   "outputs": [],
   "source": [
    "#Create a folder to save the output\n",
    "import os\n",
    "if not os.path.exists('test'):\n",
    "            os.makedirs('test')"
   ]
  },
  {
   "cell_type": "markdown",
   "id": "4bc113dc",
   "metadata": {},
   "source": [
    "- In order to have within the Notebook the executable binaries installed in the conda env of the Kernel we add the corresponding path to the env `PATH`. This is not needed when we are running from python."
   ]
  },
  {
   "cell_type": "code",
   "execution_count": null,
   "id": "85ad5ddb",
   "metadata": {},
   "outputs": [],
   "source": [
    "import numpy as np\n",
    "cpath = np.__path__[0].split('/lib/')[0] # get the current kernel path\n",
    "\n",
    "os.environ['PATH'] += os.pathsep + cpath + '/bin' # add to PATH"
   ]
  },
  {
   "cell_type": "markdown",
   "id": "837f38ee",
   "metadata": {},
   "source": [
    "## Setup"
   ]
  },
  {
   "cell_type": "markdown",
   "id": "fb9c0c84",
   "metadata": {},
   "source": [
    "The minimum information required is the corresponding coastlines. They can be in a form that `geopandas` can read or in a `GeoDataFrame`."
   ]
  },
  {
   "cell_type": "code",
   "execution_count": null,
   "id": "3015cad2",
   "metadata": {},
   "outputs": [],
   "source": [
    "import geopandas as gp"
   ]
  },
  {
   "cell_type": "code",
   "execution_count": null,
   "id": "22157dd8",
   "metadata": {},
   "outputs": [],
   "source": [
    "w = gp.read_file('./data/ocean/ocean.shp')"
   ]
  },
  {
   "cell_type": "code",
   "execution_count": null,
   "id": "dd3c89cc",
   "metadata": {},
   "outputs": [],
   "source": [
    "w.plot()"
   ]
  },
  {
   "cell_type": "markdown",
   "id": "786c00b6",
   "metadata": {},
   "source": [
    "We define \"areametry\" as \"global\" and the engine for grid generation ('jigsaw' or 'gmsh').\n",
    "\n",
    "*Note*: There is no default and the user needs to specify one."
   ]
  },
  {
   "cell_type": "code",
   "execution_count": null,
   "id": "0877f7f8",
   "metadata": {},
   "outputs": [],
   "source": [
    "mesh = pmesh.set(type='tri2d', geometry='global', coastlines = w, mesh_generator = 'gmsh', rpath='./global/' \n",
    "               ,use_bindings=True, #set this to False for gmsh binary\n",
    "              )"
   ]
  },
  {
   "cell_type": "code",
   "execution_count": null,
   "id": "fb559c05",
   "metadata": {},
   "outputs": [],
   "source": [
    "mesh.Dataset"
   ]
  },
  {
   "cell_type": "markdown",
   "id": "d6c20d63",
   "metadata": {},
   "source": [
    "**TIP** : You can change the mesh generator above with  mesh_generator = 'gmsh'."
   ]
  },
  {
   "cell_type": "markdown",
   "id": "7c7813ec",
   "metadata": {},
   "source": [
    "## Visualize"
   ]
  },
  {
   "cell_type": "markdown",
   "id": "5b0dda29",
   "metadata": {
    "tags": []
   },
   "source": [
    "- with mayavi/pyvista in 3D"
   ]
  },
  {
   "cell_type": "code",
   "execution_count": null,
   "id": "d4c4e8ff",
   "metadata": {},
   "outputs": [],
   "source": [
    "#mesh.Dataset.mplot.mesh(dim='3D')"
   ]
  },
  {
   "cell_type": "markdown",
   "id": "14e16305",
   "metadata": {},
   "source": [
    "## Control mesh size"
   ]
  },
  {
   "cell_type": "markdown",
   "id": "582128aa",
   "metadata": {},
   "source": [
    "Better control on the mesh size can be obtained by providing a background control function usually in the form of a scaled DEM. One way to achieve this is to give as argument a dem file, like : "
   ]
  },
  {
   "cell_type": "code",
   "execution_count": null,
   "id": "4cf6b436",
   "metadata": {},
   "outputs": [],
   "source": [
    "mesh = pmesh.set(type='tri2d', geometry='global', coastlines = w, mesh_generator = 'gmsh', \n",
    "                rpath = './global/scaled',\n",
    "                dem_source='./data/dem.nc', \n",
    "                resolution_min=0.001, resolution_max=.08,\n",
    "                use_bindings=False, #set this to True for gmsh python bindings\n",
    "                DistMin=.0, DistMax=.01, SizeMin=.005, SizeMax=.02, MeshSizeMin=.001,MeshSizeMax=0.05, # GMSH additional settings\n",
    "                bg_dem=True,\n",
    "                bg_dem_grad=True,\n",
    "                min_edge_length=0.001,\n",
    "                max_edge_length=.05,\n",
    "                slope_parameter = 1000\n",
    "                )"
   ]
  },
  {
   "cell_type": "code",
   "execution_count": null,
   "id": "79e2815d",
   "metadata": {},
   "outputs": [],
   "source": [
    "mesh.boundary.contours.plot()"
   ]
  },
  {
   "cell_type": "code",
   "execution_count": null,
   "id": "4fe9a602",
   "metadata": {},
   "outputs": [],
   "source": [
    "mesh.bgmesh[0].pplot.mesh()"
   ]
  },
  {
   "cell_type": "code",
   "execution_count": null,
   "id": "f4b39bbb",
   "metadata": {},
   "outputs": [],
   "source": [
    "mesh.bgmesh[0].pplot.contourf(var='h')"
   ]
  },
  {
   "cell_type": "code",
   "execution_count": null,
   "id": "7d0fc4b2-5fe0-432c-a4db-e340893bf31d",
   "metadata": {},
   "outputs": [],
   "source": [
    "mesh.bgmesh[1].pplot.contourf(var='h')"
   ]
  },
  {
   "cell_type": "code",
   "execution_count": null,
   "id": "71fa5622-2de3-4f11-9e73-1b444341dcea",
   "metadata": {},
   "outputs": [],
   "source": [
    "mesh.Dataset.pplot.mesh()#dim='3D')"
   ]
  },
  {
   "cell_type": "code",
   "execution_count": null,
   "id": "6ee0afc8",
   "metadata": {},
   "outputs": [],
   "source": [
    "mesh.Dataset"
   ]
  },
  {
   "cell_type": "markdown",
   "id": "a2e8d850",
   "metadata": {},
   "source": [
    "**TIP** : Change the grid generator above with  grid_generator = 'jigsaw' to see how `jigsaw` would do it."
   ]
  },
  {
   "cell_type": "markdown",
   "id": "dc004078",
   "metadata": {},
   "source": [
    "## Output"
   ]
  },
  {
   "cell_type": "code",
   "execution_count": null,
   "id": "d6a0a92d",
   "metadata": {},
   "outputs": [],
   "source": [
    "mesh.to_file('./global/hgrid.gr3')"
   ]
  },
  {
   "cell_type": "markdown",
   "id": "777f1fce",
   "metadata": {},
   "source": [
    "## Read a given grid"
   ]
  },
  {
   "cell_type": "code",
   "execution_count": null,
   "id": "2e288218",
   "metadata": {},
   "outputs": [],
   "source": [
    "m = pmesh.set(type='tri2d',mesh_file='./global/hgrid.gr3')"
   ]
  },
  {
   "cell_type": "markdown",
   "id": "836800f0",
   "metadata": {},
   "source": [
    "### Mesh Validation"
   ]
  },
  {
   "cell_type": "markdown",
   "id": "aac29ad6",
   "metadata": {},
   "source": [
    "If you model is SCHISM, the mesh can be validated against it as "
   ]
  },
  {
   "cell_type": "code",
   "execution_count": null,
   "id": "f81076c8",
   "metadata": {},
   "outputs": [],
   "source": [
    "mesh.validate(rpath='./global/val/', scribes=0)"
   ]
  },
  {
   "cell_type": "markdown",
   "id": "b14c6772",
   "metadata": {},
   "source": [
    "### Mesh Verification"
   ]
  },
  {
   "cell_type": "markdown",
   "id": "7f81b1e1",
   "metadata": {},
   "source": [
    "The mesh is created with a specific boundary defined, usually, as a coastline. In order to check whether that coastline is crossed by the generated grid we can use :"
   ]
  },
  {
   "cell_type": "code",
   "execution_count": null,
   "id": "cc97d5bd",
   "metadata": {},
   "outputs": [],
   "source": [
    "mesh.verify(coastlines=w)"
   ]
  },
  {
   "cell_type": "markdown",
   "id": "f964663e",
   "metadata": {},
   "source": [
    "*Note* : This is still under development and there is no distiction between 'intersection' and 'touch' for the grid. That is, the nodes could very well be **on** the boundary as they should. "
   ]
  }
 ],
 "metadata": {
  "kernelspec": {
   "display_name": "dev",
   "language": "python",
   "name": "dev"
  },
  "language_info": {
   "codemirror_mode": {
    "name": "ipython",
    "version": 3
   },
   "file_extension": ".py",
   "mimetype": "text/x-python",
   "name": "python",
   "nbconvert_exporter": "python",
   "pygments_lexer": "ipython3",
   "version": "3.10.13"
  }
 },
 "nbformat": 4,
 "nbformat_minor": 5
}
