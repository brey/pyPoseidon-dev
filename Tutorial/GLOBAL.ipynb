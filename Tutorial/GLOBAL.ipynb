{
 "cells": [
  {
   "cell_type": "markdown",
   "id": "2b85ac2c",
   "metadata": {},
   "source": [
    "# Global Mesh"
   ]
  },
  {
   "cell_type": "markdown",
   "id": "7b19cf33",
   "metadata": {},
   "source": [
    "This Notebook presents the workflow for developing global meshes. \n",
    "\n",
    "\n",
    "- Requires:\n",
    "\n",
    "    - The data folder. See [README](README.md) in this folder."
   ]
  },
  {
   "cell_type": "code",
   "execution_count": null,
   "id": "69eb2198",
   "metadata": {},
   "outputs": [],
   "source": [
    "#to use the full width of the browser window\n",
    "from IPython.display import display, HTML\n",
    "display(HTML(\"<style>.container { width:100% !important; }</style>\"))"
   ]
  },
  {
   "cell_type": "code",
   "execution_count": null,
   "id": "c82ebb80",
   "metadata": {},
   "outputs": [],
   "source": [
    "# Not neccessarily needed. Just to check version. Must be >= 0.6\n",
    "import pyposeidon\n",
    "pyposeidon.__version__"
   ]
  },
  {
   "cell_type": "code",
   "execution_count": null,
   "id": "1c1ce291",
   "metadata": {},
   "outputs": [],
   "source": [
    "import pyposeidon.mesh as pmesh"
   ]
  },
  {
   "cell_type": "markdown",
   "id": "d6c23769",
   "metadata": {},
   "source": [
    "### Graphics"
   ]
  },
  {
   "cell_type": "code",
   "execution_count": null,
   "id": "f56938e8",
   "metadata": {},
   "outputs": [],
   "source": [
    "import pyposeidon.utils.pplot"
   ]
  },
  {
   "cell_type": "code",
   "execution_count": null,
   "id": "2f5fbd24",
   "metadata": {},
   "outputs": [],
   "source": [
    "import pyposeidon.utils.mplot"
   ]
  },
  {
   "cell_type": "code",
   "execution_count": null,
   "id": "6dc9ddcb",
   "metadata": {},
   "outputs": [],
   "source": [
    "#import pyposeidon.utils.hplot"
   ]
  },
  {
   "cell_type": "code",
   "execution_count": null,
   "id": "ef704059",
   "metadata": {},
   "outputs": [],
   "source": [
    "import matplotlib.pyplot as plt"
   ]
  },
  {
   "cell_type": "code",
   "execution_count": null,
   "id": "cdd992ca",
   "metadata": {},
   "outputs": [],
   "source": [
    "import matplotlib as mpl\n",
    "mpl.rcParams['agg.path.chunksize'] = 10000"
   ]
  },
  {
   "cell_type": "code",
   "execution_count": null,
   "id": "5e1411b9",
   "metadata": {},
   "outputs": [],
   "source": [
    "#optional\n",
    "#pyposeidon.utils.pplot.__init__(dark_background=True) # set plt style for pplot graphics below"
   ]
  },
  {
   "cell_type": "code",
   "execution_count": null,
   "id": "29085125",
   "metadata": {},
   "outputs": [],
   "source": [
    "#optional\n",
    "#plt.style.use('dark_background')"
   ]
  },
  {
   "cell_type": "code",
   "execution_count": null,
   "id": "3909fbb7",
   "metadata": {},
   "outputs": [],
   "source": [
    "%matplotlib widget"
   ]
  },
  {
   "cell_type": "code",
   "execution_count": null,
   "id": "f349932a",
   "metadata": {},
   "outputs": [],
   "source": [
    "#Create a folder to save the output\n",
    "import os\n",
    "if not os.path.exists('test'):\n",
    "            os.makedirs('test')"
   ]
  },
  {
   "cell_type": "markdown",
   "id": "4c1e8eda",
   "metadata": {},
   "source": [
    "- In order to have within the Notebook the executable binaries installed in the conda env of the Kernel we add the corresponding path to the env `PATH`. This is not needed when we are running from python."
   ]
  },
  {
   "cell_type": "code",
   "execution_count": null,
   "id": "ee5e5607",
   "metadata": {},
   "outputs": [],
   "source": [
    "import numpy as np\n",
    "cpath = np.__path__[0].split('/lib/')[0] # get the current kernel path\n",
    "\n",
    "os.environ['PATH'] += os.pathsep + cpath + '/bin' # add to PATH"
   ]
  },
  {
   "cell_type": "markdown",
   "id": "2b8dd5fb",
   "metadata": {},
   "source": [
    "## Setup"
   ]
  },
  {
   "cell_type": "markdown",
   "id": "6a264231",
   "metadata": {},
   "source": [
    "The minimum information required is the corresponding coastlines. They can be in a form that `geopandas` can read or in a `GeoDataFrame`."
   ]
  },
  {
   "cell_type": "code",
   "execution_count": null,
   "id": "ffc514fb",
   "metadata": {},
   "outputs": [],
   "source": [
    "import geopandas as gp"
   ]
  },
  {
   "cell_type": "code",
   "execution_count": null,
   "id": "3bb5a6f8",
   "metadata": {},
   "outputs": [],
   "source": [
    "w = gp.read_file('./data/ocean.zip')"
   ]
  },
  {
   "cell_type": "code",
   "execution_count": null,
   "id": "4fe121ad",
   "metadata": {},
   "outputs": [],
   "source": [
    "w.plot()"
   ]
  },
  {
   "cell_type": "markdown",
   "id": "d4cc35da",
   "metadata": {},
   "source": [
    "We define \"areametry\" as \"global\" and the engine for grid generation ('jigsaw' or 'gmsh').\n",
    "\n",
    "*Note*: There is no default and the user needs to specify one."
   ]
  },
  {
   "cell_type": "code",
   "execution_count": null,
   "id": "747ec7cc",
   "metadata": {},
   "outputs": [],
   "source": [
    "mesh = pmesh.set(type='tri2d', geometry='global', coastlines = w, mesh_generator = 'gmsh', rpath='./test/global/' \n",
    "               ,use_bindings=True, #set this to False for gmsh binary\n",
    "              )"
   ]
  },
  {
   "cell_type": "code",
   "execution_count": null,
   "id": "01ec7b29",
   "metadata": {},
   "outputs": [],
   "source": [
    "mesh.Dataset"
   ]
  },
  {
   "cell_type": "markdown",
   "id": "7779b303",
   "metadata": {},
   "source": [
    "**TIP** : You can change the grid generator above with  grid_generator = 'gmsh'."
   ]
  },
  {
   "cell_type": "markdown",
   "id": "e5b4b352",
   "metadata": {},
   "source": [
    "## Visualize"
   ]
  },
  {
   "cell_type": "markdown",
   "id": "36398f99",
   "metadata": {
    "tags": []
   },
   "source": [
    "- with mayavi/pyvista in 3D"
   ]
  },
  {
   "cell_type": "code",
   "execution_count": null,
   "id": "85eae4f4",
   "metadata": {},
   "outputs": [],
   "source": [
    "mesh.Dataset.mplot.mesh(dim='3D')"
   ]
  },
  {
   "cell_type": "markdown",
   "id": "2aa67cbd",
   "metadata": {},
   "source": [
    "## Control mesh size"
   ]
  },
  {
   "cell_type": "markdown",
   "id": "b07bdd47",
   "metadata": {},
   "source": [
    "Better control on the mesh size can be obtained by providing a background control function usually in the form of a scaled DEM. One way to achieve this is to give as argument a dem file, like : "
   ]
  },
  {
   "cell_type": "code",
   "execution_count": null,
   "id": "0662295b",
   "metadata": {},
   "outputs": [],
   "source": [
    "mesh = pmesh.set(type='tri2d', geometry='global', coastlines = w, mesh_generator = 'gmsh', \n",
    "                rpath = './test/global/',\n",
    "                dem_source='./data/dem.nc', \n",
    "                resolution_min=0.001, resolution_max=.03,\n",
    "                use_bindings=False, #set this to True for gmsh python bindings\n",
    "               DistMin=.0, DistMax=.1, SizeMin=.005, SizeMax=.02, MeshSizeMin=.001,MeshSizeMax=0.05, # GMSH additional settings\n",
    "              )"
   ]
  },
  {
   "cell_type": "code",
   "execution_count": null,
   "id": "366f3517",
   "metadata": {},
   "outputs": [],
   "source": [
    "mesh.boundary.contours.plot()"
   ]
  },
  {
   "cell_type": "code",
   "execution_count": null,
   "id": "fa2f6fb9",
   "metadata": {},
   "outputs": [],
   "source": [
    "mesh.bgmesh.pplot.mesh()"
   ]
  },
  {
   "cell_type": "code",
   "execution_count": null,
   "id": "8befd793",
   "metadata": {},
   "outputs": [],
   "source": [
    "mesh.bgmesh.pplot.contourf(var='h')"
   ]
  },
  {
   "cell_type": "code",
   "execution_count": null,
   "id": "6f97d976",
   "metadata": {},
   "outputs": [],
   "source": [
    "mesh.Dataset.mplot.mesh(dim='3D')"
   ]
  },
  {
   "cell_type": "code",
   "execution_count": null,
   "id": "7e4e5f20",
   "metadata": {},
   "outputs": [],
   "source": [
    "mesh.Dataset"
   ]
  },
  {
   "cell_type": "markdown",
   "id": "bdfa26c6",
   "metadata": {},
   "source": [
    "**TIP** : Change the grid generator above with  grid_generator = 'jigsaw' to see how `jigsaw` would do it."
   ]
  },
  {
   "cell_type": "markdown",
   "id": "dcc21322",
   "metadata": {},
   "source": [
    "## Output"
   ]
  },
  {
   "cell_type": "code",
   "execution_count": null,
   "id": "0f72e75f",
   "metadata": {},
   "outputs": [],
   "source": [
    "mesh.to_file('./test/global/hgrid.gr3')"
   ]
  },
  {
   "cell_type": "markdown",
   "id": "5e45d993",
   "metadata": {},
   "source": [
    "## Read a given grid"
   ]
  },
  {
   "cell_type": "code",
   "execution_count": null,
   "id": "50a9391e",
   "metadata": {},
   "outputs": [],
   "source": [
    "m = pmesh.set(type='tri2d',mesh_file='./test/global/hgrid.gr3')"
   ]
  },
  {
   "cell_type": "markdown",
   "id": "96755b8f",
   "metadata": {},
   "source": [
    "### Mesh Validation"
   ]
  },
  {
   "cell_type": "markdown",
   "id": "34fce865",
   "metadata": {},
   "source": [
    "If you model is SCHISM, the mesh can be validated against it as "
   ]
  },
  {
   "cell_type": "code",
   "execution_count": null,
   "id": "7b81ed86",
   "metadata": {},
   "outputs": [],
   "source": [
    "m.validate(rpath='./test/global/val/')"
   ]
  },
  {
   "cell_type": "markdown",
   "id": "b35461d2",
   "metadata": {},
   "source": [
    "### Grid Verification"
   ]
  },
  {
   "cell_type": "markdown",
   "id": "271829df",
   "metadata": {},
   "source": [
    "The grid is created with a specific boundary defined, usually, as a coastline. In order to check whether that coastline is crossed by the generated grid we can use :"
   ]
  },
  {
   "cell_type": "code",
   "execution_count": null,
   "id": "fa958066",
   "metadata": {},
   "outputs": [],
   "source": [
    "mesh.verify(coastlines=w)"
   ]
  },
  {
   "cell_type": "markdown",
   "id": "e8d96348",
   "metadata": {},
   "source": [
    "*Note* : This is still under development and there is no distiction between 'intersection' and 'touch' for the grid. That is, the nodes could very well be **on** the boundary as they should. "
   ]
  }
 ],
 "metadata": {
  "kernelspec": {
   "display_name": "pyPoseidon",
   "language": "python",
   "name": "pyposeidon"
  },
  "language_info": {
   "codemirror_mode": {
    "name": "ipython",
    "version": 3
   },
   "file_extension": ".py",
   "mimetype": "text/x-python",
   "name": "python",
   "nbconvert_exporter": "python",
   "pygments_lexer": "ipython3",
   "version": "3.8.12"
  }
 },
 "nbformat": 4,
 "nbformat_minor": 5
}
