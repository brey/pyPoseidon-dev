{
 "cells": [
  {
   "cell_type": "markdown",
   "id": "f0982aea",
   "metadata": {},
   "source": [
    "# The Boundary module"
   ]
  },
  {
   "cell_type": "markdown",
   "id": "94e3d0bc",
   "metadata": {},
   "source": [
    "This module handles mesh boundary extraction from coastlines or user provided shapefiles. It underpins the [MESH](MESH.ipynb) module.\n",
    "\n",
    "\n",
    "- Requires:\n",
    "\n",
    "    - The data folder. See [README](README.md) in this folder."
   ]
  },
  {
   "cell_type": "code",
   "execution_count": null,
   "id": "facd7989",
   "metadata": {},
   "outputs": [],
   "source": [
    "#to use the full width of the browser window\n",
    "from IPython.display import display, HTML\n",
    "display(HTML(\"<style>.container { width:100% !important; }</style>\"))"
   ]
  },
  {
   "cell_type": "code",
   "execution_count": null,
   "id": "36ebbaea",
   "metadata": {},
   "outputs": [],
   "source": [
    "# Not neccessarily needed. Just to check version. Must be >= 0.6\n",
    "import pyposeidon\n",
    "pyposeidon.__version__"
   ]
  },
  {
   "cell_type": "code",
   "execution_count": null,
   "id": "4ca41804",
   "metadata": {},
   "outputs": [],
   "source": [
    "import pyposeidon.boundary as pb"
   ]
  },
  {
   "cell_type": "markdown",
   "id": "1fde6b9b",
   "metadata": {},
   "source": [
    "### Graphics"
   ]
  },
  {
   "cell_type": "code",
   "execution_count": null,
   "id": "0af0bb8a",
   "metadata": {},
   "outputs": [],
   "source": [
    "import pyposeidon.utils.pplot"
   ]
  },
  {
   "cell_type": "code",
   "execution_count": null,
   "id": "0ee5fde0",
   "metadata": {},
   "outputs": [],
   "source": [
    "import pyposeidon.utils.hplot"
   ]
  },
  {
   "cell_type": "code",
   "execution_count": null,
   "id": "4edaaa7e",
   "metadata": {},
   "outputs": [],
   "source": [
    "import matplotlib.pyplot as plt"
   ]
  },
  {
   "cell_type": "code",
   "execution_count": null,
   "id": "6c973e02",
   "metadata": {},
   "outputs": [],
   "source": [
    "import matplotlib as mpl\n",
    "mpl.rcParams['agg.path.chunksize'] = 10000"
   ]
  },
  {
   "cell_type": "code",
   "execution_count": null,
   "id": "b8315cc8",
   "metadata": {},
   "outputs": [],
   "source": [
    "#optional\n",
    "#pyposeidon.utils.pplot.__init__(dark_background=True) # set plt style for pplot graphics below"
   ]
  },
  {
   "cell_type": "code",
   "execution_count": null,
   "id": "5bdcfc52",
   "metadata": {},
   "outputs": [],
   "source": [
    "#optional\n",
    "#plt.style.use('dark_background')"
   ]
  },
  {
   "cell_type": "code",
   "execution_count": null,
   "id": "0a78ff6c",
   "metadata": {},
   "outputs": [],
   "source": [
    "%matplotlib widget"
   ]
  },
  {
   "cell_type": "code",
   "execution_count": null,
   "id": "b41affaf",
   "metadata": {},
   "outputs": [],
   "source": [
    "#Create a folder to save the output\n",
    "import os\n",
    "if not os.path.exists('test'):\n",
    "            os.makedirs('test')"
   ]
  },
  {
   "cell_type": "markdown",
   "id": "86be9259",
   "metadata": {},
   "source": [
    "- In order to have within the Notebook the executable binaries installed in the conda env of the Kernel we add the corresponding path to the env `PATH`. This is not needed when we are running from python."
   ]
  },
  {
   "cell_type": "code",
   "execution_count": null,
   "id": "0e0d559e",
   "metadata": {},
   "outputs": [],
   "source": [
    "import numpy as np\n",
    "cpath = np.__path__[0].split('/lib/')[0] # get the current kernel path\n",
    "\n",
    "os.environ['PATH'] += os.pathsep + cpath + '/bin' # add to PATH"
   ]
  },
  {
   "cell_type": "markdown",
   "id": "ea781840",
   "metadata": {},
   "source": [
    "## Coastlines"
   ]
  },
  {
   "cell_type": "code",
   "execution_count": null,
   "id": "23dd6419",
   "metadata": {},
   "outputs": [],
   "source": [
    "import geopandas as gp\n",
    "# use cartopy to get coastlines\n",
    "import cartopy.feature as cf"
   ]
  },
  {
   "cell_type": "markdown",
   "id": "3f95b851",
   "metadata": {},
   "source": [
    "Without loss of generality we are using the `GHSS` intermediate resolution dataset"
   ]
  },
  {
   "cell_type": "code",
   "execution_count": null,
   "id": "0ece63c4",
   "metadata": {},
   "outputs": [],
   "source": [
    "gi = cf.GSHHSFeature(scale=\"intermediate\", levels=[1])\n",
    "iGSHHS = gp.GeoDataFrame(geometry=[x for x in gi.geometries()])"
   ]
  },
  {
   "cell_type": "code",
   "execution_count": null,
   "id": "6f1c3b92",
   "metadata": {},
   "outputs": [],
   "source": [
    "iGSHHS.plot()"
   ]
  },
  {
   "cell_type": "markdown",
   "id": "644e114f",
   "metadata": {},
   "source": [
    "## Case 1\n",
    "\n",
    "A Lat/Lon window with coastlines"
   ]
  },
  {
   "cell_type": "code",
   "execution_count": null,
   "id": "4f7ebce5",
   "metadata": {},
   "outputs": [],
   "source": [
    "#define in a dictionary the properties of the model..\n",
    "window={'lon_min':-25., # lat/lon window\n",
    "     'lon_max':-9.,\n",
    "     'lat_min':56.,\n",
    "     'lat_max':74.,\n",
    "    }"
   ]
  },
  {
   "cell_type": "code",
   "execution_count": null,
   "id": "f5495489",
   "metadata": {},
   "outputs": [],
   "source": [
    "a1 = pb.Boundary(geometry=window, coastlines = iGSHHS)"
   ]
  },
  {
   "cell_type": "code",
   "execution_count": null,
   "id": "6e52c851",
   "metadata": {},
   "outputs": [],
   "source": [
    "a1.contours"
   ]
  },
  {
   "cell_type": "code",
   "execution_count": null,
   "id": "fb617ac3",
   "metadata": {},
   "outputs": [],
   "source": [
    "# Visualisation with references to the type of boundary (tag column, above)\n",
    "a1.show()"
   ]
  },
  {
   "cell_type": "markdown",
   "id": "07064f4c",
   "metadata": {},
   "source": [
    "## Case 2\n",
    "\n",
    "A global case"
   ]
  },
  {
   "cell_type": "code",
   "execution_count": null,
   "id": "41e7140c",
   "metadata": {},
   "outputs": [],
   "source": [
    "a2 = pb.Boundary(geometry='global', coastlines = iGSHHS)"
   ]
  },
  {
   "cell_type": "code",
   "execution_count": null,
   "id": "4e2e87dc",
   "metadata": {},
   "outputs": [],
   "source": [
    "a2.show()"
   ]
  },
  {
   "cell_type": "markdown",
   "id": "f95981e2",
   "metadata": {},
   "source": [
    "*Note* that the global mesh is computed in a stereographic projection at lat=-90."
   ]
  },
  {
   "cell_type": "markdown",
   "id": "904bb7be",
   "metadata": {},
   "source": [
    "## Case 3\n",
    "\n",
    "A custom shapefile or GeoDataset"
   ]
  },
  {
   "cell_type": "code",
   "execution_count": null,
   "id": "ee554947",
   "metadata": {},
   "outputs": [],
   "source": [
    "boundary='/Users/brey/GitHub/pyPoseidon-dev/tests/data/bl.zip'"
   ]
  },
  {
   "cell_type": "code",
   "execution_count": null,
   "id": "ce14fecf",
   "metadata": {},
   "outputs": [],
   "source": [
    "a3 = pb.Boundary(geometry=boundary)"
   ]
  },
  {
   "cell_type": "code",
   "execution_count": null,
   "id": "da73d724",
   "metadata": {},
   "outputs": [],
   "source": [
    "a3.contours"
   ]
  },
  {
   "cell_type": "code",
   "execution_count": null,
   "id": "e51b16d9",
   "metadata": {},
   "outputs": [],
   "source": [
    "a3.show()"
   ]
  },
  {
   "cell_type": "markdown",
   "id": "7ae445a9",
   "metadata": {},
   "source": [
    "## Case 4 \n",
    "\n",
    "Sometimes it is preferable to buffer the coastlines in order to mask high resolution features and smooth out the boundaries."
   ]
  },
  {
   "cell_type": "code",
   "execution_count": null,
   "id": "f6ef5a33",
   "metadata": {},
   "outputs": [],
   "source": [
    "a4 = pb.Boundary(geometry=window, coastlines=iGSHHS, cbuffer = .01)"
   ]
  },
  {
   "cell_type": "code",
   "execution_count": null,
   "id": "7f6f1b97",
   "metadata": {},
   "outputs": [],
   "source": [
    "a4.show()"
   ]
  },
  {
   "cell_type": "code",
   "execution_count": null,
   "id": "86158576",
   "metadata": {},
   "outputs": [],
   "source": [
    "# Overlay the original boundary from above for comparison\n",
    "aa=plt.gca()\n",
    "a1.contours.plot(ax=aa, color='r')"
   ]
  }
 ],
 "metadata": {
  "kernelspec": {
   "display_name": "pyPoseidon",
   "language": "python",
   "name": "pyposeidon"
  },
  "language_info": {
   "codemirror_mode": {
    "name": "ipython",
    "version": 3
   },
   "file_extension": ".py",
   "mimetype": "text/x-python",
   "name": "python",
   "nbconvert_exporter": "python",
   "pygments_lexer": "ipython3",
   "version": "3.8.12"
  }
 },
 "nbformat": 4,
 "nbformat_minor": 5
}
