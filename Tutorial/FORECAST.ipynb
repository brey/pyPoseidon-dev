{
 "cells": [
  {
   "cell_type": "markdown",
   "id": "7bb405fb",
   "metadata": {
    "tags": []
   },
   "source": [
    "# Forecasting"
   ]
  },
  {
   "cell_type": "markdown",
   "id": "e820213a",
   "metadata": {},
   "source": [
    "In an operational setting we do hotstart for the next forecast from the latest simulation.\n",
    "\n",
    "- Requires:\n",
    "\n",
    "    - The data folder. See [README](README.md) in this folder."
   ]
  },
  {
   "cell_type": "code",
   "execution_count": null,
   "id": "025a1887",
   "metadata": {},
   "outputs": [],
   "source": [
    "#to use the full width of the browser window\n",
    "from IPython.display import display, HTML\n",
    "display(HTML(\"<style>.container { width:100% !important; }</style>\"))"
   ]
  },
  {
   "cell_type": "code",
   "execution_count": null,
   "id": "388ab58a",
   "metadata": {},
   "outputs": [],
   "source": [
    "# Not neccessarily needed. Just to check version. Must be >= 0.6\n",
    "import pyposeidon\n",
    "pyposeidon.__version__"
   ]
  },
  {
   "cell_type": "code",
   "execution_count": null,
   "id": "7c73d0b3",
   "metadata": {},
   "outputs": [],
   "source": [
    "import pyposeidon.model as pm"
   ]
  },
  {
   "cell_type": "markdown",
   "id": "4d89e6f2",
   "metadata": {},
   "source": [
    "### Graphics"
   ]
  },
  {
   "cell_type": "code",
   "execution_count": null,
   "id": "b78deafa",
   "metadata": {},
   "outputs": [],
   "source": [
    "import pyposeidon.utils.pplot # initialize matplolib accessor"
   ]
  },
  {
   "cell_type": "code",
   "execution_count": null,
   "id": "e5fb6dd1",
   "metadata": {},
   "outputs": [],
   "source": [
    "#optional\n",
    "#pyposeidon.utils.pplot.__init__(dark_background=True) # set plt style for pplot graphics below"
   ]
  },
  {
   "cell_type": "code",
   "execution_count": null,
   "id": "a92f6553",
   "metadata": {},
   "outputs": [],
   "source": [
    "import pyposeidon.utils.hplot # initialize pyviz accessor"
   ]
  },
  {
   "cell_type": "markdown",
   "id": "1854a642",
   "metadata": {},
   "source": [
    "- In order to have within the Notebook the executable binaries installed in the conda env of the Kernel we add the corresponding path to the env `PATH`. This is not needed when we are running from python."
   ]
  },
  {
   "cell_type": "code",
   "execution_count": null,
   "id": "4f995626",
   "metadata": {},
   "outputs": [],
   "source": [
    "#Create a folder to save the output\n",
    "import os\n",
    "if not os.path.exists('test'):\n",
    "            os.makedirs('test')"
   ]
  },
  {
   "cell_type": "code",
   "execution_count": null,
   "id": "2b480a56",
   "metadata": {},
   "outputs": [],
   "source": [
    "import numpy\n",
    "cpath = numpy.__path__[0].split('/lib/')[0] # get the current kernel path\n",
    "\n",
    "os.environ['PATH'] += os.pathsep + cpath + '/bin' # add to PATH"
   ]
  },
  {
   "cell_type": "code",
   "execution_count": null,
   "id": "5defe1b7",
   "metadata": {},
   "outputs": [],
   "source": [
    "# use cartopy to get coastlines\n",
    "import cartopy.feature as cf\n",
    "\n",
    "cr='i'\n",
    "\n",
    "coast = cf.NaturalEarthFeature(\n",
    "    category='physical',\n",
    "    name='land',\n",
    "    scale='{}m'.format({'l':110, 'i':50, 'h':10}[cr]))"
   ]
  },
  {
   "cell_type": "code",
   "execution_count": null,
   "id": "7ec4f654",
   "metadata": {},
   "outputs": [],
   "source": [
    "import geopandas as gp\n",
    "ne_i = gp.GeoDataFrame(geometry = [x for x in coast.geometries()])"
   ]
  },
  {
   "cell_type": "markdown",
   "id": "eb06a1f9",
   "metadata": {},
   "source": [
    "## Setup"
   ]
  },
  {
   "cell_type": "markdown",
   "id": "987b092b",
   "metadata": {},
   "source": [
    "The minimum information required is an initial model and corresponding run. We set this one up. For more info see the [MODEL](./MODEL.ipynb) Notebook.\n"
   ]
  },
  {
   "cell_type": "code",
   "execution_count": null,
   "id": "c3cf1ee8",
   "metadata": {},
   "outputs": [],
   "source": [
    "#define in a dictionary the properties of the model..\n",
    "model={'solver_name':'schism',\n",
    "     'geometry':{'lon_min' : -25,'lon_max' : -12.,'lat_min' : 56.,'lat_max' : 74.}, \n",
    "     'coastlines':ne_i, # coastlines\n",
    "     'mesh_generator' : 'jigsaw', # set grid generator \n",
    "     'start_date':'2018-10-1 0:0:0',\n",
    "     'time_frame':'72H',\n",
    "     'meteo_source' : './data/uvp_2018100100.grib', #path to meteo files\n",
    "     'dem_source' : './data/dem.nc', #path to dem file\n",
    "     'rpath':'./test/forecast/20181001.00/', #location of calc folder\n",
    "     'monitor':True, # get time series for observation points\n",
    "     'parameters':{'dt':400, 'rnday':3., 'nhot':1, 'ihot':0,'nspool':9, 'ihfskip':36, 'nhot_write':108 } # set param.in components\n",
    "    }"
   ]
  },
  {
   "cell_type": "markdown",
   "id": "ff5bab1a",
   "metadata": {},
   "source": [
    "* Note that the parameters arguments will override relevant settings"
   ]
  },
  {
   "cell_type": "markdown",
   "id": "2c37603b",
   "metadata": {},
   "source": [
    "## Initialize"
   ]
  },
  {
   "cell_type": "code",
   "execution_count": null,
   "id": "4f1153bd",
   "metadata": {},
   "outputs": [],
   "source": [
    "#initialize a model\n",
    "b = pm.set(**model)"
   ]
  },
  {
   "cell_type": "code",
   "execution_count": null,
   "id": "085723e8",
   "metadata": {},
   "outputs": [],
   "source": [
    "#Execute\n",
    "b.execute()"
   ]
  },
  {
   "cell_type": "markdown",
   "id": "c8dc8734",
   "metadata": {},
   "source": [
    "## Setup a (re)forecast\n",
    "\n",
    "Let's assume we have a forecasting cycle where new meteo forcings become available every `12h`."
   ]
  },
  {
   "cell_type": "code",
   "execution_count": null,
   "id": "b7b5fea3",
   "metadata": {},
   "outputs": [],
   "source": [
    "import pandas as pd"
   ]
  },
  {
   "cell_type": "code",
   "execution_count": null,
   "id": "a9b80a8f",
   "metadata": {},
   "outputs": [],
   "source": [
    "# creating a time sequence of the runs\n",
    "start_date = pd.to_datetime(\"2018-10-1 0:0:0\")\n",
    "end_date = pd.to_datetime(\"2018-10-2 12:0:0\")\n",
    "date_list = pd.date_range(start_date, end_date, freq=\"12h\")\n",
    "date_list"
   ]
  },
  {
   "cell_type": "code",
   "execution_count": null,
   "id": "eecc10f6",
   "metadata": {},
   "outputs": [],
   "source": [
    "# creating a sequence of folder to store the runs. In this case we name them after the date attribute.\n",
    "# NOTE that the first folder is the fisrt run already perfomed!!\n",
    "rpaths = ['./test/forecast/' + x.strftime(\"%Y%m%d.%H\") + \"/\" for x in date_list]\n",
    "rpaths"
   ]
  },
  {
   "cell_type": "code",
   "execution_count": null,
   "id": "61038969",
   "metadata": {},
   "outputs": [],
   "source": [
    "# creating a sequence of folder from which we read the meteo.\n",
    "mfiles = ['./data/' + x.strftime('uvp_%Y%m%d%H.grib') for x in date_list]\n",
    "mfiles"
   ]
  },
  {
   "cell_type": "markdown",
   "id": "30222232",
   "metadata": {},
   "source": [
    "So the forecast is executed sequencially as"
   ]
  },
  {
   "cell_type": "code",
   "execution_count": null,
   "id": "28b87a88",
   "metadata": {},
   "outputs": [],
   "source": [
    "from pyposeidon.utils import cast"
   ]
  },
  {
   "cell_type": "code",
   "execution_count": null,
   "id": "ab979862",
   "metadata": {},
   "outputs": [],
   "source": [
    "for l in range(len(rpaths) - 1):\n",
    "\n",
    "    fc = cast.set(solver_name='schism',\n",
    "            model=b,\n",
    "            ppath=rpaths[l],\n",
    "            cpath=rpaths[l + 1],\n",
    "            meteo=mfiles[l + 1],\n",
    "            sdate=date_list[l + 1],\n",
    "                ) \n",
    "    fc.run(execute=True)"
   ]
  }
 ],
 "metadata": {
  "kernelspec": {
   "display_name": "pyPoseidon",
   "language": "python",
   "name": "pyposeidon"
  },
  "language_info": {
   "codemirror_mode": {
    "name": "ipython",
    "version": 3
   },
   "file_extension": ".py",
   "mimetype": "text/x-python",
   "name": "python",
   "nbconvert_exporter": "python",
   "pygments_lexer": "ipython3",
   "version": "3.8.12"
  }
 },
 "nbformat": 4,
 "nbformat_minor": 5
}
