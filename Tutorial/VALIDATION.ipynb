{
 "cells": [
  {
   "cell_type": "markdown",
   "id": "dcfc37c9",
   "metadata": {
    "tags": []
   },
   "source": [
    "# Validation"
   ]
  },
  {
   "cell_type": "markdown",
   "id": "6ef1c5c8",
   "metadata": {},
   "source": [
    "Station points configuration and analysis. \n",
    "\n",
    "\n",
    "- Requires:\n",
    "\n",
    "    - The data folder. See [README](README.md) in this folder."
   ]
  },
  {
   "cell_type": "code",
   "execution_count": null,
   "id": "fcde78a6",
   "metadata": {},
   "outputs": [],
   "source": [
    "#to use the full width of the browser window\n",
    "from IPython.display import display, HTML\n",
    "display(HTML(\"<style>.container { width:100% !important; }</style>\"))"
   ]
  },
  {
   "cell_type": "code",
   "execution_count": null,
   "id": "716581b8",
   "metadata": {},
   "outputs": [],
   "source": [
    "# Not neccessarily needed. Just to check version. Must be >= 0.6\n",
    "import pyposeidon\n",
    "pyposeidon.__version__"
   ]
  },
  {
   "cell_type": "code",
   "execution_count": null,
   "id": "f1ed928f",
   "metadata": {},
   "outputs": [],
   "source": [
    "import pyposeidon.model as pm"
   ]
  },
  {
   "cell_type": "markdown",
   "id": "a3e0b98d",
   "metadata": {},
   "source": [
    "### Graphics"
   ]
  },
  {
   "cell_type": "code",
   "execution_count": null,
   "id": "2c9103d5",
   "metadata": {},
   "outputs": [],
   "source": [
    "import pyposeidon.utils.pplot # initialize matplolib accessor"
   ]
  },
  {
   "cell_type": "code",
   "execution_count": null,
   "id": "387125f9",
   "metadata": {},
   "outputs": [],
   "source": [
    "## for interactive matplotlib graphics\n",
    "%matplotlib widget "
   ]
  },
  {
   "cell_type": "code",
   "execution_count": null,
   "id": "d24850fa",
   "metadata": {},
   "outputs": [],
   "source": [
    "import matplotlib.pyplot as plt"
   ]
  },
  {
   "cell_type": "code",
   "execution_count": null,
   "id": "f0118c4f",
   "metadata": {},
   "outputs": [],
   "source": [
    "#optional\n",
    "#pyposeidon.utils.pplot.__init__(dark_background=True) # set plt style for pplot graphics below"
   ]
  },
  {
   "cell_type": "code",
   "execution_count": null,
   "id": "cf212c5a",
   "metadata": {},
   "outputs": [],
   "source": [
    "import pyposeidon.utils.hplot # initialize pyviz accessor"
   ]
  },
  {
   "cell_type": "markdown",
   "id": "516fe313",
   "metadata": {},
   "source": [
    "- In order to have within the Notebook the executable binaries installed in the conda env of the Kernel we add the corresponding path to the env `PATH`. This is not needed when we are running from python."
   ]
  },
  {
   "cell_type": "code",
   "execution_count": null,
   "id": "77660228",
   "metadata": {},
   "outputs": [],
   "source": [
    "#Create a folder to save the output\n",
    "import os\n",
    "if not os.path.exists('test'):\n",
    "            os.makedirs('test')"
   ]
  },
  {
   "cell_type": "code",
   "execution_count": null,
   "id": "e9f4ae9c",
   "metadata": {},
   "outputs": [],
   "source": [
    "import numpy\n",
    "cpath = numpy.__path__[0].split('/lib/')[0] # get the current kernel path\n",
    "\n",
    "os.environ['PATH'] += os.pathsep + cpath + '/bin' # add to PATH"
   ]
  },
  {
   "cell_type": "code",
   "execution_count": null,
   "id": "4c5af8da",
   "metadata": {},
   "outputs": [],
   "source": [
    "# use cartopy to get coastlines\n",
    "import cartopy.feature as cf\n",
    "\n",
    "cr='i'\n",
    "\n",
    "coast = cf.NaturalEarthFeature(\n",
    "    category='physical',\n",
    "    name='land',\n",
    "    scale='{}m'.format({'l':110, 'i':50, 'h':10}[cr]))"
   ]
  },
  {
   "cell_type": "code",
   "execution_count": null,
   "id": "88385bf6",
   "metadata": {},
   "outputs": [],
   "source": [
    "import geopandas as gp\n",
    "ne_i = gp.GeoDataFrame(geometry = [x for x in coast.geometries()])"
   ]
  },
  {
   "cell_type": "markdown",
   "id": "4f49f14e",
   "metadata": {},
   "source": [
    "## Setup"
   ]
  },
  {
   "cell_type": "markdown",
   "id": "49881d09",
   "metadata": {},
   "source": [
    "Station info can be incorporated by using the obs tag with the minimum required info being the lon/lan location. One needs to set to `True` the `monitor` flag as well."
   ]
  },
  {
   "cell_type": "markdown",
   "id": "b02d5fa7",
   "metadata": {},
   "source": [
    "Such a file could look like"
   ]
  },
  {
   "cell_type": "code",
   "execution_count": null,
   "id": "d7d8c066",
   "metadata": {},
   "outputs": [],
   "source": [
    "import pandas as pd"
   ]
  },
  {
   "cell_type": "code",
   "execution_count": null,
   "id": "8f200199",
   "metadata": {},
   "outputs": [],
   "source": [
    "st = pd.DataFrame([[ 70.484, -21.962],[ 64.15 , -21.933]], columns=['lat','lon'])\n",
    "st"
   ]
  },
  {
   "cell_type": "code",
   "execution_count": null,
   "id": "e07cc9b1",
   "metadata": {},
   "outputs": [],
   "source": [
    "#save it to file\n",
    "st.to_csv('./test/stations.csv')"
   ]
  },
  {
   "cell_type": "markdown",
   "id": "c3540017",
   "metadata": {},
   "source": [
    "### A better way"
   ]
  },
  {
   "cell_type": "markdown",
   "id": "11664d16",
   "metadata": {},
   "source": [
    "However these station locations should match datasets where observation data are available. One such dataset is the one provided by the `JRC` at https://webcritech.jrc.ec.europa.eu/SeaLevelsDb/"
   ]
  },
  {
   "cell_type": "markdown",
   "id": "7e545773",
   "metadata": {},
   "source": [
    "This DataFrame is integrated in `pyposeidon`. See `critech.csv` in `pyposeidon/misc/`."
   ]
  },
  {
   "cell_type": "code",
   "execution_count": null,
   "id": "a84aa831",
   "metadata": {},
   "outputs": [],
   "source": [
    "critech = pd.read_csv('../pyposeidon/misc/critech.csv')\n",
    "critech.head()"
   ]
  },
  {
   "cell_type": "markdown",
   "id": "9950586f",
   "metadata": {},
   "source": [
    "The above Dataset is currently the default. You can use this one if you don't specify an *obs* in the model setup (see above). Now running the same case with *obs* commented out, we get.."
   ]
  },
  {
   "cell_type": "markdown",
   "id": "0a3df963",
   "metadata": {},
   "source": [
    "**Note** : It is foreseen that a new python package will handle observation data from multiple sources including data cleanup utilizing ML. pyPoseidon will then use that package as an upstream dependency."
   ]
  },
  {
   "cell_type": "code",
   "execution_count": null,
   "id": "192d4c9a",
   "metadata": {},
   "outputs": [],
   "source": [
    "#define in a dictionary the properties of the model..\n",
    "model={'solver_name':'schism',\n",
    "     'geometry':{'lon_min' : -25,'lon_max' : -12.,'lat_min' : 56.,'lat_max' : 74.}, \n",
    "     'coastlines':ne_i, # coastlines\n",
    "     'mesh_generator' : 'jigsaw', # set grid generator  \n",
    "     'start_date':'2017-10-1 0:0:0',\n",
    "     'time_frame':'12H',\n",
    "     'meteo_source' : './data/erai.grib', #path to meteo files\n",
    "     'dem_source' : './data/dem.nc', #path to dem file\n",
    "     'rpath':'./test/validation/', #location of calc folder\n",
    "     'monitor':True, # get time series for observation points\n",
    "#     'obs':'./test/stations.csv', #Define station locations. If not set, pyposeidon/misc/critech.csv is used.\n",
    "#     'parameters':{'dt':400, 'rnday':.5, 'hotout':1, 'ihot':0,'nspool':9, 'ihfskip':36, 'hotout_write':108 } # set param.nml components\n",
    "    }"
   ]
  },
  {
   "cell_type": "markdown",
   "id": "f09d9d5c",
   "metadata": {},
   "source": [
    "## Execute\n"
   ]
  },
  {
   "cell_type": "code",
   "execution_count": null,
   "id": "61926b55",
   "metadata": {},
   "outputs": [],
   "source": [
    "#initialize a model\n",
    "b = pm.set(**model)\n",
    "b.execute()"
   ]
  },
  {
   "cell_type": "markdown",
   "id": "93db4590",
   "metadata": {},
   "source": [
    "## Output"
   ]
  },
  {
   "cell_type": "markdown",
   "id": "bb165f90",
   "metadata": {},
   "source": [
    "The output of the simulations could be in separate files (due to MPI) or specific folders. pyposeidon can incorporate the resulting Datasets with "
   ]
  },
  {
   "cell_type": "code",
   "execution_count": null,
   "id": "f3c3e8f4",
   "metadata": {},
   "outputs": [],
   "source": [
    "b.get_output_data()"
   ]
  },
  {
   "cell_type": "code",
   "execution_count": null,
   "id": "42c10e72",
   "metadata": {},
   "outputs": [],
   "source": [
    "out = b.data.Dataset"
   ]
  },
  {
   "cell_type": "code",
   "execution_count": null,
   "id": "7c692311",
   "metadata": {},
   "outputs": [],
   "source": [
    "out"
   ]
  },
  {
   "cell_type": "markdown",
   "id": "d22db8cd",
   "metadata": {},
   "source": [
    "## Station data"
   ]
  },
  {
   "cell_type": "code",
   "execution_count": null,
   "id": "aa955792",
   "metadata": {},
   "outputs": [],
   "source": [
    "b.data.time_series # the station data in xarray Dataset"
   ]
  },
  {
   "cell_type": "code",
   "execution_count": null,
   "id": "d101015f",
   "metadata": {},
   "outputs": [],
   "source": [
    "b.data.time_series.to_dataframe()"
   ]
  },
  {
   "cell_type": "code",
   "execution_count": null,
   "id": "b67c8d6a",
   "metadata": {},
   "outputs": [],
   "source": [
    "b.stations"
   ]
  },
  {
   "cell_type": "code",
   "execution_count": null,
   "id": "47f49f80",
   "metadata": {},
   "outputs": [],
   "source": [
    "# one can assign the names of locations like..\n",
    "sim = b.data.time_series.rename({'node':'location'})\n",
    "sim['location'] = b.stations.name.values\n",
    "sim"
   ]
  },
  {
   "cell_type": "code",
   "execution_count": null,
   "id": "0b658641",
   "metadata": {},
   "outputs": [],
   "source": [
    "sim.to_dataframe() # easily convert to pandas dataframe "
   ]
  },
  {
   "cell_type": "markdown",
   "id": "8586acc3",
   "metadata": {},
   "source": [
    "### plot"
   ]
  },
  {
   "cell_type": "code",
   "execution_count": null,
   "id": "08191029",
   "metadata": {},
   "outputs": [],
   "source": [
    "plt.figure()\n",
    "sim.elev.isel(location=0).plot()"
   ]
  },
  {
   "cell_type": "markdown",
   "id": "dbe8ed03",
   "metadata": {},
   "source": [
    "### Observation data"
   ]
  },
  {
   "cell_type": "markdown",
   "id": "02e1f2e1",
   "metadata": {},
   "source": [
    "Because we've access to an API for the tide-gauge data we can retrieve them on-demand."
   ]
  },
  {
   "cell_type": "code",
   "execution_count": null,
   "id": "45495164",
   "metadata": {},
   "outputs": [],
   "source": [
    "b.obs.locations"
   ]
  },
  {
   "cell_type": "code",
   "execution_count": null,
   "id": "7623a967",
   "metadata": {},
   "outputs": [],
   "source": [
    "# Get with index number\n",
    "p = b.obs.iloc(1)\n",
    "p.head()"
   ]
  },
  {
   "cell_type": "code",
   "execution_count": null,
   "id": "fc838970",
   "metadata": {},
   "outputs": [],
   "source": [
    "#get with Station Name  \n",
    "p = b.obs.loc('Iceland-Reykjavik')\n",
    "p.head()"
   ]
  },
  {
   "cell_type": "code",
   "execution_count": null,
   "id": "b0a62de2",
   "metadata": {},
   "outputs": [],
   "source": [
    "p.plot(title='Iceland-Reykjavik')"
   ]
  },
  {
   "cell_type": "markdown",
   "id": "9fbc4e73",
   "metadata": {},
   "source": [
    "### Plot together"
   ]
  },
  {
   "cell_type": "code",
   "execution_count": null,
   "id": "c156f4ab",
   "metadata": {},
   "outputs": [],
   "source": [
    "loc='Iceland-Reykjavik' # change accordingly \n",
    "plt.figure()\n",
    "sim.sel(location=loc).elev.plot(color='r')\n",
    "ap = plt.gca()\n",
    "p.plot(ax=ap)\n",
    "ap.legend(['Schism'] + list(p.columns.values) , loc='center left',bbox_to_anchor=(1.0, 0.5))\n",
    "plt.tight_layout()"
   ]
  },
  {
   "cell_type": "markdown",
   "id": "184d962a",
   "metadata": {},
   "source": [
    "... or with hvplot"
   ]
  },
  {
   "cell_type": "code",
   "execution_count": null,
   "id": "196d9795",
   "metadata": {},
   "outputs": [],
   "source": [
    "from hvplot import xarray, pandas"
   ]
  },
  {
   "cell_type": "code",
   "execution_count": null,
   "id": "7e283019",
   "metadata": {},
   "outputs": [],
   "source": [
    "## Join the graphs\n",
    "p.hvplot(figsize=(14,10)) * sim.elev.sel(location=loc).hvplot(color='red',label='Schism')"
   ]
  },
  {
   "cell_type": "markdown",
   "id": "9ea03eb3",
   "metadata": {},
   "source": [
    "### Statistics"
   ]
  },
  {
   "cell_type": "code",
   "execution_count": null,
   "id": "f8df343b",
   "metadata": {},
   "outputs": [],
   "source": [
    "sdata=sim.elev.sel(location=loc).to_dataframe().drop('location',axis=1)\n",
    "sdata"
   ]
  },
  {
   "cell_type": "code",
   "execution_count": null,
   "id": "d3d08a92",
   "metadata": {},
   "outputs": [],
   "source": [
    "odata=b.obs.loc(loc).loc[:,['Surge']]\n",
    "odata"
   ]
  },
  {
   "cell_type": "markdown",
   "id": "da51a265",
   "metadata": {},
   "source": [
    "We use the corresponding utility for getting verification stats"
   ]
  },
  {
   "cell_type": "code",
   "execution_count": null,
   "id": "ed3caf3a",
   "metadata": {},
   "outputs": [],
   "source": [
    "from pyposeidon.utils.statistics import get_stats"
   ]
  },
  {
   "cell_type": "code",
   "execution_count": null,
   "id": "50444741",
   "metadata": {},
   "outputs": [],
   "source": [
    "stats = get_stats(sdata,odata)\n",
    "stats"
   ]
  },
  {
   "cell_type": "markdown",
   "id": "314d494f",
   "metadata": {},
   "source": [
    "## Additional features"
   ]
  },
  {
   "cell_type": "markdown",
   "id": "3e2efc76",
   "metadata": {},
   "source": [
    "### sample nearest point from simulation "
   ]
  },
  {
   "cell_type": "code",
   "execution_count": null,
   "id": "a6e08a71",
   "metadata": {},
   "outputs": [],
   "source": [
    "from pyposeidon.utils.get_ts import spot"
   ]
  },
  {
   "cell_type": "code",
   "execution_count": null,
   "id": "abcf17aa",
   "metadata": {},
   "outputs": [],
   "source": [
    "plat, plon = 66., -13."
   ]
  },
  {
   "cell_type": "code",
   "execution_count": null,
   "id": "ed4c8409",
   "metadata": {},
   "outputs": [],
   "source": [
    "tp = spot(solver = 'schism', lon=plon,lat=plat,dataset=out, var='elev')\n",
    "tp.time_series.head()"
   ]
  },
  {
   "cell_type": "markdown",
   "id": "958518ac",
   "metadata": {},
   "source": [
    "**Note**: Since a `pandas` dataframe is available all sampling option within pandas can be used."
   ]
  }
 ],
 "metadata": {
  "kernelspec": {
   "display_name": "pyPoseidon",
   "language": "python",
   "name": "pyposeidon"
  },
  "language_info": {
   "codemirror_mode": {
    "name": "ipython",
    "version": 3
   },
   "file_extension": ".py",
   "mimetype": "text/x-python",
   "name": "python",
   "nbconvert_exporter": "python",
   "pygments_lexer": "ipython3",
   "version": "3.8.12"
  }
 },
 "nbformat": 4,
 "nbformat_minor": 5
}
