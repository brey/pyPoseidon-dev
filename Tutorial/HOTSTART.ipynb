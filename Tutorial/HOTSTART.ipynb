{
 "cells": [
  {
   "cell_type": "markdown",
   "id": "eb60be1e",
   "metadata": {
    "tags": []
   },
   "source": [
    "# Hotstart"
   ]
  },
  {
   "cell_type": "markdown",
   "id": "946b0f17",
   "metadata": {},
   "source": [
    "Many times one needs to split a simulation in intermittent steps. This is true for long hindacts and forecasts. This Notebook outlines the hotstart process using the `schism` solver. \n",
    "\n",
    "\n",
    "- Requires:\n",
    "\n",
    "    - The data folder. See [README](README.md) in this folder."
   ]
  },
  {
   "cell_type": "code",
   "execution_count": null,
   "id": "e11ecbdb",
   "metadata": {},
   "outputs": [],
   "source": [
    "#to use the full width of the browser window\n",
    "from IPython.display import display, HTML\n",
    "display(HTML(\"<style>.container { width:100% !important; }</style>\"))"
   ]
  },
  {
   "cell_type": "code",
   "execution_count": null,
   "id": "0afd7b78",
   "metadata": {},
   "outputs": [],
   "source": [
    "# Not neccessarily needed. Just to check version. Must be >= 0.6\n",
    "import pyposeidon\n",
    "pyposeidon.__version__"
   ]
  },
  {
   "cell_type": "code",
   "execution_count": null,
   "id": "da671b06",
   "metadata": {},
   "outputs": [],
   "source": [
    "import pyposeidon.model as pm"
   ]
  },
  {
   "cell_type": "markdown",
   "id": "321afe77",
   "metadata": {},
   "source": [
    "### Graphics"
   ]
  },
  {
   "cell_type": "code",
   "execution_count": null,
   "id": "5cef821e",
   "metadata": {},
   "outputs": [],
   "source": [
    "import pyposeidon.utils.pplot # initialize matplolib accessor"
   ]
  },
  {
   "cell_type": "code",
   "execution_count": null,
   "id": "f697b162",
   "metadata": {},
   "outputs": [],
   "source": [
    "#optional\n",
    "#pyposeidon.utils.pplot.__init__(dark_background=True) # set plt style for pplot graphics below"
   ]
  },
  {
   "cell_type": "code",
   "execution_count": null,
   "id": "ade72fa4",
   "metadata": {},
   "outputs": [],
   "source": [
    "import pyposeidon.utils.hplot # initialize pyviz accessor"
   ]
  },
  {
   "cell_type": "markdown",
   "id": "fbb0f6dd",
   "metadata": {},
   "source": [
    "- In order to have within the Notebook the executable binaries installed in the conda env of the Kernel we add the corresponding path to the env PATH. This is not needed when we are running from python."
   ]
  },
  {
   "cell_type": "code",
   "execution_count": null,
   "id": "7cbf5807",
   "metadata": {},
   "outputs": [],
   "source": [
    "#Create a folder to save the output\n",
    "import os\n",
    "if not os.path.exists('test'):\n",
    "            os.makedirs('test')"
   ]
  },
  {
   "cell_type": "code",
   "execution_count": null,
   "id": "0bc27ce7",
   "metadata": {},
   "outputs": [],
   "source": [
    "import numpy\n",
    "cpath = numpy.__path__[0].split('/lib/')[0] # get the current kernel path\n",
    "\n",
    "os.environ['PATH'] += os.pathsep + cpath + '/bin' # add to PATH"
   ]
  },
  {
   "cell_type": "code",
   "execution_count": null,
   "id": "a7fad952",
   "metadata": {},
   "outputs": [],
   "source": [
    "import geopandas as gp\n",
    "# use cartopy to get coastlines\n",
    "import cartopy.feature as cf"
   ]
  },
  {
   "cell_type": "markdown",
   "id": "a9f2402a",
   "metadata": {},
   "source": [
    "Without loss of generality we are using the natural earth's intermediate resolution dataset as coastlines"
   ]
  },
  {
   "cell_type": "code",
   "execution_count": null,
   "id": "457c8793",
   "metadata": {},
   "outputs": [],
   "source": [
    "cr='i'\n",
    "\n",
    "coast = cf.NaturalEarthFeature(\n",
    "    category='physical',\n",
    "    name='land',\n",
    "    scale='{}m'.format({'l':110, 'i':50, 'h':10}[cr]))"
   ]
  },
  {
   "cell_type": "code",
   "execution_count": null,
   "id": "6765e189",
   "metadata": {},
   "outputs": [],
   "source": [
    "import geopandas as gp\n",
    "ne_i = gp.GeoDataFrame(geometry = [x for x in coast.geometries()])"
   ]
  },
  {
   "cell_type": "markdown",
   "id": "b3999e6e",
   "metadata": {},
   "source": [
    "## Setup"
   ]
  },
  {
   "cell_type": "markdown",
   "id": "84368a8b",
   "metadata": {},
   "source": [
    "The minimum information required is an initial model and corresponding run. We set this one up. For more info see the [MODEL](./MODEL.ipynb) Notebook.\n"
   ]
  },
  {
   "cell_type": "code",
   "execution_count": null,
   "id": "bc947db9",
   "metadata": {},
   "outputs": [],
   "source": [
    "#define in a dictionary the properties of the model..\n",
    "model={'solver_name':'schism',\n",
    "     'geometry':{'lon_min' : -25,'lon_max' : -12.,'lat_min' : 56.,'lat_max' : 74.}, \n",
    "     'coastlines':ne_i,\n",
    "     'mesh_generator' : 'jigsaw', # set grid generator \n",
    "     'meteo_engine':'cfgrib',\n",
    "     'start_date':'2018-10-1 0:0:0',\n",
    "     'time_frame':'24H',\n",
    "     'meteo_source' : './data/uvp_2018100100.grib', #path to meteo files\n",
    "     'dem_source' : './data/dem.nc', #path to dem file\n",
    "     'rpath':'./test/hotstart/step1/', #location of calc folder\n",
    "     'parameters':{'dt':400, 'rnday':1., 'nhot':1, 'ihot':0,'nspool':9, 'ihfskip':36, 'nhot_write':108 } # set param.nml components\n",
    "    }"
   ]
  },
  {
   "cell_type": "markdown",
   "id": "b4a2e57c",
   "metadata": {},
   "source": [
    "* Note that the parameters arguments will override relevant settings"
   ]
  },
  {
   "cell_type": "markdown",
   "id": "294d70f7",
   "metadata": {},
   "source": [
    "## Initialize"
   ]
  },
  {
   "cell_type": "code",
   "execution_count": null,
   "id": "70469aa6",
   "metadata": {},
   "outputs": [],
   "source": [
    "#initialize a model\n",
    "b = pm.set(**model)"
   ]
  },
  {
   "cell_type": "code",
   "execution_count": null,
   "id": "9c70decb",
   "metadata": {},
   "outputs": [],
   "source": [
    "#Execute\n",
    "b.execute()"
   ]
  },
  {
   "cell_type": "markdown",
   "id": "d43545b5",
   "metadata": {},
   "source": [
    "*Note* that hotstart files have been created (check ./test/hotstart/step1/outputs)"
   ]
  },
  {
   "cell_type": "markdown",
   "id": "d374d618",
   "metadata": {},
   "source": [
    "## Use the cast module to do a hotstart"
   ]
  },
  {
   "cell_type": "code",
   "execution_count": null,
   "id": "1b5023a3",
   "metadata": {},
   "outputs": [],
   "source": [
    "from pyposeidon.utils import cast\n",
    "import pandas as pd\n",
    "import datetime"
   ]
  },
  {
   "cell_type": "code",
   "execution_count": null,
   "id": "09f9ab61",
   "metadata": {},
   "outputs": [],
   "source": [
    "# folder for the new run hotstarting from the step1 folder\n",
    "new_path = './test/hotstart/step2/'"
   ]
  },
  {
   "cell_type": "code",
   "execution_count": null,
   "id": "f264246e",
   "metadata": {},
   "outputs": [],
   "source": [
    "# new meteo file\n",
    "mf = './data/uvp_2018100112.grib'"
   ]
  },
  {
   "cell_type": "code",
   "execution_count": null,
   "id": "943604ab",
   "metadata": {},
   "outputs": [],
   "source": [
    "rs = cast.set(solver_name='schism',\n",
    "        model=b, #reference model\n",
    "        ppath=b.rpath, #original path\n",
    "        cpath=new_path, #new path\n",
    "        meteo=mf, #new meteo\n",
    "        sdate=b.date + pd.DateOffset(hours=12) #new start time\n",
    "            ) \n",
    "\n"
   ]
  },
  {
   "cell_type": "code",
   "execution_count": null,
   "id": "09b6206b",
   "metadata": {},
   "outputs": [],
   "source": [
    "rs.run(execute=True)"
   ]
  }
 ],
 "metadata": {
  "kernelspec": {
   "display_name": "pyPoseidon",
   "language": "python",
   "name": "pyposeidon"
  },
  "language_info": {
   "codemirror_mode": {
    "name": "ipython",
    "version": 3
   },
   "file_extension": ".py",
   "mimetype": "text/x-python",
   "name": "python",
   "nbconvert_exporter": "python",
   "pygments_lexer": "ipython3",
   "version": "3.8.12"
  }
 },
 "nbformat": 4,
 "nbformat_minor": 5
}
