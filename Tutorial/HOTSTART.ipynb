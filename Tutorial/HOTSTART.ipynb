{
 "cells": [
  {
   "cell_type": "markdown",
   "id": "87bdc3dd",
   "metadata": {
    "tags": []
   },
   "source": [
    "# Hotstart"
   ]
  },
  {
   "cell_type": "markdown",
   "id": "6ee9c9a0",
   "metadata": {},
   "source": [
    "Many times one needs to split a simulation in intermittent steps. This is true for long hindacts and forecasts. This Notebook outlines the hotstart process using the `schism` solver. \n",
    "\n",
    "\n",
    "- Requires:\n",
    "\n",
    "    - The data folder. See [README](README.md) in this folder."
   ]
  },
  {
   "cell_type": "code",
   "execution_count": null,
   "id": "4fcdb5db",
   "metadata": {},
   "outputs": [],
   "source": [
    "#to use the full width of the browser window\n",
    "from IPython.display import display, HTML\n",
    "display(HTML(\"<style>.container { width:100% !important; }</style>\"))"
   ]
  },
  {
   "cell_type": "code",
   "execution_count": null,
   "id": "03e7bcf9",
   "metadata": {},
   "outputs": [],
   "source": [
    "# Not neccessarily needed. Just to check version. Must be >= 0.6\n",
    "import pyposeidon\n",
    "pyposeidon.__version__"
   ]
  },
  {
   "cell_type": "code",
   "execution_count": null,
   "id": "b4bf89f6",
   "metadata": {},
   "outputs": [],
   "source": [
    "import pyposeidon.model as pm"
   ]
  },
  {
   "cell_type": "markdown",
   "id": "d8bb0c58",
   "metadata": {},
   "source": [
    "### Graphics"
   ]
  },
  {
   "cell_type": "code",
   "execution_count": null,
   "id": "d4bffc2e",
   "metadata": {},
   "outputs": [],
   "source": [
    "import pyposeidon.utils.pplot # initialize matplolib accessor"
   ]
  },
  {
   "cell_type": "code",
   "execution_count": null,
   "id": "a4536799",
   "metadata": {},
   "outputs": [],
   "source": [
    "#optional\n",
    "#pyposeidon.utils.pplot.__init__(dark_background=True) # set plt style for pplot graphics below"
   ]
  },
  {
   "cell_type": "code",
   "execution_count": null,
   "id": "39650b77",
   "metadata": {},
   "outputs": [],
   "source": [
    "import pyposeidon.utils.hplot # initialize pyviz accessor"
   ]
  },
  {
   "cell_type": "markdown",
   "id": "410e1090",
   "metadata": {},
   "source": [
    "- In order to have within the Notebook the executable binaries installed in the conda env of the Kernel we add the corresponding path to the env PATH. This is not needed when we are running from python."
   ]
  },
  {
   "cell_type": "code",
   "execution_count": null,
   "id": "0d2609c7",
   "metadata": {},
   "outputs": [],
   "source": [
    "#Create a folder to save the output\n",
    "import os\n",
    "if not os.path.exists('test'):\n",
    "            os.makedirs('test')"
   ]
  },
  {
   "cell_type": "code",
   "execution_count": null,
   "id": "67eda11f",
   "metadata": {},
   "outputs": [],
   "source": [
    "import numpy\n",
    "cpath = numpy.__path__[0].split('/lib/')[0] # get the current kernel path\n",
    "\n",
    "os.environ['PATH'] += os.pathsep + cpath + '/bin' # add to PATH"
   ]
  },
  {
   "cell_type": "code",
   "execution_count": null,
   "id": "1e6846ff",
   "metadata": {},
   "outputs": [],
   "source": [
    "import geopandas as gp\n",
    "# use cartopy to get coastlines\n",
    "import cartopy.feature as cf"
   ]
  },
  {
   "cell_type": "markdown",
   "id": "30a0baa8",
   "metadata": {},
   "source": [
    "Without loss of generality we are using the natural earth's intermediate resolution dataset as coastlines"
   ]
  },
  {
   "cell_type": "code",
   "execution_count": null,
   "id": "817c3e9b",
   "metadata": {},
   "outputs": [],
   "source": [
    "cr='i'\n",
    "\n",
    "coast = cf.NaturalEarthFeature(\n",
    "    category='physical',\n",
    "    name='land',\n",
    "    scale='{}m'.format({'l':110, 'i':50, 'h':10}[cr]))"
   ]
  },
  {
   "cell_type": "code",
   "execution_count": null,
   "id": "7211e1d9",
   "metadata": {},
   "outputs": [],
   "source": [
    "import geopandas as gp\n",
    "ne_i = gp.GeoDataFrame(geometry = [x for x in coast.geometries()])"
   ]
  },
  {
   "cell_type": "code",
   "execution_count": null,
   "id": "4022125d",
   "metadata": {},
   "outputs": [],
   "source": [
    "ne_i"
   ]
  },
  {
   "cell_type": "markdown",
   "id": "85a29438",
   "metadata": {},
   "source": [
    "## Setup"
   ]
  },
  {
   "cell_type": "markdown",
   "id": "71cfbb31",
   "metadata": {},
   "source": [
    "The minimum information required is an initial model and corresponding run. We set this one up. For more info see the [MODEL](./MODEL.ipynb) Notebook.\n"
   ]
  },
  {
   "cell_type": "code",
   "execution_count": null,
   "id": "f77f1cea",
   "metadata": {},
   "outputs": [],
   "source": [
    "#define in a dictionary the properties of the model..\n",
    "model={'solver_name':'schism',\n",
    "     'geometry':{'lon_min' : -25,'lon_max' : -12.,'lat_min' : 56.,'lat_max' : 74.}, \n",
    "     'coastlines':ne_i,\n",
    "     'mesh_generator' : 'jigsaw', # set grid generator \n",
    "     'meteo_engine':'cfgrib',\n",
    "     'start_date':'2018-10-1 0:0:0',\n",
    "     'time_frame':'24H',\n",
    "     'meteo_source' : './data/uvp_2018100100.grib', #path to meteo files\n",
    "     'dem_source' : './data/dem.nc', #path to dem file\n",
    "     'rpath':'./test/hotstart/step1/', #location of calc folder\n",
    "     'parameters':{'dt':400, 'rnday':1., 'nhot':1, 'ihot':0,'nspool':9, 'ihfskip':36, 'nhot_write':108 }, # set param.nml components\n",
    "     'scribes':2,\n",
    "      }"
   ]
  },
  {
   "cell_type": "markdown",
   "id": "dc153b9d",
   "metadata": {},
   "source": [
    "* Note that the parameters arguments will override relevant settings"
   ]
  },
  {
   "cell_type": "markdown",
   "id": "46f57b20",
   "metadata": {},
   "source": [
    "## Initialize"
   ]
  },
  {
   "cell_type": "code",
   "execution_count": null,
   "id": "62f315b0",
   "metadata": {},
   "outputs": [],
   "source": [
    "#initialize a model\n",
    "b = pm.set(**model)"
   ]
  },
  {
   "cell_type": "code",
   "execution_count": null,
   "id": "3e6ae34b",
   "metadata": {},
   "outputs": [],
   "source": [
    "#Execute\n",
    "b.execute()"
   ]
  },
  {
   "cell_type": "markdown",
   "id": "bdc7f36f",
   "metadata": {},
   "source": [
    "*Note* that hotstart files have been created (check ./test/hotstart/step1/outputs)"
   ]
  },
  {
   "cell_type": "markdown",
   "id": "a76825e5",
   "metadata": {},
   "source": [
    "## Use the cast module to do a hotstart"
   ]
  },
  {
   "cell_type": "code",
   "execution_count": null,
   "id": "ebf15ba5",
   "metadata": {},
   "outputs": [],
   "source": [
    "from pyposeidon.utils import cast\n",
    "import pandas as pd\n",
    "import datetime"
   ]
  },
  {
   "cell_type": "code",
   "execution_count": null,
   "id": "79dff67f",
   "metadata": {},
   "outputs": [],
   "source": [
    "# folder for the new run hotstarting from the step1 folder\n",
    "new_path = './test/hotstart/step2/'"
   ]
  },
  {
   "cell_type": "code",
   "execution_count": null,
   "id": "ac4bb02c",
   "metadata": {},
   "outputs": [],
   "source": [
    "# new meteo file\n",
    "mf = './data/uvp_2018100112.grib'"
   ]
  },
  {
   "cell_type": "code",
   "execution_count": null,
   "id": "d237d5ce",
   "metadata": {},
   "outputs": [],
   "source": [
    "b = pyposeidon.model.read(\"./test/hotstart/step1/schism_model.json\")"
   ]
  },
  {
   "cell_type": "code",
   "execution_count": null,
   "id": "c1d9d693",
   "metadata": {},
   "outputs": [],
   "source": [
    "rs = cast.set(solver_name='schism',\n",
    "        model=b, #reference model\n",
    "        ppath=b.rpath, #original path\n",
    "        cpath=new_path, #new path\n",
    "        meteo=mf, #new meteo\n",
    "        sdate=pd.to_datetime(b.rdate) + pd.DateOffset(hours=12), #new start time\n",
    "        copy = True # optional, default is simlink for common files      \n",
    "            ) \n",
    "\n"
   ]
  },
  {
   "cell_type": "code",
   "execution_count": null,
   "id": "72ce3306",
   "metadata": {},
   "outputs": [],
   "source": [
    "rs.run(execute=False)"
   ]
  },
  {
   "cell_type": "markdown",
   "id": "a1e4e23e",
   "metadata": {},
   "source": [
    "## Configure without the cast class"
   ]
  },
  {
   "cell_type": "code",
   "execution_count": null,
   "id": "a1cd8cb6",
   "metadata": {},
   "outputs": [],
   "source": [
    "# read json from previous folder\n",
    "c = pyposeidon.model.read(\"./test/hotstart/step1/schism_model.json\")"
   ]
  },
  {
   "cell_type": "code",
   "execution_count": null,
   "id": "34dfb3dc",
   "metadata": {},
   "outputs": [],
   "source": [
    "sdate = pd.to_datetime(c.start_date) + pd.DateOffset(hours=12)\n",
    "edate = pd.to_datetime(c.end_date) + pd.DateOffset(hours=12)"
   ]
  },
  {
   "cell_type": "code",
   "execution_count": null,
   "id": "2f449244",
   "metadata": {},
   "outputs": [],
   "source": [
    "rdate = pd.to_datetime(c.rdate)"
   ]
  },
  {
   "cell_type": "code",
   "execution_count": null,
   "id": "78104101",
   "metadata": {},
   "outputs": [],
   "source": [
    "hotout = int((sdate - rdate).total_seconds() / c.params[\"core\"][\"dt\"])\n",
    "hotout"
   ]
  },
  {
   "cell_type": "code",
   "execution_count": null,
   "id": "e311790e",
   "metadata": {},
   "outputs": [],
   "source": [
    "# create the hotstart file\n",
    "c.hotstart(it=hotout)"
   ]
  },
  {
   "cell_type": "code",
   "execution_count": null,
   "id": "4a8b29d0",
   "metadata": {},
   "outputs": [],
   "source": [
    "## copy folder removing outputs\n",
    "! cp -r ./test/hotstart/step1/ ./test/hotstart/step2_\n",
    "! rm -r ./test/hotstart/step2_/outputs\n",
    "! rm -r ./test/hotstart/step2_/jigsaw # if it exists\n",
    "! rm ./test/hotstart/step2_/*.log"
   ]
  },
  {
   "cell_type": "code",
   "execution_count": null,
   "id": "d032edf7",
   "metadata": {},
   "outputs": [],
   "source": [
    "## copy hotstart\n",
    "! cp ./test/hotstart/step1/outputs/hotstart_it\\=108.nc ./test/hotstart/step2_/hotstart.nc"
   ]
  },
  {
   "cell_type": "code",
   "execution_count": null,
   "id": "0e6dff79",
   "metadata": {},
   "outputs": [],
   "source": [
    "#update the start_date (needed for meteo)\n",
    "c.start_date = sdate\n",
    "c.end_date = edate"
   ]
  },
  {
   "cell_type": "code",
   "execution_count": null,
   "id": "841317b1",
   "metadata": {},
   "outputs": [],
   "source": [
    "# define new meteo\n",
    "c.meteo_source = './data/uvp_2018100112.grib'"
   ]
  },
  {
   "cell_type": "code",
   "execution_count": null,
   "id": "8defca48",
   "metadata": {},
   "outputs": [],
   "source": [
    "#set new path\n",
    "c.rpath = \"./test/hotstart/step2_/\""
   ]
  },
  {
   "cell_type": "code",
   "execution_count": null,
   "id": "60676b36",
   "metadata": {},
   "outputs": [],
   "source": [
    "# compute meteo\n",
    "c.force()"
   ]
  },
  {
   "cell_type": "code",
   "execution_count": null,
   "id": "1ed1ea3e",
   "metadata": {},
   "outputs": [],
   "source": [
    "#output to file\n",
    "c.to_force(\n",
    "    c.meteo.Dataset,\n",
    "    vars=[\"msl\", \"u10\", \"v10\"],\n",
    "    rpath = c.rpath,\n",
    "    date=c.rdate # keep the original reference date for setting time correctly\n",
    "    )\n"
   ]
  },
  {
   "cell_type": "code",
   "execution_count": null,
   "id": "aaeed276",
   "metadata": {},
   "outputs": [],
   "source": [
    "#update param.nml\n",
    "c.start_date = pd.to_datetime(c.rdate) #revert so that the reference date is the same\n",
    "c.config(\n",
    "        output=True, \n",
    "        config_file='./test/hotstart/step1/param.nml', \n",
    "        parameters={'rnday':1.5, 'ihot':2}\n",
    "        )"
   ]
  },
  {
   "cell_type": "code",
   "execution_count": null,
   "id": "a7b46c3b",
   "metadata": {},
   "outputs": [],
   "source": [
    "# save json file\n",
    "c.parameters.update(\n",
    "    {\n",
    "    \"start_hour\": rdate.hour,\n",
    "    \"start_day\": rdate.day,\n",
    "    \"start_month\": rdate.month,\n",
    "    \"start_year\": rdate.year,\n",
    "            })\n",
    "\n",
    "c.misc = {}\n",
    "\n",
    "c.config_file = './test/hotstart/step2_/param.nml'\n",
    "\n",
    "c.start_date = sdate\n",
    "c.save()"
   ]
  },
  {
   "cell_type": "markdown",
   "id": "cb7b4f96",
   "metadata": {},
   "source": [
    "## check meteo"
   ]
  },
  {
   "cell_type": "code",
   "execution_count": null,
   "id": "e99d7772",
   "metadata": {},
   "outputs": [],
   "source": [
    "import xarray as xr"
   ]
  },
  {
   "cell_type": "code",
   "execution_count": null,
   "id": "af35a4a6",
   "metadata": {},
   "outputs": [],
   "source": [
    "m1 = xr.open_dataset('./test/hotstart/step2/sflux/sflux_air_1.0001.nc')"
   ]
  },
  {
   "cell_type": "code",
   "execution_count": null,
   "id": "1920ed5a",
   "metadata": {},
   "outputs": [],
   "source": [
    "m2 = xr.open_dataset('./test/hotstart/step2_/sflux/sflux_air_1.0001.nc')"
   ]
  },
  {
   "cell_type": "code",
   "execution_count": null,
   "id": "d69e7bae",
   "metadata": {},
   "outputs": [],
   "source": [
    "m1.equals(m2)"
   ]
  },
  {
   "cell_type": "code",
   "execution_count": null,
   "id": "59eb8d1f",
   "metadata": {},
   "outputs": [],
   "source": [
    "m1.close()\n",
    "m2.close()"
   ]
  },
  {
   "cell_type": "code",
   "execution_count": null,
   "id": "e523260f",
   "metadata": {},
   "outputs": [],
   "source": [
    "! diff -rq ./test/hotstart/step2 ./test/hotstart/step2_ "
   ]
  },
  {
   "cell_type": "code",
   "execution_count": null,
   "id": "84230d06",
   "metadata": {},
   "outputs": [],
   "source": []
  }
 ],
 "metadata": {
  "kernelspec": {
   "display_name": "py310",
   "language": "python",
   "name": "py310"
  },
  "language_info": {
   "codemirror_mode": {
    "name": "ipython",
    "version": 3
   },
   "file_extension": ".py",
   "mimetype": "text/x-python",
   "name": "python",
   "nbconvert_exporter": "python",
   "pygments_lexer": "ipython3",
   "version": "3.10.8"
  }
 },
 "nbformat": 4,
 "nbformat_minor": 5
}
