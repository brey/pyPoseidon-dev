{
 "cells": [
  {
   "cell_type": "markdown",
   "id": "ff29ed82",
   "metadata": {},
   "source": [
    "# The Grid module"
   ]
  },
  {
   "cell_type": "markdown",
   "id": "0abfca20",
   "metadata": {},
   "source": [
    "The grid module handles mesh creation/integration based on given boundaries. \n",
    "\n",
    "\n",
    "- Requires:\n",
    "\n",
    "data folder. See [README](README.md) in this folder."
   ]
  },
  {
   "cell_type": "code",
   "execution_count": null,
   "id": "052c19ae",
   "metadata": {},
   "outputs": [],
   "source": [
    "#to use the full width of the browser window\n",
    "from IPython.core.display import display, HTML\n",
    "display(HTML(\"<style>.container { width:100% !important; }</style>\"))"
   ]
  },
  {
   "cell_type": "code",
   "execution_count": null,
   "id": "005e1643",
   "metadata": {},
   "outputs": [],
   "source": [
    "# Not neccessarily needed. Just to check version. Must be > 0.4.1\n",
    "import pyPoseidon\n",
    "pyPoseidon.__version__"
   ]
  },
  {
   "cell_type": "code",
   "execution_count": null,
   "id": "1aae72b8",
   "metadata": {},
   "outputs": [],
   "source": [
    "import pyPoseidon.grid as pg"
   ]
  },
  {
   "cell_type": "markdown",
   "id": "bb7a0b47",
   "metadata": {},
   "source": [
    "### Graphics"
   ]
  },
  {
   "cell_type": "code",
   "execution_count": null,
   "id": "0c76cf01",
   "metadata": {},
   "outputs": [],
   "source": [
    "import pyPoseidon.utils.pplot"
   ]
  },
  {
   "cell_type": "code",
   "execution_count": null,
   "id": "8576ea13",
   "metadata": {},
   "outputs": [],
   "source": [
    "import pyPoseidon.utils.hplot"
   ]
  },
  {
   "cell_type": "code",
   "execution_count": null,
   "id": "576d4a0f",
   "metadata": {},
   "outputs": [],
   "source": [
    "import matplotlib.pyplot as plt"
   ]
  },
  {
   "cell_type": "code",
   "execution_count": null,
   "id": "8936c0dd",
   "metadata": {},
   "outputs": [],
   "source": [
    "#optional\n",
    "#pyPoseidon.utils.pplot.__init__(dark_background=True) # set plt style for pplot graphics below"
   ]
  },
  {
   "cell_type": "code",
   "execution_count": null,
   "id": "418d5e1d",
   "metadata": {},
   "outputs": [],
   "source": [
    "#optional\n",
    "#plt.style.use('dark_background')"
   ]
  },
  {
   "cell_type": "code",
   "execution_count": null,
   "id": "6e1deaa8",
   "metadata": {},
   "outputs": [],
   "source": [
    "%matplotlib widget"
   ]
  },
  {
   "cell_type": "markdown",
   "id": "c15a3d9f",
   "metadata": {},
   "source": [
    "- In order to have within the Notebook the executable binaries installed in the conda env of the Kernel we add the corresponding path to the env PATH. This is not needed when we are running from python."
   ]
  },
  {
   "cell_type": "code",
   "execution_count": null,
   "id": "9b5fd2f8",
   "metadata": {},
   "outputs": [],
   "source": [
    "cpath = pyPoseidon.__path__[0].split('/lib/')[0] # get the current kernel path\n",
    "\n",
    "os.environ['PATH'] += os.pathsep + cpath + '/bin' # add to PATH"
   ]
  },
  {
   "cell_type": "code",
   "execution_count": null,
   "id": "5ac68c0a",
   "metadata": {},
   "outputs": [],
   "source": [
    "os.environ['PATH'] += os.pathsep + '/Users/brey/miniconda3/envs/pyPoseidon/bin/'"
   ]
  },
  {
   "cell_type": "markdown",
   "id": "a94a3c5f",
   "metadata": {},
   "source": [
    "## Setup"
   ]
  },
  {
   "cell_type": "markdown",
   "id": "73d36fd3",
   "metadata": {},
   "source": [
    "The minimum information required is the geomerty boundary. In the most simple case that is a lat/lon box that defines the area of interest. Without loss of generality we select below Iceland as a test case. Feel free to modify the coordinates. \n",
    "\n",
    "In addition, the coastlines need to be provided as internal boundaries.\n",
    "\n",
    "Altrenatively, the boundary can be given as a shapefile or GeoDataFrame."
   ]
  },
  {
   "cell_type": "code",
   "execution_count": null,
   "id": "3a2af607",
   "metadata": {},
   "outputs": [],
   "source": [
    "#define in a dictionary the properties of the model..\n",
    "geometry={'lon_min':-25., # lat/lon window\n",
    "     'lon_max':-9.,\n",
    "     'lat_min':56.,\n",
    "     'lat_max':74.,\n",
    "    }"
   ]
  },
  {
   "cell_type": "code",
   "execution_count": null,
   "id": "68176648",
   "metadata": {},
   "outputs": [],
   "source": [
    "# use cartopy to get coastlines\n",
    "import cartopy.feature as cf\n",
    "\n",
    "cr='i'\n",
    "\n",
    "coast = cf.NaturalEarthFeature(\n",
    "    category='physical',\n",
    "    name='land',\n",
    "    scale='{}m'.format({'l':110, 'i':50, 'h':10}[cr]))"
   ]
  },
  {
   "cell_type": "code",
   "execution_count": null,
   "id": "7fe3b147",
   "metadata": {},
   "outputs": [],
   "source": [
    "import geopandas as gp\n",
    "ne_i = gp.GeoDataFrame(geometry = [x for x in coast.geometries()])"
   ]
  },
  {
   "cell_type": "markdown",
   "id": "65d85d4b",
   "metadata": {},
   "source": [
    "We need to provide the type of element that we want (for now 'r2d' or 'tri2d' ) and the engine for grid generation ('jigsaw' or 'gmsh')"
   ]
  },
  {
   "cell_type": "code",
   "execution_count": null,
   "id": "eecbccd2",
   "metadata": {},
   "outputs": [],
   "source": [
    "mesh = pg.grid(type='tri2d', geometry=geometry, coastlines = ne_i, grid_generator = 'gmsh')"
   ]
  },
  {
   "cell_type": "code",
   "execution_count": null,
   "id": "4380f3ba",
   "metadata": {},
   "outputs": [],
   "source": [
    "mesh.Dataset"
   ]
  },
  {
   "cell_type": "markdown",
   "id": "28c5526d",
   "metadata": {},
   "source": [
    "**TIP** : You can change the grid generator above with  grid_generator = 'gmsh'."
   ]
  },
  {
   "cell_type": "markdown",
   "id": "947b99a4",
   "metadata": {},
   "source": [
    "## Visualize"
   ]
  },
  {
   "cell_type": "markdown",
   "id": "9e33965a",
   "metadata": {
    "tags": []
   },
   "source": [
    "- with Matplolib"
   ]
  },
  {
   "cell_type": "code",
   "execution_count": null,
   "id": "17c08912",
   "metadata": {},
   "outputs": [],
   "source": [
    "mesh.Dataset.pplot.grid(lw=.5, markersize=.2)"
   ]
  },
  {
   "cell_type": "markdown",
   "id": "bd9f1bda",
   "metadata": {},
   "source": [
    "One can overlay the coastlines on the graph with "
   ]
  },
  {
   "cell_type": "code",
   "execution_count": null,
   "id": "2360b617",
   "metadata": {},
   "outputs": [],
   "source": [
    "aa=plt.gca()\n",
    "ne_i.boundary.plot(ax=aa,color='orange')"
   ]
  },
  {
   "cell_type": "markdown",
   "id": "f3eb3ee7",
   "metadata": {
    "tags": []
   },
   "source": [
    "- with Holoviews"
   ]
  },
  {
   "cell_type": "code",
   "execution_count": null,
   "id": "fec45740",
   "metadata": {},
   "outputs": [],
   "source": [
    "mesh.Dataset.hplot.grid()"
   ]
  },
  {
   "cell_type": "markdown",
   "id": "7f6b10af",
   "metadata": {},
   "source": [
    "## Control mesh size"
   ]
  },
  {
   "cell_type": "markdown",
   "id": "9519301f",
   "metadata": {},
   "source": [
    "Better control on the mesh size can be obtained by providing a background control function usually in the form of a scaled DEM. One way to achieve this is to give as argument a dem file, like : "
   ]
  },
  {
   "cell_type": "code",
   "execution_count": null,
   "id": "c1fce5fa",
   "metadata": {},
   "outputs": [],
   "source": [
    "mesh = pg.grid(type='tri2d', geometry=geometry, coastlines = ne_i, grid_generator = 'jigsaw', \n",
    "               bgmesh='auto', dem_source='data/dem.nc')"
   ]
  },
  {
   "cell_type": "code",
   "execution_count": null,
   "id": "5f6b2441",
   "metadata": {},
   "outputs": [],
   "source": [
    "mesh.Dataset.pplot.grid(lw=.5, markersize=.2)"
   ]
  },
  {
   "cell_type": "markdown",
   "id": "be714c77",
   "metadata": {},
   "source": [
    "**TIP** : Change the grid generator above with  grid_generator = 'gmsh' to see how gmsh would do the same mesh."
   ]
  },
  {
   "cell_type": "markdown",
   "id": "b3d51b25",
   "metadata": {},
   "source": [
    "## Output"
   ]
  },
  {
   "cell_type": "code",
   "execution_count": null,
   "id": "a2f0034a",
   "metadata": {},
   "outputs": [],
   "source": [
    "mesh.to_file('./test/hgrid.gr3')"
   ]
  },
  {
   "cell_type": "markdown",
   "id": "49bb84c2",
   "metadata": {},
   "source": [
    "## Read a given grid"
   ]
  },
  {
   "cell_type": "code",
   "execution_count": null,
   "id": "a8d24053",
   "metadata": {},
   "outputs": [],
   "source": [
    "m = pg.grid(type='tri2d',grid_file='./test/hgrid.gr3')"
   ]
  },
  {
   "cell_type": "code",
   "execution_count": null,
   "id": "1ff614df",
   "metadata": {},
   "outputs": [],
   "source": [
    "m.Dataset"
   ]
  },
  {
   "cell_type": "markdown",
   "id": "d26f78b9",
   "metadata": {},
   "source": [
    "### Grid Validation"
   ]
  },
  {
   "cell_type": "markdown",
   "id": "5f9b302f",
   "metadata": {},
   "source": [
    "The grid can be validated against SCHISM as "
   ]
  },
  {
   "cell_type": "code",
   "execution_count": null,
   "id": "8687e0f7",
   "metadata": {},
   "outputs": [],
   "source": [
    "m.validate(rpath='./test/val/')"
   ]
  },
  {
   "cell_type": "markdown",
   "id": "73cae01a",
   "metadata": {},
   "source": [
    "### Grid Verification"
   ]
  },
  {
   "cell_type": "markdown",
   "id": "0b5c3fa8",
   "metadata": {},
   "source": [
    "The grid is created with a specific boundary defined, usually a coastline. In order to check whether that coastline is crossed by the generated grid we can use :"
   ]
  },
  {
   "cell_type": "code",
   "execution_count": null,
   "id": "1092448f",
   "metadata": {},
   "outputs": [],
   "source": [
    "m.verify(coastlines=ne_i)"
   ]
  },
  {
   "cell_type": "markdown",
   "id": "983d337f",
   "metadata": {},
   "source": [
    "*Note* : This is still under development and there is no distiction between 'intersection' and 'touch' for the grid. That is, the nodes could very well be **on** the boundary as they should. "
   ]
  },
  {
   "cell_type": "code",
   "execution_count": null,
   "id": "2d3e31c8",
   "metadata": {},
   "outputs": [],
   "source": []
  }
 ],
 "metadata": {
  "kernelspec": {
   "display_name": "pyPoseidon",
   "language": "python",
   "name": "pyposeidon"
  },
  "language_info": {
   "codemirror_mode": {
    "name": "ipython",
    "version": 3
   },
   "file_extension": ".py",
   "mimetype": "text/x-python",
   "name": "python",
   "nbconvert_exporter": "python",
   "pygments_lexer": "ipython3",
   "version": "3.8.8"
  }
 },
 "nbformat": 4,
 "nbformat_minor": 5
}
