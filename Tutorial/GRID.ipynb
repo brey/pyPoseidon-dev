{
 "cells": [
  {
   "cell_type": "markdown",
   "id": "1726a1bc",
   "metadata": {},
   "source": [
    "# The Grid module"
   ]
  },
  {
   "cell_type": "markdown",
   "id": "8d15117b",
   "metadata": {},
   "source": [
    "The grid module handles mesh creation/integration based on given boundaries. \n",
    "\n",
    "\n",
    "- Requires:\n",
    "\n",
    "data folder. See [README](README.md) in this folder."
   ]
  },
  {
   "cell_type": "code",
   "execution_count": null,
   "id": "29a9a7c5",
   "metadata": {},
   "outputs": [],
   "source": [
    "#to use the full width of the browser window\n",
    "from IPython.core.display import display, HTML\n",
    "display(HTML(\"<style>.container { width:100% !important; }</style>\"))"
   ]
  },
  {
   "cell_type": "code",
   "execution_count": null,
   "id": "5de058e1",
   "metadata": {},
   "outputs": [],
   "source": [
    "# Not neccessarily needed. Just to check version. Must be > 0.4.1\n",
    "import pyPoseidon\n",
    "pyPoseidon.__version__"
   ]
  },
  {
   "cell_type": "code",
   "execution_count": null,
   "id": "ee51e7c3",
   "metadata": {},
   "outputs": [],
   "source": [
    "import pyPoseidon.grid as pg"
   ]
  },
  {
   "cell_type": "markdown",
   "id": "3f2e9086",
   "metadata": {},
   "source": [
    "### Graphics"
   ]
  },
  {
   "cell_type": "code",
   "execution_count": null,
   "id": "c1a60170",
   "metadata": {},
   "outputs": [],
   "source": [
    "import pyPoseidon.utils.pplot"
   ]
  },
  {
   "cell_type": "code",
   "execution_count": null,
   "id": "91d1bbab",
   "metadata": {},
   "outputs": [],
   "source": [
    "import pyPoseidon.utils.hplot"
   ]
  },
  {
   "cell_type": "code",
   "execution_count": null,
   "id": "50c3ce0c",
   "metadata": {},
   "outputs": [],
   "source": [
    "import matplotlib.pyplot as plt"
   ]
  },
  {
   "cell_type": "code",
   "execution_count": null,
   "id": "15a3d3c3",
   "metadata": {},
   "outputs": [],
   "source": [
    "#optional\n",
    "#pyPoseidon.utils.pplot.__init__(dark_background=True) # set plt style for pplot graphics below"
   ]
  },
  {
   "cell_type": "code",
   "execution_count": null,
   "id": "dc9451c9",
   "metadata": {},
   "outputs": [],
   "source": [
    "#optional\n",
    "#plt.style.use('dark_background')"
   ]
  },
  {
   "cell_type": "code",
   "execution_count": null,
   "id": "6d8653d5",
   "metadata": {},
   "outputs": [],
   "source": [
    "%matplotlib widget"
   ]
  },
  {
   "cell_type": "markdown",
   "id": "df7b6a26",
   "metadata": {},
   "source": [
    "- In order to have within the Notebook the executable binaries installed in the conda env of the Kernel we add the corresponding path to the env PATH. This is not needed when we are running from python."
   ]
  },
  {
   "cell_type": "code",
   "execution_count": null,
   "id": "667265a8",
   "metadata": {},
   "outputs": [],
   "source": [
    "cpath = pyPoseidon.__path__[0].split('/lib/')[0] # get the current kernel path\n",
    "\n",
    "os.environ['PATH'] += os.pathsep + cpath + '/bin' # add to PATH"
   ]
  },
  {
   "cell_type": "markdown",
   "id": "af92d199",
   "metadata": {},
   "source": [
    "## Setup"
   ]
  },
  {
   "cell_type": "markdown",
   "id": "1b67c1b8",
   "metadata": {},
   "source": [
    "The minimum information required is the geomerty boundary. In the most simple case that is a lat/lon box that defines the area of interest. Without loss of generality we select below Iceland as a test case. Feel free to modify the coordinates. \n",
    "\n",
    "In addition, the coastlines need to be provided as internal boundaries.\n",
    "\n",
    "Altrenatively, the boundary can be given as a shapefile or GeoDataFrame."
   ]
  },
  {
   "cell_type": "code",
   "execution_count": null,
   "id": "88428b13",
   "metadata": {},
   "outputs": [],
   "source": [
    "#define in a dictionary the properties of the model..\n",
    "geometry={'lon_min':-25., # lat/lon window\n",
    "     'lon_max':-9.,\n",
    "     'lat_min':56.,\n",
    "     'lat_max':74.,\n",
    "    }"
   ]
  },
  {
   "cell_type": "code",
   "execution_count": null,
   "id": "8cd67ad9",
   "metadata": {},
   "outputs": [],
   "source": [
    "# use cartopy to get coastlines\n",
    "import cartopy.feature as cf\n",
    "\n",
    "cr='i'\n",
    "\n",
    "coast = cf.NaturalEarthFeature(\n",
    "    category='physical',\n",
    "    name='land',\n",
    "    scale='{}m'.format({'l':110, 'i':50, 'h':10}[cr]))"
   ]
  },
  {
   "cell_type": "code",
   "execution_count": null,
   "id": "f18dab70",
   "metadata": {},
   "outputs": [],
   "source": [
    "import geopandas as gp\n",
    "ne_i = gp.GeoDataFrame(geometry = [x for x in coast.geometries()])"
   ]
  },
  {
   "cell_type": "markdown",
   "id": "3066602e",
   "metadata": {},
   "source": [
    "We need to provide the type of element that we want (for now 'r2d' or 'tri2d' ) and the engine for grid generation ('jigsaw' or 'gmsh')"
   ]
  },
  {
   "cell_type": "code",
   "execution_count": null,
   "id": "9969ee77",
   "metadata": {},
   "outputs": [],
   "source": [
    "mesh = pg.grid(type='tri2d', geometry=geometry, coastlines = ne_i, grid_generator = 'jigsaw')"
   ]
  },
  {
   "cell_type": "code",
   "execution_count": null,
   "id": "0011bb9b",
   "metadata": {},
   "outputs": [],
   "source": [
    "mesh.Dataset"
   ]
  },
  {
   "cell_type": "markdown",
   "id": "20b3b48d",
   "metadata": {},
   "source": [
    "**TIP** : You can change the grid generator above with  grid_generator = 'gmsh'."
   ]
  },
  {
   "cell_type": "markdown",
   "id": "847692b1",
   "metadata": {},
   "source": [
    "## Visualize"
   ]
  },
  {
   "cell_type": "markdown",
   "id": "d08d9e32",
   "metadata": {
    "tags": []
   },
   "source": [
    "- with Matplolib"
   ]
  },
  {
   "cell_type": "code",
   "execution_count": null,
   "id": "83077c3d",
   "metadata": {},
   "outputs": [],
   "source": [
    "mesh.Dataset.pplot.grid(lw=.5, markersize=.2)"
   ]
  },
  {
   "cell_type": "markdown",
   "id": "3c24ae02",
   "metadata": {},
   "source": [
    "One can overlay the coastlines on the graph with "
   ]
  },
  {
   "cell_type": "code",
   "execution_count": null,
   "id": "40b68039",
   "metadata": {},
   "outputs": [],
   "source": [
    "aa=plt.gca()\n",
    "ne_i.boundary.plot(ax=aa,color='orange')"
   ]
  },
  {
   "cell_type": "markdown",
   "id": "04bd24f7",
   "metadata": {
    "tags": []
   },
   "source": [
    "- with Holoviews"
   ]
  },
  {
   "cell_type": "code",
   "execution_count": null,
   "id": "6e83c124",
   "metadata": {},
   "outputs": [],
   "source": [
    "mesh.Dataset.hplot.grid()#tiles=True)"
   ]
  },
  {
   "cell_type": "markdown",
   "id": "37daa286",
   "metadata": {},
   "source": [
    "## Control mesh size"
   ]
  },
  {
   "cell_type": "markdown",
   "id": "b284d8c9",
   "metadata": {},
   "source": [
    "Better control on the mesh size can be obtained by providing a background control function usually in the form of a scaled DEM. One way to achieve this is to give as argument a dem file, like : "
   ]
  },
  {
   "cell_type": "code",
   "execution_count": null,
   "id": "a95b0dba",
   "metadata": {},
   "outputs": [],
   "source": [
    "mesh = pg.grid(type='tri2d', geometry=geometry, coastlines = ne_i, grid_generator = 'jigsaw', \n",
    "               bgmesh='auto', dem_source='data/dem.nc')"
   ]
  },
  {
   "cell_type": "code",
   "execution_count": null,
   "id": "dd42d3d3",
   "metadata": {},
   "outputs": [],
   "source": [
    "mesh.Dataset.pplot.grid(lw=.5, markersize=.2)"
   ]
  },
  {
   "cell_type": "markdown",
   "id": "e48bc960",
   "metadata": {},
   "source": [
    "**TIP** : Change the grid generator above with  grid_generator = 'gmsh' to see how gmsh would do the same mesh."
   ]
  },
  {
   "cell_type": "markdown",
   "id": "84886cab",
   "metadata": {},
   "source": [
    "## Output"
   ]
  },
  {
   "cell_type": "code",
   "execution_count": null,
   "id": "6eb7190d",
   "metadata": {},
   "outputs": [],
   "source": [
    "mesh.to_file('./test/hgrid.gr3')"
   ]
  },
  {
   "cell_type": "markdown",
   "id": "2cdcf91e",
   "metadata": {},
   "source": [
    "## Read a given grid"
   ]
  },
  {
   "cell_type": "code",
   "execution_count": null,
   "id": "ce0de47a",
   "metadata": {},
   "outputs": [],
   "source": [
    "m = pg.grid(type='tri2d',grid_file='./test/hgrid.gr3')"
   ]
  },
  {
   "cell_type": "code",
   "execution_count": null,
   "id": "c0e4531f",
   "metadata": {},
   "outputs": [],
   "source": [
    "m.Dataset"
   ]
  },
  {
   "cell_type": "markdown",
   "id": "889edd6e",
   "metadata": {},
   "source": [
    "### Grid Validation"
   ]
  },
  {
   "cell_type": "markdown",
   "id": "1f034bc2",
   "metadata": {},
   "source": [
    "The grid can be validated against SCHISM as "
   ]
  },
  {
   "cell_type": "code",
   "execution_count": null,
   "id": "d140b18b",
   "metadata": {},
   "outputs": [],
   "source": [
    "m.validate(rpath='./test/val/')"
   ]
  },
  {
   "cell_type": "markdown",
   "id": "c4f054ae",
   "metadata": {},
   "source": [
    "### Grid Verification"
   ]
  },
  {
   "cell_type": "markdown",
   "id": "29d7c46b",
   "metadata": {},
   "source": [
    "The grid is created with a specific boundary defined, usually a coastline. In order to check whether that coastline is crossed by the generated grid we can use :"
   ]
  },
  {
   "cell_type": "code",
   "execution_count": null,
   "id": "7894cff5",
   "metadata": {},
   "outputs": [],
   "source": [
    "m.verify(coastlines=ne_i)"
   ]
  },
  {
   "cell_type": "markdown",
   "id": "07d45191",
   "metadata": {},
   "source": [
    "*Note* : This is still under development and there is no distiction between 'intersection' and 'touch' for the grid. That is, the nodes could very well be **on** the boundary as they should. "
   ]
  }
 ],
 "metadata": {
  "kernelspec": {
   "display_name": "ptests",
   "language": "python",
   "name": "ptests"
  },
  "language_info": {
   "codemirror_mode": {
    "name": "ipython",
    "version": 3
   },
   "file_extension": ".py",
   "mimetype": "text/x-python",
   "name": "python",
   "nbconvert_exporter": "python",
   "pygments_lexer": "ipython3",
   "version": "3.8.8"
  }
 },
 "nbformat": 4,
 "nbformat_minor": 5
}
