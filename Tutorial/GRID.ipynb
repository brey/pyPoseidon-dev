{
 "cells": [
  {
   "cell_type": "markdown",
   "id": "1602bab5",
   "metadata": {},
   "source": [
    "# The Grid module"
   ]
  },
  {
   "cell_type": "markdown",
   "id": "7c96c53e",
   "metadata": {},
   "source": [
    "The grid module handles mesh creation/integration based on given boundaries. \n",
    "\n",
    "\n",
    "- Requires:\n",
    "\n",
    "data folder. See [README](README.md) in this folder."
   ]
  },
  {
   "cell_type": "code",
   "execution_count": null,
   "id": "baab83d3",
   "metadata": {},
   "outputs": [],
   "source": [
    "#to use the full width of the browser window\n",
    "from IPython.core.display import display, HTML\n",
    "display(HTML(\"<style>.container { width:100% !important; }</style>\"))"
   ]
  },
  {
   "cell_type": "code",
   "execution_count": null,
   "id": "0503d564",
   "metadata": {},
   "outputs": [],
   "source": [
    "# Not neccessarily needed. Just to check version. Must be > 0.4.1\n",
    "import pyposeidon\n",
    "pyposeidon.__version__"
   ]
  },
  {
   "cell_type": "code",
   "execution_count": null,
   "id": "5b6d0115",
   "metadata": {},
   "outputs": [],
   "source": [
    "import pyposeidon.grid as pg"
   ]
  },
  {
   "cell_type": "markdown",
   "id": "de69343e",
   "metadata": {},
   "source": [
    "### Graphics"
   ]
  },
  {
   "cell_type": "code",
   "execution_count": null,
   "id": "dba43b0f",
   "metadata": {},
   "outputs": [],
   "source": [
    "import pyposeidon.utils.pplot"
   ]
  },
  {
   "cell_type": "code",
   "execution_count": null,
   "id": "6be4582a",
   "metadata": {},
   "outputs": [],
   "source": [
    "import pyposeidon.utils.hplot"
   ]
  },
  {
   "cell_type": "code",
   "execution_count": null,
   "id": "c51282ef",
   "metadata": {},
   "outputs": [],
   "source": [
    "import matplotlib.pyplot as plt"
   ]
  },
  {
   "cell_type": "code",
   "execution_count": null,
   "id": "c8999195",
   "metadata": {},
   "outputs": [],
   "source": [
    "#optional\n",
    "#pyposeidon.utils.pplot.__init__(dark_background=True) # set plt style for pplot graphics below"
   ]
  },
  {
   "cell_type": "code",
   "execution_count": null,
   "id": "cdd786c4",
   "metadata": {},
   "outputs": [],
   "source": [
    "#optional\n",
    "#plt.style.use('dark_background')"
   ]
  },
  {
   "cell_type": "code",
   "execution_count": null,
   "id": "fb9129c5",
   "metadata": {},
   "outputs": [],
   "source": [
    "%matplotlib widget"
   ]
  },
  {
   "cell_type": "code",
   "execution_count": null,
   "id": "22d0118b",
   "metadata": {},
   "outputs": [],
   "source": [
    "#Create a folder to save the output\n",
    "import os\n",
    "if not os.path.exists('test'):\n",
    "            os.makedirs('test')"
   ]
  },
  {
   "cell_type": "markdown",
   "id": "6d8fd418",
   "metadata": {},
   "source": [
    "- In order to have within the Notebook the executable binaries installed in the conda env of the Kernel we add the corresponding path to the env PATH. This is not needed when we are running from python."
   ]
  },
  {
   "cell_type": "code",
   "execution_count": null,
   "id": "6e881191",
   "metadata": {},
   "outputs": [],
   "source": [
    "cpath = pyposeidon.__path__[0].split('/lib/')[0] # get the current kernel path\n",
    "\n",
    "os.environ['PATH'] += os.pathsep + cpath + '/bin' # add to PATH"
   ]
  },
  {
   "cell_type": "markdown",
   "id": "c533038e",
   "metadata": {},
   "source": [
    "## Setup"
   ]
  },
  {
   "cell_type": "markdown",
   "id": "c3e5d128",
   "metadata": {},
   "source": [
    "The minimum information required is the geometry's extent. In the most simple case that is a lat/lon box that defines the area of interest. Without loss of generality we select below Iceland as a test case. Feel free to modify the coordinates. \n",
    "\n",
    "In addition, the coastlines need to be provided as internal boundaries.\n",
    "\n",
    "Altrenatively, the boundary can be given as a shapefile or GeoDataFrame."
   ]
  },
  {
   "cell_type": "code",
   "execution_count": null,
   "id": "77732559",
   "metadata": {},
   "outputs": [],
   "source": [
    "#define in a dictionary the properties of the model..\n",
    "geometry={'lon_min':-25., # lat/lon window\n",
    "     'lon_max':-9.,\n",
    "     'lat_min':56.,\n",
    "     'lat_max':74.,\n",
    "    }"
   ]
  },
  {
   "cell_type": "code",
   "execution_count": null,
   "id": "a6911158",
   "metadata": {},
   "outputs": [],
   "source": [
    "# use cartopy to get coastlines\n",
    "import cartopy.feature as cf\n",
    "\n",
    "cr='i'\n",
    "\n",
    "coast = cf.NaturalEarthFeature(\n",
    "    category='physical',\n",
    "    name='land',\n",
    "    scale='{}m'.format({'l':110, 'i':50, 'h':10}[cr]))"
   ]
  },
  {
   "cell_type": "code",
   "execution_count": null,
   "id": "8133c720",
   "metadata": {},
   "outputs": [],
   "source": [
    "import geopandas as gp\n",
    "ne_i = gp.GeoDataFrame(geometry = [x for x in coast.geometries()])"
   ]
  },
  {
   "cell_type": "markdown",
   "id": "aff676f6",
   "metadata": {},
   "source": [
    "We need to provide the type of element that we want (for now 'r2d' or 'tri2d' ) and the engine for grid generation ('jigsaw' or 'gmsh').\n",
    "\n",
    "*Note*: Currently 'jigsaw' remains the default."
   ]
  },
  {
   "cell_type": "code",
   "execution_count": null,
   "id": "8748145b",
   "metadata": {},
   "outputs": [],
   "source": [
    "mesh = pg.grid(type='tri2d', geometry=geometry, coastlines = ne_i, grid_generator = 'jigsaw')"
   ]
  },
  {
   "cell_type": "code",
   "execution_count": null,
   "id": "57d87d1c",
   "metadata": {},
   "outputs": [],
   "source": [
    "mesh.Dataset"
   ]
  },
  {
   "cell_type": "markdown",
   "id": "bc0c2c81",
   "metadata": {},
   "source": [
    "**TIP** : You can change the grid generator above with  grid_generator = 'gmsh'."
   ]
  },
  {
   "cell_type": "markdown",
   "id": "1107cbe4",
   "metadata": {},
   "source": [
    "## Visualize"
   ]
  },
  {
   "cell_type": "markdown",
   "id": "ac55e98f",
   "metadata": {
    "tags": []
   },
   "source": [
    "- with Matplolib"
   ]
  },
  {
   "cell_type": "code",
   "execution_count": null,
   "id": "2d369eba",
   "metadata": {},
   "outputs": [],
   "source": [
    "mesh.Dataset.pplot.grid(lw=.5, markersize=.2)"
   ]
  },
  {
   "cell_type": "markdown",
   "id": "e81039c8",
   "metadata": {},
   "source": [
    "One can overlay the coastlines on the graph with "
   ]
  },
  {
   "cell_type": "code",
   "execution_count": null,
   "id": "b6f4cf44",
   "metadata": {},
   "outputs": [],
   "source": [
    "aa=plt.gca()\n",
    "ne_i.boundary.plot(ax=aa,color='orange')"
   ]
  },
  {
   "cell_type": "markdown",
   "id": "3978ad6d",
   "metadata": {
    "tags": []
   },
   "source": [
    "- with Holoviews"
   ]
  },
  {
   "cell_type": "code",
   "execution_count": null,
   "id": "5995e3a9",
   "metadata": {},
   "outputs": [],
   "source": [
    "mesh.Dataset.hplot.grid()#tiles=True) "
   ]
  },
  {
   "cell_type": "markdown",
   "id": "7d62a930",
   "metadata": {},
   "source": [
    "## Control mesh size"
   ]
  },
  {
   "cell_type": "markdown",
   "id": "c95e4b01",
   "metadata": {},
   "source": [
    "Better control on the mesh size can be obtained by providing a background control function usually in the form of a scaled DEM. One way to achieve this is to give as argument a dem file, like : "
   ]
  },
  {
   "cell_type": "code",
   "execution_count": null,
   "id": "a06622ad",
   "metadata": {},
   "outputs": [],
   "source": [
    "mesh = pg.grid(type='tri2d', geometry=geometry, coastlines = ne_i, grid_generator = 'jigsaw', \n",
    "               bgmesh='auto', dem_source='data/dem.nc', resolution_min=0.01, resolution_max=.5)"
   ]
  },
  {
   "cell_type": "code",
   "execution_count": null,
   "id": "2557b997",
   "metadata": {},
   "outputs": [],
   "source": [
    "mesh.Dataset.pplot.grid(lw=.5, markersize=.2)"
   ]
  },
  {
   "cell_type": "markdown",
   "id": "2b3d5226",
   "metadata": {},
   "source": [
    "**TIP** : Change the grid generator above with  grid_generator = 'gmsh' to see how gmsh would do it."
   ]
  },
  {
   "cell_type": "markdown",
   "id": "e6edd7dd",
   "metadata": {},
   "source": [
    "## Output"
   ]
  },
  {
   "cell_type": "code",
   "execution_count": null,
   "id": "e9e0ffc7",
   "metadata": {},
   "outputs": [],
   "source": [
    "mesh.to_file('./test/hgrid.gr3')"
   ]
  },
  {
   "cell_type": "markdown",
   "id": "8935b301",
   "metadata": {},
   "source": [
    "## Read a given grid"
   ]
  },
  {
   "cell_type": "code",
   "execution_count": null,
   "id": "c00be37c",
   "metadata": {},
   "outputs": [],
   "source": [
    "m = pg.grid(type='tri2d',grid_file='./test/hgrid.gr3')"
   ]
  },
  {
   "cell_type": "code",
   "execution_count": null,
   "id": "2c828188",
   "metadata": {},
   "outputs": [],
   "source": [
    "m.Dataset"
   ]
  },
  {
   "cell_type": "markdown",
   "id": "4870d164",
   "metadata": {},
   "source": [
    "### Grid Validation"
   ]
  },
  {
   "cell_type": "markdown",
   "id": "8168d4e7",
   "metadata": {},
   "source": [
    "If you model is SCHISM, the grid can be validated against it as "
   ]
  },
  {
   "cell_type": "code",
   "execution_count": null,
   "id": "6731aa26",
   "metadata": {},
   "outputs": [],
   "source": [
    "m.validate(rpath='./test/val/')"
   ]
  },
  {
   "cell_type": "markdown",
   "id": "7ff56691",
   "metadata": {},
   "source": [
    "### Grid Verification"
   ]
  },
  {
   "cell_type": "markdown",
   "id": "4f3bbc5a",
   "metadata": {},
   "source": [
    "The grid is created with a specific boundary defined, usually, as a coastline. In order to check whether that coastline is crossed by the generated grid we can use :"
   ]
  },
  {
   "cell_type": "code",
   "execution_count": null,
   "id": "e41815ad",
   "metadata": {},
   "outputs": [],
   "source": [
    "m.verify(coastlines=ne_i)"
   ]
  },
  {
   "cell_type": "markdown",
   "id": "20261a50",
   "metadata": {},
   "source": [
    "*Note* : This is still under development and there is no distiction between 'intersection' and 'touch' for the grid. That is, the nodes could very well be **on** the boundary as they should. "
   ]
  }
 ],
 "metadata": {
  "kernelspec": {
   "display_name": "ptests",
   "language": "python",
   "name": "ptests"
  },
  "language_info": {
   "codemirror_mode": {
    "name": "ipython",
    "version": 3
   },
   "file_extension": ".py",
   "mimetype": "text/x-python",
   "name": "python",
   "nbconvert_exporter": "python",
   "pygments_lexer": "ipython3",
   "version": "3.8.8"
  }
 },
 "nbformat": 4,
 "nbformat_minor": 5
}
