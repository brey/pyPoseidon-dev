{
 "cells": [
  {
   "cell_type": "markdown",
   "id": "76bdd0af",
   "metadata": {},
   "source": [
    "# The Grid module"
   ]
  },
  {
   "cell_type": "markdown",
   "id": "bb2ebecc",
   "metadata": {},
   "source": [
    "The grid module handles mesh creation/integration based on given boundaries. \n",
    "\n",
    "\n",
    "- Requires:\n",
    "\n",
    "data folder. See [README](README.md) in this folder."
   ]
  },
  {
   "cell_type": "code",
   "execution_count": null,
   "id": "45faa451",
   "metadata": {},
   "outputs": [],
   "source": [
    "#to use the full width of the browser window\n",
    "from IPython.core.display import display, HTML\n",
    "display(HTML(\"<style>.container { width:100% !important; }</style>\"))"
   ]
  },
  {
   "cell_type": "code",
   "execution_count": null,
   "id": "f048101a",
   "metadata": {},
   "outputs": [],
   "source": [
    "# Not neccessarily needed. Just to check version. Must be > 0.4.1\n",
    "import pyPoseidon\n",
    "pyPoseidon.__version__"
   ]
  },
  {
   "cell_type": "code",
   "execution_count": null,
   "id": "6283fb9c",
   "metadata": {},
   "outputs": [],
   "source": [
    "import pyPoseidon.grid as pg"
   ]
  },
  {
   "cell_type": "markdown",
   "id": "7e9873fd",
   "metadata": {},
   "source": [
    "### Graphics"
   ]
  },
  {
   "cell_type": "code",
   "execution_count": null,
   "id": "285913d0",
   "metadata": {},
   "outputs": [],
   "source": [
    "import pyPoseidon.utils.pplot"
   ]
  },
  {
   "cell_type": "code",
   "execution_count": null,
   "id": "9aa5a695",
   "metadata": {},
   "outputs": [],
   "source": [
    "import pyPoseidon.utils.hplot"
   ]
  },
  {
   "cell_type": "code",
   "execution_count": null,
   "id": "345f7bd4",
   "metadata": {},
   "outputs": [],
   "source": [
    "import matplotlib.pyplot as plt"
   ]
  },
  {
   "cell_type": "code",
   "execution_count": null,
   "id": "8eb0170f",
   "metadata": {},
   "outputs": [],
   "source": [
    "#optional\n",
    "#pyPoseidon.utils.pplot.__init__(dark_background=True) # set plt style for pplot graphics below"
   ]
  },
  {
   "cell_type": "code",
   "execution_count": null,
   "id": "1267090d",
   "metadata": {},
   "outputs": [],
   "source": [
    "#optional\n",
    "#plt.style.use('dark_background')"
   ]
  },
  {
   "cell_type": "code",
   "execution_count": null,
   "id": "c6760569",
   "metadata": {},
   "outputs": [],
   "source": [
    "%matplotlib widget"
   ]
  },
  {
   "cell_type": "code",
   "execution_count": null,
   "id": "fa2a06b0",
   "metadata": {},
   "outputs": [],
   "source": [
    "#Create a folder to save the output\n",
    "import os\n",
    "if not os.path.exists('test'):\n",
    "            os.makedirs('test')"
   ]
  },
  {
   "cell_type": "markdown",
   "id": "8a90c642",
   "metadata": {},
   "source": [
    "- In order to have within the Notebook the executable binaries installed in the conda env of the Kernel we add the corresponding path to the env PATH. This is not needed when we are running from python."
   ]
  },
  {
   "cell_type": "code",
   "execution_count": null,
   "id": "50135245",
   "metadata": {},
   "outputs": [],
   "source": [
    "cpath = pyPoseidon.__path__[0].split('/lib/')[0] # get the current kernel path\n",
    "\n",
    "os.environ['PATH'] += os.pathsep + cpath + '/bin' # add to PATH"
   ]
  },
  {
   "cell_type": "markdown",
   "id": "e3904bcc",
   "metadata": {},
   "source": [
    "## Setup"
   ]
  },
  {
   "cell_type": "markdown",
   "id": "f98d5a81",
   "metadata": {},
   "source": [
    "The minimum information required is the geomerty boundary. In the most simple case that is a lat/lon box that defines the area of interest. Without loss of generality we select below Iceland as a test case. Feel free to modify the coordinates. \n",
    "\n",
    "In addition, the coastlines need to be provided as internal boundaries.\n",
    "\n",
    "Altrenatively, the boundary can be given as a shapefile or GeoDataFrame."
   ]
  },
  {
   "cell_type": "code",
   "execution_count": null,
   "id": "f053bc9c",
   "metadata": {},
   "outputs": [],
   "source": [
    "#define in a dictionary the properties of the model..\n",
    "geometry={'lon_min':-25., # lat/lon window\n",
    "     'lon_max':-9.,\n",
    "     'lat_min':56.,\n",
    "     'lat_max':74.,\n",
    "    }"
   ]
  },
  {
   "cell_type": "code",
   "execution_count": null,
   "id": "4d0048a5",
   "metadata": {},
   "outputs": [],
   "source": [
    "# use cartopy to get coastlines\n",
    "import cartopy.feature as cf\n",
    "\n",
    "cr='i'\n",
    "\n",
    "coast = cf.NaturalEarthFeature(\n",
    "    category='physical',\n",
    "    name='land',\n",
    "    scale='{}m'.format({'l':110, 'i':50, 'h':10}[cr]))"
   ]
  },
  {
   "cell_type": "code",
   "execution_count": null,
   "id": "e6577b8c",
   "metadata": {},
   "outputs": [],
   "source": [
    "import geopandas as gp\n",
    "ne_i = gp.GeoDataFrame(geometry = [x for x in coast.geometries()])"
   ]
  },
  {
   "cell_type": "markdown",
   "id": "91722afd",
   "metadata": {},
   "source": [
    "We need to provide the type of element that we want (for now 'r2d' or 'tri2d' ) and the engine for grid generation ('jigsaw' or 'gmsh')"
   ]
  },
  {
   "cell_type": "code",
   "execution_count": null,
   "id": "3c48d487",
   "metadata": {},
   "outputs": [],
   "source": [
    "mesh = pg.grid(type='tri2d', geometry=geometry, coastlines = ne_i, grid_generator = 'jigsaw')"
   ]
  },
  {
   "cell_type": "code",
   "execution_count": null,
   "id": "2a01d9e1",
   "metadata": {},
   "outputs": [],
   "source": [
    "mesh.Dataset"
   ]
  },
  {
   "cell_type": "markdown",
   "id": "3bf8fc42",
   "metadata": {},
   "source": [
    "**TIP** : You can change the grid generator above with  grid_generator = 'gmsh'."
   ]
  },
  {
   "cell_type": "markdown",
   "id": "24464521",
   "metadata": {},
   "source": [
    "## Visualize"
   ]
  },
  {
   "cell_type": "markdown",
   "id": "b7624b47",
   "metadata": {
    "tags": []
   },
   "source": [
    "- with Matplolib"
   ]
  },
  {
   "cell_type": "code",
   "execution_count": null,
   "id": "c1452e66",
   "metadata": {},
   "outputs": [],
   "source": [
    "mesh.Dataset.pplot.grid(lw=.5, markersize=.2)"
   ]
  },
  {
   "cell_type": "markdown",
   "id": "b845ca8a",
   "metadata": {},
   "source": [
    "One can overlay the coastlines on the graph with "
   ]
  },
  {
   "cell_type": "code",
   "execution_count": null,
   "id": "9c88323f",
   "metadata": {},
   "outputs": [],
   "source": [
    "aa=plt.gca()\n",
    "ne_i.boundary.plot(ax=aa,color='orange')"
   ]
  },
  {
   "cell_type": "markdown",
   "id": "12817670",
   "metadata": {
    "tags": []
   },
   "source": [
    "- with Holoviews"
   ]
  },
  {
   "cell_type": "code",
   "execution_count": null,
   "id": "13bcccfb",
   "metadata": {},
   "outputs": [],
   "source": [
    "mesh.Dataset.hplot.grid()#tiles=True)"
   ]
  },
  {
   "cell_type": "markdown",
   "id": "64dd65c5",
   "metadata": {},
   "source": [
    "## Control mesh size"
   ]
  },
  {
   "cell_type": "markdown",
   "id": "2c4a8abc",
   "metadata": {},
   "source": [
    "Better control on the mesh size can be obtained by providing a background control function usually in the form of a scaled DEM. One way to achieve this is to give as argument a dem file, like : "
   ]
  },
  {
   "cell_type": "code",
   "execution_count": null,
   "id": "a6372cad",
   "metadata": {},
   "outputs": [],
   "source": [
    "mesh = pg.grid(type='tri2d', geometry=geometry, coastlines = ne_i, grid_generator = 'jigsaw', \n",
    "               bgmesh='auto', dem_source='data/dem.nc')"
   ]
  },
  {
   "cell_type": "code",
   "execution_count": null,
   "id": "081c825c",
   "metadata": {},
   "outputs": [],
   "source": [
    "mesh.Dataset.pplot.grid(lw=.5, markersize=.2)"
   ]
  },
  {
   "cell_type": "markdown",
   "id": "21ac233f",
   "metadata": {},
   "source": [
    "**TIP** : Change the grid generator above with  grid_generator = 'gmsh' to see how gmsh would do the same mesh."
   ]
  },
  {
   "cell_type": "markdown",
   "id": "29ff6689",
   "metadata": {},
   "source": [
    "## Output"
   ]
  },
  {
   "cell_type": "code",
   "execution_count": null,
   "id": "f9a29ee1",
   "metadata": {},
   "outputs": [],
   "source": [
    "mesh.to_file('./test/hgrid.gr3')"
   ]
  },
  {
   "cell_type": "markdown",
   "id": "347115e1",
   "metadata": {},
   "source": [
    "## Read a given grid"
   ]
  },
  {
   "cell_type": "code",
   "execution_count": null,
   "id": "21831708",
   "metadata": {},
   "outputs": [],
   "source": [
    "m = pg.grid(type='tri2d',grid_file='./test/hgrid.gr3')"
   ]
  },
  {
   "cell_type": "code",
   "execution_count": null,
   "id": "0b339cc1",
   "metadata": {},
   "outputs": [],
   "source": [
    "m.Dataset"
   ]
  },
  {
   "cell_type": "markdown",
   "id": "a2ea06e6",
   "metadata": {},
   "source": [
    "### Grid Validation"
   ]
  },
  {
   "cell_type": "markdown",
   "id": "bfc3a850",
   "metadata": {},
   "source": [
    "The grid can be validated against SCHISM as "
   ]
  },
  {
   "cell_type": "code",
   "execution_count": null,
   "id": "8be2425c",
   "metadata": {},
   "outputs": [],
   "source": [
    "m.validate(rpath='./test/val/')"
   ]
  },
  {
   "cell_type": "markdown",
   "id": "8082c27d",
   "metadata": {},
   "source": [
    "### Grid Verification"
   ]
  },
  {
   "cell_type": "markdown",
   "id": "137c10fd",
   "metadata": {},
   "source": [
    "The grid is created with a specific boundary defined, usually a coastline. In order to check whether that coastline is crossed by the generated grid we can use :"
   ]
  },
  {
   "cell_type": "code",
   "execution_count": null,
   "id": "4f6df954",
   "metadata": {},
   "outputs": [],
   "source": [
    "m.verify(coastlines=ne_i)"
   ]
  },
  {
   "cell_type": "markdown",
   "id": "b2830ba0",
   "metadata": {},
   "source": [
    "*Note* : This is still under development and there is no distiction between 'intersection' and 'touch' for the grid. That is, the nodes could very well be **on** the boundary as they should. "
   ]
  }
 ],
 "metadata": {
  "kernelspec": {
   "display_name": "ptests",
   "language": "python",
   "name": "ptests"
  },
  "language_info": {
   "codemirror_mode": {
    "name": "ipython",
    "version": 3
   },
   "file_extension": ".py",
   "mimetype": "text/x-python",
   "name": "python",
   "nbconvert_exporter": "python",
   "pygments_lexer": "ipython3",
   "version": "3.8.8"
  }
 },
 "nbformat": 4,
 "nbformat_minor": 5
}
