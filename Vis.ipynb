{
 "cells": [
  {
   "cell_type": "markdown",
   "metadata": {},
   "source": [
    "## Visualize Schism DATA using Mayavi"
   ]
  },
  {
   "cell_type": "code",
   "execution_count": 1,
   "metadata": {
    "collapsed": false
   },
   "outputs": [
    {
     "ename": "SystemExit",
     "evalue": "Unable to access the X Display, is $DISPLAY set properly?",
     "output_type": "error",
     "traceback": [
      "An exception has occurred, use %tb to see the full traceback.\n",
      "\u001b[0;31mSystemExit\u001b[0m\u001b[0;31m:\u001b[0m Unable to access the X Display, is $DISPLAY set properly?\n"
     ]
    },
    {
     "name": "stderr",
     "output_type": "stream",
     "text": [
      "/usr/local/lib/python2.7/dist-packages/IPython/core/interactiveshell.py:2889: UserWarning: To exit: use 'exit', 'quit', or Ctrl-D.\n",
      "  warn(\"To exit: use 'exit', 'quit', or Ctrl-D.\", stacklevel=1)\n"
     ]
    }
   ],
   "source": [
    "from numpy import array, arange, random\n",
    "from tvtk.api import tvtk\n",
    "import mayavi"
   ]
  },
  {
   "cell_type": "code",
   "execution_count": 2,
   "metadata": {
    "collapsed": true
   },
   "outputs": [],
   "source": [
    "def single_type_ug():\n",
    "    \"\"\"Simple example showing how to create an unstructured grid\n",
    "    consisting of cells of a single type.\n",
    "    \"\"\"\n",
    "    points = array([[0,0,0], [1,0,0], [0,1,0], [0,0,1], # tets\n",
    "                    [1,0,0], [2,0,0], [1,1,0], [1,0,1],\n",
    "                    [2,0,0], [3,0,0], [2,1,0], [2,0,1],\n",
    "                    ], 'f')\n",
    "    tets = array([[0, 1, 2, 3], [4, 5, 6, 7], [8, 9, 10, 11]])\n",
    "    tet_type = tvtk.Tetra().cell_type\n",
    "    ug = tvtk.UnstructuredGrid(points=points)\n",
    "    ug.set_cells(tet_type, tets)\n",
    "    return ug"
   ]
  },
  {
   "cell_type": "code",
   "execution_count": null,
   "metadata": {
    "collapsed": true
   },
   "outputs": [],
   "source": [
    "def mixed_type_ug():\n",
    "    \"\"\"A slightly more complex example of how to generate an\n",
    "    unstructured grid with different cell types.  Returns a created\n",
    "    unstructured grid.\n",
    "    \"\"\"\n",
    "    points = array([[0,0,0], [1,0,0], [0,1,0], [0,0,1], # tetra\n",
    "                    [2,0,0], [3,0,0], [3,1,0], [2,1,0],\n",
    "                    [2,0,1], [3,0,1], [3,1,1], [2,1,1], # Hex\n",
    "                    ], 'f')\n",
    "    # shift the points so we can show both.\n",
    "    points[:,1] += 2.0\n",
    "    # The cells\n",
    "    cells = array([4, 0, 1, 2, 3, # tetra\n",
    "                   8, 4, 5, 6, 7, 8, 9, 10, 11 # hex\n",
    "                   ])\n",
    "    # The offsets for the cells, i.e. the indices where the cells\n",
    "    # start.\n",
    "    offset = array([0, 5])\n",
    "    tetra_type = tvtk.Tetra().cell_type # VTK_TETRA == 10\n",
    "    hex_type = tvtk.Hexahedron().cell_type # VTK_HEXAHEDRON == 12\n",
    "    cell_types = array([tetra_type, hex_type])\n",
    "    # Create the array of cells unambiguously.\n",
    "    cell_array = tvtk.CellArray()\n",
    "    cell_array.set_cells(2, cells)\n",
    "    # Now create the UG.\n",
    "    ug = tvtk.UnstructuredGrid(points=points)\n",
    "    # Now just set the cell types and reuse the ug locations and cells.\n",
    "    ug.set_cells(cell_types, offset, cell_array)\n",
    "    return ug"
   ]
  },
  {
   "cell_type": "code",
   "execution_count": null,
   "metadata": {
    "collapsed": true
   },
   "outputs": [],
   "source": [
    "def save_xml(ug, file_name):\n",
    "    \"\"\"Shows how you can save the unstructured grid dataset to a VTK\n",
    "    XML file.\"\"\"\n",
    "    w = tvtk.XMLUnstructuredGridWriter(input=ug, file_name=file_name)\n",
    "    w.write()\n",
    "\n",
    "# ----------------------------------------------------------------------\n",
    "# Create the unstructured grids and assign scalars and vectors.\n",
    "ug1 = single_type_ug()\n",
    "ug2 = mixed_type_ug()\n",
    "temperature = arange(0, 120, 10, 'd')\n",
    "velocity = random.randn(12, 3)\n",
    "for ug in ug1, ug2:\n",
    "    ug.point_data.scalars = temperature\n",
    "    ug.point_data.scalars.name = 'temperature'\n",
    "    # Some vectors.\n",
    "    ug.point_data.vectors = velocity\n",
    "    ug.point_data.vectors.name = 'velocity'\n",
    "\n",
    "# Uncomment this to save the file to a VTK XML file.\n",
    "#save_xml(ug2, 'file.vtu')"
   ]
  },
  {
   "cell_type": "code",
   "execution_count": null,
   "metadata": {
    "collapsed": true
   },
   "outputs": [],
   "source": [
    "# Now view the data.\n",
    "@mayavi2.standalone\n",
    "def view():\n",
    "    from mayavi.sources.vtk_data_source import VTKDataSource\n",
    "    from mayavi.modules.outline import Outline\n",
    "    from mayavi.modules.surface import Surface\n",
    "    from mayavi.modules.vectors import Vectors\n",
    "\n",
    "    mayavi.new_scene()\n",
    "    # The single type one\n",
    "    src = VTKDataSource(data = ug1)\n",
    "    mayavi.add_source(src)\n",
    "    mayavi.add_module(Outline())\n",
    "    mayavi.add_module(Surface())\n",
    "    mayavi.add_module(Vectors())\n",
    "\n",
    "    # Mixed types.\n",
    "    src = VTKDataSource(data = ug2)\n",
    "    mayavi.add_source(src)\n",
    "    mayavi.add_module(Outline())\n",
    "    mayavi.add_module(Surface())\n",
    "    mayavi.add_module(Vectors())\n",
    "\n",
    "if __name__ == '__main__':\n",
    "    view()"
   ]
  },
  {
   "cell_type": "code",
   "execution_count": null,
   "metadata": {
    "collapsed": true
   },
   "outputs": [],
   "source": []
  }
 ],
 "metadata": {
  "kernelspec": {
   "display_name": "Python 2",
   "language": "python",
   "name": "python2"
  },
  "language_info": {
   "codemirror_mode": {
    "name": "ipython",
    "version": 2
   },
   "file_extension": ".py",
   "mimetype": "text/x-python",
   "name": "python",
   "nbconvert_exporter": "python",
   "pygments_lexer": "ipython2",
   "version": "2.7.12"
  }
 },
 "nbformat": 4,
 "nbformat_minor": 2
}
