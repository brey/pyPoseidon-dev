{
 "cells": [
  {
   "cell_type": "markdown",
   "metadata": {
    "deletable": true,
    "editable": true
   },
   "source": [
    "## An example workflow"
   ]
  },
  {
   "cell_type": "code",
   "execution_count": null,
   "metadata": {
    "collapsed": false,
    "deletable": true,
    "editable": true
   },
   "outputs": [],
   "source": [
    "#to use the full width of the browser window\n",
    "#from IPython.core.display import display, HTML\n",
    "#display(HTML(\"<style>.container { width:100% !important; }</style>\"))"
   ]
  },
  {
   "cell_type": "code",
   "execution_count": null,
   "metadata": {
    "collapsed": false,
    "deletable": true,
    "editable": true
   },
   "outputs": [],
   "source": [
    "from Poseidon.model import *\n",
    "from Poseidon.dem import *\n",
    "from Poseidon.meteo import *"
   ]
  },
  {
   "cell_type": "markdown",
   "metadata": {
    "deletable": true,
    "editable": true
   },
   "source": [
    "### setup"
   ]
  },
  {
   "cell_type": "code",
   "execution_count": null,
   "metadata": {
    "collapsed": false,
    "deletable": true,
    "editable": true
   },
   "outputs": [],
   "source": [
    "#define in a dictionary the properties e.g\n",
    "dic={'lon0':-35., # lat/lon window\n",
    "     'lon1':43.,\n",
    "     'lat0':24.5,\n",
    "     'lat1':76.5,\n",
    "     'tag':'test', #name tag \n",
    "     'date':datetime.datetime(2010,2,1,0), #start date stamp\n",
    "     'resolution':0.1, #grid resoltuion \n",
    "     'solver':'d3d',#model\n",
    "     'ft1':0, #starting time\n",
    "     'ft2':200, #end time in hours\n",
    "     'step' : 60, #step for saving variables\n",
    "     'rstep' : 60*12, #step for saving restart file\n",
    "     'meteo':'ecmwf', #meteo data type\n",
    "     'dem':'gebco08', #bathymetry data type\n",
    "     'rpath':'/home/critechproc/STORAGE/EUR/Tide/', #location of calc folder\n",
    "     'dpath':'/home/critechproc/STORAGE/BATHYMETRY/GLOBAL/gebco30_DELTARES.nc', #location of dem file\n",
    "     'tide':True, #include Tide T|F\n",
    "     'atm':False, #include meteo T|F\n",
    "     'tmodel':'tpx07', #tide data type\n",
    "     'tpath':'/home/critechproc/STORAGE/TIDES/tpxo72.nc', #location of tide solution file\n",
    "     'exec':'/home/critechproc/6906/bin/lnx64/', #exec folder of solver\n",
    "     'ncores': 10 } #number of cores"
   ]
  },
  {
   "cell_type": "code",
   "execution_count": null,
   "metadata": {
    "collapsed": false,
    "deletable": true,
    "editable": true
   },
   "outputs": [],
   "source": [
    "#initialize a model\n",
    "b = model(**dic)"
   ]
  },
  {
   "cell_type": "markdown",
   "metadata": {
    "deletable": true,
    "editable": true
   },
   "source": [
    "## set it up "
   ]
  },
  {
   "cell_type": "code",
   "execution_count": null,
   "metadata": {
    "collapsed": false,
    "deletable": true,
    "editable": true
   },
   "outputs": [],
   "source": [
    "b.set() #set it up "
   ]
  },
  {
   "cell_type": "markdown",
   "metadata": {
    "deletable": true,
    "editable": true
   },
   "source": [
    "## output "
   ]
  },
  {
   "cell_type": "code",
   "execution_count": null,
   "metadata": {
    "collapsed": false,
    "deletable": true,
    "editable": true
   },
   "outputs": [],
   "source": [
    "#set the run by saving the files\n",
    "b.output()"
   ]
  },
  {
   "cell_type": "code",
   "execution_count": null,
   "metadata": {
    "collapsed": false,
    "deletable": true,
    "editable": true
   },
   "outputs": [],
   "source": [
    "# save model info for further use\n",
    "b.save()"
   ]
  },
  {
   "cell_type": "code",
   "execution_count": null,
   "metadata": {
    "collapsed": false,
    "deletable": true,
    "editable": true
   },
   "outputs": [],
   "source": [
    "# save all matrices for further use\n",
    "#b.pickle(path=path)"
   ]
  },
  {
   "cell_type": "markdown",
   "metadata": {
    "deletable": true,
    "editable": true
   },
   "source": [
    "### execute"
   ]
  },
  {
   "cell_type": "code",
   "execution_count": null,
   "metadata": {
    "collapsed": false,
    "deletable": true,
    "editable": true
   },
   "outputs": [],
   "source": [
    "#execute\n",
    "b.run()"
   ]
  },
  {
   "cell_type": "code",
   "execution_count": null,
   "metadata": {
    "collapsed": true,
    "deletable": true,
    "editable": true
   },
   "outputs": [],
   "source": []
  }
 ],
 "metadata": {
  "kernelspec": {
   "display_name": "Python 2",
   "language": "python",
   "name": "python2"
  },
  "language_info": {
   "codemirror_mode": {
    "name": "ipython",
    "version": 2
   },
   "file_extension": ".py",
   "mimetype": "text/x-python",
   "name": "python",
   "nbconvert_exporter": "python",
   "pygments_lexer": "ipython2",
   "version": "2.7.12"
  }
 },
 "nbformat": 4,
 "nbformat_minor": 2
}
