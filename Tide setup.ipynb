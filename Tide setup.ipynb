{
 "cells": [
  {
   "cell_type": "markdown",
   "metadata": {
    "deletable": true,
    "editable": true
   },
   "source": [
    "## An example workflow"
   ]
  },
  {
   "cell_type": "code",
   "execution_count": null,
   "metadata": {
    "collapsed": false,
    "deletable": true,
    "editable": true
   },
   "outputs": [],
   "source": [
    "#to use the full width of the browser window\n",
    "#from IPython.core.display import display, HTML\n",
    "#display(HTML(\"<style>.container { width:100% !important; }</style>\"))"
   ]
  },
  {
   "cell_type": "code",
   "execution_count": 1,
   "metadata": {
    "collapsed": false,
    "deletable": true,
    "editable": true
   },
   "outputs": [],
   "source": [
    "from Poseidon.model import *\n",
    "from Poseidon.dem import *\n",
    "from Poseidon.meteo import *"
   ]
  },
  {
   "cell_type": "markdown",
   "metadata": {
    "deletable": true,
    "editable": true
   },
   "source": [
    "### setup"
   ]
  },
  {
   "cell_type": "code",
   "execution_count": 2,
   "metadata": {
    "collapsed": false,
    "deletable": true,
    "editable": true
   },
   "outputs": [],
   "source": [
    "#define in a dictionary the properties e.g\n",
    "dic={'lon0':-35., # lat/lon window\n",
    "     'lon1':43.,\n",
    "     'lat0':24.5,\n",
    "     'lat1':76.5,\n",
    "     'tag':'test', #name tag \n",
    "     'date':datetime.datetime(2010,2,1,0), #start date stamp\n",
    "     'resolution':0.1, #grid resoltuion \n",
    "     'solver':'d3d',#model\n",
    "     'ft1':0, #starting time\n",
    "     'ft2':200, #end time in hours\n",
    "     'step' : 60, #step for saving variables\n",
    "     'rstep' : 60*12, #step for saving restart file\n",
    "     'meteo':'ecmwf', #meteo data type\n",
    "     'dem':'gebco08', #bathymetry data type\n",
    "     'rpath':'/home/critechproc/STORAGE/EUR/Tide/', #location of calc folder\n",
    "     'dpath':'/home/critechproc/STORAGE/BATHYMETRY/GLOBAL/gebco30_DELTARES.nc', #location of dem file\n",
    "     'tide':True, #include Tide T|F\n",
    "     'atm':False, #include meteo T|F\n",
    "     'tmodel':'tpx07', #tide data type\n",
    "     'tpath':'/home/critechproc/STORAGE/TIDES/tpxo72.nc', #location of tide solution file\n",
    "     'exec':'/home/critechproc/6906/bin/lnx64/', #exec folder of solver\n",
    "     'ncores': 10 } #number of cores"
   ]
  },
  {
   "cell_type": "code",
   "execution_count": 3,
   "metadata": {
    "collapsed": false,
    "deletable": true,
    "editable": true
   },
   "outputs": [],
   "source": [
    "#initialize a model\n",
    "b = model(**dic)"
   ]
  },
  {
   "cell_type": "markdown",
   "metadata": {
    "deletable": true,
    "editable": true
   },
   "source": [
    "## set it up "
   ]
  },
  {
   "cell_type": "code",
   "execution_count": 4,
   "metadata": {
    "collapsed": false,
    "deletable": true,
    "editable": true
   },
   "outputs": [],
   "source": [
    "b.set() #set it up "
   ]
  },
  {
   "cell_type": "markdown",
   "metadata": {
    "deletable": true,
    "editable": true
   },
   "source": [
    "## output "
   ]
  },
  {
   "cell_type": "code",
   "execution_count": 5,
   "metadata": {
    "collapsed": false,
    "deletable": true,
    "editable": true
   },
   "outputs": [],
   "source": [
    "#set the run by saving the files\n",
    "b.output()"
   ]
  },
  {
   "cell_type": "code",
   "execution_count": 6,
   "metadata": {
    "collapsed": false,
    "deletable": true,
    "editable": true
   },
   "outputs": [],
   "source": [
    "# save model info for further use\n",
    "b.save()"
   ]
  },
  {
   "cell_type": "code",
   "execution_count": 7,
   "metadata": {
    "collapsed": false,
    "deletable": true,
    "editable": true
   },
   "outputs": [],
   "source": [
    "# save all matrices for further use\n",
    "#b.pickle(path=path)"
   ]
  },
  {
   "cell_type": "markdown",
   "metadata": {
    "deletable": true,
    "editable": true
   },
   "source": [
    "### execute"
   ]
  },
  {
   "cell_type": "code",
   "execution_count": null,
   "metadata": {
    "collapsed": false,
    "deletable": true,
    "editable": true
   },
   "outputs": [
    {
     "name": "stdout",
     "output_type": "stream",
     "text": [
      "MPI process number 004 has host unknown and is running on processor 9a66a855f966\n",
      "MPI process number 001 has host unknown and is running on processor 9a66a855f966\n",
      "MPI process number 006 has host unknown and is running on processor 9a66a855f966\n",
      "MPI process number 003 has host unknown and is running on processor 9a66a855f966\n",
      "MPI process number 005 has host unknown and is running on processor 9a66a855f966\n",
      "MPI process number 007 has host unknown and is running on processor 9a66a855f966\n",
      "MPI process number 000 has host unknown and is running on processor 9a66a855f966\n",
      "MPI process number 008 has host unknown and is running on processor 9a66a855f966\n",
      "MPI process number 009 has host unknown and is running on processor 9a66a855f966\n",
      "--------------------------------------------------------------------------------\n",
      "       Deltares, FLOW2D3D Version 6.02.10.6976, Feb  7 2017, 09:42:53\n",
      "       libflow2d3d.so entry Flow2D3D::Run\n",
      "--------------------------------------------------------------------------------\n",
      "\n",
      "Part I    - Initialisation Time Dep. Data module...    \n",
      "MPI process number 002 has host unknown and is running on processor 9a66a855f966\n",
      "            runid : test\n",
      "Part II   - Creating intermediate files...             \n",
      "Part III  - Initialisation of the Execution module...  \n",
      "Part IV   - Reading complete MD-file...                     \n",
      "Part V    - Initialisation & checking input...              \n",
      "Part VI   - Initialisation & checking second part...        \n",
      "Part VII  - Initialisation output...                        \n",
      "Part VIII - Start Simulation...                             \n",
      "\n",
      "  Time to finish   1s,    0.0% completed, time steps left  72000\n",
      "  Time to finish  2d 21h,    0.0% completed, time steps left  71999\n",
      "  Time to finish  1d 12h,    0.0% completed, time steps left  71998\n",
      "  Time to finish  1d  1h,    0.0% completed, time steps left  71997\n",
      "  Time to finish  20h  1m,    0.0% completed, time steps left  71996\n",
      "  Time to finish  16h 45m,    0.0% completed, time steps left  71995\n",
      "  Time to finish  14h 34m,    0.0% completed, time steps left  71994\n",
      "  Time to finish  13h  1m,    0.0% completed, time steps left  71993\n",
      "  Time to finish  11h 51m,    0.0% completed, time steps left  71992\n",
      "  Time to finish  10h 57m,    0.0% completed, time steps left  71991\n",
      "  Time to finish  10h 14m,    0.0% completed, time steps left  71990\n",
      "  Time to finish   9h 38m,    0.0% completed, time steps left  71989\n",
      "  Time to finish   9h  9m,    0.0% completed, time steps left  71988\n",
      "  Time to finish   8h 43m,    0.0% completed, time steps left  71987\n",
      "  Time to finish   8h 22m,    0.0% completed, time steps left  71986\n",
      "  Time to finish   8h  3m,    0.0% completed, time steps left  71985\n",
      "  Time to finish   7h 47m,    0.0% completed, time steps left  71984\n",
      "  Time to finish   7h 32m,    0.0% completed, time steps left  71983\n",
      "  Time to finish   7h 20m,    0.0% completed, time steps left  71982\n",
      "  Time to finish   7h  8m,    0.0% completed, time steps left  71981\n",
      "  Time to finish   6h 58m,    0.0% completed, time steps left  71980\n",
      "  Time to finish   6h 48m,    0.0% completed, time steps left  71979\n",
      "  Time to finish   6h 40m,    0.0% completed, time steps left  71978\n",
      "  Time to finish   6h 32m,    0.0% completed, time steps left  71977\n",
      "  Time to finish   6h 25m,    0.0% completed, time steps left  71976\n",
      "  Time to finish   6h 19m,    0.0% completed, time steps left  71975\n",
      "  Time to finish   6h 13m,    0.0% completed, time steps left  71974\n",
      "  Time to finish   6h  7m,    0.0% completed, time steps left  71973\n",
      "  Time to finish   6h  2m,    0.0% completed, time steps left  71972\n",
      "  Time to finish   5h 57m,    0.0% completed, time steps left  71971\n",
      "  Time to finish   5h 52m,    0.0% completed, time steps left  71970\n",
      "  Time to finish   5h 48m,    0.0% completed, time steps left  71969\n",
      "  Time to finish   5h 44m,    0.0% completed, time steps left  71968\n",
      "  Time to finish   5h 40m,    0.0% completed, time steps left  71967\n",
      "  Time to finish   5h 37m,    0.0% completed, time steps left  71966\n",
      "  Time to finish   5h 34m,    0.0% completed, time steps left  71965\n",
      "  Time to finish   5h 30m,    0.1% completed, time steps left  71964\n",
      "  Time to finish   5h 27m,    0.1% completed, time steps left  71963\n",
      "  Time to finish   5h 25m,    0.1% completed, time steps left  71962\n",
      "  Time to finish   5h 22m,    0.1% completed, time steps left  71961\n",
      "  Time to finish   5h 19m,    0.1% completed, time steps left  71960\n",
      "  Time to finish   5h 17m,    0.1% completed, time steps left  71959\n",
      "  Time to finish   5h 15m,    0.1% completed, time steps left  71958\n",
      "  Time to finish   5h 13m,    0.1% completed, time steps left  71957\n",
      "  Time to finish   5h 11m,    0.1% completed, time steps left  71956\n",
      "  Time to finish   5h  8m,    0.1% completed, time steps left  71955\n",
      "  Time to finish   5h  7m,    0.1% completed, time steps left  71954\n",
      "  Time to finish   5h  5m,    0.1% completed, time steps left  71953\n",
      "  Time to finish   5h  3m,    0.1% completed, time steps left  71952\n",
      "  Time to finish   5h  1m,    0.1% completed, time steps left  71951\n",
      "  Time to finish   4h 60m,    0.1% completed, time steps left  71950\n",
      "  Time to finish   4h 58m,    0.1% completed, time steps left  71949\n",
      "  Time to finish   4h 57m,    0.1% completed, time steps left  71948\n",
      "  Time to finish   4h 55m,    0.1% completed, time steps left  71947\n",
      "  Time to finish   4h 54m,    0.1% completed, time steps left  71946\n",
      "  Time to finish   4h 52m,    0.1% completed, time steps left  71945\n",
      "  Time to finish   4h 51m,    0.1% completed, time steps left  71944\n",
      "  Time to finish   4h 50m,    0.1% completed, time steps left  71943\n",
      "  Time to finish   4h 49m,    0.1% completed, time steps left  71942\n",
      "  Time to finish   4h 47m,    0.1% completed, time steps left  71941\n",
      "  Time to finish   4h 46m,    0.1% completed, time steps left  71940\n"
     ]
    }
   ],
   "source": [
    "#execute\n",
    "b.run()"
   ]
  },
  {
   "cell_type": "code",
   "execution_count": null,
   "metadata": {
    "collapsed": true,
    "deletable": true,
    "editable": true
   },
   "outputs": [],
   "source": []
  }
 ],
 "metadata": {
  "kernelspec": {
   "display_name": "Python 2",
   "language": "python",
   "name": "python2"
  },
  "language_info": {
   "codemirror_mode": {
    "name": "ipython",
    "version": 2
   },
   "file_extension": ".py",
   "mimetype": "text/x-python",
   "name": "python",
   "nbconvert_exporter": "python",
   "pygments_lexer": "ipython2",
   "version": "2.7.12"
  }
 },
 "nbformat": 4,
 "nbformat_minor": 2
}
