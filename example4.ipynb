{
 "cells": [
  {
   "cell_type": "markdown",
   "metadata": {
    "deletable": true,
    "editable": true
   },
   "source": [
    "## hindcast example"
   ]
  },
  {
   "cell_type": "code",
   "execution_count": 1,
   "metadata": {
    "collapsed": false,
    "deletable": true,
    "editable": true
   },
   "outputs": [],
   "source": [
    "from Poseidon.utils import *\n",
    "from Poseidon.meteo import *\n",
    "import datetime"
   ]
  },
  {
   "cell_type": "markdown",
   "metadata": {
    "deletable": true,
    "editable": true
   },
   "source": [
    "### setup"
   ]
  },
  {
   "cell_type": "code",
   "execution_count": 2,
   "metadata": {
    "collapsed": false,
    "deletable": true,
    "editable": true
   },
   "outputs": [],
   "source": [
    "#define some info\n",
    "dic={'path':'/Users/brey/Downloads/', # The path of the project\n",
    "     'case':'European 2010', # a reference tag\n",
    "     }"
   ]
  },
  {
   "cell_type": "code",
   "execution_count": 3,
   "metadata": {
    "collapsed": false,
    "deletable": true,
    "editable": true
   },
   "outputs": [],
   "source": [
    "#creating a time sequence of the runs\n",
    "start_date = datetime.datetime(2010,2,1,0)\n",
    "end_date = datetime.datetime(2010,2,10,0)\n",
    "time_interval = datetime.timedelta(hours=12)\n",
    "        \n",
    "dt=(end_date-start_date).total_seconds()\n",
    "ndt=dt/time_interval.total_seconds()\n",
    "ndt=np.int(ndt)+1\n",
    "\n",
    "date_list = [start_date + time_interval*x for x in range(ndt)]"
   ]
  },
  {
   "cell_type": "code",
   "execution_count": 4,
   "metadata": {
    "collapsed": false,
    "deletable": true,
    "editable": true
   },
   "outputs": [],
   "source": [
    "#append to dic\n",
    "dic.update({'start_date':start_date,'end_date':end_date, 'time_interval':time_interval,'date_list' : date_list})"
   ]
  },
  {
   "cell_type": "code",
   "execution_count": 5,
   "metadata": {
    "collapsed": false,
    "deletable": true,
    "editable": true
   },
   "outputs": [],
   "source": [
    "#creating a sequence of folder to store the runs. In this case we name them after the date attribute.\n",
    "#NOTE that the first folder is the fisrt run already perfomed!!\n",
    "folders = [datetime.datetime.strftime(x, '%Y%m%d.%H') for x in date_list]\n",
    "dic.update({'folders':folders})"
   ]
  },
  {
   "cell_type": "code",
   "execution_count": 5,
   "metadata": {
    "collapsed": false,
    "deletable": true,
    "editable": true
   },
   "outputs": [],
   "source": [
    "#creating a sequence of folder from which we read the meteo.\n",
    "meteo = [datetime.datetime.strftime(x, '%Y%m%d.%H') for x in date_list]\n",
    "dic.update({'folders':folders})"
   ]
  },
  {
   "cell_type": "code",
   "execution_count": 6,
   "metadata": {
    "collapsed": false,
    "deletable": true,
    "editable": true
   },
   "outputs": [
    {
     "data": {
      "text/plain": [
       "['20100201.00',\n",
       " '20100201.12',\n",
       " '20100202.00',\n",
       " '20100202.12',\n",
       " '20100203.00',\n",
       " '20100203.12',\n",
       " '20100204.00',\n",
       " '20100204.12',\n",
       " '20100205.00',\n",
       " '20100205.12',\n",
       " '20100206.00',\n",
       " '20100206.12',\n",
       " '20100207.00',\n",
       " '20100207.12',\n",
       " '20100208.00',\n",
       " '20100208.12',\n",
       " '20100209.00',\n",
       " '20100209.12',\n",
       " '20100210.00']"
      ]
     },
     "execution_count": 6,
     "metadata": {},
     "output_type": "execute_result"
    }
   ],
   "source": [
    "dic['folders']"
   ]
  },
  {
   "cell_type": "markdown",
   "metadata": {
    "deletable": true,
    "editable": true
   },
   "source": [
    "### run the hindcast"
   ]
  },
  {
   "cell_type": "code",
   "execution_count": 7,
   "metadata": {
    "collapsed": false,
    "deletable": true,
    "editable": true
   },
   "outputs": [],
   "source": [
    "#set cast\n",
    "h = cast(**dic) # initialize"
   ]
  },
  {
   "cell_type": "code",
   "execution_count": 10,
   "metadata": {
    "collapsed": false,
    "deletable": true,
    "editable": true
   },
   "outputs": [
    {
     "data": {
      "text/plain": [
       "{'case': 'European 2010',\n",
       " 'dates': [datetime.datetime(2010, 2, 1, 0, 0),\n",
       "  datetime.datetime(2010, 2, 1, 12, 0),\n",
       "  datetime.datetime(2010, 2, 2, 0, 0),\n",
       "  datetime.datetime(2010, 2, 2, 12, 0),\n",
       "  datetime.datetime(2010, 2, 3, 0, 0),\n",
       "  datetime.datetime(2010, 2, 3, 12, 0),\n",
       "  datetime.datetime(2010, 2, 4, 0, 0),\n",
       "  datetime.datetime(2010, 2, 4, 12, 0),\n",
       "  datetime.datetime(2010, 2, 5, 0, 0),\n",
       "  datetime.datetime(2010, 2, 5, 12, 0),\n",
       "  datetime.datetime(2010, 2, 6, 0, 0),\n",
       "  datetime.datetime(2010, 2, 6, 12, 0),\n",
       "  datetime.datetime(2010, 2, 7, 0, 0),\n",
       "  datetime.datetime(2010, 2, 7, 12, 0),\n",
       "  datetime.datetime(2010, 2, 8, 0, 0),\n",
       "  datetime.datetime(2010, 2, 8, 12, 0),\n",
       "  datetime.datetime(2010, 2, 9, 0, 0),\n",
       "  datetime.datetime(2010, 2, 9, 12, 0),\n",
       "  datetime.datetime(2010, 2, 10, 0, 0)],\n",
       " 'dt': datetime.timedelta(0, 43200),\n",
       " 'fd': datetime.datetime(2010, 2, 10, 0, 0),\n",
       " 'folders': ['20100201.00',\n",
       "  '20100201.12',\n",
       "  '20100202.00',\n",
       "  '20100202.12',\n",
       "  '20100203.00',\n",
       "  '20100203.12',\n",
       "  '20100204.00',\n",
       "  '20100204.12',\n",
       "  '20100205.00',\n",
       "  '20100205.12',\n",
       "  '20100206.00',\n",
       "  '20100206.12',\n",
       "  '20100207.00',\n",
       "  '20100207.12',\n",
       "  '20100208.00',\n",
       "  '20100208.12',\n",
       "  '20100209.00',\n",
       "  '20100209.12',\n",
       "  '20100210.00'],\n",
       " 'meteo': None,\n",
       " 'path': '/Users/brey/Downloads/',\n",
       " 'sd': datetime.datetime(2010, 2, 1, 0, 0)}"
      ]
     },
     "execution_count": 10,
     "metadata": {},
     "output_type": "execute_result"
    }
   ],
   "source": [
    "h.__dict__"
   ]
  },
  {
   "cell_type": "code",
   "execution_count": 12,
   "metadata": {
    "collapsed": false,
    "deletable": true,
    "editable": true
   },
   "outputs": [
    {
     "ename": "TypeError",
     "evalue": "'NoneType' object has no attribute '__getitem__'",
     "output_type": "error",
     "traceback": [
      "\u001b[0;31m---------------------------------------------------------------------------\u001b[0m",
      "\u001b[0;31mTypeError\u001b[0m                                 Traceback (most recent call last)",
      "\u001b[0;32m<ipython-input-12-7f884f7970b9>\u001b[0m in \u001b[0;36m<module>\u001b[0;34m()\u001b[0m\n\u001b[0;32m----> 1\u001b[0;31m \u001b[0mh\u001b[0m\u001b[0;34m.\u001b[0m\u001b[0md3d\u001b[0m\u001b[0;34m(\u001b[0m\u001b[0;34m)\u001b[0m\u001b[0;34m\u001b[0m\u001b[0m\n\u001b[0m",
      "\u001b[0;32m/Users/brey/GitHub/Poseidon/Poseidon/utils/cast.py\u001b[0m in \u001b[0;36md3d\u001b[0;34m(self, **kwargs)\u001b[0m\n\u001b[1;32m     44\u001b[0m \u001b[0;34m\u001b[0m\u001b[0m\n\u001b[1;32m     45\u001b[0m \u001b[0;34m\u001b[0m\u001b[0m\n\u001b[0;32m---> 46\u001b[0;31m         \u001b[0;32mfor\u001b[0m \u001b[0mdate\u001b[0m\u001b[0;34m,\u001b[0m\u001b[0mfolder\u001b[0m\u001b[0;34m,\u001b[0m\u001b[0mmeteo\u001b[0m \u001b[0;32min\u001b[0m \u001b[0mzip\u001b[0m\u001b[0;34m(\u001b[0m\u001b[0mself\u001b[0m\u001b[0;34m.\u001b[0m\u001b[0mdates\u001b[0m\u001b[0;34m[\u001b[0m\u001b[0;36m1\u001b[0m\u001b[0;34m:\u001b[0m\u001b[0;34m]\u001b[0m\u001b[0;34m,\u001b[0m\u001b[0mself\u001b[0m\u001b[0;34m.\u001b[0m\u001b[0mfolders\u001b[0m\u001b[0;34m[\u001b[0m\u001b[0;36m1\u001b[0m\u001b[0;34m:\u001b[0m\u001b[0;34m]\u001b[0m\u001b[0;34m,\u001b[0m\u001b[0mself\u001b[0m\u001b[0;34m.\u001b[0m\u001b[0mmeteo\u001b[0m\u001b[0;34m[\u001b[0m\u001b[0;36m1\u001b[0m\u001b[0;34m:\u001b[0m\u001b[0;34m]\u001b[0m\u001b[0;34m)\u001b[0m\u001b[0;34m:\u001b[0m\u001b[0;34m\u001b[0m\u001b[0m\n\u001b[0m\u001b[1;32m     47\u001b[0m \u001b[0;34m\u001b[0m\u001b[0m\n\u001b[1;32m     48\u001b[0m             \u001b[0mppath\u001b[0m \u001b[0;34m=\u001b[0m \u001b[0mself\u001b[0m\u001b[0;34m.\u001b[0m\u001b[0mpath\u001b[0m\u001b[0;34m+\u001b[0m\u001b[0;34m'/{}/'\u001b[0m\u001b[0;34m.\u001b[0m\u001b[0mformat\u001b[0m\u001b[0;34m(\u001b[0m\u001b[0mprev\u001b[0m\u001b[0;34m)\u001b[0m\u001b[0;34m\u001b[0m\u001b[0m\n",
      "\u001b[0;31mTypeError\u001b[0m: 'NoneType' object has no attribute '__getitem__'"
     ]
    }
   ],
   "source": [
    "h.d3d()"
   ]
  },
  {
   "cell_type": "code",
   "execution_count": null,
   "metadata": {
    "collapsed": true,
    "deletable": true,
    "editable": true
   },
   "outputs": [],
   "source": []
  }
 ],
 "metadata": {
  "kernelspec": {
   "display_name": "Python 2",
   "language": "python",
   "name": "python2"
  },
  "language_info": {
   "codemirror_mode": {
    "name": "ipython",
    "version": 2
   },
   "file_extension": ".py",
   "mimetype": "text/x-python",
   "name": "python",
   "nbconvert_exporter": "python",
   "pygments_lexer": "ipython2",
   "version": "2.7.12"
  }
 },
 "nbformat": 4,
 "nbformat_minor": 2
}
