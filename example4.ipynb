{
 "cells": [
  {
   "cell_type": "markdown",
   "metadata": {
    "deletable": true,
    "editable": true
   },
   "source": [
    "## hindcast example"
   ]
  },
  {
   "cell_type": "code",
   "execution_count": 1,
   "metadata": {
    "collapsed": false,
    "deletable": true,
    "editable": true
   },
   "outputs": [],
   "source": [
    "from Poseidon.utils import *\n",
    "from Poseidon.meteo import *\n",
    "import datetime"
   ]
  },
  {
   "cell_type": "markdown",
   "metadata": {
    "deletable": true,
    "editable": true
   },
   "source": [
    "### setup"
   ]
  },
  {
   "cell_type": "code",
   "execution_count": 2,
   "metadata": {
    "collapsed": false
   },
   "outputs": [],
   "source": [
    "#read the info from the first run\n",
    "with open('/Users/brey/Downloads/20130301.00/info.pkl', 'r') as f:\n",
    "              info=pickle.load(f)"
   ]
  },
  {
   "cell_type": "code",
   "execution_count": 3,
   "metadata": {
    "collapsed": false,
    "deletable": true,
    "editable": true
   },
   "outputs": [],
   "source": [
    "#define some info\n",
    "info.update({'path':'/Users/brey/Downloads/', # The path of the project\n",
    "     'case':'European 2010', # a reference tag\n",
    "     })"
   ]
  },
  {
   "cell_type": "code",
   "execution_count": 4,
   "metadata": {
    "collapsed": false,
    "deletable": true,
    "editable": true
   },
   "outputs": [],
   "source": [
    "#creating a time sequence of the runs\n",
    "start_date = datetime.datetime(2013,3,1,0)\n",
    "end_date = datetime.datetime(2013,3,1,12)\n",
    "time_interval = datetime.timedelta(hours=12)\n",
    "        \n",
    "dt=(end_date-start_date).total_seconds()\n",
    "ndt=dt/time_interval.total_seconds()\n",
    "ndt=np.int(ndt)+1\n",
    "\n",
    "date_list = [start_date + time_interval*x for x in range(ndt)]"
   ]
  },
  {
   "cell_type": "code",
   "execution_count": 5,
   "metadata": {
    "collapsed": false,
    "deletable": true,
    "editable": true
   },
   "outputs": [],
   "source": [
    "#append to dic\n",
    "info.update({'start_date':start_date,'end_date':end_date, 'time_interval':time_interval,'dates' : date_list})"
   ]
  },
  {
   "cell_type": "code",
   "execution_count": 6,
   "metadata": {
    "collapsed": false,
    "deletable": true,
    "editable": true
   },
   "outputs": [],
   "source": [
    "#creating a sequence of folder to store the runs. In this case we name them after the date attribute.\n",
    "#NOTE that the first folder is the fisrt run already perfomed!!\n",
    "folders = [datetime.datetime.strftime(x, '%Y%m%d.%H') for x in date_list]\n",
    "info.update({'folders':folders})"
   ]
  },
  {
   "cell_type": "code",
   "execution_count": 7,
   "metadata": {
    "collapsed": false,
    "deletable": true,
    "editable": true
   },
   "outputs": [],
   "source": [
    "#creating a sequence of folder from which we read the meteo.\n",
    "meteo = [info['path']+datetime.datetime.strftime(x, '%Y%m%d.%H')+'.tropical_cyclone.grib' for x in date_list]\n",
    "info.update({'meteo_files':meteo})"
   ]
  },
  {
   "cell_type": "code",
   "execution_count": 8,
   "metadata": {
    "collapsed": false,
    "deletable": true,
    "editable": true
   },
   "outputs": [
    {
     "data": {
      "text/plain": [
       "(['20130301.00', '20130301.12'],\n",
       " ['/Users/brey/Downloads/20130301.00.tropical_cyclone.grib',\n",
       "  '/Users/brey/Downloads/20130301.12.tropical_cyclone.grib'])"
      ]
     },
     "execution_count": 8,
     "metadata": {},
     "output_type": "execute_result"
    }
   ],
   "source": [
    "#check\n",
    "info['folders'],info['meteo_files']"
   ]
  },
  {
   "cell_type": "code",
   "execution_count": 9,
   "metadata": {
    "collapsed": true,
    "deletable": true,
    "editable": true
   },
   "outputs": [],
   "source": [
    "info['model']='d3d'\n",
    "info['solver']='/Users/brey/DELFT3D/bin/lnx64/'\n",
    "info['ncores']=4"
   ]
  },
  {
   "cell_type": "code",
   "execution_count": 10,
   "metadata": {
    "collapsed": false
   },
   "outputs": [],
   "source": [
    "#check dict\n",
    "#info"
   ]
  },
  {
   "cell_type": "markdown",
   "metadata": {
    "deletable": true,
    "editable": true
   },
   "source": [
    "### run the hindcast"
   ]
  },
  {
   "cell_type": "code",
   "execution_count": 14,
   "metadata": {
    "collapsed": false,
    "deletable": true,
    "editable": true
   },
   "outputs": [],
   "source": [
    "#set cast\n",
    "h = cast(**info) # initialize"
   ]
  },
  {
   "cell_type": "code",
   "execution_count": 15,
   "metadata": {
    "collapsed": false
   },
   "outputs": [],
   "source": [
    "#info"
   ]
  },
  {
   "cell_type": "code",
   "execution_count": null,
   "metadata": {
    "collapsed": false,
    "deletable": true,
    "editable": true
   },
   "outputs": [
    {
     "name": "stdout",
     "output_type": "stream",
     "text": [
      "process meteo\n"
     ]
    },
    {
     "name": "stderr",
     "output_type": "stream",
     "text": [
      " 82%|████████▏ | 32/39 [00:18<00:03,  1.79it/s]"
     ]
    }
   ],
   "source": [
    "h.run()"
   ]
  },
  {
   "cell_type": "code",
   "execution_count": null,
   "metadata": {
    "collapsed": true
   },
   "outputs": [],
   "source": []
  }
 ],
 "metadata": {
  "kernelspec": {
   "display_name": "Python 2 (cforge)",
   "language": "python",
   "name": "py2-cforge"
  },
  "language_info": {
   "codemirror_mode": {
    "name": "ipython",
    "version": 2
   },
   "file_extension": ".py",
   "mimetype": "text/x-python",
   "name": "python",
   "nbconvert_exporter": "python",
   "pygments_lexer": "ipython2",
   "version": "2.7.13"
  }
 },
 "nbformat": 4,
 "nbformat_minor": 2
}
