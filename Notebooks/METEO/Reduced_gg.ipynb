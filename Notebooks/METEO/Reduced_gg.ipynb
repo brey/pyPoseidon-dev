{
 "cells": [
  {
   "cell_type": "markdown",
   "metadata": {},
   "source": [
    "## Analysis of Reduced_gg meteo files"
   ]
  },
  {
   "cell_type": "code",
   "execution_count": null,
   "metadata": {},
   "outputs": [],
   "source": [
    "#to use the full width of the browser window\n",
    "from IPython.core.display import display, HTML\n",
    "display(HTML(\"<style>.container { width:100% !important; }</style>\"))"
   ]
  },
  {
   "cell_type": "code",
   "execution_count": null,
   "metadata": {},
   "outputs": [],
   "source": [
    "import numpy as np\n",
    "from pyresample import bilinear, geometry, kd_tree\n",
    "from pyresample import utils\n",
    "import xarray as xr"
   ]
  },
  {
   "cell_type": "code",
   "execution_count": null,
   "metadata": {},
   "outputs": [],
   "source": [
    "%matplotlib notebook"
   ]
  },
  {
   "cell_type": "code",
   "execution_count": null,
   "metadata": {},
   "outputs": [],
   "source": [
    "filename= '/Users/brey/DATA/20130301.00.tropical_cyclone.grib'"
   ]
  },
  {
   "cell_type": "markdown",
   "metadata": {},
   "source": [
    "### With pygrib"
   ]
  },
  {
   "cell_type": "code",
   "execution_count": null,
   "metadata": {},
   "outputs": [],
   "source": [
    "import pygrib"
   ]
  },
  {
   "cell_type": "code",
   "execution_count": null,
   "metadata": {},
   "outputs": [],
   "source": [
    "d=pygrib.open(filename)"
   ]
  },
  {
   "cell_type": "code",
   "execution_count": null,
   "metadata": {},
   "outputs": [],
   "source": [
    "for m in d:\n",
    "    print m"
   ]
  },
  {
   "cell_type": "code",
   "execution_count": null,
   "metadata": {},
   "outputs": [],
   "source": [
    "msl = d.message(1)"
   ]
  },
  {
   "cell_type": "code",
   "execution_count": null,
   "metadata": {},
   "outputs": [],
   "source": [
    "msl.keys()"
   ]
  },
  {
   "cell_type": "code",
   "execution_count": null,
   "metadata": {},
   "outputs": [],
   "source": [
    "for key in msl.keys():\n",
    "    print key, msl[key]"
   ]
  },
  {
   "cell_type": "markdown",
   "metadata": {},
   "source": [
    "### with eccodes"
   ]
  },
  {
   "cell_type": "code",
   "execution_count": null,
   "metadata": {},
   "outputs": [],
   "source": [
    "from gribapi import *"
   ]
  },
  {
   "cell_type": "code",
   "execution_count": null,
   "metadata": {},
   "outputs": [],
   "source": [
    "f=open(filename)\n",
    "gid = grib_new_from_file(f)"
   ]
  },
  {
   "cell_type": "code",
   "execution_count": null,
   "metadata": {},
   "outputs": [],
   "source": [
    "iterid = grib_keys_iterator_new(gid,'ls')\n",
    "while grib_keys_iterator_next(iterid):\n",
    "    keyname = grib_keys_iterator_get_name(iterid)\n",
    "    keyval = grib_get_string(iterid,keyname)\n",
    "    print \"%s = %s\" % (keyname,keyval)\n",
    "    \n",
    "grib_keys_iterator_delete(iterid)\n",
    "grib_release(gid)\n",
    " \n",
    "f.close()\n"
   ]
  },
  {
   "cell_type": "code",
   "execution_count": null,
   "metadata": {},
   "outputs": [],
   "source": [
    "keys={'Ni',\n",
    "'Nj',\n",
    "'iDirectionIncrementInDegrees',\n",
    "'iScansNegatively',\n",
    "'jPointsAreConsecutive',\n",
    "'jScansPositively',\n",
    "'latitudeOfFirstGridPointInDegrees',\n",
    "'latitudeOfLastGridPointInDegrees',\n",
    "'longitudeOfFirstGridPointInDegrees',\n",
    "'longitudeOfLastGridPointInDegrees'\n",
    "     }"
   ]
  },
  {
   "cell_type": "code",
   "execution_count": null,
   "metadata": {},
   "outputs": [],
   "source": [
    "f=open(filename)\n",
    "gid = grib_new_from_file(f)\n",
    "for key in keys:\n",
    "        if not grib_is_defined(gid, key):\n",
    "            raise ValueError(\"Key '%s' was not defined\" % key)\n",
    "        print('%s=%s' % (key, grib_get(gid, key)))\n",
    " \n"
   ]
  },
  {
   "cell_type": "code",
   "execution_count": null,
   "metadata": {},
   "outputs": [],
   "source": [
    "name=grib_get(gid, 'shortName')\n",
    "mv=grib_get(gid,'missingValue')\n",
    "\n",
    "date=grib_get(gid, 'date')\n",
    "dataTime=grib_get(gid, 'dataTime')\n",
    "stepRange=grib_get(gid, 'stepRange')\n",
    "\n",
    "lonfgp=grib_get(gid,'longitudeOfFirstGridPointInDegrees')\n",
    "latfgp=grib_get(gid,'latitudeOfFirstGridPointInDegrees')\n",
    "lonlgp=grib_get(gid,'longitudeOfLastGridPointInDegrees')\n",
    "latlgp=grib_get(gid,'latitudeOfLastGridPointInDegrees')\n",
    "Ni=grib_get(gid,'Ni')\n",
    "Nj=grib_get(gid,'Nj')\n",
    "\n",
    "\n",
    "values=grib_get_values(gid)\n",
    "elat=grib_get_array(gid,'latitudes')\n",
    "elon=grib_get_array(gid,'longitudes')"
   ]
  },
  {
   "cell_type": "markdown",
   "metadata": {},
   "source": [
    "### Compute the regular lat/lon "
   ]
  },
  {
   "cell_type": "code",
   "execution_count": null,
   "metadata": {},
   "outputs": [],
   "source": [
    "ss=grib_get_array(gid,'pl')  # lons per lat for the reduced_gg grid\n",
    "nlats=ss.size"
   ]
  },
  {
   "cell_type": "code",
   "execution_count": null,
   "metadata": {},
   "outputs": [],
   "source": [
    "\n",
    "nlons = 2*nlats\n",
    "delon = 360./nlons\n",
    "lons = np.linspace(lonfgp,lonlgp,nlons)\n",
    "# compute gaussian lats (north to south)\n",
    "lats = pygrib.gaulats(nlats)\n",
    "if latfgp > latlgp :\n",
    "    lats = lats[::-1]\n",
    "elon,elat = np.meshgrid(lons,lats) # make 2-d arrays"
   ]
  },
  {
   "cell_type": "markdown",
   "metadata": {},
   "source": [
    "### Use redtoreg "
   ]
  },
  {
   "cell_type": "code",
   "execution_count": null,
   "metadata": {},
   "outputs": [],
   "source": [
    "from redtoreg import _redtoreg\n",
    "ny=2*np.size(ss)\n",
    "\n",
    "dat=_redtoreg(ny,ss,values,mv)\n",
    "q=np.flipud(dat)\n"
   ]
  },
  {
   "cell_type": "code",
   "execution_count": null,
   "metadata": {},
   "outputs": [],
   "source": [
    "import matplotlib.pyplot as plt\n",
    "from mpl_toolkits.axes_grid1 import make_axes_locatable\n",
    "\n",
    "\n",
    "import cartopy.crs as ccrs\n",
    "\n",
    "proj=ccrs.PlateCarree()\n",
    "\n",
    "fig, ax = plt.subplots(figsize=(12, 8))\n",
    "\n",
    "ax = plt.axes(projection=proj)\n",
    "\n",
    "h = ax.contourf(elon,elat,q, transform=proj);\n",
    "\n",
    "gl = ax.gridlines(crs=ccrs.PlateCarree(), draw_labels=True,\n",
    "                  linewidth=2, color='gray', alpha=0.5, linestyle='--')\n",
    "\n",
    "divider = make_axes_locatable(ax)\n",
    "ax_cb = divider.new_horizontal(size=\"5%\", pad=0.5, axes_class=plt.Axes)\n",
    "\n",
    "\n",
    "fig.add_axes(ax_cb)\n",
    "plt.colorbar(h, cax=ax_cb)\n",
    "#ax.set_global(); \n",
    "ax.coastlines();"
   ]
  },
  {
   "cell_type": "markdown",
   "metadata": {},
   "source": [
    "## Resample on rectangular grid"
   ]
  },
  {
   "cell_type": "code",
   "execution_count": null,
   "metadata": {},
   "outputs": [],
   "source": [
    "minlon, maxlon = elon.min(), elon.max()"
   ]
  },
  {
   "cell_type": "code",
   "execution_count": null,
   "metadata": {},
   "outputs": [],
   "source": [
    "minlat, maxlat = elat.min(), elat.max()"
   ]
  },
  {
   "cell_type": "code",
   "execution_count": null,
   "metadata": {},
   "outputs": [],
   "source": [
    "import pyproj\n",
    "prj = pyproj.Proj('+proj=eqc +lat_ts=0 +lat_0=0 +lon_0=0 +x_0=0 +y_0=0 +ellps=WGS84 +datum=WGS84 +units=m +no_defs')\n",
    "a0,a1= prj(-180., minlat)\n",
    "a2, a3 = prj(180., maxlat)\n",
    "a0,a1,a2,a3"
   ]
  },
  {
   "cell_type": "code",
   "execution_count": null,
   "metadata": {},
   "outputs": [],
   "source": [
    "Nj,Ni = elon.shape\n",
    "Nj,Ni"
   ]
  },
  {
   "cell_type": "code",
   "execution_count": null,
   "metadata": {},
   "outputs": [],
   "source": [
    "area_id = 'Global'\n",
    "description = 'ECMWF OPER'\n",
    "proj_id = 'eqc'\n",
    "projection = '+proj=eqc +lat_ts=0 +lat_0=0 +lon_0=0 +x_0=0 +y_0=0 +ellps=WGS84 +datum=WGS84 +units=m'\n",
    "x_size = Ni\n",
    "y_size = Nj\n",
    "area_extent = (a0, a1, a2, a3)\n",
    "target_def = utils.get_area_def(area_id, description, proj_id, projection,\n",
    "                                       x_size, y_size, area_extent)\n",
    "print(target_def)\n"
   ]
  },
  {
   "cell_type": "code",
   "execution_count": null,
   "metadata": {},
   "outputs": [],
   "source": [
    "plons,plats = geometry.AreaDefinition.get_lonlats(target_def)"
   ]
  },
  {
   "cell_type": "code",
   "execution_count": null,
   "metadata": {},
   "outputs": [],
   "source": [
    "from pyresample.utils import check_and_wrap\n",
    "slons,slats  = check_and_wrap(elon,elat)"
   ]
  },
  {
   "cell_type": "code",
   "execution_count": null,
   "metadata": {},
   "outputs": [],
   "source": [
    "orig = geometry.SwathDefinition(lons=slons,lats=slats) # original points"
   ]
  },
  {
   "cell_type": "markdown",
   "metadata": {},
   "source": [
    "#### Nearest"
   ]
  },
  {
   "cell_type": "code",
   "execution_count": null,
   "metadata": {},
   "outputs": [],
   "source": [
    "#kd_tree.resample_nearest(orig,q,targ,radius_of_influence=50000,fill_value=999999)\n",
    "near = kd_tree.resample_nearest(orig, q, target_def, radius_of_influence=50000, epsilon=0.5)"
   ]
  },
  {
   "cell_type": "code",
   "execution_count": null,
   "metadata": {},
   "outputs": [],
   "source": [
    "#w=np.ma.masked_array(iu10,iu10==999999.)"
   ]
  },
  {
   "cell_type": "code",
   "execution_count": null,
   "metadata": {},
   "outputs": [],
   "source": [
    "xv=[q,near]\n",
    "xp=[elon,plons]\n",
    "yp=[elat,plats]"
   ]
  },
  {
   "cell_type": "code",
   "execution_count": null,
   "metadata": {},
   "outputs": [],
   "source": [
    "import matplotlib.pyplot as plt\n",
    "\n",
    "import cartopy.crs as ccrs\n",
    "\n",
    "from mpl_toolkits.axes_grid1 import make_axes_locatable\n",
    "from cartopy.mpl.geoaxes import GeoAxes\n",
    "from cartopy.mpl.ticker import LongitudeFormatter, LatitudeFormatter\n",
    "from mpl_toolkits.axes_grid1 import AxesGrid\n",
    "\n",
    "projection = ccrs.PlateCarree()\n",
    "axes_class = (GeoAxes,\n",
    "                  dict(map_projection=projection))\n",
    "\n",
    "fig = plt.figure(figsize=(12,8))\n",
    "axgr = AxesGrid(fig, 111, axes_class=axes_class,\n",
    "                    nrows_ncols=(1, 2),\n",
    "                    axes_pad=1,\n",
    "                    cbar_location='right',\n",
    "                    cbar_mode='single',\n",
    "                    cbar_pad=0.5,\n",
    "                    cbar_size='10%',\n",
    "                    label_mode='')  # note the empty label_mode\n",
    "\n",
    "\n",
    "for i, ax in enumerate(axgr):\n",
    "        ax.coastlines()\n",
    "        ax.set_xticks(np.linspace(-180, 180, 5), crs=projection)\n",
    "        ax.set_yticks(np.linspace(-90, 90, 5), crs=projection)\n",
    "        lon_formatter = LongitudeFormatter(zero_direction_label=True)\n",
    "        lat_formatter = LatitudeFormatter()\n",
    "        ax.xaxis.set_major_formatter(lon_formatter)\n",
    "        ax.yaxis.set_major_formatter(lat_formatter)\n",
    "\n",
    "        p = ax.contourf(xp[i], yp[i],xv[i],\n",
    "                        transform=projection)#,\n",
    "                     #   cmap='RdBu')\n",
    "\n",
    "axgr.cbar_axes[0].colorbar(p)\n",
    "\n",
    "\n"
   ]
  },
  {
   "cell_type": "markdown",
   "metadata": {},
   "source": [
    "#### bilinear"
   ]
  },
  {
   "cell_type": "code",
   "execution_count": null,
   "metadata": {},
   "outputs": [],
   "source": [
    "blinear = bilinear.resample_bilinear(q, orig, target_def,\n",
    "                                      radius=50e3, neighbours=32,\n",
    "                                      nprocs=4, fill_value=None,\n",
    "                                      reduce_data=False, segments=None,\n",
    "                                      epsilon=0)"
   ]
  },
  {
   "cell_type": "markdown",
   "metadata": {},
   "source": [
    "#### compare Nearest with Bilinear"
   ]
  },
  {
   "cell_type": "code",
   "execution_count": null,
   "metadata": {},
   "outputs": [],
   "source": [
    "df = np.abs(blinear-near)"
   ]
  },
  {
   "cell_type": "code",
   "execution_count": null,
   "metadata": {},
   "outputs": [],
   "source": [
    "df.max()"
   ]
  },
  {
   "cell_type": "code",
   "execution_count": null,
   "metadata": {},
   "outputs": [],
   "source": [
    "np.argwhere(df==df.max())"
   ]
  },
  {
   "cell_type": "code",
   "execution_count": null,
   "metadata": {},
   "outputs": [],
   "source": [
    "plt.figure()\n",
    "plt.contour(np.flipud(df))\n",
    "plt.colorbar()"
   ]
  },
  {
   "cell_type": "code",
   "execution_count": null,
   "metadata": {},
   "outputs": [],
   "source": [
    "import matplotlib.pyplot as plt\n",
    "\n",
    "import cartopy.crs as ccrs\n",
    "\n",
    "proj=ccrs.PlateCarree()\n",
    "\n",
    "fig, ax = plt.subplots(figsize=(12, 8))\n",
    "\n",
    "ax = plt.axes(projection=proj)\n",
    "\n",
    "h = ax.contourf(plons,plats,df, transform=proj);\n",
    "\n",
    "gl = ax.gridlines(crs=ccrs.PlateCarree(), draw_labels=True,\n",
    "                  linewidth=2, color='gray', alpha=0.5, linestyle='--')\n",
    "\n",
    "divider = make_axes_locatable(ax)\n",
    "ax_cb = divider.new_horizontal(size=\"5%\", pad=0.5, axes_class=plt.Axes)\n",
    "\n",
    "\n",
    "fig.add_axes(ax_cb)\n",
    "plt.colorbar(h, cax=ax_cb)\n",
    "#ax.set_global(); \n",
    "ax.coastlines();"
   ]
  },
  {
   "cell_type": "markdown",
   "metadata": {},
   "source": [
    "#### compare with original method"
   ]
  },
  {
   "cell_type": "code",
   "execution_count": null,
   "metadata": {},
   "outputs": [],
   "source": [
    "df = np.abs(q-blinear)"
   ]
  },
  {
   "cell_type": "code",
   "execution_count": null,
   "metadata": {},
   "outputs": [],
   "source": [
    "np.argwhere(df==df.max())"
   ]
  },
  {
   "cell_type": "code",
   "execution_count": null,
   "metadata": {},
   "outputs": [],
   "source": [
    "plt.figure()\n",
    "plt.contour(np.flipud(df))\n",
    "plt.colorbar()"
   ]
  },
  {
   "cell_type": "code",
   "execution_count": null,
   "metadata": {},
   "outputs": [],
   "source": [
    "import matplotlib.pyplot as plt\n",
    "\n",
    "import cartopy.crs as ccrs\n",
    "\n",
    "proj=ccrs.PlateCarree()\n",
    "\n",
    "fig, ax = plt.subplots(figsize=(12, 8))\n",
    "\n",
    "ax = plt.axes(projection=proj)\n",
    "\n",
    "h = ax.contourf(plons,plats,df, transform=proj);\n",
    "\n",
    "gl = ax.gridlines(crs=ccrs.PlateCarree(), draw_labels=True,\n",
    "                  linewidth=2, color='gray', alpha=0.5, linestyle='--')\n",
    "\n",
    "divider = make_axes_locatable(ax)\n",
    "ax_cb = divider.new_horizontal(size=\"5%\", pad=0.5, axes_class=plt.Axes)\n",
    "\n",
    "\n",
    "fig.add_axes(ax_cb)\n",
    "plt.colorbar(h, cax=ax_cb)\n",
    "#ax.set_global(); \n",
    "ax.coastlines();"
   ]
  },
  {
   "cell_type": "code",
   "execution_count": null,
   "metadata": {},
   "outputs": [],
   "source": []
  }
 ],
 "metadata": {
  "kernelspec": {
   "display_name": "pyPoseidon",
   "language": "python",
   "name": "pyposeidon"
  },
  "language_info": {
   "codemirror_mode": {
    "name": "ipython",
    "version": 2
   },
   "file_extension": ".py",
   "mimetype": "text/x-python",
   "name": "python",
   "nbconvert_exporter": "python",
   "pygments_lexer": "ipython2",
   "version": "2.7.14"
  },
  "toc": {
   "base_numbering": 1,
   "nav_menu": {},
   "number_sections": true,
   "sideBar": true,
   "skip_h1_title": false,
   "title_cell": "Table of Contents",
   "title_sidebar": "Contents",
   "toc_cell": false,
   "toc_position": {},
   "toc_section_display": true,
   "toc_window_display": false
  }
 },
 "nbformat": 4,
 "nbformat_minor": 2
}
