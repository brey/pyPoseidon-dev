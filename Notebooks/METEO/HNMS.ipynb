{
 "cells": [
  {
   "cell_type": "markdown",
   "metadata": {},
   "source": [
    "# Meteo forcing for HNMS gribs"
   ]
  },
  {
   "cell_type": "markdown",
   "metadata": {},
   "source": [
    "This is the prototype for analysing HNMS files."
   ]
  },
  {
   "cell_type": "code",
   "execution_count": null,
   "metadata": {},
   "outputs": [],
   "source": [
    "#to use the full width of the browser window\n",
    "from IPython.core.display import display, HTML\n",
    "display(HTML(\"<style>.container { width:100% !important; }</style>\"))"
   ]
  },
  {
   "cell_type": "code",
   "execution_count": null,
   "metadata": {},
   "outputs": [],
   "source": [
    "import numpy as np\n",
    "from pyresample import bilinear, geometry, kd_tree\n",
    "from pyresample import utils\n",
    "import pandas as pd\n",
    "import glob\n",
    "import pyproj\n",
    "from gribapi import *\n",
    "import datetime\n",
    "import holoviews as hv\n",
    "import geoviews as gv\n",
    "import geoviews.feature as gf\n",
    "import xarray as xr"
   ]
  },
  {
   "cell_type": "code",
   "execution_count": null,
   "metadata": {},
   "outputs": [],
   "source": [
    "hv.extension('bokeh')"
   ]
  },
  {
   "cell_type": "code",
   "execution_count": null,
   "metadata": {},
   "outputs": [],
   "source": [
    "%matplotlib notebook"
   ]
  },
  {
   "cell_type": "code",
   "execution_count": null,
   "metadata": {},
   "outputs": [],
   "source": [
    "folder= '/Users/brey/Downloads/HNMS/'"
   ]
  },
  {
   "cell_type": "code",
   "execution_count": null,
   "metadata": {},
   "outputs": [],
   "source": [
    "#define in a dictionary the properties of the model..\n",
    "dic={'minlon':-5.5, # lat/lon window\n",
    "     'maxlon':41.8,\n",
    "     'minlat':30.2,\n",
    "     'maxlat':47.5,\n",
    "     'start_date':'2018-1-1',\n",
    "     'end_date':'2018-1-1 12'\n",
    "    }"
   ]
  },
  {
   "cell_type": "code",
   "execution_count": null,
   "metadata": {},
   "outputs": [],
   "source": [
    "dr = pd.date_range(dic['start_date'],dic['end_date'], freq='12H')\n",
    "dr"
   ]
  },
  {
   "cell_type": "code",
   "execution_count": null,
   "metadata": {},
   "outputs": [],
   "source": [
    "#creating a sequence of folder from which we read the meteo.\n",
    "PATH='/Users/brey/Downloads/HNMS/01/'\n",
    "files = glob.glob(PATH+'/E_JRC00*')"
   ]
  },
  {
   "cell_type": "code",
   "execution_count": null,
   "metadata": {},
   "outputs": [],
   "source": [
    "files.sort()"
   ]
  },
  {
   "cell_type": "code",
   "execution_count": null,
   "metadata": {},
   "outputs": [],
   "source": [
    "files"
   ]
  },
  {
   "cell_type": "code",
   "execution_count": null,
   "metadata": {},
   "outputs": [],
   "source": [
    "filenames = files[:10]\n",
    "minlon = -5.5 #kwargs.get('minlon', None)\n",
    "maxlon = 41.8 #kwargs.get('maxlon', None)\n",
    "minlat = 30.2 #kwargs.get('minlat', None)\n",
    "maxlat = 47.5 #kwargs.get('maxlat', None) \n",
    " \n",
    "# read grib file and append to xarray\n",
    "pt=[]\n",
    "ut=[]\n",
    "vt=[]\n",
    "tt=[]\n",
    "\n",
    "for filename in filenames:\n",
    "\n",
    "    try: \n",
    "        f = open(filename)\n",
    "    except:\n",
    "        print 'no file {}'.format(filename)\n",
    "        sys.exit(1)\n",
    "\n",
    "\n",
    "      #--------------------------------------------------------------------- \n",
    "    sys.stdout.flush()\n",
    "    sys.stdout.write('\\n')\n",
    "    sys.stdout.write('extracting meteo from {}\\n'.format(filename))\n",
    "    sys.stdout.flush()\n",
    "      #---------------------------------------------------------------------      \n",
    "\n",
    "    try:    \n",
    "        for it in range(3):\n",
    "        \n",
    "            gid = grib_new_from_file(f)\n",
    "    \n",
    "            name=grib_get(gid, 'shortName')\n",
    "            mv=grib_get(gid,'missingValue')\n",
    "\n",
    "            date=grib_get(gid, 'date')\n",
    "            dataTime=grib_get(gid, 'dataTime')\n",
    "            stepRange=grib_get(gid, 'stepRange')\n",
    "\n",
    "            lonfgp=grib_get(gid,'longitudeOfFirstGridPointInDegrees')\n",
    "            latfgp=grib_get(gid,'latitudeOfFirstGridPointInDegrees')\n",
    "            lonlgp=grib_get(gid,'longitudeOfLastGridPointInDegrees')\n",
    "            latlgp=grib_get(gid,'latitudeOfLastGridPointInDegrees')\n",
    "            Ni=grib_get(gid,'Ni')\n",
    "            Nj=grib_get(gid,'Nj')\n",
    "\n",
    "\n",
    "            values=grib_get_values(gid)\n",
    "            elat=grib_get_array(gid,'latitudes')\n",
    "            elon=grib_get_array(gid,'longitudes')\n",
    "    \n",
    "\n",
    "            gridType = grib_get(gid,'gridType')\n",
    "\n",
    "            lat0 = grib_get(gid,'latitudeOfSouthernPoleInDegrees')\n",
    "            lon0 = grib_get(gid,'longitudeOfSouthernPoleInDegrees')\n",
    "\n",
    "\n",
    "            elon = elon.reshape(Nj,Ni)\n",
    "            elat = elat.reshape(Nj,Ni)\n",
    "            q = values.reshape(Nj,Ni)\n",
    "    \n",
    "            prj = pyproj.Proj('+proj=eqc +lat_ts=0 +lat_0=0 +lon_0=0 +x_0=0 +y_0=0 +ellps=WGS84 +datum=WGS84 +units=m +no_defs')\n",
    "            [[a0,a1],[a2,a3]] = prj([minlon, minlat], [maxlon, maxlat])\n",
    "\n",
    "            orig = geometry.SwathDefinition(lons=elon,lats=elat) # original points\n",
    "    \n",
    "    \n",
    "            area_id = 'HNMS'\n",
    "            description = 'HNMS COSMO'\n",
    "            proj_id = 'eqc'\n",
    "            projection = '+proj=eqc +lat_ts=0 +lat_0=0 +lon_0=0 +x_0=0 +y_0=0 +ellps=WGS84 +datum=WGS84 +units=m'\n",
    "            x_size = Ni\n",
    "            y_size = Nj\n",
    "            area_extent = (a0, a1, a2, a3)\n",
    "            target_def = utils.get_area_def(area_id, description, proj_id, projection,\n",
    "                                       x_size, y_size, area_extent)\n",
    "\n",
    "            lons,lats = geometry.AreaDefinition.get_lonlats(target_def)\n",
    "    \n",
    "            data = bilinear.resample_bilinear(q, orig, target_def,\n",
    "                                      radius=50e3, neighbours=32,\n",
    "                                      nprocs=1, fill_value=0,\n",
    "                                      reduce_data=False, segments=None,\n",
    "                                      epsilon=0)\n",
    "    \n",
    "            timestamp =  datetime.datetime.strptime(str(date),'%Y%m%d')+datetime.timedelta(hours=dataTime/100) \n",
    "\n",
    "\n",
    "            if name == 'msl' : \n",
    "                     pt.append(data)\n",
    "                     tt.append(timestamp+datetime.timedelta(hours=int(stepRange)))\n",
    "            elif name == '10u':\n",
    "                     ut.append(data)\n",
    "            elif name == '10v':\n",
    "                     vt.append(data)\n",
    "\n",
    "\n",
    "    # END OF FOR\n",
    "\n",
    "    except Exception as e:\n",
    "        print e\n",
    "        print 'ERROR in meteo file {}'.format(date)\n",
    "\n",
    "    f.close()\n",
    "\n",
    "met = xr.Dataset({'msl': (['time', 'latitude', 'longitude'],  np.array(pt)), \n",
    "                          'u10': (['time', 'latitude', 'longitude'], np.array(ut)),   \n",
    "                          'v10': (['time', 'latitude', 'longitude'], np.array(vt)),   \n",
    "                          'lons': (['x', 'y'], lons),   \n",
    "                          'lats': (['x', 'y'], lats)},   \n",
    "                          coords={'longitude': ('longitude', lons[0,:]),   \n",
    "                                  'latitude': ('latitude', lats[:,0]),   \n",
    "                                  'time': tt })   "
   ]
  },
  {
   "cell_type": "code",
   "execution_count": null,
   "metadata": {},
   "outputs": [],
   "source": [
    "met"
   ]
  },
  {
   "cell_type": "code",
   "execution_count": null,
   "metadata": {},
   "outputs": [],
   "source": [
    "met['msl'] = met.msl.where(met.msl>0)"
   ]
  },
  {
   "cell_type": "code",
   "execution_count": null,
   "metadata": {},
   "outputs": [],
   "source": [
    "met['u10'] = met.u10.where(met.msl>0)\n",
    "met['v10'] = met.v10.where(met.msl>0)"
   ]
  },
  {
   "cell_type": "code",
   "execution_count": null,
   "metadata": {
    "scrolled": false
   },
   "outputs": [],
   "source": [
    "import matplotlib.pyplot as plt\n",
    "\n",
    "import cartopy.crs as ccrs\n",
    "\n",
    "from mpl_toolkits.axes_grid1 import make_axes_locatable\n",
    "\n",
    "\n",
    "proj=ccrs.PlateCarree()\n",
    "\n",
    "fig, ax = plt.subplots(figsize=(12, 8))\n",
    "\n",
    "ax = plt.axes(projection=proj)\n",
    "\n",
    "h = ax.contourf(lons,lats,met.msl[0,], transform=proj);\n",
    "\n",
    "gl = ax.gridlines(crs=ccrs.PlateCarree(), draw_labels=True,\n",
    "                  linewidth=2, color='gray', alpha=0.5, linestyle='--')\n",
    "\n",
    "divider = make_axes_locatable(ax)\n",
    "ax_cb = divider.new_horizontal(size=\"5%\", pad=0.5, axes_class=plt.Axes)\n",
    "\n",
    "\n",
    "fig.add_axes(ax_cb)\n",
    "plt.colorbar(h, cax=ax_cb)\n",
    "#ax.set_global(); \n",
    "ax.coastlines();"
   ]
  },
  {
   "cell_type": "code",
   "execution_count": null,
   "metadata": {},
   "outputs": [],
   "source": [
    "met.dims.keys()[:3], met.variables.keys()[:3]"
   ]
  },
  {
   "cell_type": "code",
   "execution_count": null,
   "metadata": {},
   "outputs": [],
   "source": [
    "dp = hv.Dataset(met,kdims=met.dims.keys()[:3],vdims=met.variables.keys()[:3])"
   ]
  },
  {
   "cell_type": "code",
   "execution_count": null,
   "metadata": {},
   "outputs": [],
   "source": [
    "%%opts Image [width=650 height=450] (cmap='jet')\n",
    "dp.to(hv.Image, ['longitude','latitude'], 'msl').hist()"
   ]
  },
  {
   "cell_type": "code",
   "execution_count": null,
   "metadata": {},
   "outputs": [],
   "source": [
    "gp = gv.Dataset(met,kdims=met.dims.keys()[:3],vdims=met.variables.keys()[:3])"
   ]
  },
  {
   "cell_type": "code",
   "execution_count": null,
   "metadata": {},
   "outputs": [],
   "source": [
    "%%opts Image [colorbar=True width=650 height=450 toolbar=\"above\"  tools=['hover']] (cmap='viridis')\n",
    "gp.to(gv.Image, ['longitude','latitude'], 'msl', dynamic=True) * gf.coastline() * gf.borders()"
   ]
  },
  {
   "cell_type": "code",
   "execution_count": null,
   "metadata": {},
   "outputs": [],
   "source": []
  }
 ],
 "metadata": {
  "kernelspec": {
   "display_name": "pyPoseidon",
   "language": "python",
   "name": "pyposeidon"
  },
  "language_info": {
   "codemirror_mode": {
    "name": "ipython",
    "version": 2
   },
   "file_extension": ".py",
   "mimetype": "text/x-python",
   "name": "python",
   "nbconvert_exporter": "python",
   "pygments_lexer": "ipython2",
   "version": "2.7.14"
  },
  "toc": {
   "base_numbering": 1,
   "nav_menu": {},
   "number_sections": true,
   "sideBar": true,
   "skip_h1_title": false,
   "title_cell": "Table of Contents",
   "title_sidebar": "Contents",
   "toc_cell": false,
   "toc_position": {},
   "toc_section_display": true,
   "toc_window_display": false
  }
 },
 "nbformat": 4,
 "nbformat_minor": 2
}
