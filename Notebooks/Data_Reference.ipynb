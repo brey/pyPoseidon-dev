{
 "cells": [
  {
   "cell_type": "markdown",
   "metadata": {},
   "source": [
    "## BATHYMETRY"
   ]
  },
  {
   "cell_type": "markdown",
   "metadata": {},
   "source": [
    "#### GEBCO 30'' GRID\n",
    "http://www.gebco.net/data_and_products/gridded_bathymetry_data/gebco_30_second_grid/"
   ]
  },
  {
   "cell_type": "markdown",
   "metadata": {},
   "source": [
    "#### EMODNET\n",
    "http://www.emodnet-bathymetry.eu/"
   ]
  },
  {
   "cell_type": "markdown",
   "metadata": {},
   "source": [
    "#### ETOPO1 GLOBAL RELIEF MODEL\n",
    "https://www.ngdc.noaa.gov/mgg/global/"
   ]
  },
  {
   "cell_type": "markdown",
   "metadata": {},
   "source": [
    "#### SRTM30_PLUS\n",
    "http://topex.ucsd.edu/WWW_html/srtm30_plus.html"
   ]
  },
  {
   "cell_type": "markdown",
   "metadata": {},
   "source": [
    "#### CGIAR-CSI\n",
    "http://srtm.csi.cgiar.org/index.asp"
   ]
  },
  {
   "cell_type": "markdown",
   "metadata": {},
   "source": [
    "#### USGS SRTM 1 ARC minute\n",
    "\n",
    "https://lta.cr.usgs.gov/SRTM1Arc"
   ]
  },
  {
   "cell_type": "markdown",
   "metadata": {},
   "source": [
    "## TIDES"
   ]
  },
  {
   "cell_type": "markdown",
   "metadata": {},
   "source": [
    "#### FES 2014\n",
    "https://www.aviso.altimetry.fr/en/data/products/auxiliary-products/global-tide-fes/description-fes2014.html"
   ]
  },
  {
   "cell_type": "markdown",
   "metadata": {},
   "source": [
    "#### TPXO ATLAS 8\n",
    "http://volkov.oce.orst.edu/tides/tpxo8_atlas.html"
   ]
  },
  {
   "cell_type": "markdown",
   "metadata": {},
   "source": [
    "#### DTU10 global ocean tide model \n",
    "http://www.space.dtu.dk/english/research/scientific_data_and_models/global_ocean_tide_model"
   ]
  },
  {
   "cell_type": "markdown",
   "metadata": {},
   "source": [
    "## OBSERVATIONS"
   ]
  },
  {
   "cell_type": "markdown",
   "metadata": {},
   "source": [
    "#### UNIVERSITY OF HAWAII SEA LEVEL CENTER\n",
    "http://uhslc.soest.hawaii.edu/datainfo/"
   ]
  },
  {
   "cell_type": "markdown",
   "metadata": {},
   "source": [
    "#### SEADATANET\n",
    "https://www.seadatanet.org/"
   ]
  },
  {
   "cell_type": "markdown",
   "metadata": {},
   "source": [
    "#### Global Sea Level Observing System (GLOSS) \n",
    "\n",
    "http://www.gloss-sealevel.org/data/#.WNk6Njt95aR"
   ]
  },
  {
   "cell_type": "markdown",
   "metadata": {},
   "source": [
    "#### COPERNICUS MARINE ENVIRONMENT MONITORING SERVICE\n",
    "http://marine.copernicus.eu/services-portfolio/access-to-products/"
   ]
  },
  {
   "cell_type": "markdown",
   "metadata": {},
   "source": [
    "#### Web critech JRC\n",
    "http://webcritech.jrc.ec.europa.eu/"
   ]
  },
  {
   "cell_type": "markdown",
   "metadata": {},
   "source": [
    "#### GESLA-2\n",
    "http://gesla.org"
   ]
  },
  {
   "cell_type": "markdown",
   "metadata": {},
   "source": [
    "#### Belgium \n",
    "https://www.waterinfo.be/default.aspx?path=NL/Rapporten/Downloaden"
   ]
  },
  {
   "cell_type": "markdown",
   "metadata": {},
   "source": [
    "#### IOC\n",
    "http://www.ioc-sealevelmonitoring.org/service.php"
   ]
  },
  {
   "cell_type": "markdown",
   "metadata": {},
   "source": [
    "#### FLANDERS MARINE INSTITUTE\n",
    "http://www.vliz.be/en/real-time-monitoring"
   ]
  },
  {
   "cell_type": "markdown",
   "metadata": {},
   "source": [
    "#### EMODNET \n",
    "http://erddap.emodnet-physics.eu/erddap/index.html"
   ]
  },
  {
   "cell_type": "markdown",
   "metadata": {},
   "source": [
    "## ATMOSPHERIC DATA"
   ]
  },
  {
   "cell_type": "markdown",
   "metadata": {},
   "source": [
    "# ECMWF ERA-INTERIM\n",
    "https://www.ecmwf.int/en/research/climate-reanalysis/era-interim"
   ]
  },
  {
   "cell_type": "markdown",
   "metadata": {},
   "source": [
    "#### NCAR/UCAR CFSR\n",
    "https://climatedataguide.ucar.edu/climate-data/climate-forecast-system-reanalysis-cfsr"
   ]
  },
  {
   "cell_type": "markdown",
   "metadata": {},
   "source": [
    "#### NOAA BLENDED SEAWINDS\n",
    "https://www.ncdc.noaa.gov/data-access/marineocean-data/blended-global/blended-sea-winds"
   ]
  },
  {
   "cell_type": "markdown",
   "metadata": {},
   "source": [
    "#### NASA MERRA\n",
    "https://climatedataguide.ucar.edu/climate-data/nasa-merra"
   ]
  },
  {
   "cell_type": "markdown",
   "metadata": {},
   "source": [
    "#### JRA\n",
    "http://jra.kishou.go.jp/index.html"
   ]
  },
  {
   "cell_type": "markdown",
   "metadata": {},
   "source": [
    "## WEATHER NUMERICAL MODELS"
   ]
  },
  {
   "cell_type": "markdown",
   "metadata": {},
   "source": [
    "## WATER NUMERICAL MODELS"
   ]
  },
  {
   "cell_type": "markdown",
   "metadata": {},
   "source": [
    "NEMO : https://www.nemo-ocean.eu/"
   ]
  },
  {
   "cell_type": "markdown",
   "metadata": {},
   "source": [
    "HYCOM : https://hycom.org/hycom/overview"
   ]
  },
  {
   "cell_type": "markdown",
   "metadata": {},
   "source": [
    "ROMS : http://www.myroms.org/"
   ]
  },
  {
   "cell_type": "markdown",
   "metadata": {},
   "source": [
    "DELFT3D : https://oss.deltares.nl/web/delft3d"
   ]
  },
  {
   "cell_type": "markdown",
   "metadata": {},
   "source": [
    "DELFT3D FM : https://www.deltares.nl/en/software/delft3d-flexible-mesh-suite/"
   ]
  },
  {
   "cell_type": "markdown",
   "metadata": {},
   "source": [
    "SWAN : http://swanmodel.sourceforge.net"
   ]
  },
  {
   "cell_type": "markdown",
   "metadata": {},
   "source": [
    "SELFE : http://www.stccmop.org/knowledge_transfer/software/selfe"
   ]
  },
  {
   "cell_type": "markdown",
   "metadata": {},
   "source": [
    "SCHISM : http://ccrm.vims.edu/schismweb/"
   ]
  },
  {
   "cell_type": "markdown",
   "metadata": {},
   "source": [
    "ADCIRC : http://adcirc.org/"
   ]
  },
  {
   "cell_type": "markdown",
   "metadata": {},
   "source": [
    "SLOSH : http://www.nhc.noaa.gov/surge/slosh.php"
   ]
  },
  {
   "cell_type": "markdown",
   "metadata": {},
   "source": [
    "FVCOM : http://fvcom.smast.umassd.edu/fvcom/"
   ]
  },
  {
   "cell_type": "markdown",
   "metadata": {},
   "source": [
    "ANUGA : https://github.com/GeoscienceAustralia/anuga_core"
   ]
  },
  {
   "cell_type": "markdown",
   "metadata": {},
   "source": [
    "FLUIDS v3 : http://www.rchoetzlein.com/fluids3/"
   ]
  },
  {
   "cell_type": "markdown",
   "metadata": {},
   "source": [
    "DUALSPHYSICS : http://www.dual.sphysics.org/index.php/downloads/"
   ]
  },
  {
   "cell_type": "markdown",
   "metadata": {},
   "source": [
    "SWASH : http://swash.sourceforge.net"
   ]
  },
  {
   "cell_type": "markdown",
   "metadata": {},
   "source": [
    "HAWASSI : http://hawassi.labmath-indonesia.org/software/"
   ]
  },
  {
   "cell_type": "markdown",
   "metadata": {},
   "source": [
    "ELBE : https://www.tuhh.de/elbe/home.html"
   ]
  },
  {
   "cell_type": "markdown",
   "metadata": {},
   "source": [
    "POP (part of CESM) : http://www.cesm.ucar.edu/models/cesm1.0/pop2/"
   ]
  },
  {
   "cell_type": "markdown",
   "metadata": {},
   "source": [
    "MPAS : http://mpas-dev.github.io/"
   ]
  },
  {
   "cell_type": "markdown",
   "metadata": {},
   "source": [
    "GISS GCM ModelE : https://www.giss.nasa.gov/tools/modelE/"
   ]
  },
  {
   "cell_type": "markdown",
   "metadata": {},
   "source": [
    "Modular Ocean Model (MOM) : http://www.mom-ocean.science/web"
   ]
  },
  {
   "cell_type": "markdown",
   "metadata": {},
   "source": [
    "SLIM: a multi-scale model of the land-sea continuum : https://www.slim-ocean.be"
   ]
  },
  {
   "cell_type": "markdown",
   "metadata": {},
   "source": [
    "More info : https://csdms.colorado.edu/wiki/Model_download_portal"
   ]
  },
  {
   "cell_type": "markdown",
   "metadata": {},
   "source": [
    "## SATELLITE PRODUCTS"
   ]
  },
  {
   "cell_type": "markdown",
   "metadata": {},
   "source": [
    "#### Simulated satellite data\n",
    "https://software.ecmwf.int/wiki/display/FCST/Simulated+satellite+data"
   ]
  },
  {
   "cell_type": "markdown",
   "metadata": {},
   "source": [
    "#### NASA Earth Data\n",
    "https://search.earthdata.nasa.gov/search"
   ]
  },
  {
   "cell_type": "markdown",
   "metadata": {},
   "source": [
    "## POPULATION DATA"
   ]
  },
  {
   "cell_type": "markdown",
   "metadata": {},
   "source": [
    "world pophttp://www.worldpop.org.uk : "
   ]
  },
  {
   "cell_type": "markdown",
   "metadata": {},
   "source": [
    "## COASTLINES"
   ]
  },
  {
   "cell_type": "markdown",
   "metadata": {},
   "source": [
    "European Environment Agency : https://www.eea.europa.eu/data-and-maps/data/eea-coastline-for-analysis-1#tab-gis-data"
   ]
  },
  {
   "cell_type": "markdown",
   "metadata": {},
   "source": [
    "Open Street Map derived : http://openstreetmapdata.com/data/coastlines"
   ]
  },
  {
   "cell_type": "markdown",
   "metadata": {},
   "source": [
    "Natural Earth : http://www.naturalearthdata.com/downloads/"
   ]
  },
  {
   "cell_type": "markdown",
   "metadata": {},
   "source": [
    "GSHHS (NOAA) : https://www.ngdc.noaa.gov/mgg/shorelines/gshhs.html"
   ]
  },
  {
   "cell_type": "markdown",
   "metadata": {},
   "source": [
    "# OPERATIONAL SYSTEMS"
   ]
  },
  {
   "cell_type": "markdown",
   "metadata": {},
   "source": [
    "Mediterranean Forecasting System (MFS) : http://medforecast.bo.ingv.it"
   ]
  },
  {
   "cell_type": "code",
   "execution_count": null,
   "metadata": {},
   "outputs": [],
   "source": []
  }
 ],
 "metadata": {
  "kernelspec": {
   "display_name": "pyPoseidon",
   "language": "python",
   "name": "pyposeidon"
  },
  "language_info": {
   "codemirror_mode": {
    "name": "ipython",
    "version": 2
   },
   "file_extension": ".py",
   "mimetype": "text/x-python",
   "name": "python",
   "nbconvert_exporter": "python",
   "pygments_lexer": "ipython2",
   "version": "2.7.15"
  },
  "toc": {
   "base_numbering": 1,
   "nav_menu": {},
   "number_sections": true,
   "sideBar": true,
   "skip_h1_title": false,
   "title_cell": "Table of Contents",
   "title_sidebar": "Contents",
   "toc_cell": false,
   "toc_position": {},
   "toc_section_display": true,
   "toc_window_display": false
  }
 },
 "nbformat": 4,
 "nbformat_minor": 2
}
