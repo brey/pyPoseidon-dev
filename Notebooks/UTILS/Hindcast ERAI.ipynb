{
 "cells": [
  {
   "cell_type": "markdown",
   "metadata": {},
   "source": [
    "## hindcast example"
   ]
  },
  {
   "cell_type": "markdown",
   "metadata": {},
   "source": [
    "This is a hindcast workflow using D3D. It uses new data every 12h."
   ]
  },
  {
   "cell_type": "code",
   "execution_count": null,
   "metadata": {},
   "outputs": [],
   "source": [
    "#to use the full width of the browser window\n",
    "#from IPython.core.display import display, HTML\n",
    "#display(HTML(\"<style>.container { width:100% !important; }</style>\"))"
   ]
  },
  {
   "cell_type": "code",
   "execution_count": 1,
   "metadata": {},
   "outputs": [],
   "source": [
    "import pyPoseidon\n",
    "from pyPoseidon.utils import cast, data, point\n",
    "import pickle\n",
    "import pandas as pd\n",
    "import datetime"
   ]
  },
  {
   "cell_type": "code",
   "execution_count": 2,
   "metadata": {},
   "outputs": [
    {
     "data": {
      "text/plain": [
       "'0.3.0'"
      ]
     },
     "execution_count": 2,
     "metadata": {},
     "output_type": "execute_result"
    }
   ],
   "source": [
    "pyPoseidon.__version__"
   ]
  },
  {
   "cell_type": "markdown",
   "metadata": {},
   "source": [
    "### setup"
   ]
  },
  {
   "cell_type": "code",
   "execution_count": 3,
   "metadata": {},
   "outputs": [],
   "source": [
    "#read the info from the first run\n",
    "with open('/Users/brey/Downloads/EUR/D3D/ERAI/201701/gebco_eur_01_info.pkl', 'r') as f:\n",
    "              info=pickle.load(f)"
   ]
  },
  {
   "cell_type": "code",
   "execution_count": 4,
   "metadata": {},
   "outputs": [],
   "source": [
    "#define some info\n",
    "info.update({'path':'/Users/brey/Downloads/EUR/D3D/ERAI/', # The path of the project\n",
    "     'case':'European 2010', # a reference tag\n",
    "     })"
   ]
  },
  {
   "cell_type": "code",
   "execution_count": 5,
   "metadata": {},
   "outputs": [
    {
     "data": {
      "text/html": [
       "<div>\n",
       "<style scoped>\n",
       "    .dataframe tbody tr th:only-of-type {\n",
       "        vertical-align: middle;\n",
       "    }\n",
       "\n",
       "    .dataframe tbody tr th {\n",
       "        vertical-align: top;\n",
       "    }\n",
       "\n",
       "    .dataframe thead th {\n",
       "        text-align: right;\n",
       "    }\n",
       "</style>\n",
       "<table border=\"1\" class=\"dataframe\">\n",
       "  <thead>\n",
       "    <tr style=\"text-align: right;\">\n",
       "      <th></th>\n",
       "      <th>Month</th>\n",
       "      <th>NumDays</th>\n",
       "    </tr>\n",
       "  </thead>\n",
       "  <tbody>\n",
       "    <tr>\n",
       "      <th>0</th>\n",
       "      <td>2017-01</td>\n",
       "      <td>31</td>\n",
       "    </tr>\n",
       "    <tr>\n",
       "      <th>1</th>\n",
       "      <td>2017-02</td>\n",
       "      <td>28</td>\n",
       "    </tr>\n",
       "    <tr>\n",
       "      <th>2</th>\n",
       "      <td>2017-03</td>\n",
       "      <td>31</td>\n",
       "    </tr>\n",
       "    <tr>\n",
       "      <th>3</th>\n",
       "      <td>2017-04</td>\n",
       "      <td>30</td>\n",
       "    </tr>\n",
       "    <tr>\n",
       "      <th>4</th>\n",
       "      <td>2017-05</td>\n",
       "      <td>1</td>\n",
       "    </tr>\n",
       "  </tbody>\n",
       "</table>\n",
       "</div>"
      ],
      "text/plain": [
       "    Month  NumDays\n",
       "0 2017-01       31\n",
       "1 2017-02       28\n",
       "2 2017-03       31\n",
       "3 2017-04       30\n",
       "4 2017-05        1"
      ]
     },
     "execution_count": 5,
     "metadata": {},
     "output_type": "execute_result"
    }
   ],
   "source": [
    "start_date = info['start_date']\n",
    "end_date = pd.to_datetime('2017-5-1 0:0:0')\n",
    "\n",
    "s = pd.Series(index=pd.date_range(start_date, end_date))\n",
    "df = s.resample('MS').size().to_period('m').rename_axis('Month').reset_index(name='NumDays')\n",
    "df"
   ]
  },
  {
   "cell_type": "code",
   "execution_count": 6,
   "metadata": {},
   "outputs": [
    {
     "data": {
      "text/plain": [
       "DatetimeIndex(['2017-01-01', '2017-02-01', '2017-03-01', '2017-04-01'], dtype='datetime64[ns]', freq='MS')"
      ]
     },
     "execution_count": 6,
     "metadata": {},
     "output_type": "execute_result"
    }
   ],
   "source": [
    "#creating a time sequence of the runs\n",
    "date_list = pd.date_range(start_date,end_date, freq='1M') - pd.offsets.MonthBegin(1, normalize=True)\n",
    "date_list"
   ]
  },
  {
   "cell_type": "code",
   "execution_count": 7,
   "metadata": {},
   "outputs": [
    {
     "data": {
      "text/plain": [
       "[Timestamp('2017-01-01 00:00:00', freq='MS'),\n",
       " Timestamp('2017-02-01 00:00:00', freq='MS'),\n",
       " Timestamp('2017-03-01 00:00:00', freq='MS'),\n",
       " Timestamp('2017-04-01 00:00:00', freq='MS')]"
      ]
     },
     "execution_count": 7,
     "metadata": {},
     "output_type": "execute_result"
    }
   ],
   "source": [
    "dates = [pd.to_datetime(x) for x in date_list]\n",
    "dates"
   ]
  },
  {
   "cell_type": "code",
   "execution_count": 8,
   "metadata": {},
   "outputs": [
    {
     "data": {
      "text/plain": [
       "['201701', '201702', '201703', '201704']"
      ]
     },
     "execution_count": 8,
     "metadata": {},
     "output_type": "execute_result"
    }
   ],
   "source": [
    "#creating a sequence of folder to store the runs. In this case we name them after the date attribute.\n",
    "#NOTE that the first folder is the fisrt run already perfomed!!\n",
    "folders = [x.strftime('%Y%m') for x in date_list]\n",
    "folders"
   ]
  },
  {
   "cell_type": "code",
   "execution_count": 9,
   "metadata": {},
   "outputs": [
    {
     "data": {
      "text/plain": [
       "[Timedelta('31 days 00:00:00'),\n",
       " Timedelta('28 days 00:00:00'),\n",
       " Timedelta('31 days 00:00:00'),\n",
       " Timedelta('30 days 00:00:00')]"
      ]
     },
     "execution_count": 9,
     "metadata": {},
     "output_type": "execute_result"
    }
   ],
   "source": [
    "time_frames = [pd.to_timedelta('{}D'.format(x)) for x in df.NumDays.values[:-1]]\n",
    "time_frames"
   ]
  },
  {
   "cell_type": "code",
   "execution_count": 10,
   "metadata": {},
   "outputs": [],
   "source": [
    "#append to dic\n",
    "info.update({'start_date':start_date,'end_date':end_date, 'dates' : dates, 'time_frames':time_frames, 'folders':folders})"
   ]
  },
  {
   "cell_type": "code",
   "execution_count": 11,
   "metadata": {},
   "outputs": [],
   "source": [
    "#creating a sequence of folder from which we read the meteo.\n",
    "meteo = []\n",
    "PATH='/Users/brey/DATA/ERAI/'\n",
    "for date in date_list:\n",
    "    year = int(pd.to_datetime(date).strftime('%Y'))\n",
    "    dur = [PATH+'eraInterim_{:04d}.grib'.format(year)]\n",
    "    meteo.append(dur)\n"
   ]
  },
  {
   "cell_type": "code",
   "execution_count": 12,
   "metadata": {},
   "outputs": [
    {
     "data": {
      "text/plain": [
       "[['/Users/brey/DATA/ERAI/eraInterim_2017.grib'],\n",
       " ['/Users/brey/DATA/ERAI/eraInterim_2017.grib'],\n",
       " ['/Users/brey/DATA/ERAI/eraInterim_2017.grib'],\n",
       " ['/Users/brey/DATA/ERAI/eraInterim_2017.grib']]"
      ]
     },
     "execution_count": 12,
     "metadata": {},
     "output_type": "execute_result"
    }
   ],
   "source": [
    "meteo"
   ]
  },
  {
   "cell_type": "code",
   "execution_count": 13,
   "metadata": {},
   "outputs": [],
   "source": [
    "info.update({'meteo_files':meteo})"
   ]
  },
  {
   "cell_type": "code",
   "execution_count": 14,
   "metadata": {},
   "outputs": [
    {
     "data": {
      "text/plain": [
       "(['201701', '201702', '201703', '201704'],\n",
       " [['/Users/brey/DATA/ERAI/eraInterim_2017.grib'],\n",
       "  ['/Users/brey/DATA/ERAI/eraInterim_2017.grib'],\n",
       "  ['/Users/brey/DATA/ERAI/eraInterim_2017.grib'],\n",
       "  ['/Users/brey/DATA/ERAI/eraInterim_2017.grib']])"
      ]
     },
     "execution_count": 14,
     "metadata": {},
     "output_type": "execute_result"
    }
   ],
   "source": [
    "#check\n",
    "info['folders'],info['meteo_files']"
   ]
  },
  {
   "cell_type": "markdown",
   "metadata": {},
   "source": [
    "### run the hindcast"
   ]
  },
  {
   "cell_type": "code",
   "execution_count": 27,
   "metadata": {},
   "outputs": [],
   "source": [
    "#set cast\n",
    "h = cast.cast(**info) # initialize"
   ]
  },
  {
   "cell_type": "code",
   "execution_count": 28,
   "metadata": {},
   "outputs": [
    {
     "data": {
      "text/plain": [
       "[Timestamp('2017-01-01 00:00:00', freq='MS'),\n",
       " Timestamp('2017-02-01 00:00:00', freq='MS'),\n",
       " Timestamp('2017-03-01 00:00:00', freq='MS'),\n",
       " Timestamp('2017-04-01 00:00:00', freq='MS')]"
      ]
     },
     "execution_count": 28,
     "metadata": {},
     "output_type": "execute_result"
    }
   ],
   "source": [
    "info['dates']"
   ]
  },
  {
   "cell_type": "code",
   "execution_count": null,
   "metadata": {
    "scrolled": false
   },
   "outputs": [],
   "source": [
    "h.run()"
   ]
  },
  {
   "cell_type": "markdown",
   "metadata": {},
   "source": [
    "## Analysis of data"
   ]
  },
  {
   "cell_type": "code",
   "execution_count": null,
   "metadata": {},
   "outputs": [],
   "source": [
    "%matplotlib inline"
   ]
  },
  {
   "cell_type": "code",
   "execution_count": 15,
   "metadata": {},
   "outputs": [
    {
     "data": {
      "text/plain": [
       "['/Users/brey/Downloads/EUR/D3D/ERAI/201701',\n",
       " '/Users/brey/Downloads/EUR/D3D/ERAI/201702',\n",
       " '/Users/brey/Downloads/EUR/D3D/ERAI/201703',\n",
       " '/Users/brey/Downloads/EUR/D3D/ERAI/201704']"
      ]
     },
     "execution_count": 15,
     "metadata": {},
     "output_type": "execute_result"
    }
   ],
   "source": [
    "folders = [info['path']+f for f in info['folders']]\n",
    "folders"
   ]
  },
  {
   "cell_type": "code",
   "execution_count": 16,
   "metadata": {},
   "outputs": [
    {
     "name": "stdout",
     "output_type": "stream",
     "text": [
      "\n",
      "reading data based on /Users/brey/Downloads/EUR/D3D/ERAI/201701/gebco_eur_01_info.pkl \n",
      "\n",
      "reading precompiled data ...\n"
     ]
    }
   ],
   "source": [
    "otp = data(folders=folders,solver='d3d')#,sa_date='2010-2-1',se_date='2010-2-2 12:0:0') # optionally set range for tide gauge data acquisition "
   ]
  },
  {
   "cell_type": "code",
   "execution_count": 28,
   "metadata": {},
   "outputs": [
    {
     "data": {
      "text/plain": [
       "<matplotlib.collections.QuadMesh at 0x1a18caa110>"
      ]
     },
     "execution_count": 28,
     "metadata": {},
     "output_type": "execute_result"
    },
    {
     "data": {
      "image/png": "[encoded data removed]",
      "text/plain": [
       "<Figure size 432x288 with 2 Axes>"
      ]
     },
     "metadata": {},
     "output_type": "display_data"
    }
   ],
   "source": [
    "otp.impl.dem.bathymetry.plot()"
   ]
  },
  {
   "cell_type": "code",
   "execution_count": 29,
   "metadata": {},
   "outputs": [
    {
     "data": {
      "text/plain": [
       "<matplotlib.collections.QuadMesh at 0x1a35041d10>"
      ]
     },
     "execution_count": 29,
     "metadata": {},
     "output_type": "execute_result"
    },
    {
     "data": {
      "image/png": "[encoded data removed]",
      "text/plain": [
       "<Figure size 432x288 with 2 Axes>"
      ]
     },
     "metadata": {},
     "output_type": "display_data"
    }
   ],
   "source": [
    "otp.impl.Dataset.S1[10,:,:].plot()"
   ]
  },
  {
   "cell_type": "code",
   "execution_count": 30,
   "metadata": {},
   "outputs": [
    {
     "data": {
      "text/plain": [
       "[<matplotlib.lines.Line2D at 0x103f03c50>]"
      ]
     },
     "execution_count": 30,
     "metadata": {},
     "output_type": "execute_result"
    },
    {
     "data": {
      "image/png": "[encoded data removed]",
      "text/plain": [
       "<Figure size 432x288 with 1 Axes>"
      ]
     },
     "metadata": {},
     "output_type": "display_data"
    }
   ],
   "source": [
    "otp.impl.Dataset.S1[:,23,30].plot.line()"
   ]
  },
  {
   "cell_type": "code",
   "execution_count": 17,
   "metadata": {},
   "outputs": [
    {
     "data": {
      "text/html": [
       "<div>\n",
       "<style scoped>\n",
       "    .dataframe tbody tr th:only-of-type {\n",
       "        vertical-align: middle;\n",
       "    }\n",
       "\n",
       "    .dataframe tbody tr th {\n",
       "        vertical-align: top;\n",
       "    }\n",
       "\n",
       "    .dataframe thead th {\n",
       "        text-align: right;\n",
       "    }\n",
       "</style>\n",
       "<table border=\"1\" class=\"dataframe\">\n",
       "  <thead>\n",
       "    <tr style=\"text-align: right;\">\n",
       "      <th></th>\n",
       "      <th>ID</th>\n",
       "      <th>Name</th>\n",
       "      <th>Group</th>\n",
       "      <th>Latency</th>\n",
       "      <th>Details</th>\n",
       "      <th>Last Date</th>\n",
       "      <th>Max. Time</th>\n",
       "      <th>Min. Time</th>\n",
       "      <th>lat</th>\n",
       "      <th>lon</th>\n",
       "      <th>Status</th>\n",
       "    </tr>\n",
       "  </thead>\n",
       "  <tbody>\n",
       "    <tr>\n",
       "      <th>0</th>\n",
       "      <td>1837</td>\n",
       "      <td>Italy - Ancona (ISPRA)</td>\n",
       "      <td>ISPRA</td>\n",
       "      <td>17m</td>\n",
       "      <td>Details</td>\n",
       "      <td>09 Apr 2018 11:24</td>\n",
       "      <td>09 Apr 2018 11:03</td>\n",
       "      <td>28 Jun 2012 05:36</td>\n",
       "      <td>43.625</td>\n",
       "      <td>13.507</td>\n",
       "      <td>Active</td>\n",
       "    </tr>\n",
       "    <tr>\n",
       "      <th>1</th>\n",
       "      <td>1843</td>\n",
       "      <td>Italy - Civitavecchia (ISPRA)</td>\n",
       "      <td>ISPRA</td>\n",
       "      <td>17m</td>\n",
       "      <td>Details</td>\n",
       "      <td>09 Apr 2018 11:24</td>\n",
       "      <td>09 Apr 2018 11:03</td>\n",
       "      <td>28 Jun 2012 05:36</td>\n",
       "      <td>42.094</td>\n",
       "      <td>11.790</td>\n",
       "      <td>Active</td>\n",
       "    </tr>\n",
       "    <tr>\n",
       "      <th>2</th>\n",
       "      <td>1866</td>\n",
       "      <td>Italy - San Benedetto del Tronto (ISPRA)</td>\n",
       "      <td>ISPRA</td>\n",
       "      <td>22m</td>\n",
       "      <td>Details</td>\n",
       "      <td>09 Apr 2018 11:19</td>\n",
       "      <td>09 Apr 2018 11:06</td>\n",
       "      <td>01 Jan 2012 00:02</td>\n",
       "      <td>42.955</td>\n",
       "      <td>13.890</td>\n",
       "      <td>Active</td>\n",
       "    </tr>\n",
       "    <tr>\n",
       "      <th>3</th>\n",
       "      <td>1869</td>\n",
       "      <td>Italy - Trieste (ISPRA)</td>\n",
       "      <td>ISPRA</td>\n",
       "      <td>53m</td>\n",
       "      <td>Details</td>\n",
       "      <td>09 Apr 2018 10:48</td>\n",
       "      <td>09 Apr 2018 10:48</td>\n",
       "      <td>28 Jun 2012 06:04</td>\n",
       "      <td>45.649</td>\n",
       "      <td>13.758</td>\n",
       "      <td>Active</td>\n",
       "    </tr>\n",
       "    <tr>\n",
       "      <th>4</th>\n",
       "      <td>1870</td>\n",
       "      <td>Italy - Venezia (ISPRA)</td>\n",
       "      <td>ISPRA</td>\n",
       "      <td>20m</td>\n",
       "      <td>Details</td>\n",
       "      <td>09 Apr 2018 11:21</td>\n",
       "      <td>09 Apr 2018 11:04</td>\n",
       "      <td>01 Jan 2015 10:40</td>\n",
       "      <td>45.418</td>\n",
       "      <td>12.427</td>\n",
       "      <td>Active</td>\n",
       "    </tr>\n",
       "    <tr>\n",
       "      <th>5</th>\n",
       "      <td>2570</td>\n",
       "      <td>Italy - Venezia (ISPRA) TEST</td>\n",
       "      <td>ISPRA</td>\n",
       "      <td>20m</td>\n",
       "      <td>Details</td>\n",
       "      <td>09 Apr 2018 11:21</td>\n",
       "      <td>09 Apr 2018 11:21</td>\n",
       "      <td>01 Jan 2015 10:40</td>\n",
       "      <td>45.418</td>\n",
       "      <td>12.427</td>\n",
       "      <td>Active</td>\n",
       "    </tr>\n",
       "    <tr>\n",
       "      <th>6</th>\n",
       "      <td>1483</td>\n",
       "      <td>Italy - Venice</td>\n",
       "      <td>TD UNESCO</td>\n",
       "      <td>48m</td>\n",
       "      <td>Details</td>\n",
       "      <td>09 Apr 2018 10:53</td>\n",
       "      <td>09 Apr 2018 10:53</td>\n",
       "      <td>29 Apr 2011 19:08</td>\n",
       "      <td>45.418</td>\n",
       "      <td>12.427</td>\n",
       "      <td>Active</td>\n",
       "    </tr>\n",
       "    <tr>\n",
       "      <th>7</th>\n",
       "      <td>100041</td>\n",
       "      <td>ISPRA-04</td>\n",
       "      <td>TADSERVER</td>\n",
       "      <td>14m</td>\n",
       "      <td>Details</td>\n",
       "      <td>09 Apr 2018 11:57</td>\n",
       "      <td>09 Apr 2018 10:15</td>\n",
       "      <td>31 Mar 2014 16:25</td>\n",
       "      <td>45.649</td>\n",
       "      <td>13.758</td>\n",
       "      <td>Active</td>\n",
       "    </tr>\n",
       "  </tbody>\n",
       "</table>\n",
       "</div>"
      ],
      "text/plain": [
       "       ID                                      Name      Group Latency  \\\n",
       "0    1837                    Italy - Ancona (ISPRA)      ISPRA     17m   \n",
       "1    1843             Italy - Civitavecchia (ISPRA)      ISPRA     17m   \n",
       "2    1866  Italy - San Benedetto del Tronto (ISPRA)      ISPRA     22m   \n",
       "3    1869                   Italy - Trieste (ISPRA)      ISPRA     53m   \n",
       "4    1870                   Italy - Venezia (ISPRA)      ISPRA     20m   \n",
       "5    2570              Italy - Venezia (ISPRA) TEST      ISPRA     20m   \n",
       "6    1483                           Italy - Venice   TD UNESCO     48m   \n",
       "7  100041                                  ISPRA-04  TADSERVER     14m   \n",
       "\n",
       "   Details           Last Date           Max. Time           Min. Time  \\\n",
       "0  Details   09 Apr 2018 11:24   09 Apr 2018 11:03   28 Jun 2012 05:36   \n",
       "1  Details   09 Apr 2018 11:24   09 Apr 2018 11:03   28 Jun 2012 05:36   \n",
       "2  Details   09 Apr 2018 11:19   09 Apr 2018 11:06   01 Jan 2012 00:02   \n",
       "3  Details   09 Apr 2018 10:48   09 Apr 2018 10:48   28 Jun 2012 06:04   \n",
       "4  Details   09 Apr 2018 11:21   09 Apr 2018 11:04   01 Jan 2015 10:40   \n",
       "5  Details   09 Apr 2018 11:21   09 Apr 2018 11:21   01 Jan 2015 10:40   \n",
       "6  Details   09 Apr 2018 10:53   09 Apr 2018 10:53   29 Apr 2011 19:08   \n",
       "7  Details   09 Apr 2018 11:57   09 Apr 2018 10:15   31 Mar 2014 16:25   \n",
       "\n",
       "      lat     lon  Status  \n",
       "0  43.625  13.507  Active  \n",
       "1  42.094  11.790  Active  \n",
       "2  42.955  13.890  Active  \n",
       "3  45.649  13.758  Active  \n",
       "4  45.418  12.427  Active  \n",
       "5  45.418  12.427  Active  \n",
       "6  45.418  12.427  Active  \n",
       "7  45.649  13.758  Active  "
      ]
     },
     "execution_count": 17,
     "metadata": {},
     "output_type": "execute_result"
    }
   ],
   "source": [
    "otp.impl.obs.locations"
   ]
  },
  {
   "cell_type": "code",
   "execution_count": null,
   "metadata": {},
   "outputs": [],
   "source": [
    "# Get with index number\n",
    "p = otp.impl.obs.iloc(6)\n",
    "print p.head()\n",
    "print p.tail()"
   ]
  },
  {
   "cell_type": "code",
   "execution_count": null,
   "metadata": {},
   "outputs": [],
   "source": [
    "plat,plon = otp.impl.obs.locations.loc[2,['lat','lon']]"
   ]
  },
  {
   "cell_type": "code",
   "execution_count": null,
   "metadata": {},
   "outputs": [],
   "source": [
    "ts = point(lon=plon,lat=plat,data=otp.impl)\n",
    "ts.tseries(var='S1')"
   ]
  },
  {
   "cell_type": "code",
   "execution_count": null,
   "metadata": {},
   "outputs": [],
   "source": [
    "## Join the graphs\n",
    "ax = p.plot(figsize=(14,10))\n",
    "ts.S1.plot(ax=ax,color=['r'],label='d3d')\n",
    "ax.legend(loc='center left',bbox_to_anchor=(1.1, 0.5))"
   ]
  },
  {
   "cell_type": "code",
   "execution_count": null,
   "metadata": {},
   "outputs": [],
   "source": []
  }
 ],
 "metadata": {
  "hide_input": false,
  "kernelspec": {
   "display_name": "dev",
   "language": "python",
   "name": "dev"
  },
  "language_info": {
   "codemirror_mode": {
    "name": "ipython",
    "version": 2
   },
   "file_extension": ".py",
   "mimetype": "text/x-python",
   "name": "python",
   "nbconvert_exporter": "python",
   "pygments_lexer": "ipython2",
   "version": "2.7.15"
  },
  "latex_envs": {
   "bibliofile": "biblio.bib",
   "cite_by": "apalike",
   "current_citInitial": 1,
   "eqLabelWithNumbers": true,
   "eqNumInitial": 0
  },
  "toc": {
   "base_numbering": 1,
   "nav_menu": {},
   "number_sections": true,
   "sideBar": true,
   "skip_h1_title": false,
   "title_cell": "Table of Contents",
   "title_sidebar": "Contents",
   "toc_cell": false,
   "toc_position": {},
   "toc_section_display": true,
   "toc_window_display": false
  }
 },
 "nbformat": 4,
 "nbformat_minor": 2
}
