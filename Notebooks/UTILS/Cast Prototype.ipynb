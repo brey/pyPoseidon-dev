{
 "cells": [
  {
   "cell_type": "markdown",
   "metadata": {},
   "source": [
    "# Prototype of Cast class"
   ]
  },
  {
   "cell_type": "code",
   "execution_count": 1,
   "metadata": {},
   "outputs": [],
   "source": [
    "import xarray as xr\n",
    "import numpy as np\n",
    "import pandas as pd\n",
    "import datetime\n",
    "import os\n",
    "from shutil import copy\n",
    "import pickle\n",
    "import sys\n",
    "import glob\n",
    "import subprocess\n",
    "import numpy as np"
   ]
  },
  {
   "cell_type": "code",
   "execution_count": 2,
   "metadata": {},
   "outputs": [],
   "source": [
    "import pyPoseidon.model as pm\n",
    "from pyPoseidon.utils import data"
   ]
  },
  {
   "cell_type": "code",
   "execution_count": 15,
   "metadata": {},
   "outputs": [],
   "source": [
    "path='/Users/brey/Downloads/EUR/SCHISM/'"
   ]
  },
  {
   "cell_type": "code",
   "execution_count": 4,
   "metadata": {},
   "outputs": [],
   "source": [
    "path='/Users/brey/Downloads/EUR/D3D/'"
   ]
  },
  {
   "cell_type": "code",
   "execution_count": 16,
   "metadata": {},
   "outputs": [
    {
     "data": {
      "text/plain": [
       "DatetimeIndex(['2010-02-01 00:00:00', '2010-02-01 12:00:00',\n",
       "               '2010-02-02 00:00:00'],\n",
       "              dtype='datetime64[ns]', freq='12H')"
      ]
     },
     "execution_count": 16,
     "metadata": {},
     "output_type": "execute_result"
    }
   ],
   "source": [
    "start_date = pd.to_datetime('2010-2-1 0:0:0')\n",
    "end_date = pd.to_datetime('2010-2-2 0:0:0')\n",
    "dates = pd.date_range(start_date,end_date, freq='12H')\n",
    "dates"
   ]
  },
  {
   "cell_type": "code",
   "execution_count": 17,
   "metadata": {},
   "outputs": [
    {
     "data": {
      "text/plain": [
       "['20100201.00', '20100201.12', '20100202.00']"
      ]
     },
     "execution_count": 17,
     "metadata": {},
     "output_type": "execute_result"
    }
   ],
   "source": [
    "folders = [datetime.datetime.strftime(x, '%Y%m%d.%H') for x in dates]\n",
    "folders"
   ]
  },
  {
   "cell_type": "code",
   "execution_count": 18,
   "metadata": {},
   "outputs": [],
   "source": [
    "meteo = []\n",
    "PATH='/Users/brey/Downloads/'\n",
    "for date in dates:\n",
    "    end_date= pd.to_datetime(date) + pd.to_timedelta('12H')\n",
    "    end_date = end_date.strftime(format='%Y-%m-%d %H:%M:%S')\n",
    "    dr = pd.date_range(date, end_date, freq='12H')\n",
    "    dur = [PATH+'{:04d}/{:02d}/{:02d}/'.format(x.year,x.month,x.day)+datetime.datetime.strftime(x, '%Y%m%d.%H')+'.tropical_cyclone.grib' for x in dr]\n",
    "    meteo.append(dur)\n",
    "meteo_files = meteo"
   ]
  },
  {
   "cell_type": "code",
   "execution_count": 19,
   "metadata": {},
   "outputs": [
    {
     "data": {
      "text/plain": [
       "[['/Users/brey/Downloads/2010/02/01/20100201.00.tropical_cyclone.grib',\n",
       "  '/Users/brey/Downloads/2010/02/01/20100201.12.tropical_cyclone.grib'],\n",
       " ['/Users/brey/Downloads/2010/02/01/20100201.12.tropical_cyclone.grib',\n",
       "  '/Users/brey/Downloads/2010/02/02/20100202.00.tropical_cyclone.grib'],\n",
       " ['/Users/brey/Downloads/2010/02/02/20100202.00.tropical_cyclone.grib',\n",
       "  '/Users/brey/Downloads/2010/02/02/20100202.12.tropical_cyclone.grib']]"
      ]
     },
     "execution_count": 19,
     "metadata": {},
     "output_type": "execute_result"
    }
   ],
   "source": [
    "meteo_files"
   ]
  },
  {
   "cell_type": "code",
   "execution_count": 20,
   "metadata": {},
   "outputs": [],
   "source": [
    "prev='20100201.00/'"
   ]
  },
  {
   "cell_type": "code",
   "execution_count": 21,
   "metadata": {},
   "outputs": [],
   "source": [
    "#SCHISM\n",
    "files = [ 'bctides.in', 'launchSchism.sh','sflux/sflux_inputs.txt']\n",
    "files_sym = ['hgrid.gr3', 'hgrid.ll', 'manning.gr3', 'vgrid.in', 'drag.gr3', 'rough.gr3', 'windrot_geo2proj.gr3']\n",
    "tag = 'eur'"
   ]
  },
  {
   "cell_type": "code",
   "execution_count": 50,
   "metadata": {},
   "outputs": [],
   "source": [
    "#D3D                      \n",
    "files=[tag+'_hydro.xml',tag+'.enc',tag+'.obs', tag+'.bnd', tag+'.bca','run_flow2d3d.sh']\n",
    "files_sym=[tag+'.grd',tag+'.dep']\n",
    "tag = 'eur01'"
   ]
  },
  {
   "cell_type": "code",
   "execution_count": 22,
   "metadata": {},
   "outputs": [],
   "source": [
    "# load model\n",
    "with open(path+prev+tag+'_info.pkl', 'r') as f:\n",
    "                          info=pickle.load(f)\n",
    "\n"
   ]
  },
  {
   "cell_type": "code",
   "execution_count": 23,
   "metadata": {},
   "outputs": [
    {
     "data": {
      "text/plain": [
       "{'Tstart': 0,\n",
       " 'Tstop': 720,\n",
       " 'atm': True,\n",
       " 'conda_env': 'mpi3',\n",
       " 'config_file': '/Users/brey/SCHISM/test/param.in',\n",
       " 'date': Timestamp('2010-02-01 00:00:00'),\n",
       " 'dem': 'gebco',\n",
       " 'dft': 1,\n",
       " 'dpath': '/Users/brey/DATA/GEBCO_2014_2D.nc',\n",
       " 'dt': 400,\n",
       " 'end_date': Timestamp('2010-02-01 12:00:00'),\n",
       " 'epath': '/Users/brey/SCHISM/v5.6.1/src/schism.ex_VL',\n",
       " 'ft1': 0,\n",
       " 'ft2': 11,\n",
       " 'grid': 'tri2d',\n",
       " 'grid_file': '/Users/brey/SCHISM/test/hgrid.gr3',\n",
       " 'hgrid': '/Users/brey/SCHISM/test/hgrid.gr3',\n",
       " 'maxlat': 75.79099261350001,\n",
       " 'maxlon': 42.1752389468,\n",
       " 'meteo': 'ecmwf_oper',\n",
       " 'minlat': 25.024221636500002,\n",
       " 'minlon': -35.9631540844,\n",
       " 'mpaths': ['/Users/brey/Downloads/2010/02/01/20100201.00.tropical_cyclone.grib',\n",
       "  '/Users/brey/Downloads/2010/02/01/20100201.12.tropical_cyclone.grib'],\n",
       " 'ncores': 4,\n",
       " 'params':                       vals\n",
       " attrs                     \n",
       " start_year            2010\n",
       " start_month              2\n",
       " start_day                1\n",
       " start_hour               0\n",
       " utc_start               0 \n",
       " ics                     2 \n",
       " izonal5                 0 \n",
       " ipre                    0 \n",
       " icou_elfe_wwm           0 \n",
       " nstep_wwm                1\n",
       " mdc2                    10\n",
       " msc2                    10\n",
       " iwbl                     0\n",
       " hmin_radstress          0.\n",
       " nonhydro                0 \n",
       " ihydro_region           0 \n",
       " isav                    0 \n",
       " sav_cd               1.13 \n",
       " imm                      0\n",
       " cpp_lon                -6 \n",
       " cpp_lat                36 \n",
       " ibcc                    1 \n",
       " itransport              0 \n",
       " nrampbc                 0 \n",
       " drampbc                1. \n",
       " ihot                     0\n",
       " iupwind_mom              0\n",
       " ihorcon                 0 \n",
       " hvis_coef0           0.025\n",
       " indvel                   1\n",
       " ...                    ...\n",
       " sim_minute               0\n",
       " sim_second               0\n",
       " ibtrack_test             0\n",
       " irouse_test              0\n",
       " inu_elev                 0\n",
       " inu_uv                   0\n",
       " ihydraulics              0\n",
       " nramp_elev               0\n",
       " if_source                0\n",
       " inv_atm_bnd              0\n",
       " prmsl_ref          101325.\n",
       " ic_TEM                   1\n",
       " ic_SAL                   1\n",
       " inu_TEM                  0\n",
       " inu_SAL                  0\n",
       " step_nu_tr          86400.\n",
       " ieos_type                0\n",
       " ieos_pres                0\n",
       " rearth_pole      6378206.4\n",
       " rearth_eq        6378206.4\n",
       " ihydlg                   0\n",
       " hw_depth             1.e6 \n",
       " hw_ratio              0.5 \n",
       " ieos_pres                0\n",
       " hw_depth              1.e6\n",
       " hw_ratio               0.5\n",
       " mrsh.66                  0\n",
       " shw                4184.d0\n",
       " rho0               1000.d0\n",
       " inflow_mth               0\n",
       " \n",
       " [181 rows x 1 columns],\n",
       " 'resolution': None,\n",
       " 'rpath': '/Users/brey/Downloads/EUR/SCHISM/20100201.00/',\n",
       " 'rstep': 0,\n",
       " 'solver': 'schism',\n",
       " 'start_date': Timestamp('2010-02-01 00:00:00'),\n",
       " 'step': 0,\n",
       " 'tag': 'eur',\n",
       " 'tide': False,\n",
       " 'time_frame': '12H',\n",
       " 'version': '0.3.0'}"
      ]
     },
     "execution_count": 23,
     "metadata": {},
     "output_type": "execute_result"
    }
   ],
   "source": [
    "info"
   ]
  },
  {
   "cell_type": "code",
   "execution_count": 24,
   "metadata": {
    "scrolled": false
   },
   "outputs": [
    {
     "name": "stdout",
     "output_type": "stream",
     "text": [
      "Restart link present\n",
      "overwriting\n",
      "Restart link present\n",
      "overwriting\n",
      "Restart link present\n",
      "overwriting\n",
      "Restart link present\n",
      "overwriting\n",
      "Restart link present\n",
      "overwriting\n",
      "set restart\n",
      "process meteo\n",
      "\n",
      "extracting meteo from /Users/brey/Downloads/2010/02/01/20100201.12.tropical_cyclone.grib\n",
      "\n",
      "retrieving msl at 2010-02-01 12:00:00\n",
      "\n",
      "retrieving 10u at 2010-02-01 12:00:00\n",
      "\n",
      "retrieving 10v at 2010-02-01 12:00:00\n",
      "\n",
      "retrieving msl at 2010-02-01 15:00:00\n",
      "\n",
      "retrieving 10u at 2010-02-01 15:00:00\n",
      "\n",
      "retrieving 10v at 2010-02-01 15:00:00\n",
      "\n",
      "retrieving msl at 2010-02-01 18:00:00\n",
      "\n",
      "retrieving 10u at 2010-02-01 18:00:00\n",
      "\n",
      "retrieving 10v at 2010-02-01 18:00:00\n",
      "\n",
      "retrieving msl at 2010-02-01 21:00:00\n",
      "\n",
      "retrieving 10u at 2010-02-01 21:00:00\n",
      "\n",
      "retrieving 10v at 2010-02-01 21:00:00\n",
      "\n",
      "extracting meteo from /Users/brey/Downloads/2010/02/02/20100202.00.tropical_cyclone.grib\n",
      "\n",
      "retrieving msl at 2010-02-02 00:00:00\n",
      "\n",
      "retrieving 10u at 2010-02-02 00:00:00\n",
      "\n",
      "retrieving 10v at 2010-02-02 00:00:00\n",
      "\n",
      "retrieving msl at 2010-02-02 03:00:00\n",
      "\n",
      "retrieving 10u at 2010-02-02 03:00:00\n",
      "\n",
      "retrieving 10v at 2010-02-02 03:00:00\n",
      "\n",
      "meteo done\n",
      "executing\n",
      "mkdir: outputs: File exists\n"
     ]
    }
   ],
   "source": [
    "kwargs={}\n",
    "for date,folder,meteo in zip(dates[1:2],folders[1:2],meteo_files[1:2]):\n",
    "\n",
    "    ppath = path+'/{}/'.format(prev) # mark the prev \n",
    "    \n",
    "            \n",
    "    prev = folder #set the new folder as prev \n",
    "    \n",
    "    rpath=path+'/{}/'.format(folder)   # create the folder/run path\n",
    "\n",
    "    #create if needed\n",
    "    if not os.path.exists(rpath):  \n",
    "                os.makedirs(rpath)\n",
    "\n",
    "    copy(ppath+tag+'_info.pkl',rpath) #copy the info file from the previous path to the new rpath\n",
    "    \n",
    "    \n",
    "    # load model\n",
    "    with open(rpath+tag+'_info.pkl', 'r') as f:\n",
    "                          info=pickle.load(f)\n",
    "\n",
    "    \n",
    "    args = set(kwargs.keys()).intersection(info.keys()) # modify dic with kwargs\n",
    "    for attr in list(args):\n",
    "            info[attr] = kwargs[attr]\n",
    "\n",
    "    if info['solver']=='schism':\n",
    "        info['config_file'] = ppath + 'param.in'\n",
    "        #check for combine hotstart\n",
    "        hotout=info['params'].loc['hotout_write'].values[0]\n",
    "     \n",
    "        resfiles=glob.glob(ppath+'/outputs/*_it*.nc')\n",
    "        if not resfiles:\n",
    "            ex=subprocess.Popen(args=['/Users/brey/SCHISM/v5.6.1/src/Utility/Combining_Scripts/combine_hotstart7 -i {}'.format(hotout)], cwd=ppath+'/outputs/', shell=True, stderr=subprocess.PIPE, stdout=subprocess.PIPE, bufsize=1)\n",
    "\n",
    "            for line in iter(ex.stdout.readline,b''): \n",
    "                sys.stdout.write(line)\n",
    "                sys.stdout.flush()  \n",
    "    elif info['solver']=='d3d':\n",
    "        info['config_file'] = ppath + info['tag']+'.mdf'\n",
    "\n",
    "    #update the properties              \n",
    "    info['date'] = date\n",
    "    info['start_date'] = date\n",
    "    info['end_date'] = date + pd.to_timedelta(info['time_frame'])\n",
    "    info['mpaths'] = meteo\n",
    "    info['rpath'] = rpath\n",
    "\n",
    "        \n",
    "    m=pm.model(**info)\n",
    "\n",
    "    \n",
    "    \n",
    "    #D3D\n",
    "    if info['solver']=='d3d':\n",
    "        inresfile='tri-rst.'+m.impl.tag+'.'+datetime.datetime.strftime(date,'%Y%m%d.%H%M%M')\n",
    "        outresfile='restart.'+ datetime.datetime.strftime(date,'%Y%m%d.%H%M%M')\n",
    "\n",
    "        m.impl.config(output=True,config={'Restid ': outresfile}) \n",
    "    \n",
    "        outresfile = 'tri-rst.' + outresfile \n",
    "\n",
    "\n",
    "    #SCHISM\n",
    "    elif info['solver']=='schism':\n",
    "            #Restart File  SCHISM           \n",
    "        inresfile='/outputs/hotstart_it={}.nc'.format(hotout)\n",
    "        outresfile='/hotstart.nc'\n",
    "        m.impl.config(output=True,config={'ihot': 1, 'nramp_elev' : 1})\n",
    "\n",
    "\n",
    "    \n",
    "    # copy/link necessary files\n",
    "    for filename in files:\n",
    "        ipath = glob.glob(ppath+filename)\n",
    "        if ipath:\n",
    "            try:\n",
    "                copy(ppath+filename,rpath+filename)\n",
    "            except:\n",
    "                dir_name ,file_name = os.path.split(filename)\n",
    "                if not os.path.exists(rpath + dir_name):\n",
    "                    os.makedirs(rpath + dir_name)\n",
    "                copy(ppath+filename,rpath+filename)\n",
    "\n",
    "\n",
    "    \n",
    "    #symlink the big files\n",
    "    for filename in files_sym:\n",
    "        ipath = glob.glob(path+folders[0]+'/'+filename)\n",
    "        if ipath:\n",
    "            try:\n",
    "                os.symlink(ipath[0],rpath+filename)\n",
    "            except OSError, e:\n",
    "                if e.errno == os.errno.EEXIST:\n",
    "                    sys.stdout.write('Restart link present\\n')\n",
    "                    sys.stdout.write('overwriting\\n')\n",
    "                    os.remove(rpath+filename)\n",
    "                    os.symlink(ipath[0],rpath+filename)\n",
    "\n",
    "\n",
    "    sys.stdout.write('set restart\\n')\n",
    "    sys.stdout.flush()\n",
    "        \n",
    "    try:\n",
    "        os.symlink(ppath+inresfile,rpath+outresfile)\n",
    "    except OSError, e:\n",
    "        if e.errno == os.errno.EEXIST:\n",
    "            sys.stdout.write('Restart link present\\n')\n",
    "            sys.stdout.write('overwriting\\n')\n",
    "            os.remove(rpath+outresfile)\n",
    "            os.symlink(ppath+inresfile,rpath+outresfile)\n",
    "        else:\n",
    "            raise e            \n",
    "          \n",
    "                    \n",
    "    #get new meteo \n",
    "\n",
    "    sys.stdout.write('process meteo\\n')\n",
    "    sys.stdout.flush()\n",
    "\n",
    "            \n",
    "    m.force()\n",
    "    m.impl.to_force(m.impl.meteo.impl.uvp,vars=['msl','u10','v10'],rpath=rpath)  #write u,v,p files \n",
    "    \n",
    "\n",
    "    \n",
    "    \n",
    "     # run case\n",
    "    sys.stdout.write('executing\\n')\n",
    "    sys.stdout.flush()\n",
    "        \n",
    "        \n",
    "    m.save()\n",
    "\n",
    "    m.run()\n",
    "\n"
   ]
  },
  {
   "cell_type": "markdown",
   "metadata": {},
   "source": [
    "## Check output for D3D"
   ]
  },
  {
   "cell_type": "markdown",
   "metadata": {},
   "source": [
    "### Unified run"
   ]
  },
  {
   "cell_type": "code",
   "execution_count": 25,
   "metadata": {},
   "outputs": [
    {
     "name": "stdout",
     "output_type": "stream",
     "text": [
      "\n",
      "reading data based on /Users/brey/Downloads/EUR/D3D/20100201.00_test/eur01_info.pkl \n"
     ]
    }
   ],
   "source": [
    "out0 = data(**{'solver':'d3d','rpath': '/Users/brey/Downloads/EUR/D3D/20100201.00_test/'})"
   ]
  },
  {
   "cell_type": "code",
   "execution_count": 26,
   "metadata": {},
   "outputs": [
    {
     "data": {
      "text/plain": [
       "<xarray.Dataset>\n",
       "Dimensions:  (XU: 769, XV: 769, XZ: 769, YU: 514, YV: 514, YZ: 514, time: 25)\n",
       "Coordinates:\n",
       "  * YU       (YU) float64 25.15 25.25 25.35 25.45 25.55 25.65 25.75 25.85 ...\n",
       "  * XZ       (XZ) float64 -34.95 -34.85 -34.75 -34.65 -34.55 -34.45 -34.35 ...\n",
       "  * YZ       (YZ) float64 25.1 25.2 25.3 25.4 25.5 25.6 25.7 25.8 25.9 26.0 ...\n",
       "  * time     (time) datetime64[ns] 2010-02-01 2010-02-01T01:00:00 ...\n",
       "  * XU       (XU) float64 -34.95 -34.85 -34.75 -34.65 -34.55 -34.45 -34.35 ...\n",
       "  * XV       (XV) float64 -34.9 -34.8 -34.7 -34.6 -34.5 -34.4 -34.3 -34.2 ...\n",
       "  * YV       (YV) float64 25.1 25.2 25.3 25.4 25.5 25.6 25.7 25.8 25.9 26.0 ...\n",
       "Data variables:\n",
       "    V1Z      (time, YZ, XZ) float32 0.0 0.0 0.0 0.0 0.0 0.0 0.0 0.0 0.0 0.0 ...\n",
       "    V1       (time, YV, XV) float32 0.0 0.0 0.0 0.0 0.0 0.0 0.0 0.0 0.0 0.0 ...\n",
       "    U1Z      (time, YZ, XZ) float32 0.0 0.0 0.0 0.0 0.0 0.0 0.0 0.0 0.0 0.0 ...\n",
       "    PATM     (time, YZ, XZ) float32 101386.68 101375.99 101364.4 101352.4 ...\n",
       "    S1       (time, YZ, XZ) float32 0.0 0.0 0.0 0.0 0.0 0.0 0.0 0.0 0.0 0.0 ...\n",
       "    U1       (time, YU, XU) float32 0.0 0.0 0.0 0.0 0.0 0.0 0.0 0.0 0.0 0.0 ...\n",
       "    WINDV    (time, YZ, XZ) float32 -10.443917 -10.3553295 -10.224099 ...\n",
       "    WINDU    (time, YZ, XZ) float32 2.7452593 2.7767913 2.7801745 2.7606728 ..."
      ]
     },
     "execution_count": 26,
     "metadata": {},
     "output_type": "execute_result"
    }
   ],
   "source": [
    "out0.impl.Dataset"
   ]
  },
  {
   "cell_type": "markdown",
   "metadata": {},
   "source": [
    "### Split runs"
   ]
  },
  {
   "cell_type": "markdown",
   "metadata": {},
   "source": [
    "#### 0-12 H"
   ]
  },
  {
   "cell_type": "code",
   "execution_count": 27,
   "metadata": {},
   "outputs": [
    {
     "name": "stdout",
     "output_type": "stream",
     "text": [
      "\n",
      "reading data based on /Users/brey/Downloads/EUR/D3D/20100201.00/eur01_info.pkl \n"
     ]
    }
   ],
   "source": [
    "out1 = data(**{'solver':'d3d','rpath': '/Users/brey/Downloads/EUR/D3D/20100201.00/'})"
   ]
  },
  {
   "cell_type": "markdown",
   "metadata": {},
   "source": [
    "Mask values to avoid the comparison with the NaNs"
   ]
  },
  {
   "cell_type": "code",
   "execution_count": 28,
   "metadata": {},
   "outputs": [],
   "source": [
    "#First Part\n",
    "ma0=np.ma.masked_invalid(out0.impl.Dataset.S1.values[:13,:])\n",
    "ma1=np.ma.masked_invalid(out1.impl.Dataset.S1.values)"
   ]
  },
  {
   "cell_type": "code",
   "execution_count": 29,
   "metadata": {},
   "outputs": [
    {
     "data": {
      "text/plain": [
       "((13, 514, 769), (13, 514, 769))"
      ]
     },
     "execution_count": 29,
     "metadata": {},
     "output_type": "execute_result"
    }
   ],
   "source": [
    "ma0.shape,ma1.shape"
   ]
  },
  {
   "cell_type": "code",
   "execution_count": 30,
   "metadata": {},
   "outputs": [
    {
     "data": {
      "text/plain": [
       "False"
      ]
     },
     "execution_count": 30,
     "metadata": {},
     "output_type": "execute_result"
    }
   ],
   "source": [
    "np.array_equal(ma0,ma1)"
   ]
  },
  {
   "cell_type": "code",
   "execution_count": 31,
   "metadata": {},
   "outputs": [
    {
     "data": {
      "text/plain": [
       "0.0"
      ]
     },
     "execution_count": 31,
     "metadata": {},
     "output_type": "execute_result"
    }
   ],
   "source": [
    "np.max(np.abs(ma0-ma1))"
   ]
  },
  {
   "cell_type": "markdown",
   "metadata": {},
   "source": [
    "#### 12-24 H"
   ]
  },
  {
   "cell_type": "code",
   "execution_count": 32,
   "metadata": {},
   "outputs": [
    {
     "name": "stdout",
     "output_type": "stream",
     "text": [
      "\n",
      "reading data based on /Users/brey/Downloads/EUR/D3D/20100201.12/eur01_info.pkl \n"
     ]
    }
   ],
   "source": [
    "out2 = data(**{'solver':'d3d','rpath': '/Users/brey/Downloads/EUR/D3D/20100201.12/'})"
   ]
  },
  {
   "cell_type": "code",
   "execution_count": 33,
   "metadata": {},
   "outputs": [],
   "source": [
    "#Second part\n",
    "ma02=np.ma.masked_invalid(out0.impl.Dataset.S1.values[12:,:])\n",
    "ma2=np.ma.masked_invalid(out2.impl.Dataset.S1.values)"
   ]
  },
  {
   "cell_type": "code",
   "execution_count": 34,
   "metadata": {},
   "outputs": [
    {
     "data": {
      "text/plain": [
       "False"
      ]
     },
     "execution_count": 34,
     "metadata": {},
     "output_type": "execute_result"
    }
   ],
   "source": [
    "np.array_equal(ma02,ma2)"
   ]
  },
  {
   "cell_type": "code",
   "execution_count": 35,
   "metadata": {},
   "outputs": [
    {
     "data": {
      "text/plain": [
       "1.1920929e-07"
      ]
     },
     "execution_count": 35,
     "metadata": {},
     "output_type": "execute_result"
    }
   ],
   "source": [
    "np.max(np.abs(ma02-ma2))"
   ]
  },
  {
   "cell_type": "markdown",
   "metadata": {},
   "source": [
    "## Check output for SCHISM"
   ]
  },
  {
   "cell_type": "markdown",
   "metadata": {},
   "source": [
    "### Unified run"
   ]
  },
  {
   "cell_type": "code",
   "execution_count": 36,
   "metadata": {},
   "outputs": [
    {
     "name": "stdout",
     "output_type": "stream",
     "text": [
      "Combining output\n"
     ]
    }
   ],
   "source": [
    "out0 = data(**{'solver':'schism','rpath': '/Users/brey/Downloads/EUR/SCHISM/20100201.00_test/','savenc' : True})"
   ]
  },
  {
   "cell_type": "code",
   "execution_count": 37,
   "metadata": {},
   "outputs": [
    {
     "data": {
      "text/plain": [
       "<xarray.DataArray 'time' (time: 24)>\n",
       "array(['2010-02-01T01:00:00.000000000', '2010-02-01T02:00:00.000000000',\n",
       "       '2010-02-01T03:00:00.000000000', '2010-02-01T04:00:00.000000000',\n",
       "       '2010-02-01T05:00:00.000000000', '2010-02-01T06:00:00.000000000',\n",
       "       '2010-02-01T07:00:00.000000000', '2010-02-01T08:00:00.000000000',\n",
       "       '2010-02-01T09:00:00.000000000', '2010-02-01T10:00:00.000000000',\n",
       "       '2010-02-01T11:00:00.000000000', '2010-02-01T12:00:00.000000000',\n",
       "       '2010-02-01T13:00:00.000000000', '2010-02-01T14:00:00.000000000',\n",
       "       '2010-02-01T15:00:00.000000000', '2010-02-01T16:00:00.000000000',\n",
       "       '2010-02-01T17:00:00.000000000', '2010-02-01T18:00:00.000000000',\n",
       "       '2010-02-01T19:00:00.000000000', '2010-02-01T20:00:00.000000000',\n",
       "       '2010-02-01T21:00:00.000000000', '2010-02-01T22:00:00.000000000',\n",
       "       '2010-02-01T23:00:00.000000000', '2010-02-02T00:00:00.000000000'],\n",
       "      dtype='datetime64[ns]')\n",
       "Coordinates:\n",
       "  * time     (time) datetime64[ns] 2010-02-01T01:00:00 2010-02-01T02:00:00 ..."
      ]
     },
     "execution_count": 37,
     "metadata": {},
     "output_type": "execute_result"
    }
   ],
   "source": [
    "out0.impl.Dataset.time"
   ]
  },
  {
   "cell_type": "markdown",
   "metadata": {},
   "source": [
    "### Split runs"
   ]
  },
  {
   "cell_type": "markdown",
   "metadata": {},
   "source": [
    "#### 0-12 H"
   ]
  },
  {
   "cell_type": "code",
   "execution_count": 111,
   "metadata": {},
   "outputs": [
    {
     "name": "stdout",
     "output_type": "stream",
     "text": [
      "Combining output\n"
     ]
    }
   ],
   "source": [
    "out1 = data(**{'solver':'schism','rpath': '/Users/brey/Downloads/EUR/SCHISM/20100201.00/', 'savenc' : True})"
   ]
  },
  {
   "cell_type": "code",
   "execution_count": 39,
   "metadata": {},
   "outputs": [
    {
     "data": {
      "text/plain": [
       "<xarray.DataArray 'time' (time: 12)>\n",
       "array(['2010-02-01T01:00:00.000000000', '2010-02-01T02:00:00.000000000',\n",
       "       '2010-02-01T03:00:00.000000000', '2010-02-01T04:00:00.000000000',\n",
       "       '2010-02-01T05:00:00.000000000', '2010-02-01T06:00:00.000000000',\n",
       "       '2010-02-01T07:00:00.000000000', '2010-02-01T08:00:00.000000000',\n",
       "       '2010-02-01T09:00:00.000000000', '2010-02-01T10:00:00.000000000',\n",
       "       '2010-02-01T11:00:00.000000000', '2010-02-01T12:00:00.000000000'],\n",
       "      dtype='datetime64[ns]')\n",
       "Coordinates:\n",
       "  * time     (time) datetime64[ns] 2010-02-01T01:00:00 2010-02-01T02:00:00 ..."
      ]
     },
     "execution_count": 39,
     "metadata": {},
     "output_type": "execute_result"
    }
   ],
   "source": [
    "out1.impl.Dataset.time"
   ]
  },
  {
   "cell_type": "code",
   "execution_count": 40,
   "metadata": {},
   "outputs": [
    {
     "data": {
      "text/plain": [
       "True"
      ]
     },
     "execution_count": 40,
     "metadata": {},
     "output_type": "execute_result"
    }
   ],
   "source": [
    "#ELEV\n",
    "np.array_equal(out0.impl.Dataset.elev.values[:12,:],out1.impl.Dataset.elev.values)"
   ]
  },
  {
   "cell_type": "code",
   "execution_count": 41,
   "metadata": {},
   "outputs": [
    {
     "data": {
      "text/plain": [
       "True"
      ]
     },
     "execution_count": 41,
     "metadata": {},
     "output_type": "execute_result"
    }
   ],
   "source": [
    "#WIND\n",
    "np.array_equal(out0.impl.Dataset.wind_speed.values[:12,:,0],out1.impl.Dataset.wind_speed.values[:,:,0])"
   ]
  },
  {
   "cell_type": "markdown",
   "metadata": {},
   "source": [
    "#### 12-24 H"
   ]
  },
  {
   "cell_type": "code",
   "execution_count": 106,
   "metadata": {},
   "outputs": [
    {
     "name": "stdout",
     "output_type": "stream",
     "text": [
      "Combining output\n"
     ]
    }
   ],
   "source": [
    "out2 = data(**{'solver':'schism','rpath': '/Users/brey/Downloads/EUR/SCHISM/20100201.12/', 'savenc' : True})"
   ]
  },
  {
   "cell_type": "code",
   "execution_count": 107,
   "metadata": {},
   "outputs": [
    {
     "data": {
      "text/plain": [
       "<xarray.DataArray 'time' (time: 12)>\n",
       "array(['2010-02-01T13:00:00.000000000', '2010-02-01T14:00:00.000000000',\n",
       "       '2010-02-01T15:00:00.000000000', '2010-02-01T16:00:00.000000000',\n",
       "       '2010-02-01T17:00:00.000000000', '2010-02-01T18:00:00.000000000',\n",
       "       '2010-02-01T19:00:00.000000000', '2010-02-01T20:00:00.000000000',\n",
       "       '2010-02-01T21:00:00.000000000', '2010-02-01T22:00:00.000000000',\n",
       "       '2010-02-01T23:00:00.000000000', '2010-02-02T00:00:00.000000000'],\n",
       "      dtype='datetime64[ns]')\n",
       "Coordinates:\n",
       "  * time     (time) datetime64[ns] 2010-02-01T13:00:00 2010-02-01T14:00:00 ..."
      ]
     },
     "execution_count": 107,
     "metadata": {},
     "output_type": "execute_result"
    }
   ],
   "source": [
    "out2.impl.Dataset.time"
   ]
  },
  {
   "cell_type": "code",
   "execution_count": 108,
   "metadata": {},
   "outputs": [
    {
     "data": {
      "text/plain": [
       "((12, 175156), (12, 175156))"
      ]
     },
     "execution_count": 108,
     "metadata": {},
     "output_type": "execute_result"
    }
   ],
   "source": [
    "out0.impl.Dataset.elev.values[12:,:].shape, out2.impl.Dataset.elev.values.shape"
   ]
  },
  {
   "cell_type": "code",
   "execution_count": 109,
   "metadata": {},
   "outputs": [
    {
     "data": {
      "text/plain": [
       "False"
      ]
     },
     "execution_count": 109,
     "metadata": {},
     "output_type": "execute_result"
    }
   ],
   "source": [
    "#Elev\n",
    "np.array_equal(out0.impl.Dataset.elev.values[12:,:],out2.impl.Dataset.elev.values)"
   ]
  },
  {
   "cell_type": "code",
   "execution_count": 110,
   "metadata": {},
   "outputs": [
    {
     "data": {
      "text/plain": [
       "0.09468653"
      ]
     },
     "execution_count": 110,
     "metadata": {},
     "output_type": "execute_result"
    }
   ],
   "source": [
    "np.max(np.abs(out0.impl.Dataset.elev.values[12:,:] - out2.impl.Dataset.elev.values))"
   ]
  },
  {
   "cell_type": "code",
   "execution_count": 83,
   "metadata": {},
   "outputs": [
    {
     "data": {
      "text/plain": [
       "(numpy.datetime64('2010-02-01T13:00:00.000000000'),\n",
       " numpy.datetime64('2010-02-01T13:00:00.000000000'))"
      ]
     },
     "execution_count": 83,
     "metadata": {},
     "output_type": "execute_result"
    }
   ],
   "source": [
    "out0.impl.Dataset.time.values[12] , out2.impl.Dataset.time.values[0]"
   ]
  },
  {
   "cell_type": "code",
   "execution_count": 84,
   "metadata": {},
   "outputs": [
    {
     "data": {
      "text/plain": [
       "(array([-0.02433086, -0.02383262, -0.02320769, ..., -0.00485766,\n",
       "        -0.00341343, -0.00402453], dtype=float32),\n",
       " array([-0.02449196, -0.02387583, -0.02311712, ..., -0.00996716,\n",
       "        -0.00859527, -0.00924963], dtype=float32))"
      ]
     },
     "execution_count": 84,
     "metadata": {},
     "output_type": "execute_result"
    }
   ],
   "source": [
    "out0.impl.Dataset.elev.values[12,:], out2.impl.Dataset.elev.values[0,:]"
   ]
  },
  {
   "cell_type": "code",
   "execution_count": 85,
   "metadata": {},
   "outputs": [
    {
     "data": {
      "text/plain": [
       "True"
      ]
     },
     "execution_count": 85,
     "metadata": {},
     "output_type": "execute_result"
    }
   ],
   "source": [
    "#WIND\n",
    "np.array_equal(out0.impl.Dataset.wind_speed.values[12:,:], out2.impl.Dataset.wind_speed.values)"
   ]
  },
  {
   "cell_type": "markdown",
   "metadata": {},
   "source": [
    "#### check the restart file"
   ]
  },
  {
   "cell_type": "code",
   "execution_count": 51,
   "metadata": {},
   "outputs": [],
   "source": [
    "res = xr.open_dataset('/Users/brey/Downloads/EUR/SCHISM/20100201.12/hotstart.nc')"
   ]
  },
  {
   "cell_type": "code",
   "execution_count": 52,
   "metadata": {},
   "outputs": [
    {
     "data": {
      "text/plain": [
       "<xarray.Dataset>\n",
       "Dimensions:  (elem: 339138, nVert: 2, node: 175156, ntracers: 2, one_new: 1, side: 514457)\n",
       "Dimensions without coordinates: elem, nVert, node, ntracers, one_new, side\n",
       "Data variables:\n",
       "    idry_e   (elem) int32 ...\n",
       "    idry_s   (side) int32 ...\n",
       "    idry     (node) int32 ...\n",
       "    eta2     (node) float64 ...\n",
       "    we       (elem, nVert) float64 ...\n",
       "    tr_el    (elem, nVert, ntracers) float64 ...\n",
       "    su2      (side, nVert) float64 ...\n",
       "    sv2      (side, nVert) float64 ...\n",
       "    tr_nd    (node, nVert, ntracers) float64 ...\n",
       "    tr_nd0   (node, nVert, ntracers) float64 ...\n",
       "    q2       (node, nVert) float64 ...\n",
       "    xl       (node, nVert) float64 ...\n",
       "    dfv      (node, nVert) float64 ...\n",
       "    dfh      (node, nVert) float64 ...\n",
       "    dfq1     (node, nVert) float64 ...\n",
       "    dfq2     (node, nVert) float64 ...\n",
       "    time     (one_new) float64 ...\n",
       "    iths     (one_new) int32 ...\n",
       "    ifile    (one_new) int32 ..."
      ]
     },
     "execution_count": 52,
     "metadata": {},
     "output_type": "execute_result"
    }
   ],
   "source": [
    "res"
   ]
  },
  {
   "cell_type": "code",
   "execution_count": 54,
   "metadata": {},
   "outputs": [
    {
     "data": {
      "text/plain": [
       "12"
      ]
     },
     "execution_count": 54,
     "metadata": {},
     "output_type": "execute_result"
    }
   ],
   "source": [
    "108*400/3600"
   ]
  },
  {
   "cell_type": "code",
   "execution_count": 66,
   "metadata": {},
   "outputs": [
    {
     "data": {
      "text/plain": [
       "((175156,), (175156,))"
      ]
     },
     "execution_count": 66,
     "metadata": {},
     "output_type": "execute_result"
    }
   ],
   "source": [
    "res.eta2.values.shape, out1.impl.Dataset.elev.values[-1,:].shape"
   ]
  },
  {
   "cell_type": "code",
   "execution_count": 65,
   "metadata": {},
   "outputs": [
    {
     "data": {
      "text/plain": [
       "False"
      ]
     },
     "execution_count": 65,
     "metadata": {},
     "output_type": "execute_result"
    }
   ],
   "source": [
    "np.array_equal(res.eta2.values,out1.impl.Dataset.elev.values[-1,:])"
   ]
  },
  {
   "cell_type": "code",
   "execution_count": 67,
   "metadata": {},
   "outputs": [
    {
     "data": {
      "text/plain": [
       "7.449911132439979e-09"
      ]
     },
     "execution_count": 67,
     "metadata": {},
     "output_type": "execute_result"
    }
   ],
   "source": [
    "np.max(np.abs(res.eta2.values-out1.impl.Dataset.elev.values[-1,:]))"
   ]
  },
  {
   "cell_type": "code",
   "execution_count": 58,
   "metadata": {},
   "outputs": [
    {
     "data": {
      "text/plain": [
       "<xarray.DataArray 'time' (one_new: 1)>\n",
       "array([43200.])\n",
       "Dimensions without coordinates: one_new"
      ]
     },
     "execution_count": 58,
     "metadata": {},
     "output_type": "execute_result"
    }
   ],
   "source": [
    "res.time"
   ]
  },
  {
   "cell_type": "code",
   "execution_count": 61,
   "metadata": {},
   "outputs": [
    {
     "data": {
      "text/plain": [
       "array([-0.0408535 , -0.04038654, -0.03975742, ...,  0.00247313,\n",
       "        0.00420236,  0.00347213], dtype=float32)"
      ]
     },
     "execution_count": 61,
     "metadata": {},
     "output_type": "execute_result"
    }
   ],
   "source": [
    "out1.impl.Dataset.elev.values[-1,:]"
   ]
  },
  {
   "cell_type": "code",
   "execution_count": 104,
   "metadata": {},
   "outputs": [
    {
     "data": {
      "text/plain": [
       "array([[ 0.00022945,  0.00022945],\n",
       "       [ 0.00029706,  0.00029706],\n",
       "       [ 0.0004761 ,  0.0004761 ],\n",
       "       ...,\n",
       "       [-0.00318269, -0.00318269],\n",
       "       [-0.00355651, -0.00355651],\n",
       "       [-0.00237146, -0.00237146]])"
      ]
     },
     "execution_count": 104,
     "metadata": {},
     "output_type": "execute_result"
    }
   ],
   "source": [
    "res.su2.values"
   ]
  },
  {
   "cell_type": "code",
   "execution_count": null,
   "metadata": {},
   "outputs": [],
   "source": []
  }
 ],
 "metadata": {
  "kernelspec": {
   "display_name": "dev",
   "language": "python",
   "name": "dev"
  },
  "language_info": {
   "codemirror_mode": {
    "name": "ipython",
    "version": 2
   },
   "file_extension": ".py",
   "mimetype": "text/x-python",
   "name": "python",
   "nbconvert_exporter": "python",
   "pygments_lexer": "ipython2",
   "version": "2.7.15"
  },
  "toc": {
   "base_numbering": 1,
   "nav_menu": {},
   "number_sections": true,
   "sideBar": true,
   "skip_h1_title": false,
   "title_cell": "Table of Contents",
   "title_sidebar": "Contents",
   "toc_cell": false,
   "toc_position": {},
   "toc_section_display": true,
   "toc_window_display": false
  }
 },
 "nbformat": 4,
 "nbformat_minor": 2
}
