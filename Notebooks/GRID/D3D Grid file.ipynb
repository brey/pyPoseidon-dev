{
 "cells": [
  {
   "cell_type": "markdown",
   "metadata": {},
   "source": [
    "# Reading D3D grid file"
   ]
  },
  {
   "cell_type": "code",
   "execution_count": 20,
   "metadata": {},
   "outputs": [],
   "source": [
    "import pandas as pd\n",
    "import numpy as np\n",
    "import xarray as xr"
   ]
  },
  {
   "cell_type": "code",
   "execution_count": 2,
   "metadata": {},
   "outputs": [],
   "source": [
    "filename='/Users/brey/Downloads/EUR/D3D/ERAI/eur01.grd'"
   ]
  },
  {
   "cell_type": "code",
   "execution_count": 3,
   "metadata": {},
   "outputs": [],
   "source": [
    "header=pd.read_csv(filename,nrows=3,header=None,comment='*')\n",
    "cs = header.loc[0,0].split('=')[1].strip()\n",
    "ni,nj = header.loc[1,0].split(' ')\n",
    "ni,nj = int(ni),int(nj)\n",
    "alfori, xori, yori = header.loc[2,0].split(' ')"
   ]
  },
  {
   "cell_type": "code",
   "execution_count": 6,
   "metadata": {},
   "outputs": [
    {
     "data": {
      "text/html": [
       "<div>\n",
       "<style scoped>\n",
       "    .dataframe tbody tr th:only-of-type {\n",
       "        vertical-align: middle;\n",
       "    }\n",
       "\n",
       "    .dataframe tbody tr th {\n",
       "        vertical-align: top;\n",
       "    }\n",
       "\n",
       "    .dataframe thead th {\n",
       "        text-align: right;\n",
       "    }\n",
       "</style>\n",
       "<table border=\"1\" class=\"dataframe\">\n",
       "  <thead>\n",
       "    <tr style=\"text-align: right;\">\n",
       "      <th></th>\n",
       "      <th>0</th>\n",
       "    </tr>\n",
       "  </thead>\n",
       "  <tbody>\n",
       "    <tr>\n",
       "      <th>0</th>\n",
       "      <td>Coordinate System= Spherical</td>\n",
       "    </tr>\n",
       "    <tr>\n",
       "      <th>1</th>\n",
       "      <td>770 515</td>\n",
       "    </tr>\n",
       "    <tr>\n",
       "      <th>2</th>\n",
       "      <td>0.0 0.0 0.0</td>\n",
       "    </tr>\n",
       "  </tbody>\n",
       "</table>\n",
       "</div>"
      ],
      "text/plain": [
       "                              0\n",
       "0  Coordinate System= Spherical\n",
       "1                       770 515\n",
       "2                   0.0 0.0 0.0"
      ]
     },
     "execution_count": 6,
     "metadata": {},
     "output_type": "execute_result"
    }
   ],
   "source": [
    "header"
   ]
  },
  {
   "cell_type": "code",
   "execution_count": 9,
   "metadata": {},
   "outputs": [],
   "source": [
    "d = pd.read_csv(filename,header=2,comment='*',delim_whitespace=True,engine='python',na_values='ETA=')\n",
    "d = d.reset_index()\n",
    "        \n"
   ]
  },
  {
   "cell_type": "code",
   "execution_count": 11,
   "metadata": {},
   "outputs": [
    {
     "data": {
      "text/html": [
       "<div>\n",
       "<style scoped>\n",
       "    .dataframe tbody tr th:only-of-type {\n",
       "        vertical-align: middle;\n",
       "    }\n",
       "\n",
       "    .dataframe tbody tr th {\n",
       "        vertical-align: top;\n",
       "    }\n",
       "\n",
       "    .dataframe thead th {\n",
       "        text-align: right;\n",
       "    }\n",
       "</style>\n",
       "<table border=\"1\" class=\"dataframe\">\n",
       "  <thead>\n",
       "    <tr style=\"text-align: right;\">\n",
       "      <th></th>\n",
       "      <th>level_0</th>\n",
       "      <th>level_1</th>\n",
       "      <th>level_2</th>\n",
       "      <th>level_3</th>\n",
       "      <th>level_4</th>\n",
       "      <th>level_5</th>\n",
       "      <th>level_6</th>\n",
       "      <th>level_7</th>\n",
       "      <th>level_8</th>\n",
       "      <th>level_9</th>\n",
       "      <th>...</th>\n",
       "      <th>level_762</th>\n",
       "      <th>level_763</th>\n",
       "      <th>level_764</th>\n",
       "      <th>level_765</th>\n",
       "      <th>level_766</th>\n",
       "      <th>level_767</th>\n",
       "      <th>level_768</th>\n",
       "      <th>0.0</th>\n",
       "      <th>0.0.1</th>\n",
       "      <th>0.0.2</th>\n",
       "    </tr>\n",
       "  </thead>\n",
       "  <tbody>\n",
       "    <tr>\n",
       "      <th>0</th>\n",
       "      <td>NaN</td>\n",
       "      <td>1</td>\n",
       "      <td>-35.0</td>\n",
       "      <td>-34.89987</td>\n",
       "      <td>-34.79974</td>\n",
       "      <td>-34.69961</td>\n",
       "      <td>-34.59948</td>\n",
       "      <td>-34.49935</td>\n",
       "      <td>-34.39922</td>\n",
       "      <td>-34.29909</td>\n",
       "      <td>...</td>\n",
       "      <td>41.09883</td>\n",
       "      <td>41.19896</td>\n",
       "      <td>41.29909</td>\n",
       "      <td>41.39922</td>\n",
       "      <td>41.49935</td>\n",
       "      <td>41.59948</td>\n",
       "      <td>41.69961</td>\n",
       "      <td>41.79974</td>\n",
       "      <td>41.89987</td>\n",
       "      <td>42.0</td>\n",
       "    </tr>\n",
       "    <tr>\n",
       "      <th>1</th>\n",
       "      <td>NaN</td>\n",
       "      <td>2</td>\n",
       "      <td>-35.0</td>\n",
       "      <td>-34.89987</td>\n",
       "      <td>-34.79974</td>\n",
       "      <td>-34.69961</td>\n",
       "      <td>-34.59948</td>\n",
       "      <td>-34.49935</td>\n",
       "      <td>-34.39922</td>\n",
       "      <td>-34.29909</td>\n",
       "      <td>...</td>\n",
       "      <td>41.09883</td>\n",
       "      <td>41.19896</td>\n",
       "      <td>41.29909</td>\n",
       "      <td>41.39922</td>\n",
       "      <td>41.49935</td>\n",
       "      <td>41.59948</td>\n",
       "      <td>41.69961</td>\n",
       "      <td>41.79974</td>\n",
       "      <td>41.89987</td>\n",
       "      <td>42.0</td>\n",
       "    </tr>\n",
       "    <tr>\n",
       "      <th>2</th>\n",
       "      <td>NaN</td>\n",
       "      <td>3</td>\n",
       "      <td>-35.0</td>\n",
       "      <td>-34.89987</td>\n",
       "      <td>-34.79974</td>\n",
       "      <td>-34.69961</td>\n",
       "      <td>-34.59948</td>\n",
       "      <td>-34.49935</td>\n",
       "      <td>-34.39922</td>\n",
       "      <td>-34.29909</td>\n",
       "      <td>...</td>\n",
       "      <td>41.09883</td>\n",
       "      <td>41.19896</td>\n",
       "      <td>41.29909</td>\n",
       "      <td>41.39922</td>\n",
       "      <td>41.49935</td>\n",
       "      <td>41.59948</td>\n",
       "      <td>41.69961</td>\n",
       "      <td>41.79974</td>\n",
       "      <td>41.89987</td>\n",
       "      <td>42.0</td>\n",
       "    </tr>\n",
       "    <tr>\n",
       "      <th>3</th>\n",
       "      <td>NaN</td>\n",
       "      <td>4</td>\n",
       "      <td>-35.0</td>\n",
       "      <td>-34.89987</td>\n",
       "      <td>-34.79974</td>\n",
       "      <td>-34.69961</td>\n",
       "      <td>-34.59948</td>\n",
       "      <td>-34.49935</td>\n",
       "      <td>-34.39922</td>\n",
       "      <td>-34.29909</td>\n",
       "      <td>...</td>\n",
       "      <td>41.09883</td>\n",
       "      <td>41.19896</td>\n",
       "      <td>41.29909</td>\n",
       "      <td>41.39922</td>\n",
       "      <td>41.49935</td>\n",
       "      <td>41.59948</td>\n",
       "      <td>41.69961</td>\n",
       "      <td>41.79974</td>\n",
       "      <td>41.89987</td>\n",
       "      <td>42.0</td>\n",
       "    </tr>\n",
       "    <tr>\n",
       "      <th>4</th>\n",
       "      <td>NaN</td>\n",
       "      <td>5</td>\n",
       "      <td>-35.0</td>\n",
       "      <td>-34.89987</td>\n",
       "      <td>-34.79974</td>\n",
       "      <td>-34.69961</td>\n",
       "      <td>-34.59948</td>\n",
       "      <td>-34.49935</td>\n",
       "      <td>-34.39922</td>\n",
       "      <td>-34.29909</td>\n",
       "      <td>...</td>\n",
       "      <td>41.09883</td>\n",
       "      <td>41.19896</td>\n",
       "      <td>41.29909</td>\n",
       "      <td>41.39922</td>\n",
       "      <td>41.49935</td>\n",
       "      <td>41.59948</td>\n",
       "      <td>41.69961</td>\n",
       "      <td>41.79974</td>\n",
       "      <td>41.89987</td>\n",
       "      <td>42.0</td>\n",
       "    </tr>\n",
       "  </tbody>\n",
       "</table>\n",
       "<p>5 rows × 772 columns</p>\n",
       "</div>"
      ],
      "text/plain": [
       "   level_0  level_1  level_2   level_3   level_4   level_5   level_6  \\\n",
       "0      NaN        1    -35.0 -34.89987 -34.79974 -34.69961 -34.59948   \n",
       "1      NaN        2    -35.0 -34.89987 -34.79974 -34.69961 -34.59948   \n",
       "2      NaN        3    -35.0 -34.89987 -34.79974 -34.69961 -34.59948   \n",
       "3      NaN        4    -35.0 -34.89987 -34.79974 -34.69961 -34.59948   \n",
       "4      NaN        5    -35.0 -34.89987 -34.79974 -34.69961 -34.59948   \n",
       "\n",
       "    level_7   level_8   level_9  ...    level_762  level_763  level_764  \\\n",
       "0 -34.49935 -34.39922 -34.29909  ...     41.09883   41.19896   41.29909   \n",
       "1 -34.49935 -34.39922 -34.29909  ...     41.09883   41.19896   41.29909   \n",
       "2 -34.49935 -34.39922 -34.29909  ...     41.09883   41.19896   41.29909   \n",
       "3 -34.49935 -34.39922 -34.29909  ...     41.09883   41.19896   41.29909   \n",
       "4 -34.49935 -34.39922 -34.29909  ...     41.09883   41.19896   41.29909   \n",
       "\n",
       "   level_765  level_766  level_767  level_768       0.0     0.0.1  0.0.2  \n",
       "0   41.39922   41.49935   41.59948   41.69961  41.79974  41.89987   42.0  \n",
       "1   41.39922   41.49935   41.59948   41.69961  41.79974  41.89987   42.0  \n",
       "2   41.39922   41.49935   41.59948   41.69961  41.79974  41.89987   42.0  \n",
       "3   41.39922   41.49935   41.59948   41.69961  41.79974  41.89987   42.0  \n",
       "4   41.39922   41.49935   41.59948   41.69961  41.79974  41.89987   42.0  \n",
       "\n",
       "[5 rows x 772 columns]"
      ]
     },
     "execution_count": 11,
     "metadata": {},
     "output_type": "execute_result"
    }
   ],
   "source": [
    "d.head()"
   ]
  },
  {
   "cell_type": "code",
   "execution_count": 13,
   "metadata": {},
   "outputs": [
    {
     "data": {
      "text/plain": [
       "array([[         nan,   1.        , -35.        , ...,  41.79973992,\n",
       "         41.89986996,  42.        ],\n",
       "       [         nan,   2.        , -35.        , ...,  41.79973992,\n",
       "         41.89986996,  42.        ],\n",
       "       [         nan,   3.        , -35.        , ...,  41.79973992,\n",
       "         41.89986996,  42.        ],\n",
       "       ...,\n",
       "       [         nan, 513.        ,  76.34961089, ...,  76.34961089,\n",
       "         76.34961089,  76.34961089],\n",
       "       [         nan, 514.        ,  76.44980545, ...,  76.44980545,\n",
       "         76.44980545,  76.44980545],\n",
       "       [         nan, 515.        ,  76.55      , ...,  76.55      ,\n",
       "         76.55      ,  76.55      ]])"
      ]
     },
     "execution_count": 13,
     "metadata": {},
     "output_type": "execute_result"
    }
   ],
   "source": [
    "d.values"
   ]
  },
  {
   "cell_type": "code",
   "execution_count": 12,
   "metadata": {},
   "outputs": [
    {
     "data": {
      "text/plain": [
       "array([  1.        , -35.        , -34.89986996, ...,  76.55      ,\n",
       "        76.55      ,  76.55      ])"
      ]
     },
     "execution_count": 12,
     "metadata": {},
     "output_type": "execute_result"
    }
   ],
   "source": [
    "data = d.values[~np.isnan(d.values)]\n",
    "data"
   ]
  },
  {
   "cell_type": "code",
   "execution_count": 14,
   "metadata": {},
   "outputs": [],
   "source": [
    "data=np.array(data)\n",
    "data = data.reshape(2,nj,ni+1) # including the row index\n",
    "#clean up the row index\n",
    "data = data[:,:,1:]\n",
    "\n"
   ]
  },
  {
   "cell_type": "code",
   "execution_count": 15,
   "metadata": {},
   "outputs": [
    {
     "data": {
      "text/plain": [
       "array([[[-35.        , -34.89986996, -34.79973992, ...,  41.79973992,\n",
       "          41.89986996,  42.        ],\n",
       "        [-35.        , -34.89986996, -34.79973992, ...,  41.79973992,\n",
       "          41.89986996,  42.        ],\n",
       "        [-35.        , -34.89986996, -34.79973992, ...,  41.79973992,\n",
       "          41.89986996,  42.        ],\n",
       "        ...,\n",
       "        [-35.        , -34.89986996, -34.79973992, ...,  41.79973992,\n",
       "          41.89986996,  42.        ],\n",
       "        [-35.        , -34.89986996, -34.79973992, ...,  41.79973992,\n",
       "          41.89986996,  42.        ],\n",
       "        [-35.        , -34.89986996, -34.79973992, ...,  41.79973992,\n",
       "          41.89986996,  42.        ]],\n",
       "\n",
       "       [[ 25.05      ,  25.05      ,  25.05      , ...,  25.05      ,\n",
       "          25.05      ,  25.05      ],\n",
       "        [ 25.15019455,  25.15019455,  25.15019455, ...,  25.15019455,\n",
       "          25.15019455,  25.15019455],\n",
       "        [ 25.25038911,  25.25038911,  25.25038911, ...,  25.25038911,\n",
       "          25.25038911,  25.25038911],\n",
       "        ...,\n",
       "        [ 76.34961089,  76.34961089,  76.34961089, ...,  76.34961089,\n",
       "          76.34961089,  76.34961089],\n",
       "        [ 76.44980545,  76.44980545,  76.44980545, ...,  76.44980545,\n",
       "          76.44980545,  76.44980545],\n",
       "        [ 76.55      ,  76.55      ,  76.55      , ...,  76.55      ,\n",
       "          76.55      ,  76.55      ]]])"
      ]
     },
     "execution_count": 15,
     "metadata": {},
     "output_type": "execute_result"
    }
   ],
   "source": [
    "data"
   ]
  },
  {
   "cell_type": "code",
   "execution_count": 16,
   "metadata": {},
   "outputs": [],
   "source": [
    "lons=data[0,:,:]\n",
    "lats=data[1,:,:]      "
   ]
  },
  {
   "cell_type": "code",
   "execution_count": 17,
   "metadata": {},
   "outputs": [
    {
     "data": {
      "text/plain": [
       "array([[-35.        , -34.89986996, -34.79973992, ...,  41.79973992,\n",
       "         41.89986996,  42.        ],\n",
       "       [-35.        , -34.89986996, -34.79973992, ...,  41.79973992,\n",
       "         41.89986996,  42.        ],\n",
       "       [-35.        , -34.89986996, -34.79973992, ...,  41.79973992,\n",
       "         41.89986996,  42.        ],\n",
       "       ...,\n",
       "       [-35.        , -34.89986996, -34.79973992, ...,  41.79973992,\n",
       "         41.89986996,  42.        ],\n",
       "       [-35.        , -34.89986996, -34.79973992, ...,  41.79973992,\n",
       "         41.89986996,  42.        ],\n",
       "       [-35.        , -34.89986996, -34.79973992, ...,  41.79973992,\n",
       "         41.89986996,  42.        ]])"
      ]
     },
     "execution_count": 17,
     "metadata": {},
     "output_type": "execute_result"
    }
   ],
   "source": [
    "lons"
   ]
  },
  {
   "cell_type": "code",
   "execution_count": 18,
   "metadata": {},
   "outputs": [
    {
     "data": {
      "text/plain": [
       "array([[25.05      , 25.05      , 25.05      , ..., 25.05      ,\n",
       "        25.05      , 25.05      ],\n",
       "       [25.15019455, 25.15019455, 25.15019455, ..., 25.15019455,\n",
       "        25.15019455, 25.15019455],\n",
       "       [25.25038911, 25.25038911, 25.25038911, ..., 25.25038911,\n",
       "        25.25038911, 25.25038911],\n",
       "       ...,\n",
       "       [76.34961089, 76.34961089, 76.34961089, ..., 76.34961089,\n",
       "        76.34961089, 76.34961089],\n",
       "       [76.44980545, 76.44980545, 76.44980545, ..., 76.44980545,\n",
       "        76.44980545, 76.44980545],\n",
       "       [76.55      , 76.55      , 76.55      , ..., 76.55      ,\n",
       "        76.55      , 76.55      ]])"
      ]
     },
     "execution_count": 18,
     "metadata": {},
     "output_type": "execute_result"
    }
   ],
   "source": [
    "lats"
   ]
  },
  {
   "cell_type": "code",
   "execution_count": 21,
   "metadata": {},
   "outputs": [],
   "source": [
    "g = xr.Dataset({'lons': (['y', 'x'], lons),   \n",
    "                        'lats': (['y', 'x'], lats)},\n",
    "                         coords={'x': ('x', lons[0,:]),   \n",
    "                                 'y': ('y', lats[:,0])})         \n",
    "                        \n",
    "                        \n",
    "g.attrs = {'Coordinate System': cs, 'alfori': alfori, 'xori': xori, 'yori': yori}\n",
    "\n",
    "\n"
   ]
  },
  {
   "cell_type": "code",
   "execution_count": 22,
   "metadata": {},
   "outputs": [
    {
     "data": {
      "text/plain": [
       "<xarray.Dataset>\n",
       "Dimensions:  (x: 770, y: 515)\n",
       "Coordinates:\n",
       "  * y        (y) float64 25.05 25.15 25.25 25.35 25.45 25.55 25.65 25.75 ...\n",
       "  * x        (x) float64 -35.0 -34.9 -34.8 -34.7 -34.6 -34.5 -34.4 -34.3 ...\n",
       "Data variables:\n",
       "    lons     (y, x) float64 -35.0 -34.9 -34.8 -34.7 -34.6 -34.5 -34.4 -34.3 ...\n",
       "    lats     (y, x) float64 25.05 25.05 25.05 25.05 25.05 25.05 25.05 25.05 ...\n",
       "Attributes:\n",
       "    Coordinate System:  Spherical\n",
       "    xori:               0.0\n",
       "    yori:               0.0\n",
       "    alfori:             0.0"
      ]
     },
     "execution_count": 22,
     "metadata": {},
     "output_type": "execute_result"
    }
   ],
   "source": [
    "g"
   ]
  },
  {
   "cell_type": "code",
   "execution_count": 23,
   "metadata": {},
   "outputs": [
    {
     "data": {
      "text/plain": [
       "<xarray.DataArray 'lons' (y: 515, x: 770)>\n",
       "array([[-35.     , -34.89987, -34.79974, ...,  41.79974,  41.89987,  42.     ],\n",
       "       [-35.     , -34.89987, -34.79974, ...,  41.79974,  41.89987,  42.     ],\n",
       "       [-35.     , -34.89987, -34.79974, ...,  41.79974,  41.89987,  42.     ],\n",
       "       ...,\n",
       "       [-35.     , -34.89987, -34.79974, ...,  41.79974,  41.89987,  42.     ],\n",
       "       [-35.     , -34.89987, -34.79974, ...,  41.79974,  41.89987,  42.     ],\n",
       "       [-35.     , -34.89987, -34.79974, ...,  41.79974,  41.89987,  42.     ]])\n",
       "Coordinates:\n",
       "  * y        (y) float64 25.05 25.15 25.25 25.35 25.45 25.55 25.65 25.75 ...\n",
       "  * x        (x) float64 -35.0 -34.9 -34.8 -34.7 -34.6 -34.5 -34.4 -34.3 ..."
      ]
     },
     "execution_count": 23,
     "metadata": {},
     "output_type": "execute_result"
    }
   ],
   "source": [
    "g.lons"
   ]
  },
  {
   "cell_type": "code",
   "execution_count": 24,
   "metadata": {},
   "outputs": [
    {
     "data": {
      "text/plain": [
       "<xarray.DataArray 'lats' (y: 515, x: 770)>\n",
       "array([[25.05    , 25.05    , 25.05    , ..., 25.05    , 25.05    , 25.05    ],\n",
       "       [25.150195, 25.150195, 25.150195, ..., 25.150195, 25.150195, 25.150195],\n",
       "       [25.250389, 25.250389, 25.250389, ..., 25.250389, 25.250389, 25.250389],\n",
       "       ...,\n",
       "       [76.349611, 76.349611, 76.349611, ..., 76.349611, 76.349611, 76.349611],\n",
       "       [76.449805, 76.449805, 76.449805, ..., 76.449805, 76.449805, 76.449805],\n",
       "       [76.55    , 76.55    , 76.55    , ..., 76.55    , 76.55    , 76.55    ]])\n",
       "Coordinates:\n",
       "  * y        (y) float64 25.05 25.15 25.25 25.35 25.45 25.55 25.65 25.75 ...\n",
       "  * x        (x) float64 -35.0 -34.9 -34.8 -34.7 -34.6 -34.5 -34.4 -34.3 ..."
      ]
     },
     "execution_count": 24,
     "metadata": {},
     "output_type": "execute_result"
    }
   ],
   "source": [
    "g.lats"
   ]
  },
  {
   "cell_type": "code",
   "execution_count": 25,
   "metadata": {},
   "outputs": [
    {
     "data": {
      "text/plain": [
       "<xarray.DataArray 'x' (x: 770)>\n",
       "array([-35.     , -34.89987, -34.79974, ...,  41.79974,  41.89987,  42.     ])\n",
       "Coordinates:\n",
       "  * x        (x) float64 -35.0 -34.9 -34.8 -34.7 -34.6 -34.5 -34.4 -34.3 ..."
      ]
     },
     "execution_count": 25,
     "metadata": {},
     "output_type": "execute_result"
    }
   ],
   "source": [
    "g.x"
   ]
  },
  {
   "cell_type": "code",
   "execution_count": 26,
   "metadata": {},
   "outputs": [
    {
     "data": {
      "text/plain": [
       "<xarray.DataArray 'y' (y: 515)>\n",
       "array([25.05    , 25.150195, 25.250389, ..., 76.349611, 76.449805, 76.55    ])\n",
       "Coordinates:\n",
       "  * y        (y) float64 25.05 25.15 25.25 25.35 25.45 25.55 25.65 25.75 ..."
      ]
     },
     "execution_count": 26,
     "metadata": {},
     "output_type": "execute_result"
    }
   ],
   "source": [
    "g.y"
   ]
  },
  {
   "cell_type": "code",
   "execution_count": null,
   "metadata": {},
   "outputs": [],
   "source": []
  }
 ],
 "metadata": {
  "kernelspec": {
   "display_name": "dev",
   "language": "python",
   "name": "dev"
  },
  "language_info": {
   "codemirror_mode": {
    "name": "ipython",
    "version": 2
   },
   "file_extension": ".py",
   "mimetype": "text/x-python",
   "name": "python",
   "nbconvert_exporter": "python",
   "pygments_lexer": "ipython2",
   "version": "2.7.15"
  },
  "toc": {
   "base_numbering": 1,
   "nav_menu": {},
   "number_sections": true,
   "sideBar": true,
   "skip_h1_title": false,
   "title_cell": "Table of Contents",
   "title_sidebar": "Contents",
   "toc_cell": false,
   "toc_position": {},
   "toc_section_display": true,
   "toc_window_display": false
  }
 },
 "nbformat": 4,
 "nbformat_minor": 2
}
