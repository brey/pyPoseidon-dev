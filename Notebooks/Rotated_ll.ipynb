{
 "cells": [
  {
   "cell_type": "markdown",
   "metadata": {},
   "source": [
    "# Analysis of Rotated_II meteo files"
   ]
  },
  {
   "cell_type": "code",
   "execution_count": null,
   "metadata": {},
   "outputs": [],
   "source": [
    "#to use the full width of the browser window\n",
    "from IPython.core.display import display, HTML\n",
    "display(HTML(\"<style>.container { width:100% !important; }</style>\"))"
   ]
  },
  {
   "cell_type": "code",
   "execution_count": null,
   "metadata": {},
   "outputs": [],
   "source": [
    "import numpy as np\n",
    "from pyresample import bilinear, geometry, kd_tree\n",
    "from pyresample import utils\n",
    "import xarray as xr"
   ]
  },
  {
   "cell_type": "code",
   "execution_count": null,
   "metadata": {},
   "outputs": [],
   "source": [
    "%matplotlib notebook"
   ]
  },
  {
   "cell_type": "code",
   "execution_count": null,
   "metadata": {},
   "outputs": [],
   "source": [
    "filename= '/Users/brey/Downloads/HNMS/01/E_JRC0000lf0000000020180101'"
   ]
  },
  {
   "cell_type": "code",
   "execution_count": null,
   "metadata": {},
   "outputs": [],
   "source": [
    "filename= '/Users/brey/Downloads/HNMS/E_JRC0000lf0000000020170107'"
   ]
  },
  {
   "cell_type": "code",
   "execution_count": null,
   "metadata": {},
   "outputs": [],
   "source": [
    "filename = '/Users/brey/Downloads/AM/JRC_0302_00_000'"
   ]
  },
  {
   "cell_type": "markdown",
   "metadata": {},
   "source": [
    "# With pygrib"
   ]
  },
  {
   "cell_type": "code",
   "execution_count": null,
   "metadata": {},
   "outputs": [],
   "source": [
    "import pygrib"
   ]
  },
  {
   "cell_type": "code",
   "execution_count": null,
   "metadata": {},
   "outputs": [],
   "source": [
    "d=pygrib.open(filename)"
   ]
  },
  {
   "cell_type": "code",
   "execution_count": null,
   "metadata": {},
   "outputs": [],
   "source": [
    "for m in d:\n",
    "    print m"
   ]
  },
  {
   "cell_type": "code",
   "execution_count": null,
   "metadata": {},
   "outputs": [],
   "source": [
    "v = d.message(3)"
   ]
  },
  {
   "cell_type": "code",
   "execution_count": null,
   "metadata": {},
   "outputs": [],
   "source": [
    "v.keys()"
   ]
  },
  {
   "cell_type": "code",
   "execution_count": null,
   "metadata": {},
   "outputs": [],
   "source": [
    "v['shortName']"
   ]
  },
  {
   "cell_type": "code",
   "execution_count": null,
   "metadata": {},
   "outputs": [],
   "source": [
    "for key in v.keys():\n",
    "    print key, v[key]"
   ]
  },
  {
   "cell_type": "code",
   "execution_count": null,
   "metadata": {},
   "outputs": [],
   "source": [
    "lon = v['longitudes']\n",
    "lat = v['latitudes']\n",
    "q = v.values"
   ]
  },
  {
   "cell_type": "code",
   "execution_count": null,
   "metadata": {},
   "outputs": [],
   "source": [
    "v['gridType']"
   ]
  },
  {
   "cell_type": "code",
   "execution_count": null,
   "metadata": {},
   "outputs": [],
   "source": [
    "lon = lon.reshape(q.shape)\n",
    "lat = lat.reshape(q.shape)"
   ]
  },
  {
   "cell_type": "code",
   "execution_count": null,
   "metadata": {
    "scrolled": false
   },
   "outputs": [],
   "source": [
    "import matplotlib.pyplot as plt\n",
    "from mpl_toolkits.axes_grid1 import make_axes_locatable\n",
    "\n",
    "\n",
    "import cartopy.crs as ccrs\n",
    "\n",
    "proj=ccrs.PlateCarree()\n",
    "\n",
    "fig, ax = plt.subplots(figsize=(12, 8))\n",
    "\n",
    "ax = plt.axes(projection=proj)\n",
    "\n",
    "h = ax.contourf(lon,lat,q, transform=proj);\n",
    "\n",
    "gl = ax.gridlines(crs=ccrs.PlateCarree(), draw_labels=True,\n",
    "                  linewidth=2, color='gray', alpha=0.5, linestyle='--')\n",
    "\n",
    "divider = make_axes_locatable(ax)\n",
    "ax_cb = divider.new_horizontal(size=\"5%\", pad=0.5, axes_class=plt.Axes)\n",
    "\n",
    "\n",
    "fig.add_axes(ax_cb)\n",
    "plt.colorbar(h, cax=ax_cb)\n",
    "#ax.set_global(); \n",
    "ax.coastlines();"
   ]
  },
  {
   "cell_type": "markdown",
   "metadata": {},
   "source": [
    "# ...reading with eccodes"
   ]
  },
  {
   "cell_type": "code",
   "execution_count": null,
   "metadata": {},
   "outputs": [],
   "source": [
    "from gribapi import *"
   ]
  },
  {
   "cell_type": "code",
   "execution_count": null,
   "metadata": {},
   "outputs": [],
   "source": [
    "f=open(filename)\n",
    "gid = grib_new_from_file(f)"
   ]
  },
  {
   "cell_type": "code",
   "execution_count": null,
   "metadata": {},
   "outputs": [],
   "source": [
    "iterid = grib_keys_iterator_new(gid,'ls')\n",
    "while grib_keys_iterator_next(iterid):\n",
    "    keyname = grib_keys_iterator_get_name(iterid)\n",
    "    keyval = grib_get_string(iterid,keyname)\n",
    "    print \"%s = %s\" % (keyname,keyval)\n",
    "    \n",
    "grib_keys_iterator_delete(iterid)\n",
    "grib_release(gid)\n",
    " \n",
    "f.close()\n"
   ]
  },
  {
   "cell_type": "code",
   "execution_count": null,
   "metadata": {},
   "outputs": [],
   "source": [
    "keys={'Ni',\n",
    "'Nj',\n",
    "'angleOfRotationInDegrees',\n",
    "'iDirectionIncrementInDegrees',\n",
    "'iScansNegatively',\n",
    "'jDirectionIncrementInDegrees',\n",
    "'jPointsAreConsecutive',\n",
    "'jScansPositively',\n",
    "'latitudeOfFirstGridPointInDegrees',\n",
    "'latitudeOfLastGridPointInDegrees',\n",
    "'latitudeOfSouthernPoleInDegrees',\n",
    "'longitudeOfFirstGridPointInDegrees',\n",
    "'longitudeOfLastGridPointInDegrees',\n",
    "'longitudeOfSouthernPoleInDegrees'}"
   ]
  },
  {
   "cell_type": "code",
   "execution_count": null,
   "metadata": {},
   "outputs": [],
   "source": [
    "f=open(filename)\n",
    "gid = grib_new_from_file(f)\n",
    "for key in keys:\n",
    "        if not grib_is_defined(gid, key):\n",
    "            raise ValueError(\"Key '%s' was not defined\" % key)\n",
    "        print('%s=%s' % (key, grib_get(gid, key)))\n",
    " \n"
   ]
  },
  {
   "cell_type": "code",
   "execution_count": null,
   "metadata": {},
   "outputs": [],
   "source": [
    "print grib_get(gid, 'shortName')\n",
    "print grib_get(gid,'missingValue')\n",
    "\n",
    "print grib_get(gid, 'date')\n",
    "print grib_get(gid, 'dataTime')\n",
    "print grib_get(gid, 'stepRange')\n",
    "\n",
    "print grib_get(gid,'longitudeOfFirstGridPointInDegrees')\n",
    "print grib_get(gid,'latitudeOfFirstGridPointInDegrees')\n",
    "print grib_get(gid,'longitudeOfLastGridPointInDegrees')\n",
    "print grib_get(gid,'latitudeOfLastGridPointInDegrees')\n",
    "print grib_get(gid,'gridType')\n",
    "\n",
    "Ni=grib_get(gid,'Ni')\n",
    "Nj=grib_get(gid,'Nj')\n",
    "\n",
    "\n",
    "values=grib_get_values(gid)\n",
    "elat=grib_get_array(gid,'latitudes')\n",
    "elon=grib_get_array(gid,'longitudes')"
   ]
  },
  {
   "cell_type": "code",
   "execution_count": null,
   "metadata": {},
   "outputs": [],
   "source": [
    "lat0 = grib_get(gid,'latitudeOfSouthernPoleInDegrees')\n",
    "lon0 = grib_get(gid,'longitudeOfSouthernPoleInDegrees')\n",
    "print lat0,lon0"
   ]
  },
  {
   "cell_type": "code",
   "execution_count": null,
   "metadata": {},
   "outputs": [],
   "source": [
    "Ni,Nj"
   ]
  },
  {
   "cell_type": "code",
   "execution_count": null,
   "metadata": {},
   "outputs": [],
   "source": [
    "elon = elon.reshape(Nj,Ni)\n",
    "elat = elat.reshape(Nj,Ni)\n",
    "q = values.reshape(Nj,Ni)"
   ]
  },
  {
   "cell_type": "markdown",
   "metadata": {},
   "source": [
    "## Resample on rectangular grid"
   ]
  },
  {
   "cell_type": "code",
   "execution_count": null,
   "metadata": {},
   "outputs": [],
   "source": [
    "import pyproj\n",
    "prj = pyproj.Proj('+proj=eqc +lat_ts=0 +lat_0=0 +lon_0=0 +x_0=0 +y_0=0 +ellps=WGS84 +datum=WGS84 +units=m +no_defs')\n",
    "[[a0,a1],[a2,a3]] = prj([-7, 29.], [43., 48])\n",
    "a0,a1,a2,a3"
   ]
  },
  {
   "cell_type": "code",
   "execution_count": null,
   "metadata": {},
   "outputs": [],
   "source": [
    "orig = geometry.SwathDefinition(lons=elon,lats=elat) # original points"
   ]
  },
  {
   "cell_type": "code",
   "execution_count": null,
   "metadata": {},
   "outputs": [],
   "source": [
    "area_id = 'HNMS'\n",
    "description = 'HNMS COSMO'\n",
    "proj_id = 'eqc'\n",
    "projection = '+proj=eqc +lat_ts=0 +lat_0=0 +lon_0=0 +x_0=0 +y_0=0 +ellps=WGS84 +datum=WGS84 +units=m'\n",
    "x_size = Ni\n",
    "y_size = Nj\n",
    "area_extent = (a0, a1, a2, a3)\n",
    "target_def = utils.get_area_def(area_id, description, proj_id, projection,\n",
    "                                       x_size, y_size, area_extent)\n",
    "print(target_def)\n"
   ]
  },
  {
   "cell_type": "code",
   "execution_count": null,
   "metadata": {},
   "outputs": [],
   "source": [
    "plons,plats = geometry.AreaDefinition.get_lonlats(target_def)"
   ]
  },
  {
   "cell_type": "markdown",
   "metadata": {},
   "source": [
    "#### Nearest"
   ]
  },
  {
   "cell_type": "code",
   "execution_count": null,
   "metadata": {},
   "outputs": [],
   "source": [
    "#kd_tree.resample_nearest(orig,q,targ,radius_of_influence=50000,fill_value=999999)\n",
    "near = kd_tree.resample_nearest(orig, q, target_def, radius_of_influence=50000, epsilon=0.5)"
   ]
  },
  {
   "cell_type": "code",
   "execution_count": null,
   "metadata": {},
   "outputs": [],
   "source": [
    "#w=np.ma.masked_array(iu10,iu10==999999.)"
   ]
  },
  {
   "cell_type": "code",
   "execution_count": null,
   "metadata": {},
   "outputs": [],
   "source": [
    "xv=[q,near]\n",
    "xp=[elon,plons]\n",
    "yp=[elat,plats]"
   ]
  },
  {
   "cell_type": "code",
   "execution_count": null,
   "metadata": {},
   "outputs": [],
   "source": [
    "import matplotlib.pyplot as plt\n",
    "\n",
    "import cartopy.crs as ccrs\n",
    "\n",
    "from mpl_toolkits.axes_grid1 import make_axes_locatable\n",
    "from cartopy.mpl.geoaxes import GeoAxes\n",
    "from cartopy.mpl.ticker import LongitudeFormatter, LatitudeFormatter\n",
    "from mpl_toolkits.axes_grid1 import AxesGrid\n",
    "\n",
    "projection = ccrs.PlateCarree()\n",
    "axes_class = (GeoAxes,\n",
    "                  dict(map_projection=projection))\n",
    "\n",
    "fig = plt.figure(figsize=(12,8))\n",
    "axgr = AxesGrid(fig, 111, axes_class=axes_class,\n",
    "                    nrows_ncols=(1, 2),\n",
    "                    axes_pad=1,\n",
    "                    cbar_location='right',\n",
    "                    cbar_mode='single',\n",
    "                    cbar_pad=0.5,\n",
    "                    cbar_size='10%',\n",
    "                    label_mode='')  # note the empty label_mode\n",
    "\n",
    "\n",
    "for i, ax in enumerate(axgr):\n",
    "        ax.coastlines()\n",
    "        ax.set_xticks(np.linspace(-180, 180, 5), crs=projection)\n",
    "        ax.set_yticks(np.linspace(-90, 90, 5), crs=projection)\n",
    "        lon_formatter = LongitudeFormatter(zero_direction_label=True)\n",
    "        lat_formatter = LatitudeFormatter()\n",
    "        ax.xaxis.set_major_formatter(lon_formatter)\n",
    "        ax.yaxis.set_major_formatter(lat_formatter)\n",
    "\n",
    "        p = ax.contourf(xp[i], yp[i],xv[i],\n",
    "                        transform=projection)#,\n",
    "                     #   cmap='RdBu')\n",
    "\n",
    "axgr.cbar_axes[0].colorbar(p)\n",
    "\n",
    "\n"
   ]
  },
  {
   "cell_type": "markdown",
   "metadata": {},
   "source": [
    "#### bilinear"
   ]
  },
  {
   "cell_type": "code",
   "execution_count": null,
   "metadata": {},
   "outputs": [],
   "source": [
    "#%%timeit\n",
    "blinear = bilinear.resample_bilinear(q, orig, target_def,\n",
    "                                      radius=50e3, neighbours=32,\n",
    "                                      nprocs=4, fill_value=None,\n",
    "                                      reduce_data=False, segments=None,\n",
    "                                      epsilon=0)"
   ]
  },
  {
   "cell_type": "code",
   "execution_count": null,
   "metadata": {},
   "outputs": [],
   "source": [
    "blinear"
   ]
  },
  {
   "cell_type": "code",
   "execution_count": null,
   "metadata": {},
   "outputs": [],
   "source": [
    "t_params, s_params, input_idxs, idx_ref = bilinear.get_bil_info(orig, target_def, radius=50e3, nprocs=1)\n",
    "res = bilinear.get_sample_from_bil_info(q.ravel(), t_params, s_params,\n",
    "                                          input_idxs, idx_ref,\n",
    "                                          output_shape=target_def.shape)"
   ]
  },
  {
   "cell_type": "code",
   "execution_count": null,
   "metadata": {},
   "outputs": [],
   "source": [
    "xv=[q,blinear,res]\n",
    "xp=[elon,plons,plons]\n",
    "yp=[elat,plats,plats]"
   ]
  },
  {
   "cell_type": "code",
   "execution_count": null,
   "metadata": {
    "scrolled": false
   },
   "outputs": [],
   "source": [
    "import matplotlib.pyplot as plt\n",
    "\n",
    "import cartopy.crs as ccrs\n",
    "\n",
    "from mpl_toolkits.axes_grid1 import make_axes_locatable\n",
    "from cartopy.mpl.geoaxes import GeoAxes\n",
    "from cartopy.mpl.ticker import LongitudeFormatter, LatitudeFormatter\n",
    "from mpl_toolkits.axes_grid1 import AxesGrid\n",
    "\n",
    "projection = ccrs.PlateCarree()\n",
    "axes_class = (GeoAxes,\n",
    "                  dict(map_projection=projection))\n",
    "\n",
    "fig = plt.figure(figsize=(12,5))\n",
    "axgr = AxesGrid(fig, 111, axes_class=axes_class,\n",
    "                    nrows_ncols=(1, 3),\n",
    "                    axes_pad=1,\n",
    "                    cbar_location='right',\n",
    "                    cbar_mode='single',\n",
    "                    cbar_pad=0.5,\n",
    "                    cbar_size='10%',\n",
    "                    label_mode='')  # note the empty label_mode\n",
    "\n",
    "\n",
    "for i, ax in enumerate(axgr):\n",
    "        ax.coastlines()\n",
    "        ax.set_xticks(np.linspace(-180, 180, 5), crs=projection)\n",
    "        ax.set_yticks(np.linspace(-90, 90, 5), crs=projection)\n",
    "        lon_formatter = LongitudeFormatter(zero_direction_label=True)\n",
    "        lat_formatter = LatitudeFormatter()\n",
    "        ax.xaxis.set_major_formatter(lon_formatter)\n",
    "        ax.yaxis.set_major_formatter(lat_formatter)\n",
    "\n",
    "        p = ax.contourf(xp[i], yp[i],xv[i],\n",
    "                        transform=projection)#,\n",
    "                     #   cmap='RdBu')\n",
    "\n",
    "axgr.cbar_axes[0].colorbar(p)\n",
    "\n",
    "\n"
   ]
  },
  {
   "cell_type": "code",
   "execution_count": null,
   "metadata": {},
   "outputs": [],
   "source": [
    "gg = np.abs(blinear-res)"
   ]
  },
  {
   "cell_type": "code",
   "execution_count": null,
   "metadata": {
    "scrolled": false
   },
   "outputs": [],
   "source": [
    "import matplotlib.pyplot as plt\n",
    "\n",
    "import cartopy.crs as ccrs\n",
    "\n",
    "proj=ccrs.PlateCarree()\n",
    "\n",
    "fig, ax = plt.subplots(figsize=(12, 8))\n",
    "\n",
    "ax = plt.axes(projection=proj)\n",
    "\n",
    "h = ax.contourf(plons[3:-3,3:-3],plats[3:-3,3:-3],gg[3:-3,3:-3], transform=proj);\n",
    "\n",
    "gl = ax.gridlines(crs=ccrs.PlateCarree(), draw_labels=True,\n",
    "                  linewidth=2, color='gray', alpha=0.5, linestyle='--')\n",
    "\n",
    "divider = make_axes_locatable(ax)\n",
    "ax_cb = divider.new_horizontal(size=\"5%\", pad=0.5, axes_class=plt.Axes)\n",
    "\n",
    "\n",
    "fig.add_axes(ax_cb)\n",
    "plt.colorbar(h, cax=ax_cb)\n",
    "#ax.set_global(); \n",
    "ax.coastlines();"
   ]
  },
  {
   "cell_type": "code",
   "execution_count": null,
   "metadata": {},
   "outputs": [],
   "source": []
  },
  {
   "cell_type": "markdown",
   "metadata": {},
   "source": [
    "###### Check with the processed files from GDACS"
   ]
  },
  {
   "cell_type": "code",
   "execution_count": null,
   "metadata": {},
   "outputs": [],
   "source": [
    "pr = xr.open_dataset('/Users/brey/Downloads/HNMS/JRC_0701_00_000.nc')"
   ]
  },
  {
   "cell_type": "code",
   "execution_count": null,
   "metadata": {},
   "outputs": [],
   "source": [
    "prlons = pr.longitude.values\n",
    "prlats = pr.latitude.values\n",
    "prvalues = pr.u10.values[0,0,:,:]"
   ]
  },
  {
   "cell_type": "markdown",
   "metadata": {},
   "source": [
    "###### Combined plot"
   ]
  },
  {
   "cell_type": "code",
   "execution_count": null,
   "metadata": {},
   "outputs": [],
   "source": [
    "xv=[q,blinear,prvalues]\n",
    "xp=[elon,plons,prlons]\n",
    "yp=[elat,plats,prlats]"
   ]
  },
  {
   "cell_type": "code",
   "execution_count": null,
   "metadata": {},
   "outputs": [],
   "source": [
    "blinear.shape, prvalues.shape"
   ]
  },
  {
   "cell_type": "code",
   "execution_count": null,
   "metadata": {},
   "outputs": [],
   "source": [
    "plons[0,1]-plons[0,0], prlons[1]-prlons[0]"
   ]
  },
  {
   "cell_type": "code",
   "execution_count": null,
   "metadata": {},
   "outputs": [],
   "source": [
    "plats[1,0]-plats[0,0], prlats[1]-prlats[0]"
   ]
  },
  {
   "cell_type": "code",
   "execution_count": null,
   "metadata": {
    "scrolled": false
   },
   "outputs": [],
   "source": [
    "import matplotlib.pyplot as plt\n",
    "\n",
    "import cartopy.crs as ccrs\n",
    "\n",
    "from mpl_toolkits.axes_grid1 import make_axes_locatable\n",
    "from cartopy.mpl.geoaxes import GeoAxes\n",
    "from cartopy.mpl.ticker import LongitudeFormatter, LatitudeFormatter\n",
    "from mpl_toolkits.axes_grid1 import AxesGrid\n",
    "\n",
    "projection = ccrs.PlateCarree()\n",
    "axes_class = (GeoAxes,\n",
    "                  dict(map_projection=projection))\n",
    "\n",
    "fig = plt.figure(figsize=(12,8))\n",
    "axgr = AxesGrid(fig, 111, axes_class=axes_class,\n",
    "                    nrows_ncols=(1, 3),\n",
    "                    axes_pad=1,\n",
    "                    cbar_location='right',\n",
    "                    cbar_mode='single',\n",
    "                    cbar_pad=0.5,\n",
    "                    cbar_size='10%',\n",
    "                    label_mode='')  # note the empty label_mode\n",
    "\n",
    "\n",
    "for i, ax in enumerate(axgr):\n",
    "        ax.coastlines()\n",
    "        ax.set_xticks(np.linspace(-180, 180, 5), crs=projection)\n",
    "        ax.set_yticks(np.linspace(-90, 90, 5), crs=projection)\n",
    "        lon_formatter = LongitudeFormatter(zero_direction_label=True)\n",
    "        lat_formatter = LatitudeFormatter()\n",
    "        ax.xaxis.set_major_formatter(lon_formatter)\n",
    "        ax.yaxis.set_major_formatter(lat_formatter)\n",
    "\n",
    "        p = ax.contourf(xp[i], yp[i],xv[i],\n",
    "                        transform=projection)#,\n",
    "                     #   cmap='RdBu')\n",
    "\n",
    "axgr.cbar_axes[0].colorbar(p)\n",
    "\n",
    "\n"
   ]
  },
  {
   "cell_type": "markdown",
   "metadata": {},
   "source": [
    "#### compare Nearest with Bylinear"
   ]
  },
  {
   "cell_type": "code",
   "execution_count": null,
   "metadata": {},
   "outputs": [],
   "source": [
    "df = np.abs(blinear-near)"
   ]
  },
  {
   "cell_type": "code",
   "execution_count": null,
   "metadata": {},
   "outputs": [],
   "source": [
    "dfm = np.ma.masked_array(df,np.abs(df)>3)"
   ]
  },
  {
   "cell_type": "code",
   "execution_count": null,
   "metadata": {},
   "outputs": [],
   "source": [
    "np.argwhere(dfm==dfm.max())"
   ]
  },
  {
   "cell_type": "code",
   "execution_count": null,
   "metadata": {},
   "outputs": [],
   "source": [
    "plt.figure()\n",
    "plt.contour(np.flipud(dfm))\n",
    "plt.colorbar()"
   ]
  },
  {
   "cell_type": "code",
   "execution_count": null,
   "metadata": {},
   "outputs": [],
   "source": [
    "import matplotlib.pyplot as plt\n",
    "\n",
    "import cartopy.crs as ccrs\n",
    "\n",
    "proj=ccrs.PlateCarree()\n",
    "\n",
    "fig, ax = plt.subplots(figsize=(12, 8))\n",
    "\n",
    "ax = plt.axes(projection=proj)\n",
    "\n",
    "h = ax.contourf(plons,plats,dfm, transform=proj);\n",
    "\n",
    "gl = ax.gridlines(crs=ccrs.PlateCarree(), draw_labels=True,\n",
    "                  linewidth=2, color='gray', alpha=0.5, linestyle='--')\n",
    "\n",
    "divider = make_axes_locatable(ax)\n",
    "ax_cb = divider.new_horizontal(size=\"5%\", pad=0.5, axes_class=plt.Axes)\n",
    "\n",
    "\n",
    "fig.add_axes(ax_cb)\n",
    "plt.colorbar(h, cax=ax_cb)\n",
    "#ax.set_global(); \n",
    "ax.coastlines();"
   ]
  },
  {
   "cell_type": "markdown",
   "metadata": {},
   "source": [
    "## compare  with processed"
   ]
  },
  {
   "cell_type": "code",
   "execution_count": null,
   "metadata": {},
   "outputs": [],
   "source": [
    "nj, ni = pr.u10.shape[2:]"
   ]
  },
  {
   "cell_type": "code",
   "execution_count": null,
   "metadata": {},
   "outputs": [],
   "source": [
    "pr.longitude.min(), pr.longitude.max()"
   ]
  },
  {
   "cell_type": "code",
   "execution_count": null,
   "metadata": {},
   "outputs": [],
   "source": [
    "pr.latitude.min(), pr.latitude.max()"
   ]
  },
  {
   "cell_type": "code",
   "execution_count": null,
   "metadata": {},
   "outputs": [],
   "source": [
    "import pyproj\n",
    "prj = pyproj.Proj('+proj=eqc +lat_ts=0 +lat_0=0 +lon_0=0 +x_0=0 +y_0=0 +ellps=WGS84 +datum=WGS84 +units=m +no_defs')\n",
    "[[a0,a1],[a2,a3]] = prj([-5.2, 30.], [36.613, 46.813])\n"
   ]
  },
  {
   "cell_type": "code",
   "execution_count": null,
   "metadata": {},
   "outputs": [],
   "source": [
    "area_id = 'HNMS'\n",
    "description = 'HNMS COSMO'\n",
    "proj_id = 'eqc'\n",
    "projection = '+proj=eqc +lat_ts=0 +lat_0=0 +lon_0=0 +x_0=0 +y_0=0 +ellps=WGS84 +datum=WGS84 +units=m'\n",
    "x_size = ni\n",
    "y_size = nj\n",
    "area_extent = (a0, a1, a2, a3)\n",
    "target_def = utils.get_area_def(area_id, description, proj_id, projection,\n",
    "                                       x_size, y_size, area_extent)\n",
    "print(target_def)\n"
   ]
  },
  {
   "cell_type": "code",
   "execution_count": null,
   "metadata": {},
   "outputs": [],
   "source": [
    "plons,plats = geometry.AreaDefinition.get_lonlats(target_def)"
   ]
  },
  {
   "cell_type": "code",
   "execution_count": null,
   "metadata": {},
   "outputs": [],
   "source": [
    "blinear = bilinear.resample_bilinear(q, orig, target_def,\n",
    "                                      radius=50e3, neighbours=32,\n",
    "                                      nprocs=1, fill_value=0,\n",
    "                                      reduce_data=False, segments=None,\n",
    "                                      epsilon=0)"
   ]
  },
  {
   "cell_type": "code",
   "execution_count": null,
   "metadata": {},
   "outputs": [],
   "source": [
    "xv=[q,blinear,prvalues]\n",
    "xp=[elon,plons,prlons]\n",
    "yp=[elat,plats,prlats]"
   ]
  },
  {
   "cell_type": "code",
   "execution_count": null,
   "metadata": {},
   "outputs": [],
   "source": [
    "import matplotlib.pyplot as plt\n",
    "\n",
    "import cartopy.crs as ccrs\n",
    "\n",
    "from mpl_toolkits.axes_grid1 import make_axes_locatable\n",
    "from cartopy.mpl.geoaxes import GeoAxes\n",
    "from cartopy.mpl.ticker import LongitudeFormatter, LatitudeFormatter\n",
    "from mpl_toolkits.axes_grid1 import AxesGrid\n",
    "\n",
    "projection = ccrs.PlateCarree()\n",
    "axes_class = (GeoAxes,\n",
    "                  dict(map_projection=projection))\n",
    "\n",
    "fig = plt.figure(figsize=(12,8))\n",
    "axgr = AxesGrid(fig, 111, axes_class=axes_class,\n",
    "                    nrows_ncols=(1, 3),\n",
    "                    axes_pad=1,\n",
    "                    cbar_location='right',\n",
    "                    cbar_mode='single',\n",
    "                    cbar_pad=0.5,\n",
    "                    cbar_size='10%',\n",
    "                    label_mode='')  # note the empty label_mode\n",
    "\n",
    "\n",
    "for i, ax in enumerate(axgr):\n",
    "        ax.coastlines()\n",
    "        ax.set_xticks(np.linspace(-180, 180, 5), crs=projection)\n",
    "        ax.set_yticks(np.linspace(-90, 90, 5), crs=projection)\n",
    "        lon_formatter = LongitudeFormatter(zero_direction_label=True)\n",
    "        lat_formatter = LatitudeFormatter()\n",
    "        ax.xaxis.set_major_formatter(lon_formatter)\n",
    "        ax.yaxis.set_major_formatter(lat_formatter)\n",
    "\n",
    "        p = ax.contourf(xp[i], yp[i],xv[i],\n",
    "                        transform=projection)#,\n",
    "                     #   cmap='RdBu')\n",
    "\n",
    "axgr.cbar_axes[0].colorbar(p)\n",
    "\n",
    "\n"
   ]
  },
  {
   "cell_type": "code",
   "execution_count": null,
   "metadata": {},
   "outputs": [],
   "source": [
    "df = np.abs(np.flipud(blinear)-pr.u10[0,0,:,:].values)"
   ]
  },
  {
   "cell_type": "code",
   "execution_count": null,
   "metadata": {},
   "outputs": [],
   "source": [
    "df.max()"
   ]
  },
  {
   "cell_type": "code",
   "execution_count": null,
   "metadata": {},
   "outputs": [],
   "source": [
    "dfm = np.ma.masked_array(df,np.abs(df)<1)"
   ]
  },
  {
   "cell_type": "code",
   "execution_count": null,
   "metadata": {},
   "outputs": [],
   "source": [
    "np.argwhere(dfm==dfm.max())"
   ]
  },
  {
   "cell_type": "code",
   "execution_count": null,
   "metadata": {},
   "outputs": [],
   "source": [
    "plt.figure()\n",
    "plt.contourf(np.flipud(df))\n",
    "plt.colorbar()"
   ]
  },
  {
   "cell_type": "code",
   "execution_count": null,
   "metadata": {},
   "outputs": [],
   "source": [
    "import matplotlib.pyplot as plt\n",
    "\n",
    "import cartopy.crs as ccrs\n",
    "\n",
    "proj=ccrs.PlateCarree()\n",
    "\n",
    "fig, ax = plt.subplots(figsize=(12, 8))\n",
    "\n",
    "ax = plt.axes(projection=proj)\n",
    "\n",
    "h = ax.contourf(plons,plats,df, transform=proj);\n",
    "\n",
    "gl = ax.gridlines(crs=ccrs.PlateCarree(), draw_labels=True,\n",
    "                  linewidth=2, color='gray', alpha=0.5, linestyle='--')\n",
    "\n",
    "divider = make_axes_locatable(ax)\n",
    "ax_cb = divider.new_horizontal(size=\"5%\", pad=0.5, axes_class=plt.Axes)\n",
    "\n",
    "\n",
    "fig.add_axes(ax_cb)\n",
    "plt.colorbar(h, cax=ax_cb)\n",
    "#ax.set_global(); \n",
    "ax.coastlines();"
   ]
  },
  {
   "cell_type": "markdown",
   "metadata": {},
   "source": [
    "#### compare Nearest with processed"
   ]
  },
  {
   "cell_type": "code",
   "execution_count": null,
   "metadata": {},
   "outputs": [],
   "source": [
    "#kd_tree.resample_nearest(orig,q,targ,radius_of_influence=50000,fill_value=999999)\n",
    "near = kd_tree.resample_nearest(orig, q, target_def, radius_of_influence=50000, epsilon=0.5)"
   ]
  },
  {
   "cell_type": "code",
   "execution_count": null,
   "metadata": {},
   "outputs": [],
   "source": [
    "df = np.abs(np.flipud(near)-pr.u10[0,0,:,:].values)"
   ]
  },
  {
   "cell_type": "code",
   "execution_count": null,
   "metadata": {},
   "outputs": [],
   "source": [
    "df.max()"
   ]
  },
  {
   "cell_type": "code",
   "execution_count": null,
   "metadata": {},
   "outputs": [],
   "source": [
    "dfm = np.ma.masked_array(df,np.abs(df)<1)"
   ]
  },
  {
   "cell_type": "code",
   "execution_count": null,
   "metadata": {},
   "outputs": [],
   "source": [
    "import matplotlib.pyplot as plt\n",
    "\n",
    "import cartopy.crs as ccrs\n",
    "\n",
    "proj=ccrs.PlateCarree()\n",
    "\n",
    "fig, ax = plt.subplots(figsize=(12, 8))\n",
    "\n",
    "ax = plt.axes(projection=proj)\n",
    "\n",
    "h = ax.contourf(plons,plats,df, transform=proj);\n",
    "\n",
    "gl = ax.gridlines(crs=ccrs.PlateCarree(), draw_labels=True,\n",
    "                  linewidth=2, color='gray', alpha=0.5, linestyle='--')\n",
    "\n",
    "divider = make_axes_locatable(ax)\n",
    "ax_cb = divider.new_horizontal(size=\"5%\", pad=0.5, axes_class=plt.Axes)\n",
    "\n",
    "\n",
    "fig.add_axes(ax_cb)\n",
    "plt.colorbar(h, cax=ax_cb)\n",
    "#ax.set_global(); \n",
    "ax.coastlines();"
   ]
  },
  {
   "cell_type": "code",
   "execution_count": null,
   "metadata": {},
   "outputs": [],
   "source": []
  }
 ],
 "metadata": {
  "kernelspec": {
   "display_name": "pyPoseidon",
   "language": "python",
   "name": "pyposeidon"
  },
  "language_info": {
   "codemirror_mode": {
    "name": "ipython",
    "version": 2
   },
   "file_extension": ".py",
   "mimetype": "text/x-python",
   "name": "python",
   "nbconvert_exporter": "python",
   "pygments_lexer": "ipython2",
   "version": "2.7.14"
  },
  "toc": {
   "base_numbering": 1,
   "nav_menu": {},
   "number_sections": true,
   "sideBar": true,
   "skip_h1_title": false,
   "title_cell": "Table of Contents",
   "title_sidebar": "Contents",
   "toc_cell": false,
   "toc_position": {},
   "toc_section_display": true,
   "toc_window_display": false
  }
 },
 "nbformat": 4,
 "nbformat_minor": 2
}
