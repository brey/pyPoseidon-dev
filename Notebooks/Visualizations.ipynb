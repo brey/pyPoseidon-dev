{
 "cells": [
  {
   "cell_type": "markdown",
   "metadata": {},
   "source": [
    "## Visualizations"
   ]
  },
  {
   "cell_type": "code",
   "execution_count": 1,
   "metadata": {},
   "outputs": [
    {
     "data": {
      "text/html": [
       "<style>.container { width:100% !important; }</style>"
      ],
      "text/plain": [
       "<IPython.core.display.HTML object>"
      ]
     },
     "metadata": {},
     "output_type": "display_data"
    }
   ],
   "source": [
    "#to use the full width of the browser window\n",
    "from IPython.core.display import display, HTML\n",
    "display(HTML(\"<style>.container { width:100% !important; }</style>\"))"
   ]
  },
  {
   "cell_type": "code",
   "execution_count": 1,
   "metadata": {},
   "outputs": [],
   "source": [
    "from pyPoseidon.utils import *\n",
    "from pyPoseidon.meteo import *\n",
    "from IPython.display import HTML"
   ]
  },
  {
   "cell_type": "markdown",
   "metadata": {},
   "source": [
    "### setup"
   ]
  },
  {
   "cell_type": "code",
   "execution_count": null,
   "metadata": {
    "collapsed": true
   },
   "outputs": [],
   "source": [
    "#define in a dictionary the properties e.g\n",
    "dic={'lon0':0., # lat/lon window\n",
    "     'lon1':10.,\n",
    "     'lat0':28.,\n",
    "     'lat1':38.}"
   ]
  },
  {
   "cell_type": "markdown",
   "metadata": {},
   "source": [
    "### extract meteo forcing"
   ]
  },
  {
   "cell_type": "code",
   "execution_count": null,
   "metadata": {
    "collapsed": true
   },
   "outputs": [],
   "source": [
    "# specify the forecast times ft1,ft2\n",
    "ft1 = 0\n",
    "ft2 = 2 #that is 0,1 hours"
   ]
  },
  {
   "cell_type": "code",
   "execution_count": null,
   "metadata": {
    "collapsed": true
   },
   "outputs": [],
   "source": [
    "# parse the ecmwf grib file.\n",
    "m = ecmwf(mpath='/Users/brey/Downloads/20130301.00.tropical_cyclone.grib',ft1=ft1,ft2=ft2,**dic)"
   ]
  },
  {
   "cell_type": "markdown",
   "metadata": {},
   "source": [
    "## basemap"
   ]
  },
  {
   "cell_type": "code",
   "execution_count": null,
   "metadata": {
    "collapsed": true
   },
   "outputs": [],
   "source": [
    "win={'lon0':-10, # lat/lon window of the figure\n",
    "     'lon1':20.,\n",
    "     'lat0':20.,\n",
    "     'lat1':45.}"
   ]
  },
  {
   "cell_type": "code",
   "execution_count": null,
   "metadata": {
    "collapsed": true
   },
   "outputs": [],
   "source": [
    "#\n",
    "map(m.lons,m.lats,m.p[1,:,:],title='Pressure',label='kPa',ticks=False,**win)"
   ]
  },
  {
   "cell_type": "markdown",
   "metadata": {
    "collapsed": true
   },
   "source": [
    "## to PNG"
   ]
  },
  {
   "cell_type": "code",
   "execution_count": null,
   "metadata": {
    "collapsed": true
   },
   "outputs": [],
   "source": [
    "#\n",
    "map(m.lons,m.lats,m.p[1,:,:],title='Pressure',label='kPa',png=True,path='/Users/brey/Downloads/fig.png',**win)"
   ]
  },
  {
   "cell_type": "markdown",
   "metadata": {},
   "source": [
    "## to JSON"
   ]
  },
  {
   "cell_type": "markdown",
   "metadata": {},
   "source": [
    "## load on map"
   ]
  },
  {
   "cell_type": "code",
   "execution_count": null,
   "metadata": {
    "collapsed": true
   },
   "outputs": [],
   "source": []
  },
  {
   "cell_type": "markdown",
   "metadata": {},
   "source": [
    "## D3D results"
   ]
  },
  {
   "cell_type": "code",
   "execution_count": 4,
   "metadata": {
    "collapsed": true
   },
   "outputs": [],
   "source": [
    "PATH='/home/critechuser/COAST/EUR/'"
   ]
  },
  {
   "cell_type": "code",
   "execution_count": 5,
   "metadata": {},
   "outputs": [],
   "source": [
    "folders = [os.path.join(PATH, d) for d in os.listdir(PATH) if os.path.isdir(os.path.join(PATH, d))]"
   ]
  },
  {
   "cell_type": "code",
   "execution_count": 10,
   "metadata": {},
   "outputs": [],
   "source": [
    "folders.sort()"
   ]
  },
  {
   "cell_type": "code",
   "execution_count": 11,
   "metadata": {},
   "outputs": [
    {
     "data": {
      "text/plain": [
       "['/home/critechuser/COAST/EUR/20100201.00',\n",
       " '/home/critechuser/COAST/EUR/20100201.12',\n",
       " '/home/critechuser/COAST/EUR/20100202.00',\n",
       " '/home/critechuser/COAST/EUR/20100202.12',\n",
       " '/home/critechuser/COAST/EUR/20100203.00',\n",
       " '/home/critechuser/COAST/EUR/20100203.12',\n",
       " '/home/critechuser/COAST/EUR/20100204.00',\n",
       " '/home/critechuser/COAST/EUR/20100204.12',\n",
       " '/home/critechuser/COAST/EUR/20100205.00',\n",
       " '/home/critechuser/COAST/EUR/20100205.12',\n",
       " '/home/critechuser/COAST/EUR/20100206.00',\n",
       " '/home/critechuser/COAST/EUR/20100206.12',\n",
       " '/home/critechuser/COAST/EUR/20100207.00',\n",
       " '/home/critechuser/COAST/EUR/20100207.12',\n",
       " '/home/critechuser/COAST/EUR/20100208.00',\n",
       " '/home/critechuser/COAST/EUR/20100208.12',\n",
       " '/home/critechuser/COAST/EUR/20100209.00',\n",
       " '/home/critechuser/COAST/EUR/20100209.12',\n",
       " '/home/critechuser/COAST/EUR/20100210.00',\n",
       " '/home/critechuser/COAST/EUR/20100210.12',\n",
       " '/home/critechuser/COAST/EUR/20100211.00',\n",
       " '/home/critechuser/COAST/EUR/20100211.12',\n",
       " '/home/critechuser/COAST/EUR/20100212.00',\n",
       " '/home/critechuser/COAST/EUR/20100212.12',\n",
       " '/home/critechuser/COAST/EUR/20100213.00',\n",
       " '/home/critechuser/COAST/EUR/20100213.12',\n",
       " '/home/critechuser/COAST/EUR/20100214.00',\n",
       " '/home/critechuser/COAST/EUR/20100214.12',\n",
       " '/home/critechuser/COAST/EUR/20100215.00',\n",
       " '/home/critechuser/COAST/EUR/20100215.12',\n",
       " '/home/critechuser/COAST/EUR/20100216.00',\n",
       " '/home/critechuser/COAST/EUR/20100216.12',\n",
       " '/home/critechuser/COAST/EUR/20100217.00',\n",
       " '/home/critechuser/COAST/EUR/20100217.12',\n",
       " '/home/critechuser/COAST/EUR/20100218.00',\n",
       " '/home/critechuser/COAST/EUR/20100218.12',\n",
       " '/home/critechuser/COAST/EUR/20100219.00',\n",
       " '/home/critechuser/COAST/EUR/20100219.12',\n",
       " '/home/critechuser/COAST/EUR/20100220.00',\n",
       " '/home/critechuser/COAST/EUR/20100220.12',\n",
       " '/home/critechuser/COAST/EUR/20100221.00',\n",
       " '/home/critechuser/COAST/EUR/20100221.12',\n",
       " '/home/critechuser/COAST/EUR/20100222.00',\n",
       " '/home/critechuser/COAST/EUR/20100222.12',\n",
       " '/home/critechuser/COAST/EUR/20100223.00',\n",
       " '/home/critechuser/COAST/EUR/20100223.12',\n",
       " '/home/critechuser/COAST/EUR/20100224.00',\n",
       " '/home/critechuser/COAST/EUR/20100224.12',\n",
       " '/home/critechuser/COAST/EUR/20100225.00',\n",
       " '/home/critechuser/COAST/EUR/20100225.12',\n",
       " '/home/critechuser/COAST/EUR/20100226.00',\n",
       " '/home/critechuser/COAST/EUR/20100226.12',\n",
       " '/home/critechuser/COAST/EUR/20100227.00',\n",
       " '/home/critechuser/COAST/EUR/20100227.12',\n",
       " '/home/critechuser/COAST/EUR/20100228.00',\n",
       " '/home/critechuser/COAST/EUR/20100228.12',\n",
       " '/home/critechuser/COAST/EUR/20100301.00',\n",
       " '/home/critechuser/COAST/EUR/20100301.12']"
      ]
     },
     "execution_count": 11,
     "metadata": {},
     "output_type": "execute_result"
    }
   ],
   "source": [
    "folders"
   ]
  },
  {
   "cell_type": "code",
   "execution_count": 12,
   "metadata": {
    "collapsed": true
   },
   "outputs": [],
   "source": [
    "r=data(folders)"
   ]
  },
  {
   "cell_type": "code",
   "execution_count": 13,
   "metadata": {},
   "outputs": [
    {
     "ename": "IOError",
     "evalue": "No such file or directory",
     "output_type": "error",
     "traceback": [
      "\u001b[0;31m---------------------------------------------------------------------------\u001b[0m",
      "\u001b[0;31mIOError\u001b[0m                                   Traceback (most recent call last)",
      "\u001b[0;32m<ipython-input-13-2fb389a5bf5c>\u001b[0m in \u001b[0;36m<module>\u001b[0;34m()\u001b[0m\n\u001b[0;32m----> 1\u001b[0;31m \u001b[0mr\u001b[0m\u001b[0;34m.\u001b[0m\u001b[0mmaxval\u001b[0m\u001b[0;34m(\u001b[0m\u001b[0;34m'S1'\u001b[0m\u001b[0;34m,\u001b[0m\u001b[0mstep\u001b[0m\u001b[0;34m=\u001b[0m\u001b[0;36m12\u001b[0m\u001b[0;34m)\u001b[0m\u001b[0;34m\u001b[0m\u001b[0m\n\u001b[0m",
      "\u001b[0;32m/home/critechuser/miniconda3/envs/Poseidon/lib/python2.7/site-packages/pyPoseidon-0.1-py2.7-linux-x86_64.egg/pyPoseidon/utils/data.pyc\u001b[0m in \u001b[0;36mmaxval\u001b[0;34m(self, var, **kwargs)\u001b[0m\n\u001b[1;32m    153\u001b[0m        \u001b[0;32mfor\u001b[0m \u001b[0mfolder\u001b[0m \u001b[0;32min\u001b[0m \u001b[0mself\u001b[0m\u001b[0;34m.\u001b[0m\u001b[0mfolders\u001b[0m\u001b[0;34m[\u001b[0m\u001b[0;36m1\u001b[0m\u001b[0;34m:\u001b[0m\u001b[0;34m]\u001b[0m\u001b[0;34m:\u001b[0m\u001b[0;34m\u001b[0m\u001b[0m\n\u001b[1;32m    154\u001b[0m            \u001b[0;31m# read netcdf\u001b[0m\u001b[0;34m\u001b[0m\u001b[0;34m\u001b[0m\u001b[0m\n\u001b[0;32m--> 155\u001b[0;31m            \u001b[0mdat\u001b[0m\u001b[0;34m=\u001b[0m\u001b[0mDataset\u001b[0m\u001b[0;34m(\u001b[0m\u001b[0mfolder\u001b[0m\u001b[0;34m+\u001b[0m\u001b[0;34m'/'\u001b[0m\u001b[0;34m+\u001b[0m\u001b[0;34m'trim-'\u001b[0m\u001b[0;34m+\u001b[0m\u001b[0mself\u001b[0m\u001b[0;34m.\u001b[0m\u001b[0minfo\u001b[0m\u001b[0;34m[\u001b[0m\u001b[0;34m'tag'\u001b[0m\u001b[0;34m]\u001b[0m\u001b[0;34m+\u001b[0m\u001b[0;34m'.nc'\u001b[0m\u001b[0;34m)\u001b[0m\u001b[0;34m\u001b[0m\u001b[0m\n\u001b[0m\u001b[1;32m    156\u001b[0m            \u001b[0mh\u001b[0m \u001b[0;34m=\u001b[0m \u001b[0mdat\u001b[0m\u001b[0;34m.\u001b[0m\u001b[0mvariables\u001b[0m\u001b[0;34m[\u001b[0m\u001b[0mvar\u001b[0m\u001b[0;34m]\u001b[0m\u001b[0;34m[\u001b[0m\u001b[0;34m:\u001b[0m\u001b[0mstep\u001b[0m\u001b[0;34m,\u001b[0m\u001b[0;36m1\u001b[0m\u001b[0;34m:\u001b[0m\u001b[0;34m-\u001b[0m\u001b[0;36m1\u001b[0m\u001b[0;34m,\u001b[0m\u001b[0;36m1\u001b[0m\u001b[0;34m:\u001b[0m\u001b[0;34m-\u001b[0m\u001b[0;36m1\u001b[0m\u001b[0;34m]\u001b[0m\u001b[0;34m\u001b[0m\u001b[0m\n\u001b[1;32m    157\u001b[0m            \u001b[0mha\u001b[0m \u001b[0;34m=\u001b[0m \u001b[0mnp\u001b[0m\u001b[0;34m.\u001b[0m\u001b[0mtranspose\u001b[0m\u001b[0;34m(\u001b[0m\u001b[0mh\u001b[0m\u001b[0;34m,\u001b[0m\u001b[0maxes\u001b[0m\u001b[0;34m=\u001b[0m\u001b[0;34m(\u001b[0m\u001b[0;36m0\u001b[0m\u001b[0;34m,\u001b[0m\u001b[0;36m2\u001b[0m\u001b[0;34m,\u001b[0m\u001b[0;36m1\u001b[0m\u001b[0;34m)\u001b[0m\u001b[0;34m)\u001b[0m \u001b[0;31m#transpose lat/lon\u001b[0m\u001b[0;34m\u001b[0m\u001b[0m\n",
      "\u001b[0;32mnetCDF4/_netCDF4.pyx\u001b[0m in \u001b[0;36mnetCDF4._netCDF4.Dataset.__init__\u001b[0;34m()\u001b[0m\n",
      "\u001b[0;32mnetCDF4/_netCDF4.pyx\u001b[0m in \u001b[0;36mnetCDF4._netCDF4._ensure_nc_success\u001b[0;34m()\u001b[0m\n",
      "\u001b[0;31mIOError\u001b[0m: No such file or directory"
     ]
    }
   ],
   "source": [
    "r.maxval('S1',step=12)"
   ]
  },
  {
   "cell_type": "code",
   "execution_count": null,
   "metadata": {
    "collapsed": true
   },
   "outputs": [],
   "source": [
    "r.movie('S1')"
   ]
  },
  {
   "cell_type": "code",
   "execution_count": null,
   "metadata": {
    "collapsed": true
   },
   "outputs": [],
   "source": [
    "r.point(45,-1.1)"
   ]
  },
  {
   "cell_type": "code",
   "execution_count": null,
   "metadata": {
    "collapsed": true
   },
   "outputs": [],
   "source": [
    "#see one frame\n",
    "map(x,y,z[2,:,:],title='water hight',label='m',ticks=True)"
   ]
  }
 ],
 "metadata": {
  "hide_input": false,
  "kernelspec": {
   "display_name": "Poseidon",
   "language": "python",
   "name": "poseidon"
  },
  "language_info": {
   "codemirror_mode": {
    "name": "ipython",
    "version": 2
   },
   "file_extension": ".py",
   "mimetype": "text/x-python",
   "name": "python",
   "nbconvert_exporter": "python",
   "pygments_lexer": "ipython2",
   "version": "2.7.13"
  },
  "latex_envs": {
   "bibliofile": "biblio.bib",
   "cite_by": "apalike",
   "current_citInitial": 1,
   "eqLabelWithNumbers": true,
   "eqNumInitial": 0
  }
 },
 "nbformat": 4,
 "nbformat_minor": 2
}
