{
 "cells": [
  {
   "cell_type": "markdown",
   "metadata": {
    "collapsed": true
   },
   "source": [
    "## Extract from ECMWF grib files to Schism NetCDF input"
   ]
  },
  {
   "cell_type": "code",
   "execution_count": 17,
   "metadata": {},
   "outputs": [],
   "source": [
    "#!/usr/bin/env python\n",
    "#\n",
    "# Meteo to nc for Schism\n",
    "\n",
    "from pyPoseidon.utils.datafile import DataFile\n",
    "from pyPoseidon.meteo import *\n",
    "from netCDF4 import Dataset\n",
    "import datetime\n",
    "\n",
    "inPATH='/eos/jeodpp/data/projects/CRITECH/meteo/'\n",
    "outPATH='/eos/jeodpp/data/projects/CRITECH/SCHISM/UVP_d/'\n",
    "\n",
    "\n",
    "#define in a dictionary the properties e.g\n",
    "dic={'minlon':-35., # lat/lon window\n",
    "     'maxlon':43.,\n",
    "     'minlat':24.5,\n",
    "     'maxlat':76.5}\n",
    "\n",
    "\n",
    "#creating a time sequence of the runs\n",
    "\n",
    "start_date = datetime.datetime(2013,10,16,0)\n",
    "\n",
    "end_date = datetime.datetime(2013,10,17,0)\n",
    "\n",
    "time_interval = datetime.timedelta(hours=12)\n",
    "\n",
    "dt=(end_date-start_date).total_seconds()\n",
    "\n",
    "ndt=dt/time_interval.total_seconds()\n",
    "\n",
    "ndt=np.int(ndt)+1\n",
    "\n",
    "\n",
    "date_list = [start_date + time_interval*x for x in range(ndt)]\n",
    "\n",
    "#creating a sequence of folder from which we read the meteo.\n",
    "\n",
    "it=1 #initialize index"
   ]
  },
  {
   "cell_type": "code",
   "execution_count": 18,
   "metadata": {},
   "outputs": [
    {
     "data": {
      "text/plain": [
       "[datetime.datetime(2013, 10, 16, 0, 0),\n",
       " datetime.datetime(2013, 10, 16, 12, 0),\n",
       " datetime.datetime(2013, 10, 17, 0, 0)]"
      ]
     },
     "execution_count": 18,
     "metadata": {},
     "output_type": "execute_result"
    }
   ],
   "source": [
    "date_list"
   ]
  },
  {
   "cell_type": "code",
   "execution_count": 10,
   "metadata": {},
   "outputs": [
    {
     "data": {
      "text/plain": [
       "185"
      ]
     },
     "execution_count": 10,
     "metadata": {},
     "output_type": "execute_result"
    }
   ],
   "source": [
    "len(date_list)"
   ]
  },
  {
   "cell_type": "code",
   "execution_count": 19,
   "metadata": {
    "scrolled": true
   },
   "outputs": [
    {
     "name": "stdout",
     "output_type": "stream",
     "text": [
      "\n",
      "extracting meteo for 2013-10-16 00:00:00\n"
     ]
    },
    {
     "name": "stderr",
     "output_type": "stream",
     "text": [
      " 36%|███▌      | 13/36 [00:04<00:07,  2.97it/s]\n"
     ]
    },
    {
     "name": "stdout",
     "output_type": "stream",
     "text": [
      "End of resource reached when reading message\n",
      "ERROR in meteo input\n",
      "/eos/jeodpp/data/projects/CRITECH/SCHISM/UVP_d/sflux_air_1.001.nc\n",
      "\n",
      "extracting meteo for 2013-10-16 12:00:00\n"
     ]
    },
    {
     "name": "stderr",
     "output_type": "stream",
     "text": [
      "100%|██████████| 36/36 [00:11<00:00,  3.00it/s]"
     ]
    },
    {
     "name": "stdout",
     "output_type": "stream",
     "text": [
      "\n",
      "meteo done\n"
     ]
    },
    {
     "name": "stderr",
     "output_type": "stream",
     "text": [
      "\n"
     ]
    },
    {
     "name": "stdout",
     "output_type": "stream",
     "text": [
      "/eos/jeodpp/data/projects/CRITECH/SCHISM/UVP_d/sflux_air_1.002.nc\n",
      "\n",
      "extracting meteo for 2013-10-17 00:00:00\n"
     ]
    },
    {
     "name": "stderr",
     "output_type": "stream",
     "text": [
      "100%|██████████| 36/36 [00:12<00:00,  2.87it/s]"
     ]
    },
    {
     "name": "stdout",
     "output_type": "stream",
     "text": [
      "\n",
      "meteo done\n"
     ]
    },
    {
     "name": "stderr",
     "output_type": "stream",
     "text": [
      "\n"
     ]
    },
    {
     "name": "stdout",
     "output_type": "stream",
     "text": [
      "/eos/jeodpp/data/projects/CRITECH/SCHISM/UVP_d/sflux_air_1.003.nc\n"
     ]
    }
   ],
   "source": [
    "for date in date_list:\n",
    "\n",
    "    yyyy=date.year # this is for facilitating the folder format below\n",
    "\n",
    "    mm=date.month\n",
    "\n",
    "    dd=date.day\n",
    "\n",
    "    hh=date.hour\n",
    "\n",
    "  # set PATH of the database.\n",
    "\n",
    "    PATH=inPATH+'/{:04d}/{:02d}/{:02d}/'.format(yyyy,mm,dd)\n",
    "\n",
    "    dpath=glob.glob(PATH+'*{:04d}{:02d}{:02d}.{:02d}.tropical_cyclone.grib'.format(yyyy,mm,dd,hh))\n",
    "\n",
    "#set meteo forcing\n",
    "\n",
    "# specify the forecast times ft1,ft2\n",
    "    ft1 = 0\n",
    "    ft2 = 11 #that is 0...12(including) hours\n",
    "    dft = 1\n",
    "    \n",
    "    dic.update({'date':date})\n",
    "\n",
    "# parse the ecmwf grib file.\n",
    "    m = ecmwf(mpath=dpath[0],ft1=ft1,ft2=ft2,**dic)\n",
    "\n",
    "\n",
    "# Below the output specifically for Schism but one can adapt appropriately\n",
    "\n",
    "#from DataFile class create a file\n",
    "    d = DataFile(outPATH+'sflux_air_1.{:03d}.nc'.format(it), write=True, create=True,format='NETCDF4_CLASSIC')\n",
    "    \n",
    "    print outPATH+'sflux_air_1.{:03d}.nc'.format(it)\n",
    "\n",
    "## add OPTIONAL attributes to the nc file\n",
    "    info = {'description' : 'Schism forsing',\n",
    "    'history' :'JRC Ispra European Commission',\n",
    "    'source' : 'netCDF4 python module'}\n",
    "\n",
    "    d.info(**info)\n",
    "\n",
    "\n",
    "    tu = datetime.datetime.strftime(date,'%Y-%m-%d' )\n",
    "    bd = np.array([yyyy,mm,dd,0])\n",
    "\n",
    "    time = np.arange(ft1,ft2+1)/24. + hh/24.\n",
    "\n",
    "\n",
    "    tt=time[:]#.astype(np.float32)\n",
    "    pp=m.p[:,:,:]#.astype(np.float32)\n",
    "    uu=m.u[:,:,:]#.astype(np.float32)\n",
    "    vv=m.v[:,:,:]#.astype(np.float32)\n",
    "    lats=m.lats#.astype(np.float32)\n",
    "    lons=m.lons#.astype(np.float32)\n",
    "\n",
    "\n",
    "    spfh = np.zeros(vv.shape)\n",
    "\n",
    "#Write variables\n",
    "    d.write('time',tt, **{'vname':['time'], 'limited':False,'long_name': 'Time', 'standard_name': 'time', 'units': tu,'base_date': bd})\n",
    "    d.write('lat',lats,  **{'vname':['nx_grid','ny_grid'],'long_name': 'Latitude', 'standard_name': 'latitude', 'units': 'degrees_north'})\n",
    "    d.write('lon',lons,  **{'vname':['nx_grid','ny_grid'],'long_name': 'Longitude', 'standard_name': 'longitude', 'units': 'degrees_east'})\n",
    "    d.write('prmsl',pp,  **{'vname':['time','nx_grid','ny_grid'],'long_name': 'Pressure reduced to MSL', 'standard_name': 'air_pressure_at_sea_level', 'units': 'Pa'})\n",
    "    d.write('uwind',uu, **{'vname':['time','nx_grid','ny_grid'], 'long_name': 'Surface Eastward Air Velocity', 'standard_name': 'eastward_wind', 'units':\n",
    "'m/s'})\n",
    "    d.write('vwind',vv,  **{'vname':['time','nx_grid','ny_grid'],'long_name': 'Surface Northward Air Velocity', 'standard_name': 'northward_wind', 'units'\n",
    ": 'm/s'})\n",
    "    d.write('spfh',spfh, **{'vname':['time','nx_grid','ny_grid'], 'long_name': 'Surface Specific Humidity (2m AGL)', 'standard_name': 'specific_humidity',\n",
    " 'units': '1'})\n",
    "    d.write('stmp',spfh,  **{'vname':['time','nx_grid','ny_grid'],'long_name': 'Surface Temperature', 'standard_name': 'surface temperature', 'units': 'degrees'})\n",
    "\n",
    "\n",
    "    d.close()\n",
    "\n",
    "    it+=1"
   ]
  },
  {
   "cell_type": "code",
   "execution_count": 11,
   "metadata": {},
   "outputs": [],
   "source": [
    "f = Dataset('/home/critechproc/STORAGE/SCHISM/EUROP_2013_3/sflux/sflux_air_1.031.nc')"
   ]
  },
  {
   "cell_type": "code",
   "execution_count": 12,
   "metadata": {},
   "outputs": [
    {
     "data": {
      "text/plain": [
       "[u'time', u'lat', u'lon', u'prmsl', u'uwind', u'vwind', u'spfh', u'stmp']"
      ]
     },
     "execution_count": 12,
     "metadata": {},
     "output_type": "execute_result"
    }
   ],
   "source": [
    "f.variables.keys()\n"
   ]
  },
  {
   "cell_type": "code",
   "execution_count": 13,
   "metadata": {},
   "outputs": [
    {
     "data": {
      "text/plain": [
       "0.14062485345837672"
      ]
     },
     "execution_count": 13,
     "metadata": {},
     "output_type": "execute_result"
    }
   ],
   "source": [
    "f.variables['lon'][0,1]-f.variables['lon'][0,0]"
   ]
  },
  {
   "cell_type": "code",
   "execution_count": 16,
   "metadata": {},
   "outputs": [
    {
     "data": {
      "text/plain": [
       "<type 'netCDF4._netCDF4.Variable'>\n",
       "float64 time(time)\n",
       "    long_name: Time\n",
       "    standard_name: time\n",
       "    base_date: [2013   10   16    0]\n",
       "    units: 2013-10-16\n",
       "unlimited dimensions: time\n",
       "current shape = (12,)\n",
       "filling on, default _FillValue of 9.96920996839e+36 used"
      ]
     },
     "execution_count": 16,
     "metadata": {},
     "output_type": "execute_result"
    }
   ],
   "source": [
    "f.variables['time']"
   ]
  },
  {
   "cell_type": "code",
   "execution_count": 21,
   "metadata": {},
   "outputs": [],
   "source": [
    "f1 = Dataset('/home/critechproc/STORAGE/SCHISM/UVP_d/sflux_air_1.001.nc')"
   ]
  },
  {
   "cell_type": "code",
   "execution_count": 22,
   "metadata": {},
   "outputs": [
    {
     "data": {
      "text/plain": [
       "<type 'netCDF4._netCDF4.Variable'>\n",
       "float64 time(time)\n",
       "    long_name: Time\n",
       "    standard_name: time\n",
       "    base_date: [2013   10   16    0]\n",
       "    units: 2013-10-16\n",
       "unlimited dimensions: time\n",
       "current shape = (12,)\n",
       "filling on, default _FillValue of 9.96920996839e+36 used"
      ]
     },
     "execution_count": 22,
     "metadata": {},
     "output_type": "execute_result"
    }
   ],
   "source": [
    "f1.variables['time']"
   ]
  },
  {
   "cell_type": "code",
   "execution_count": null,
   "metadata": {},
   "outputs": [],
   "source": []
  }
 ],
 "metadata": {
  "kernelspec": {
   "display_name": "pyPoseidon",
   "language": "python",
   "name": "pyposeidon"
  },
  "language_info": {
   "codemirror_mode": {
    "name": "ipython",
    "version": 2
   },
   "file_extension": ".py",
   "mimetype": "text/x-python",
   "name": "python",
   "nbconvert_exporter": "python",
   "pygments_lexer": "ipython2",
   "version": "2.7.14"
  }
 },
 "nbformat": 4,
 "nbformat_minor": 2
}
