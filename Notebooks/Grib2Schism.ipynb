{
 "cells": [
  {
   "cell_type": "markdown",
   "metadata": {
    "collapsed": true,
    "deletable": true,
    "editable": true
   },
   "source": [
    "## Extract from ECMWF grib files to Schism NetCDF input"
   ]
  },
  {
   "cell_type": "code",
   "execution_count": null,
   "metadata": {
    "collapsed": true,
    "deletable": true,
    "editable": true
   },
   "outputs": [],
   "source": [
    "#!/usr/bin/env python\n",
    "#\n",
    "# Meteo to nc for Schism\n",
    "\n",
    "from Poseidon.utils import *\n",
    "from Poseidon.meteo import *\n",
    "from netCDF4 import Dataset\n",
    "import datetime\n",
    "\n",
    "inPATH='/home/critechproc/STORAGE/meteo/'\n",
    "outPATH='/home/critechproc/STORAGE/SCHISM/UVP/'\n",
    "\n",
    "\n",
    "#define in a dictionary the properties e.g\n",
    "dic={'lon0':-35., # lat/lon window\n",
    "     'lon1':43.,\n",
    "     'lat0':24.5,\n",
    "     'lat1':76.5}\n",
    "\n",
    "\n",
    "#creating a time sequence of the runs\n",
    "\n",
    "start_date = datetime.datetime(2010,2,1,0)\n",
    "\n",
    "end_date = datetime.datetime(2016,3,1,0)\n",
    "\n",
    "time_interval = datetime.timedelta(hours=12)\n",
    "\n",
    "dt=(end_date-start_date).total_seconds()\n",
    "\n",
    "ndt=dt/time_interval.total_seconds()\n",
    "\n",
    "ndt=np.int(ndt)+1\n",
    "\n",
    "\n",
    "date_list = [start_date + time_interval*x for x in range(ndt)]\n",
    "\n",
    "#creating a sequence of folder from which we read the meteo.\n",
    "\n",
    "it=1 #initialize index"
   ]
  },
  {
   "cell_type": "code",
   "execution_count": null,
   "metadata": {
    "collapsed": false,
    "deletable": true,
    "editable": true
   },
   "outputs": [],
   "source": [
    "date_list"
   ]
  },
  {
   "cell_type": "code",
   "execution_count": null,
   "metadata": {
    "collapsed": false,
    "deletable": true,
    "editable": true,
    "scrolled": true
   },
   "outputs": [],
   "source": [
    "for date in date_list:\n",
    "\n",
    "    yyyy=date.year # this is for facilitating the folder format below\n",
    "\n",
    "    mm=date.month\n",
    "\n",
    "    dd=date.day\n",
    "\n",
    "    hh=date.hour\n",
    "\n",
    "  # set PATH of the database.\n",
    "\n",
    "    PATH=inPATH+'/{:04d}/{:02d}/{:02d}/'.format(yyyy,mm,dd)\n",
    "\n",
    "    dpath=glob.glob(PATH+'*{:04d}{:02d}{:02d}.{:02d}.tropical_cyclone.grib'.format(yyyy,mm,dd,hh))\n",
    "\n",
    "#set meteo forcing\n",
    "\n",
    "# specify the forecast times ft1,ft2\n",
    "    ft1 = 0\n",
    "    ft2 = 11 #that is 0...12(including) hours\n",
    "\n",
    "# parse the ecmwf grib file.\n",
    "    m = ecmwf(mpath=dpath[0],ft1=ft1,ft2=ft2,**dic)\n",
    "\n",
    "\n",
    "# Below the output specifically for Schism but one can adapt appropriately\n",
    "\n",
    "#from DataFile class create a file\n",
    "    d = DataFile(outPATH+'sflux_air_1.{:03d}.nc'.format(it), write=True, create=True,format='NETCDF4_CLASSIC')\n",
    "    \n",
    "    print outPATH+'sflux_air_1.{:03d}.nc'.format(it)\n",
    "\n",
    "## add OPTIONAL attributes to the nc file\n",
    "    info = {'description' : 'Schism forsing',\n",
    "    'history' :'JRC Ispra European Commission',\n",
    "    'source' : 'netCDF4 python module'}\n",
    "\n",
    "    d.info(**info)\n",
    "\n",
    "\n",
    "    tu = datetime.datetime.strftime(date,'%Y-%m-%d' )\n",
    "    bd = np.array([yyyy,mm,dd,0])\n",
    "\n",
    "    time = np.arange(ft1,ft2+1)/24. + hh/24.\n",
    "\n",
    "\n",
    "    tt=time[:]#.astype(np.float32)\n",
    "    pp=m.p[:,:,:]#.astype(np.float32)\n",
    "    uu=m.u[:,:,:]#.astype(np.float32)\n",
    "    vv=m.v[:,:,:]#.astype(np.float32)\n",
    "    lats=m.lats#.astype(np.float32)\n",
    "    lons=m.lons#.astype(np.float32)\n",
    "\n",
    "\n",
    "    spfh = np.zeros(vv.shape)\n",
    "\n",
    "#Write variables\n",
    "    d.write('time',tt, **{'vname':['time'], 'limited':False,'long_name': 'Time', 'standard_name': 'time', 'units': tu,'base_date': bd})\n",
    "    d.write('lat',lats,  **{'vname':['nx_grid','ny_grid'],'long_name': 'Latitude', 'standard_name': 'latitude', 'units': 'degrees_north'})\n",
    "    d.write('lon',lons,  **{'vname':['nx_grid','ny_grid'],'long_name': 'Longitude', 'standard_name': 'longitude', 'units': 'degrees_east'})\n",
    "    d.write('prmsl',pp,  **{'vname':['time','nx_grid','ny_grid'],'long_name': 'Pressure reduced to MSL', 'standard_name': 'air_pressure_at_sea_level', 'units': 'Pa'})\n",
    "    d.write('uwind',uu, **{'vname':['time','nx_grid','ny_grid'], 'long_name': 'Surface Eastward Air Velocity', 'standard_name': 'eastward_wind', 'units':\n",
    "'m/s'})\n",
    "    d.write('vwind',vv,  **{'vname':['time','nx_grid','ny_grid'],'long_name': 'Surface Northward Air Velocity', 'standard_name': 'northward_wind', 'units'\n",
    ": 'm/s'})\n",
    "    d.write('spfh',spfh, **{'vname':['time','nx_grid','ny_grid'], 'long_name': 'Surface Specific Humidity (2m AGL)', 'standard_name': 'specific_humidity',\n",
    " 'units': '1'})\n",
    "    d.write('stmp',spfh,  **{'vname':['time','nx_grid','ny_grid'],'long_name': 'Surface Temperature', 'standard_name': 'surface temperature', 'units': 'degrees'})\n",
    "\n",
    "\n",
    "    d.close()\n",
    "\n",
    "    it+=1"
   ]
  },
  {
   "cell_type": "code",
   "execution_count": null,
   "metadata": {
    "collapsed": false,
    "deletable": true,
    "editable": true
   },
   "outputs": [],
   "source": [
    "f = Dataset('/home/critechproc/STORAGE/SCHISM/EUROP/sflux/sflux_air_1.030.nc')"
   ]
  },
  {
   "cell_type": "code",
   "execution_count": null,
   "metadata": {
    "collapsed": false,
    "deletable": true,
    "editable": true
   },
   "outputs": [],
   "source": [
    "f.variables.keys()\n"
   ]
  },
  {
   "cell_type": "code",
   "execution_count": null,
   "metadata": {
    "collapsed": false
   },
   "outputs": [],
   "source": [
    "f.variables['lon'][0,1]-f.variables['lon'][0,0]"
   ]
  },
  {
   "cell_type": "code",
   "execution_count": null,
   "metadata": {
    "collapsed": true
   },
   "outputs": [],
   "source": [
    "f.variables['']"
   ]
  }
 ],
 "metadata": {
  "kernelspec": {
   "display_name": "Python 2",
   "language": "python",
   "name": "python2"
  },
  "language_info": {
   "codemirror_mode": {
    "name": "ipython",
    "version": 2
   },
   "file_extension": ".py",
   "mimetype": "text/x-python",
   "name": "python",
   "nbconvert_exporter": "python",
   "pygments_lexer": "ipython2",
   "version": "2.7.12"
  }
 },
 "nbformat": 4,
 "nbformat_minor": 2
}
