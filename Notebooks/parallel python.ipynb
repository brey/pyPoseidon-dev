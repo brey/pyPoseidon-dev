{
 "cells": [
  {
   "cell_type": "code",
   "execution_count": 1,
   "metadata": {},
   "outputs": [],
   "source": [
    "import pp\n",
    "import numpy as np\n",
    "from pyPoseidon.dem import *\n",
    "from pyPoseidon.utils.fix import *\n",
    "import shapely"
   ]
  },
  {
   "cell_type": "markdown",
   "metadata": {},
   "source": [
    "## Set"
   ]
  },
  {
   "cell_type": "code",
   "execution_count": 7,
   "metadata": {},
   "outputs": [],
   "source": [
    "dic = {'minlon': 0., # lat/lon window\n",
    "       'maxlon' : 13.,\n",
    "       'minlat' : 58.,\n",
    "       'maxlat' : 66.5,\n",
    "       'dpath':'/Users/brey/DATA/GEBCO_2014_2D.nc'}"
   ]
  },
  {
   "cell_type": "code",
   "execution_count": 12,
   "metadata": {},
   "outputs": [],
   "source": [
    "## lat,lon grid\n",
    "resolution=.1\n",
    "lon=np.arange(dic['minlon'],dic['maxlon'],resolution)\n",
    "lat=np.arange(dic['minlat'],dic['maxlat'],resolution)\n",
    "x, y = np.meshgrid(lon,lat)"
   ]
  },
  {
   "cell_type": "code",
   "execution_count": 13,
   "metadata": {},
   "outputs": [],
   "source": [
    "dic.update({'grid_x':x, 'grid_y':y})"
   ]
  },
  {
   "cell_type": "code",
   "execution_count": 14,
   "metadata": {},
   "outputs": [],
   "source": [
    "#Define the coastline shapefile\n",
    "shapefile = '/Users/brey/DATA/COASTLINES/naturalearth/coastline/ne_%sm_coastline.shp' % \\\n",
    "                    {'l':110, 'i':50, 'h':10}['i']"
   ]
  },
  {
   "cell_type": "code",
   "execution_count": 17,
   "metadata": {},
   "outputs": [
    {
     "name": "stdout",
     "output_type": "stream",
     "text": [
      "\n",
      "extracting dem from /Users/brey/DATA/GEBCO_2014_2D.nc\n",
      "\n",
      "dem done\n"
     ]
    }
   ],
   "source": [
    "dem = gebco(**dic) # get bathymetry"
   ]
  },
  {
   "cell_type": "code",
   "execution_count": 19,
   "metadata": {},
   "outputs": [],
   "source": [
    "#define coastline\n",
    "    \n",
    "shp = gp.GeoDataFrame.from_file(shapefile)\n",
    "\n",
    "           \n",
    "xp = dem.Dataset.ilons.values\n",
    "yp = dem.Dataset.ilats.values\n",
    "    \n",
    "    \n",
    "#put them all in a list\n",
    "ls=[]\n",
    "for i in range(shp.shape[0]):\n",
    "    il = shp.loc[i,'geometry']\n",
    "    try:\n",
    "        #print len(il)\n",
    "        for k in range(len(list(il.geoms))): # for MultiLineStrings\n",
    "            ls.append(list(il.geoms)[k])\n",
    "    except:\n",
    "        ls.append(il)\n",
    "            \n",
    "sall = geometry.MultiLineString(ls) # join\n",
    "c = ops.linemerge(sall) #merge\n",
    "    \n",
    "#Select the Line Strings that correspond to our grid\n",
    "#create a polygon of the grid\n",
    "grp=geometry.Polygon([(xp.min(),yp.min()),(xp.min(),yp.max()),(xp.max(),yp.max()),(xp.max(),yp.min())])    \n",
    "    \n",
    "cl=[] #initialize\n",
    "#add Polygons if they intersect with the grid\n",
    "for i in range(len(c)):\n",
    "    z = geometry.Polygon(c[i])\n",
    "    if z.intersects(grp): \n",
    "        cl.append(c[i])\n",
    "    \n",
    "cll = geometry.MultiLineString(cl) #join them into a Multiline\n",
    "cg = ops.linemerge(cll) #merge parts if possible\n",
    "    \n"
   ]
  },
  {
   "cell_type": "code",
   "execution_count": 191,
   "metadata": {},
   "outputs": [],
   "source": [
    "def loop(xp,yp,cg):\n",
    "#check if the grid polygons intersect the shoreline\n",
    "    gps = []\n",
    "    igps = []\n",
    "    for i in range(xp.shape[0]-1):\n",
    "        for j in range(xp.shape[1]-1):\n",
    "            p = shapely.geometry.Polygon([(xp[i,j],yp[i,j]),(xp[i+1,j],yp[i+1,j]),(xp[i+1,j+1],yp[i+1,j+1]),(xp[i,j+1],yp[i,j+1])])\n",
    "            if not p.intersects(cg): \n",
    "                gps.append(p)\n",
    "                igps.append([i+1,j+1])\n",
    "    \n",
    "    return igps"
   ]
  },
  {
   "cell_type": "markdown",
   "metadata": {},
   "source": [
    "## PP loop"
   ]
  },
  {
   "cell_type": "code",
   "execution_count": 145,
   "metadata": {},
   "outputs": [
    {
     "name": "stderr",
     "output_type": "stream",
     "text": [
      "INFO:pp:Creating server instance (pp-1.6.6)\n",
      "INFO:pp:Running on Python 2.7.15 darwin\n",
      "INFO:pp:pp local server started with 8 workers\n"
     ]
    }
   ],
   "source": [
    "job_server = pp.Server() "
   ]
  },
  {
   "cell_type": "code",
   "execution_count": 146,
   "metadata": {},
   "outputs": [
    {
     "data": {
      "text/plain": [
       "8"
      ]
     },
     "execution_count": 146,
     "metadata": {},
     "output_type": "execute_result"
    }
   ],
   "source": [
    "job_server.get_ncpus()"
   ]
  },
  {
   "cell_type": "code",
   "execution_count": 147,
   "metadata": {},
   "outputs": [],
   "source": [
    "ncpus=4"
   ]
  },
  {
   "cell_type": "code",
   "execution_count": 148,
   "metadata": {},
   "outputs": [],
   "source": [
    "job_server.set_ncpus(ncpus)"
   ]
  },
  {
   "cell_type": "code",
   "execution_count": 149,
   "metadata": {},
   "outputs": [
    {
     "data": {
      "text/plain": [
       "(21, 32)"
      ]
     },
     "execution_count": 149,
     "metadata": {},
     "output_type": "execute_result"
    }
   ],
   "source": [
    "xstep=xp.shape[0]/ncpus\n",
    "ystep=xp.shape[1]/ncpus\n",
    "xstep,ystep"
   ]
  },
  {
   "cell_type": "code",
   "execution_count": 150,
   "metadata": {},
   "outputs": [
    {
     "data": {
      "text/plain": [
       "(85, 130)"
      ]
     },
     "execution_count": 150,
     "metadata": {},
     "output_type": "execute_result"
    }
   ],
   "source": [
    "xp.shape"
   ]
  },
  {
   "cell_type": "code",
   "execution_count": 293,
   "metadata": {},
   "outputs": [
    {
     "name": "stderr",
     "output_type": "stream",
     "text": [
      "INFO:pp:Task 32 started\n",
      "INFO:pp:Task 33 started\n",
      "INFO:pp:Task 34 started\n",
      "INFO:pp:Task 35 started\n",
      "INFO:pp:Task 36 started\n",
      "INFO:pp:Task 37 started\n",
      "INFO:pp:Task 38 started\n",
      "INFO:pp:Task 39 started\n",
      "INFO:pp:Task 40 started\n",
      "INFO:pp:Task 41 started\n",
      "INFO:pp:Task 42 started\n",
      "INFO:pp:Task 43 started\n",
      "INFO:pp:Task 44 started\n",
      "INFO:pp:Task 45 started\n",
      "INFO:pp:Task 46 started\n",
      "INFO:pp:Task 47 started\n"
     ]
    },
    {
     "name": "stdout",
     "output_type": "stream",
     "text": [
      "1 loop, best of 3: 4.87 s per loop\n"
     ]
    }
   ],
   "source": [
    "%%timeit\n",
    "jobs=[]\n",
    "for l in range(ncpus):\n",
    "#    xl=xp[l*xstep:(l+1)*xstep,l*ystep:(l+1)*ystep]\n",
    "#    yl=yp[l*xstep:(l+1)*xstep,l*ystep:(l+1)*ystep]   \n",
    "    xl=xp[l*xstep:(l+1)*xstep+1,:]\n",
    "    yl=yp[l*xstep:(l+1)*xstep+1,:]   \n",
    "\n",
    "\n",
    "    jobs.append(job_server.submit(loop,(xl,yl,cg,),modules=('shapely',)))\n",
    "\n",
    "ps=jobs[0]()\n",
    "for l in range(1,ncpus):    \n",
    "    ps = np.vstack([ps, [[i+l*xstep,j] for [i,j] in jobs[l]()]])"
   ]
  },
  {
   "cell_type": "markdown",
   "metadata": {},
   "source": [
    "## One core"
   ]
  },
  {
   "cell_type": "code",
   "execution_count": 285,
   "metadata": {},
   "outputs": [
    {
     "name": "stdout",
     "output_type": "stream",
     "text": [
      "1 loop, best of 3: 17.8 s per loop\n"
     ]
    }
   ],
   "source": [
    "%%timeit \n",
    "g1 = loop(xp,yp,cg)"
   ]
  },
  {
   "cell_type": "code",
   "execution_count": 287,
   "metadata": {},
   "outputs": [],
   "source": [
    "solo = np.array(g1)"
   ]
  },
  {
   "cell_type": "code",
   "execution_count": 294,
   "metadata": {},
   "outputs": [
    {
     "data": {
      "text/plain": [
       "True"
      ]
     },
     "execution_count": 294,
     "metadata": {},
     "output_type": "execute_result"
    }
   ],
   "source": [
    "np.array_equal(solo,ps)"
   ]
  },
  {
   "cell_type": "markdown",
   "metadata": {},
   "source": [
    "## Add extra points from boundary\n"
   ]
  },
  {
   "cell_type": "code",
   "execution_count": null,
   "metadata": {},
   "outputs": [],
   "source": [
    "for [i,j] in ps:\n",
    "if i == 0 : \n",
    "        igps.append([i,j])\n",
    "        igps.append([i,j+1])\n",
    "                if j == 0 : \n",
    "                    igps.append([i,j])\n",
    "                    igps.append([i+1,j])\n",
    "\n"
   ]
  }
 ],
 "metadata": {
  "hide_input": false,
  "kernelspec": {
   "display_name": "dev",
   "language": "python",
   "name": "dev"
  },
  "language_info": {
   "codemirror_mode": {
    "name": "ipython",
    "version": 2
   },
   "file_extension": ".py",
   "mimetype": "text/x-python",
   "name": "python",
   "nbconvert_exporter": "python",
   "pygments_lexer": "ipython2",
   "version": "2.7.15"
  },
  "latex_envs": {
   "bibliofile": "biblio.bib",
   "cite_by": "apalike",
   "current_citInitial": 1,
   "eqLabelWithNumbers": true,
   "eqNumInitial": 0
  },
  "toc": {
   "base_numbering": 1,
   "nav_menu": {},
   "number_sections": true,
   "sideBar": true,
   "skip_h1_title": false,
   "title_cell": "Table of Contents",
   "title_sidebar": "Contents",
   "toc_cell": false,
   "toc_position": {},
   "toc_section_display": true,
   "toc_window_display": false
  }
 },
 "nbformat": 4,
 "nbformat_minor": 1
}
