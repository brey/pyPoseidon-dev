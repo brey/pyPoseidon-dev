{
 "cells": [
  {
   "cell_type": "markdown",
   "metadata": {},
   "source": [
    "## An example workflow"
   ]
  },
  {
   "cell_type": "code",
   "execution_count": null,
   "metadata": {},
   "outputs": [],
   "source": [
    "#to use the full width of the browser window uncomment the code below and execute the cell\n",
    "from IPython.core.display import display, HTML\n",
    "display(HTML(\"<style>.container { width:100% !important; }</style>\"))"
   ]
  },
  {
   "cell_type": "code",
   "execution_count": null,
   "metadata": {},
   "outputs": [],
   "source": [
    "from pyPoseidon.model import *\n",
    "from pyPoseidon.dem import *\n",
    "from pyPoseidon.meteo import *\n",
    "import datetime\n",
    "from pyPoseidon.utils.data import *"
   ]
  },
  {
   "cell_type": "code",
   "execution_count": null,
   "metadata": {},
   "outputs": [],
   "source": [
    "import holoviews as hv\n",
    "import geoviews as gv\n",
    "import geoviews.feature as gf\n",
    "from cartopy import crs\n",
    "\n",
    "\n",
    "hv.notebook_extension('bokeh')\n",
    "#hv.notebook_extension('matplotlib')"
   ]
  },
  {
   "cell_type": "markdown",
   "metadata": {},
   "source": [
    "### Define case"
   ]
  },
  {
   "cell_type": "code",
   "execution_count": null,
   "metadata": {},
   "outputs": [],
   "source": [
    "#define in a dictionary the properties of the model..\n",
    "dic={'minlon':-35., # lat/lon window\n",
    "     'maxlon':42.,\n",
    "     'minlat':25.05,\n",
    "     'maxlat':76.5,\n",
    "     'solver':'d3d',\n",
    "     'resolution':0.2, #grid resoltuion \n",
    "     'step':60, # step for output of map field in d3d\n",
    "     'rstep': 60*12 ,  # step for restart file\n",
    "     'start_date':'2010-2-1',\n",
    "     'time_frame':'12H',\n",
    "#     'meteo':'hnms_oper',\n",
    "     'meteo':'ecmwf_oper',\n",
    "     'dem': 'gebco',\n",
    "     'dpath' : '/Users/brey/DATA/GEBCO_2014_2D.nc',\n",
    "     'exec':'/Users/brey/DELFT3D/bin/lnx64/', #exec folder of solver \n",
    "     'ncores': 4 , #number of cores\n",
    "     'rpath':'/Users/brey/Downloads/EUR/20100201.00/', #location of calc folder\n",
    "     'Dt':1.0 # add any additional relevant setup variable\n",
    "    }"
   ]
  },
  {
   "cell_type": "markdown",
   "metadata": {},
   "source": [
    "#### Local operational ECMWF files"
   ]
  },
  {
   "cell_type": "code",
   "execution_count": null,
   "metadata": {},
   "outputs": [],
   "source": [
    "if 'time_frame' in dic.keys(): end_date= pd.to_datetime(dic['start_date']) + pd.to_timedelta(dic['time_frame'])\n",
    "dic.update({'end_date':end_date.strftime(format='%Y-%m-%d')})\n",
    "\n",
    "dr = pd.date_range(dic['start_date'],dic['end_date'], freq='12H')\n",
    "\n",
    "#creating a sequence of folder from which we read the meteo.\n",
    "PATH='/Volumes/data/projects/CRITECH/meteo/ECMWF/operational/'#Path to meteo files\n",
    "folders = [datetime.datetime.strftime(x, '%Y%m%d.%H') for x in dr]\n",
    "meteo = [PATH+'{:04d}/{:02d}/{:02d}/'.format(x.year,x.month,x.day)+datetime.datetime.strftime(x, '%Y%m%d.%H')+'.tropical_cyclone.grib' for x in dr]\n",
    "meteo"
   ]
  },
  {
   "cell_type": "markdown",
   "metadata": {},
   "source": [
    "#### Local operational HNMS files"
   ]
  },
  {
   "cell_type": "code",
   "execution_count": null,
   "metadata": {},
   "outputs": [],
   "source": [
    "if 'time_frame' in dic.keys(): end_date= pd.to_datetime(dic['start_date']) + pd.to_timedelta(dic['time_frame'])\n",
    "dic.update({'end_date':end_date.strftime(format='%Y-%m-%d')})\n",
    "\n",
    "dr = pd.date_range(dic['start_date'],dic['end_date'], freq='12H')\n",
    "dr"
   ]
  },
  {
   "cell_type": "code",
   "execution_count": null,
   "metadata": {},
   "outputs": [],
   "source": [
    "meteo = []\n",
    "#creating a sequence of folder from which we read the meteo.\n",
    "PATH='/Users/brey/Downloads/HNMS/01/'\n",
    "files = glob.glob(PATH+'/E_JRC00*')\n",
    "files.sort()\n",
    "meteo= meteo + files[:12]\n",
    "\n",
    "files = glob.glob(PATH+'/E_JRC12*')\n",
    "files.sort()\n",
    "meteo = meteo + files[:13]\n",
    "meteo"
   ]
  },
  {
   "cell_type": "markdown",
   "metadata": {},
   "source": [
    "#### Local operational AM files"
   ]
  },
  {
   "cell_type": "code",
   "execution_count": null,
   "metadata": {},
   "outputs": [],
   "source": [
    "if 'time_frame' in dic.keys(): end_date= pd.to_datetime(dic['start_date']) + pd.to_timedelta(dic['time_frame'])\n",
    "dic.update({'end_date':end_date.strftime(format='%Y-%m-%d')})\n",
    "\n",
    "dr = pd.date_range(dic['start_date'],dic['end_date'], freq='12H')\n",
    "dr"
   ]
  },
  {
   "cell_type": "code",
   "execution_count": null,
   "metadata": {},
   "outputs": [],
   "source": [
    "meteo = []\n",
    "#creating a sequence of folder from which we read the meteo.\n",
    "PATH='/Users/brey/Downloads/AM'\n",
    "files = glob.glob(PATH+'/JRC_*_00_*')\n",
    "files.sort()\n",
    "meteo= meteo + files[:12]\n",
    "\n",
    "files = glob.glob(PATH+'/JRC_*_12_*')\n",
    "files.sort()\n",
    "meteo = meteo + files[:13]\n",
    "meteo"
   ]
  },
  {
   "cell_type": "markdown",
   "metadata": {},
   "source": [
    "#### update dictionary"
   ]
  },
  {
   "cell_type": "code",
   "execution_count": null,
   "metadata": {},
   "outputs": [],
   "source": [
    "dic.update({'mpaths':meteo,'ft1':0,'ft2':12})"
   ]
  },
  {
   "cell_type": "markdown",
   "metadata": {},
   "source": [
    "## Initialize"
   ]
  },
  {
   "cell_type": "code",
   "execution_count": null,
   "metadata": {},
   "outputs": [],
   "source": [
    "#initialize a model\n",
    "b = model(**dic)"
   ]
  },
  {
   "cell_type": "markdown",
   "metadata": {},
   "source": [
    "### set it up"
   ]
  },
  {
   "cell_type": "code",
   "execution_count": null,
   "metadata": {},
   "outputs": [],
   "source": [
    "b.set(**dic) #set it up "
   ]
  },
  {
   "cell_type": "markdown",
   "metadata": {},
   "source": [
    "#### Optional adjust the wet area based on a coastline shapefile"
   ]
  },
  {
   "cell_type": "code",
   "execution_count": null,
   "metadata": {},
   "outputs": [],
   "source": [
    "b.impl.dem.impl.adjust('/Users/brey/DATA/COASTLINES/naturalearth/coastline/ne_50m_coastline.shp')#,nc=20) "
   ]
  },
  {
   "cell_type": "code",
   "execution_count": null,
   "metadata": {},
   "outputs": [],
   "source": [
    "b.impl.dem.impl.fval.dem.plot() # test coverage"
   ]
  },
  {
   "cell_type": "markdown",
   "metadata": {},
   "source": [
    "## Save to folder for execution "
   ]
  },
  {
   "cell_type": "code",
   "execution_count": null,
   "metadata": {},
   "outputs": [],
   "source": [
    "#set the run by saving the files\n",
    "b.output()"
   ]
  },
  {
   "cell_type": "code",
   "execution_count": null,
   "metadata": {},
   "outputs": [],
   "source": [
    "# save model info for further use\n",
    "b.save()"
   ]
  },
  {
   "cell_type": "code",
   "execution_count": null,
   "metadata": {},
   "outputs": [],
   "source": [
    "# save all matrices for further use\n",
    "#b.pickle(path=path)"
   ]
  },
  {
   "cell_type": "markdown",
   "metadata": {},
   "source": [
    "### execute"
   ]
  },
  {
   "cell_type": "code",
   "execution_count": null,
   "metadata": {
    "scrolled": true
   },
   "outputs": [],
   "source": [
    "#execute\n",
    "b.run()"
   ]
  },
  {
   "cell_type": "markdown",
   "metadata": {},
   "source": [
    "## Analysis of output "
   ]
  },
  {
   "cell_type": "code",
   "execution_count": null,
   "metadata": {},
   "outputs": [],
   "source": [
    "%matplotlib inline"
   ]
  },
  {
   "cell_type": "code",
   "execution_count": null,
   "metadata": {},
   "outputs": [],
   "source": [
    "otp = data([dic['rpath']])"
   ]
  },
  {
   "cell_type": "code",
   "execution_count": null,
   "metadata": {},
   "outputs": [],
   "source": [
    "otp.vars"
   ]
  },
  {
   "cell_type": "code",
   "execution_count": null,
   "metadata": {},
   "outputs": [],
   "source": [
    "otp.dem.bathymetry.plot()"
   ]
  },
  {
   "cell_type": "code",
   "execution_count": null,
   "metadata": {},
   "outputs": [],
   "source": [
    "fig = plt.figure(figsize=(12,8))\n",
    "ax = plt.subplot(projection=ccrs.PlateCarree());\n",
    "\n",
    "otp.dem.bathymetry.plot.pcolormesh('longitude', 'latitude', ax=ax);\n",
    "\n",
    "gp = ax.scatter(otp.x, otp.y, s=2, color='k',  label='grid points', transform=ccrs.PlateCarree());\n",
    "\n",
    "pp = ax.scatter(otp.xh, otp.yh, s=2, color='b', label='pressure points', transform=ccrs.PlateCarree());\n",
    "\n",
    "ax.legend()\n",
    "\n",
    "ax.coastlines('50m'); ax.gridlines(draw_labels=True);"
   ]
  },
  {
   "cell_type": "markdown",
   "metadata": {},
   "source": [
    "### Visualize"
   ]
  },
  {
   "cell_type": "code",
   "execution_count": null,
   "metadata": {},
   "outputs": [],
   "source": [
    "%%opts Image [width=650 height=450] (cmap='jet')\n",
    "otp.hview('S1').to(hv.Image, ['XZ','YZ'], 'S1').hist()"
   ]
  },
  {
   "cell_type": "code",
   "execution_count": null,
   "metadata": {},
   "outputs": [],
   "source": [
    "g50 = gv.feature.coastline(plot=dict(scale='50m'), style=dict(linewidth=1.5))"
   ]
  },
  {
   "cell_type": "code",
   "execution_count": null,
   "metadata": {},
   "outputs": [],
   "source": [
    "%%opts Image [colorbar=True width=650 height=450 toolbar=\"above\", tools=['hover']] (cmap='viridis')\n",
    "otp.gview('S1').to(gv.Image, ['XZ','YZ'],dynamic=True) * g50 * gf.borders()"
   ]
  },
  {
   "cell_type": "code",
   "execution_count": null,
   "metadata": {},
   "outputs": [],
   "source": [
    "otp.frames(['S1'],title='SSH')"
   ]
  },
  {
   "cell_type": "code",
   "execution_count": null,
   "metadata": {
    "scrolled": false
   },
   "outputs": [],
   "source": [
    "otp.frames(['U1Z','V1Z'],title='Vel',scale=.1)"
   ]
  },
  {
   "cell_type": "markdown",
   "metadata": {},
   "source": [
    "## Observation points / Validation"
   ]
  },
  {
   "cell_type": "code",
   "execution_count": null,
   "metadata": {},
   "outputs": [],
   "source": [
    "otp.obs.locations"
   ]
  },
  {
   "cell_type": "code",
   "execution_count": null,
   "metadata": {},
   "outputs": [],
   "source": [
    "# Get with index number\n",
    "p = otp.obs.iloc(11)\n",
    "p.head()"
   ]
  },
  {
   "cell_type": "code",
   "execution_count": null,
   "metadata": {},
   "outputs": [],
   "source": [
    "#get with Station Name  \n",
    "p = otp.obs.loc('Sweden - GoteborgTorshamnen')\n",
    "p.head()"
   ]
  },
  {
   "cell_type": "code",
   "execution_count": null,
   "metadata": {},
   "outputs": [],
   "source": [
    "#plot\n",
    "ax = p.plot()"
   ]
  },
  {
   "cell_type": "markdown",
   "metadata": {},
   "source": [
    "### sample nearest point from simulation "
   ]
  },
  {
   "cell_type": "code",
   "execution_count": null,
   "metadata": {},
   "outputs": [],
   "source": [
    " plat,plon = otp.obs.locations.loc[16,['lat','lon']]"
   ]
  },
  {
   "cell_type": "code",
   "execution_count": null,
   "metadata": {},
   "outputs": [],
   "source": [
    "#ts = otp.vars.S1.sel(XZ=[lon], method='nearest', tolerance=5).sel(YZ=[lat], method='nearest', tolerance=5)\n",
    "#ts = ts.squeeze().to_pandas()\n",
    "#ts.head()"
   ]
  },
  {
   "cell_type": "code",
   "execution_count": null,
   "metadata": {},
   "outputs": [],
   "source": [
    "otp.info"
   ]
  },
  {
   "cell_type": "code",
   "execution_count": null,
   "metadata": {},
   "outputs": [],
   "source": [
    "ts = point(lon=plon,lat=plat,data=otp)\n",
    "ts.tseries(var='S1')"
   ]
  },
  {
   "cell_type": "code",
   "execution_count": null,
   "metadata": {},
   "outputs": [],
   "source": [
    "ts.S1"
   ]
  },
  {
   "cell_type": "code",
   "execution_count": null,
   "metadata": {},
   "outputs": [],
   "source": [
    "ts.S1.plot()"
   ]
  },
  {
   "cell_type": "code",
   "execution_count": null,
   "metadata": {},
   "outputs": [],
   "source": [
    "## Join the graphs\n",
    "ax = ts.S1.plot(figsize=(14,10),color=['r'],label='d3d')\n",
    "p.plot(ax=ax)\n",
    "ax.legend(loc='center left',bbox_to_anchor=(1.1, 0.5))"
   ]
  },
  {
   "cell_type": "code",
   "execution_count": null,
   "metadata": {},
   "outputs": [],
   "source": []
  }
 ],
 "metadata": {
  "kernelspec": {
   "display_name": "pyPoseidon",
   "language": "python",
   "name": "pyposeidon"
  },
  "language_info": {
   "codemirror_mode": {
    "name": "ipython",
    "version": 2
   },
   "file_extension": ".py",
   "mimetype": "text/x-python",
   "name": "python",
   "nbconvert_exporter": "python",
   "pygments_lexer": "ipython2",
   "version": "2.7.14"
  },
  "toc": {
   "base_numbering": 1,
   "nav_menu": {},
   "number_sections": true,
   "sideBar": true,
   "skip_h1_title": false,
   "title_cell": "Table of Contents",
   "title_sidebar": "Contents",
   "toc_cell": false,
   "toc_position": {
    "height": "calc(100% - 180px)",
    "left": "10px",
    "top": "150px",
    "width": "278px"
   },
   "toc_section_display": true,
   "toc_window_display": false
  }
 },
 "nbformat": 4,
 "nbformat_minor": 2
}
