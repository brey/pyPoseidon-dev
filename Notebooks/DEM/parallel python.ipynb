{
 "cells": [
  {
   "cell_type": "code",
   "execution_count": 1,
   "metadata": {},
   "outputs": [],
   "source": [
    "import pp\n",
    "import numpy as np\n",
    "from pyPoseidon.dem import *\n",
    "from pyPoseidon.utils.fix import *\n",
    "import shapely"
   ]
  },
  {
   "cell_type": "markdown",
   "metadata": {},
   "source": [
    "## Set"
   ]
  },
  {
   "cell_type": "code",
   "execution_count": 2,
   "metadata": {},
   "outputs": [],
   "source": [
    "dic={'minlon':-32., # lat/lon window\n",
    "     'maxlon':-29,\n",
    "     'minlat':50.5,\n",
    "     'maxlat':52.5,\n",
    "     'dpath':'/Users/brey/DATA/GEBCO_2014_2D.nc'}"
   ]
  },
  {
   "cell_type": "code",
   "execution_count": 55,
   "metadata": {},
   "outputs": [],
   "source": [
    "dic = {'minlon' : 0., # lat/lon window\n",
    "       'maxlon' : 13.,\n",
    "       'minlat' : 54.5,\n",
    "       'maxlat' : 66.5,\n",
    "       'dpath':'/Users/brey/DATA/GEBCO_2014_2D.nc'}"
   ]
  },
  {
   "cell_type": "code",
   "execution_count": 2,
   "metadata": {},
   "outputs": [],
   "source": [
    "dic = {'minlon':-35., # lat/lon window\n",
    "       'maxlon':42.,\n",
    "       'minlat':25.05,\n",
    "       'maxlat':76.5,\n",
    "       'dpath':'/Users/brey/DATA/GEBCO_2014_2D.nc'}"
   ]
  },
  {
   "cell_type": "markdown",
   "metadata": {},
   "source": [
    "### Create Grid"
   ]
  },
  {
   "cell_type": "code",
   "execution_count": 3,
   "metadata": {},
   "outputs": [],
   "source": [
    "resolution=.1\n",
    "\n",
    "## lat,lon grid\n",
    "ni=int(round((dic['maxlon']-dic['minlon'])/resolution)) #these are cell numbers\n",
    "nj=int(round((dic['maxlat']-dic['minlat'])/resolution))\n",
    "\n",
    "dic['maxlon']=dic['minlon']+ni*resolution #adjust max lon to much the grid\n",
    "dic['maxlat']=dic['minlat']+nj*resolution\n",
    "\n",
    "\n",
    "lon=np.linspace(dic['minlon'],dic['maxlon'],ni)\n",
    "lat=np.linspace(dic['minlat'],dic['maxlat'],nj)\n",
    "x, y = np.meshgrid(lon,lat)"
   ]
  },
  {
   "cell_type": "code",
   "execution_count": 4,
   "metadata": {},
   "outputs": [],
   "source": [
    "dic.update({'grid_x':x, 'grid_y':y})"
   ]
  },
  {
   "cell_type": "code",
   "execution_count": 5,
   "metadata": {},
   "outputs": [],
   "source": [
    "#Define the coastline shapefile\n",
    "shapefile = '/Users/brey/DATA/COASTLINES/naturalearth/coastline/ne_%sm_coastline.shp' % \\\n",
    "                    {'l':110, 'i':50, 'h':10}['i']"
   ]
  },
  {
   "cell_type": "code",
   "execution_count": 6,
   "metadata": {},
   "outputs": [
    {
     "name": "stdout",
     "output_type": "stream",
     "text": [
      "\n",
      "extracting dem from /Users/brey/DATA/GEBCO_2014_2D.nc\n",
      "\n",
      ".. interpolating on grid ..\n",
      "\n",
      "dem done\n"
     ]
    }
   ],
   "source": [
    "dem = gebco(**dic) # get bathymetry"
   ]
  },
  {
   "cell_type": "code",
   "execution_count": 7,
   "metadata": {},
   "outputs": [
    {
     "data": {
      "text/plain": [
       "<xarray.Dataset>\n",
       "Dimensions:  (dlat: 240, dlon: 360, i: 240, ilat: 20, ilon: 30, j: 360, k: 20, l: 30)\n",
       "Coordinates:\n",
       "  * dlat     (dlat) float64 50.5 50.51 50.52 50.53 50.54 50.55 50.55 50.56 ...\n",
       "  * dlon     (dlon) float64 -32.0 -32.0 -31.99 -31.98 -31.97 -31.96 -31.95 ...\n",
       "  * ilat     (ilat) float64 50.5 50.61 50.71 50.82 50.92 51.03 51.13 51.24 ...\n",
       "  * ilon     (ilon) float64 -32.0 -31.9 -31.79 -31.69 -31.59 -31.48 -31.38 ...\n",
       "Dimensions without coordinates: i, j, k, l\n",
       "Data variables:\n",
       "    dlats    (i, j) float64 50.5 50.5 50.5 50.5 50.5 50.5 50.5 50.5 50.5 ...\n",
       "    val      (dlat, dlon) float32 -3319.0 -3270.0 -3213.0 -3162.0 -3111.0 ...\n",
       "    dlons    (i, j) float64 -32.0 -32.0 -31.99 -31.98 -31.97 -31.96 -31.95 ...\n",
       "    ival     (ilat, ilon) float32 -3319.0 -2866.0 -3364.0 -3624.0 -3115.0 ...\n",
       "    ilats    (k, l) float64 50.5 50.5 50.5 50.5 50.5 50.5 50.5 50.5 50.5 ...\n",
       "    ilons    (k, l) float64 -32.0 -31.9 -31.79 -31.69 -31.59 -31.48 -31.38 ..."
      ]
     },
     "execution_count": 7,
     "metadata": {},
     "output_type": "execute_result"
    }
   ],
   "source": [
    "dem.Dataset"
   ]
  },
  {
   "cell_type": "code",
   "execution_count": 8,
   "metadata": {},
   "outputs": [],
   "source": [
    "#define coastline\n",
    "    \n",
    "shp = gp.GeoDataFrame.from_file(shapefile)\n",
    "\n",
    "           \n",
    "xp = dem.Dataset.ilons.values\n",
    "yp = dem.Dataset.ilats.values\n",
    "    \n",
    "    \n",
    "#put them all in a list\n",
    "ls=[]\n",
    "for i in range(shp.shape[0]):\n",
    "    il = shp.loc[i,'geometry']\n",
    "    try:\n",
    "        #print len(il)\n",
    "        for k in range(len(list(il.geoms))): # for MultiLineStrings\n",
    "            ls.append(list(il.geoms)[k])\n",
    "    except:\n",
    "        ls.append(il)\n",
    "            \n",
    "sall = shapely.geometry.MultiLineString(ls) # join\n",
    "c = shapely.ops.linemerge(sall) #merge\n",
    "    \n",
    "#Select the Line Strings that correspond to our grid\n",
    "#create a polygon of the grid\n",
    "grp=shapely.geometry.Polygon([(xp.min(),yp.min()),(xp.min(),yp.max()),(xp.max(),yp.max()),(xp.max(),yp.min())])    \n",
    "    \n",
    "cl=[] #initialize\n",
    "#add Polygons if they intersect with the grid\n",
    "for i in range(len(c)):\n",
    "    z = shapely.geometry.Polygon(c[i])\n",
    "    if z.intersects(grp): \n",
    "        cl.append(c[i])\n",
    "    \n",
    "cll = shapely.geometry.MultiLineString(cl) #join them into a Multiline\n",
    "cg = shapely.ops.linemerge(cll) #merge parts if possible\n",
    "    \n"
   ]
  },
  {
   "cell_type": "code",
   "execution_count": 9,
   "metadata": {},
   "outputs": [],
   "source": [
    "def loop0(xp,yp,cg):\n",
    "#check if the grid polygons intersect the shoreline\n",
    "    gps = []\n",
    "    igps = []\n",
    "    for i in range(0,xp.shape[0]-1):\n",
    "        for j in range(0,xp.shape[1]-1):\n",
    "            p = shapely.geometry.Polygon([(xp[i,j],yp[i,j]),(xp[i+1,j],yp[i+1,j]),(xp[i+1,j+1],yp[i+1,j+1]),(xp[i,j+1],yp[i,j+1])])\n",
    "            if not p.intersects(cg): \n",
    "                gps.append(p)\n",
    "                igps.append([i+1,j+1])\n",
    "                if i == 0 : \n",
    "                    igps.append([i,j])\n",
    "                    igps.append([i,j+1])\n",
    "                if j == 0 : \n",
    "                    igps.append([i,j])\n",
    "                    igps.append([i+1,j])\n",
    "    return igps"
   ]
  },
  {
   "cell_type": "markdown",
   "metadata": {},
   "source": [
    "## One core"
   ]
  },
  {
   "cell_type": "code",
   "execution_count": 10,
   "metadata": {},
   "outputs": [],
   "source": [
    "#%%timeit \n",
    "g1 = loop0(xp,yp,cg)"
   ]
  },
  {
   "cell_type": "code",
   "execution_count": 11,
   "metadata": {},
   "outputs": [],
   "source": [
    "solo = np.array(g1)"
   ]
  },
  {
   "cell_type": "code",
   "execution_count": 12,
   "metadata": {
    "scrolled": true
   },
   "outputs": [
    {
     "data": {
      "text/plain": [
       "(647, 2)"
      ]
     },
     "execution_count": 12,
     "metadata": {},
     "output_type": "execute_result"
    }
   ],
   "source": [
    "solo.shape"
   ]
  },
  {
   "cell_type": "markdown",
   "metadata": {},
   "source": [
    "## PP loop"
   ]
  },
  {
   "cell_type": "code",
   "execution_count": 13,
   "metadata": {},
   "outputs": [],
   "source": [
    "def loop(xp,yp,cg):\n",
    "#check if the grid polygons intersect the shoreline\n",
    "    gps = []\n",
    "    igps = []\n",
    "    for i in range(xp.shape[0]-1):\n",
    "        for j in range(xp.shape[1]-1):\n",
    "            p = shapely.geometry.Polygon([(xp[i,j],yp[i,j]),(xp[i+1,j],yp[i+1,j]),(xp[i+1,j+1],yp[i+1,j+1]),(xp[i,j+1],yp[i,j+1])])\n",
    "            if not p.intersects(cg): \n",
    "                gps.append(p)\n",
    "                igps.append([i+1,j+1])\n",
    "    \n",
    "    return igps"
   ]
  },
  {
   "cell_type": "code",
   "execution_count": 14,
   "metadata": {},
   "outputs": [
    {
     "name": "stderr",
     "output_type": "stream",
     "text": [
      "INFO:pp:Creating server instance (pp-1.6.6)\n",
      "INFO:pp:Running on Python 2.7.15 darwin\n",
      "INFO:pp:pp local server started with 8 workers\n"
     ]
    }
   ],
   "source": [
    "job_server = pp.Server() "
   ]
  },
  {
   "cell_type": "code",
   "execution_count": 15,
   "metadata": {},
   "outputs": [
    {
     "data": {
      "text/plain": [
       "8"
      ]
     },
     "execution_count": 15,
     "metadata": {},
     "output_type": "execute_result"
    }
   ],
   "source": [
    "job_server.get_ncpus()"
   ]
  },
  {
   "cell_type": "code",
   "execution_count": 16,
   "metadata": {},
   "outputs": [],
   "source": [
    "ncpus=8"
   ]
  },
  {
   "cell_type": "code",
   "execution_count": 17,
   "metadata": {},
   "outputs": [],
   "source": [
    "job_server.set_ncpus(ncpus)"
   ]
  },
  {
   "cell_type": "markdown",
   "metadata": {},
   "source": [
    "### split the array "
   ]
  },
  {
   "cell_type": "code",
   "execution_count": 18,
   "metadata": {},
   "outputs": [],
   "source": [
    "n = xp.shape[0]\n",
    "l=range(n)\n",
    "k = ncpus"
   ]
  },
  {
   "cell_type": "code",
   "execution_count": 19,
   "metadata": {},
   "outputs": [],
   "source": [
    "b = [l[i * (n // k) + min(i, n % k):(i+1) * (n // k) + min(i+1, n % k)] for i in range(k)]\n"
   ]
  },
  {
   "cell_type": "code",
   "execution_count": 20,
   "metadata": {},
   "outputs": [
    {
     "name": "stderr",
     "output_type": "stream",
     "text": [
      "INFO:pp:Task 0 started\n",
      "INFO:pp:Task 1 started\n",
      "INFO:pp:Task 2 started\n",
      "INFO:pp:Task 3 started\n",
      "INFO:pp:Task 4 started\n",
      "INFO:pp:Task 5 started\n",
      "INFO:pp:Task 6 started\n",
      "INFO:pp:Task 7 started\n"
     ]
    }
   ],
   "source": [
    "#%%timeit\n",
    "jobs=[]\n",
    "for l in range(ncpus):\n",
    "    extra=b[l][-1]+1 # add one to consider the jump between parts\n",
    "    part = b[l]+[extra]\n",
    "    if part[-1] >= xp.shape[0] : part = part[:-1] #control the last element\n",
    "    xl=xp[part,:]\n",
    "    yl=yp[part,:]   \n",
    "\n",
    "\n",
    "    jobs.append(job_server.submit(loop,(xl,yl,cg,),modules=('shapely',)))\n",
    "\n",
    "ps=jobs[0]()\n",
    "for l in range(1,ncpus):    \n",
    "    ps = np.vstack([ps, [[i+b[l][0],j] for [i,j] in jobs[l]()]]) # fix global index by adding the first index of part"
   ]
  },
  {
   "cell_type": "code",
   "execution_count": 33,
   "metadata": {},
   "outputs": [
    {
     "name": "stderr",
     "output_type": "stream",
     "text": [
      "/Users/brey/miniconda3/envs/dev/lib/python2.7/site-packages/pyPoseidon-0.3.0-py2.7-macosx-10.9-x86_64.egg/pyPoseidon/utils/vis.py:131: AccessorRegistrationWarning: registration of accessor <class 'pyPoseidon.utils.vis.splot'> under name 'splot' for type <class 'xarray.core.dataset.Dataset'> is overriding a preexisting attribute with the same name.\n",
      "  class splot(object):\n"
     ]
    }
   ],
   "source": [
    "job_server.destroy()"
   ]
  },
  {
   "cell_type": "markdown",
   "metadata": {},
   "source": [
    "## Add extra points from boundary\n"
   ]
  },
  {
   "cell_type": "code",
   "execution_count": 21,
   "metadata": {},
   "outputs": [],
   "source": [
    "bgps=[]\n",
    "for [i,j] in ps:\n",
    "    if i == 1 : \n",
    "        bgps.append([i-1,j-1])\n",
    "        bgps.append([i-1,j])\n",
    "    if j == 1 : \n",
    "        bgps.append([i-1,j-1])\n",
    "        bgps.append([i,j-1])"
   ]
  },
  {
   "cell_type": "code",
   "execution_count": 22,
   "metadata": {},
   "outputs": [],
   "source": [
    "ps = np.vstack([ps, bgps]) # final stack"
   ]
  },
  {
   "cell_type": "markdown",
   "metadata": {},
   "source": [
    "## Compare"
   ]
  },
  {
   "cell_type": "code",
   "execution_count": 23,
   "metadata": {},
   "outputs": [
    {
     "data": {
      "text/plain": [
       "True"
      ]
     },
     "execution_count": 23,
     "metadata": {},
     "output_type": "execute_result"
    }
   ],
   "source": [
    "sorted(solo[:,0]) == sorted(ps[:,0])"
   ]
  },
  {
   "cell_type": "code",
   "execution_count": 24,
   "metadata": {},
   "outputs": [
    {
     "data": {
      "text/plain": [
       "True"
      ]
     },
     "execution_count": 24,
     "metadata": {},
     "output_type": "execute_result"
    }
   ],
   "source": [
    "sorted(solo[:,1]) == sorted(ps[:,1])"
   ]
  },
  {
   "cell_type": "code",
   "execution_count": 25,
   "metadata": {},
   "outputs": [],
   "source": [
    "#create a mask of all cells not intersecting the shoreline\n",
    "imask=np.ones(xp.shape, dtype=bool)\n",
    "for [i,j] in ps:\n",
    "    imask[i,j]=0                \n"
   ]
  },
  {
   "cell_type": "code",
   "execution_count": 32,
   "metadata": {},
   "outputs": [
    {
     "data": {
      "text/plain": [
       "'GeometryCollection'"
      ]
     },
     "execution_count": 32,
     "metadata": {},
     "output_type": "execute_result"
    }
   ],
   "source": [
    "cg.geom_type"
   ]
  },
  {
   "cell_type": "code",
   "execution_count": 26,
   "metadata": {},
   "outputs": [
    {
     "ename": "NotImplementedError",
     "evalue": "Multi-part geometries do not themselves provide the array interface",
     "output_type": "error",
     "traceback": [
      "\u001b[0;31m---------------------------------------------------------------------------\u001b[0m",
      "\u001b[0;31mNotImplementedError\u001b[0m                       Traceback (most recent call last)",
      "\u001b[0;32m<ipython-input-26-3871cfec5b28>\u001b[0m in \u001b[0;36m<module>\u001b[0;34m()\u001b[0m\n\u001b[1;32m     18\u001b[0m                 \u001b[0myi\u001b[0m\u001b[0;34m.\u001b[0m\u001b[0mappend\u001b[0m\u001b[0;34m(\u001b[0m\u001b[0mY\u001b[0m\u001b[0;34m)\u001b[0m\u001b[0;34m\u001b[0m\u001b[0m\n\u001b[1;32m     19\u001b[0m \u001b[0;32melse\u001b[0m\u001b[0;34m:\u001b[0m\u001b[0;34m\u001b[0m\u001b[0m\n\u001b[0;32m---> 20\u001b[0;31m         \u001b[0mz\u001b[0m \u001b[0;34m=\u001b[0m \u001b[0mshapely\u001b[0m\u001b[0;34m.\u001b[0m\u001b[0mgeometry\u001b[0m\u001b[0;34m.\u001b[0m\u001b[0mPolygon\u001b[0m\u001b[0;34m(\u001b[0m\u001b[0mcg\u001b[0m\u001b[0;34m)\u001b[0m\u001b[0;34m\u001b[0m\u001b[0m\n\u001b[0m\u001b[1;32m     21\u001b[0m         \u001b[0mpath\u001b[0m \u001b[0;34m=\u001b[0m \u001b[0mmpltPath\u001b[0m\u001b[0;34m.\u001b[0m\u001b[0mPath\u001b[0m\u001b[0;34m(\u001b[0m\u001b[0mzip\u001b[0m\u001b[0;34m(\u001b[0m\u001b[0mz\u001b[0m\u001b[0;34m.\u001b[0m\u001b[0mboundary\u001b[0m\u001b[0;34m.\u001b[0m\u001b[0mxy\u001b[0m\u001b[0;34m[\u001b[0m\u001b[0;36m0\u001b[0m\u001b[0;34m]\u001b[0m\u001b[0;34m,\u001b[0m\u001b[0mz\u001b[0m\u001b[0;34m.\u001b[0m\u001b[0mboundary\u001b[0m\u001b[0;34m.\u001b[0m\u001b[0mxy\u001b[0m\u001b[0;34m[\u001b[0m\u001b[0;36m1\u001b[0m\u001b[0;34m]\u001b[0m\u001b[0;34m)\u001b[0m\u001b[0;34m)\u001b[0m\u001b[0;34m\u001b[0m\u001b[0m\n\u001b[1;32m     22\u001b[0m \u001b[0;34m\u001b[0m\u001b[0m\n",
      "\u001b[0;32m/Users/brey/miniconda3/envs/dev/lib/python2.7/site-packages/shapely/geometry/polygon.pyc\u001b[0m in \u001b[0;36m__init__\u001b[0;34m(self, shell, holes)\u001b[0m\n\u001b[1;32m    238\u001b[0m \u001b[0;34m\u001b[0m\u001b[0m\n\u001b[1;32m    239\u001b[0m         \u001b[0;32mif\u001b[0m \u001b[0mshell\u001b[0m \u001b[0;32mis\u001b[0m \u001b[0;32mnot\u001b[0m \u001b[0mNone\u001b[0m\u001b[0;34m:\u001b[0m\u001b[0;34m\u001b[0m\u001b[0m\n\u001b[0;32m--> 240\u001b[0;31m             \u001b[0mret\u001b[0m \u001b[0;34m=\u001b[0m \u001b[0mgeos_polygon_from_py\u001b[0m\u001b[0;34m(\u001b[0m\u001b[0mshell\u001b[0m\u001b[0;34m,\u001b[0m \u001b[0mholes\u001b[0m\u001b[0;34m)\u001b[0m\u001b[0;34m\u001b[0m\u001b[0m\n\u001b[0m\u001b[1;32m    241\u001b[0m             \u001b[0;32mif\u001b[0m \u001b[0mret\u001b[0m \u001b[0;32mis\u001b[0m \u001b[0;32mnot\u001b[0m \u001b[0mNone\u001b[0m\u001b[0;34m:\u001b[0m\u001b[0;34m\u001b[0m\u001b[0m\n\u001b[1;32m    242\u001b[0m                 \u001b[0mself\u001b[0m\u001b[0;34m.\u001b[0m\u001b[0m_geom\u001b[0m\u001b[0;34m,\u001b[0m \u001b[0mself\u001b[0m\u001b[0;34m.\u001b[0m\u001b[0m_ndim\u001b[0m \u001b[0;34m=\u001b[0m \u001b[0mret\u001b[0m\u001b[0;34m\u001b[0m\u001b[0m\n",
      "\u001b[0;32m/Users/brey/miniconda3/envs/dev/lib/python2.7/site-packages/shapely/geometry/polygon.pyc\u001b[0m in \u001b[0;36mgeos_polygon_from_py\u001b[0;34m(shell, holes)\u001b[0m\n\u001b[1;32m    492\u001b[0m \u001b[0;34m\u001b[0m\u001b[0m\n\u001b[1;32m    493\u001b[0m     \u001b[0;32mif\u001b[0m \u001b[0mshell\u001b[0m \u001b[0;32mis\u001b[0m \u001b[0;32mnot\u001b[0m \u001b[0mNone\u001b[0m\u001b[0;34m:\u001b[0m\u001b[0;34m\u001b[0m\u001b[0m\n\u001b[0;32m--> 494\u001b[0;31m         \u001b[0mret\u001b[0m \u001b[0;34m=\u001b[0m \u001b[0mgeos_linearring_from_py\u001b[0m\u001b[0;34m(\u001b[0m\u001b[0mshell\u001b[0m\u001b[0;34m)\u001b[0m\u001b[0;34m\u001b[0m\u001b[0m\n\u001b[0m\u001b[1;32m    495\u001b[0m         \u001b[0;32mif\u001b[0m \u001b[0mret\u001b[0m \u001b[0;32mis\u001b[0m \u001b[0mNone\u001b[0m\u001b[0;34m:\u001b[0m\u001b[0;34m\u001b[0m\u001b[0m\n\u001b[1;32m    496\u001b[0m             \u001b[0;32mreturn\u001b[0m \u001b[0mNone\u001b[0m\u001b[0;34m\u001b[0m\u001b[0m\n",
      "\u001b[0;32m/Users/brey/miniconda3/envs/dev/lib/python2.7/site-packages/shapely/speedups/_speedups.pyx\u001b[0m in \u001b[0;36mshapely.speedups._speedups.geos_linearring_from_py\u001b[0;34m()\u001b[0m\n\u001b[1;32m    232\u001b[0m     \u001b[0;32mtry\u001b[0m\u001b[0;34m:\u001b[0m\u001b[0;34m\u001b[0m\u001b[0m\n\u001b[1;32m    233\u001b[0m         \u001b[0;31m# From array protocol\u001b[0m\u001b[0;34m\u001b[0m\u001b[0;34m\u001b[0m\u001b[0m\n\u001b[0;32m--> 234\u001b[0;31m         \u001b[0marray\u001b[0m \u001b[0;34m=\u001b[0m \u001b[0mob\u001b[0m\u001b[0;34m.\u001b[0m\u001b[0m__array_interface__\u001b[0m\u001b[0;34m\u001b[0m\u001b[0m\n\u001b[0m\u001b[1;32m    235\u001b[0m         \u001b[0;32massert\u001b[0m \u001b[0mlen\u001b[0m\u001b[0;34m(\u001b[0m\u001b[0marray\u001b[0m\u001b[0;34m[\u001b[0m\u001b[0;34m'shape'\u001b[0m\u001b[0;34m]\u001b[0m\u001b[0;34m)\u001b[0m \u001b[0;34m==\u001b[0m \u001b[0;36m2\u001b[0m\u001b[0;34m\u001b[0m\u001b[0m\n\u001b[1;32m    236\u001b[0m         \u001b[0mm\u001b[0m \u001b[0;34m=\u001b[0m \u001b[0marray\u001b[0m\u001b[0;34m[\u001b[0m\u001b[0;34m'shape'\u001b[0m\u001b[0;34m]\u001b[0m\u001b[0;34m[\u001b[0m\u001b[0;36m0\u001b[0m\u001b[0;34m]\u001b[0m\u001b[0;34m\u001b[0m\u001b[0m\n",
      "\u001b[0;32m/Users/brey/miniconda3/envs/dev/lib/python2.7/site-packages/shapely/geometry/base.pyc\u001b[0m in \u001b[0;36m__array_interface__\u001b[0;34m(self)\u001b[0m\n\u001b[1;32m    792\u001b[0m     \u001b[0;32mdef\u001b[0m \u001b[0m__array_interface__\u001b[0m\u001b[0;34m(\u001b[0m\u001b[0mself\u001b[0m\u001b[0;34m)\u001b[0m\u001b[0;34m:\u001b[0m\u001b[0;34m\u001b[0m\u001b[0m\n\u001b[1;32m    793\u001b[0m         \u001b[0;34m\"\"\"Provide the Numpy array protocol.\"\"\"\u001b[0m\u001b[0;34m\u001b[0m\u001b[0m\n\u001b[0;32m--> 794\u001b[0;31m         raise NotImplementedError(\"Multi-part geometries do not themselves \"\n\u001b[0m\u001b[1;32m    795\u001b[0m                                   \"provide the array interface\")\n\u001b[1;32m    796\u001b[0m \u001b[0;34m\u001b[0m\u001b[0m\n",
      "\u001b[0;31mNotImplementedError\u001b[0m: Multi-part geometries do not themselves provide the array interface"
     ]
    }
   ],
   "source": [
    "\n",
    "points=zip(xp.flatten(),yp.flatten())\n",
    "    \n",
    "#collect the internal points\n",
    "xi=[]\n",
    "yi=[]\n",
    "if cg.geom_type.startswith('Multi'):\n",
    "        for i in range(len(cg)):\n",
    "            z = shapely.geometry.Polygon(cg[i])\n",
    "            path = mpltPath.Path(zip(z.boundary.xy[0],z.boundary.xy[1]))\n",
    "\n",
    "            inside = path.contains_points(points)\n",
    "\n",
    "            if np.sum(inside) > 0:\n",
    "                X = np.ma.masked_array(xp,mask=np.invert(inside)),\n",
    "                Y = np.ma.masked_array(yp,mask=np.invert(inside))\n",
    "                xi.append(X)\n",
    "                yi.append(Y) \n",
    "else:\n",
    "        z = shapely.geometry.Polygon(cg)\n",
    "        path = mpltPath.Path(zip(z.boundary.xy[0],z.boundary.xy[1]))\n",
    "\n",
    "        inside = path.contains_points(points)\n",
    "\n",
    "        if np.sum(inside) > 0:\n",
    "            X = np.ma.masked_array(xp,mask=np.invert(inside)),\n",
    "            Y = np.ma.masked_array(yp,mask=np.invert(inside))\n",
    "            xi.append(X)\n",
    "            yi.append(Y) \n",
    "\n",
    "\n",
    "    \n",
    "    #merge the masks \n",
    "gmask=np.ones(xi[0][0].shape, dtype=bool)\n",
    "for i in range(len(xi)):\n",
    "        gmask = np.logical_and(gmask,xi[i][0].mask)    \n",
    "    "
   ]
  },
  {
   "cell_type": "code",
   "execution_count": 126,
   "metadata": {},
   "outputs": [],
   "source": [
    "        \n",
    "# merge gmask and imask\n",
    "tmask =  np.logical_and(np.invert(imask),gmask)\n",
    "tmask = np.invert(tmask) \n"
   ]
  },
  {
   "cell_type": "code",
   "execution_count": 127,
   "metadata": {},
   "outputs": [
    {
     "data": {
      "text/plain": [
       "True"
      ]
     },
     "execution_count": 127,
     "metadata": {},
     "output_type": "execute_result"
    }
   ],
   "source": [
    "np.array_equal(imask,gmask)"
   ]
  },
  {
   "cell_type": "code",
   "execution_count": 128,
   "metadata": {},
   "outputs": [
    {
     "data": {
      "text/plain": [
       "False"
      ]
     },
     "execution_count": 128,
     "metadata": {},
     "output_type": "execute_result"
    }
   ],
   "source": [
    "np.array_equal(imask,tmask)"
   ]
  },
  {
   "cell_type": "code",
   "execution_count": 131,
   "metadata": {},
   "outputs": [
    {
     "name": "stderr",
     "output_type": "stream",
     "text": [
      "/Users/brey/miniconda3/envs/dev/lib/python2.7/site-packages/pyPoseidon-0.3.0-py2.7-macosx-10.9-x86_64.egg/pyPoseidon/utils/vis.py:131: AccessorRegistrationWarning: registration of accessor <class 'pyPoseidon.utils.vis.splot'> under name 'splot' for type <class 'xarray.core.dataset.Dataset'> is overriding a preexisting attribute with the same name.\n",
      "  class splot(object):\n"
     ]
    },
    {
     "data": {
      "text/plain": [
       "array([[False, False, False, ..., False, False, False],\n",
       "       [False, False, False, ..., False, False, False],\n",
       "       [False, False, False, ..., False, False, False],\n",
       "       ...,\n",
       "       [False, False, False, ..., False, False, False],\n",
       "       [False, False, False, ..., False, False, False],\n",
       "       [False, False, False, ..., False, False, False]])"
      ]
     },
     "execution_count": 131,
     "metadata": {},
     "output_type": "execute_result"
    }
   ],
   "source": [
    "imask#.sum(), gmask.sum(), tmask.sum()"
   ]
  },
  {
   "cell_type": "code",
   "execution_count": 83,
   "metadata": {},
   "outputs": [],
   "source": [
    "nc=50"
   ]
  },
  {
   "cell_type": "code",
   "execution_count": 84,
   "metadata": {},
   "outputs": [],
   "source": [
    "grid = np.invert(tmask).astype(int).astype(str)\n",
    "grid = [list(x) for x in grid]\n",
    "isls = Solution().numIslands(grid)\n",
    "\n"
   ]
  },
  {
   "cell_type": "code",
   "execution_count": 85,
   "metadata": {},
   "outputs": [
    {
     "data": {
      "text/plain": [
       "59"
      ]
     },
     "execution_count": 85,
     "metadata": {},
     "output_type": "execute_result"
    }
   ],
   "source": [
    "isls"
   ]
  },
  {
   "cell_type": "code",
   "execution_count": 86,
   "metadata": {},
   "outputs": [],
   "source": [
    "mgrid = np.array(grid).astype(int)\n",
    "nps = []\n",
    "for i in range(1, isls + 1):\n",
    "    nps.append(np.sum(mgrid != i))\n",
    "    \n",
    "grs = pd.DataFrame([(val, idx) for (idx, val) in enumerate(nps)],columns=['val','idx'])\n",
    "\n",
    "grs = grs.sort_values('val').reset_index(drop=True)\n",
    "    \n",
    "grs['np']=mgrid.size-grs.val # count number of points in islands\n",
    "    \n",
    "ne = grs[grs.np>nc].index.max() + 1\n",
    "\n"
   ]
  },
  {
   "cell_type": "code",
   "execution_count": 87,
   "metadata": {},
   "outputs": [
    {
     "data": {
      "text/plain": [
       "2"
      ]
     },
     "execution_count": 87,
     "metadata": {},
     "output_type": "execute_result"
    }
   ],
   "source": [
    "ne"
   ]
  },
  {
   "cell_type": "code",
   "execution_count": 88,
   "metadata": {},
   "outputs": [],
   "source": [
    "mask={}\n",
    "for i in range(ne):\n",
    "        b = mgrid.copy()\n",
    "        vm = np.ma.masked_array(b, b != grs.loc[i,'idx']+1)\n",
    "        vm[np.invert(vm.mask)] = 1    \n",
    "        mask.update({str(i):vm})\n",
    "\n",
    "fmask=np.zeros(xp.shape, dtype=bool) # initiate\n"
   ]
  },
  {
   "cell_type": "code",
   "execution_count": null,
   "metadata": {},
   "outputs": [],
   "source": []
  }
 ],
 "metadata": {
  "hide_input": false,
  "kernelspec": {
   "display_name": "dev",
   "language": "python",
   "name": "dev"
  },
  "language_info": {
   "codemirror_mode": {
    "name": "ipython",
    "version": 2
   },
   "file_extension": ".py",
   "mimetype": "text/x-python",
   "name": "python",
   "nbconvert_exporter": "python",
   "pygments_lexer": "ipython2",
   "version": "2.7.15"
  },
  "latex_envs": {
   "bibliofile": "biblio.bib",
   "cite_by": "apalike",
   "current_citInitial": 1,
   "eqLabelWithNumbers": true,
   "eqNumInitial": 0
  },
  "toc": {
   "base_numbering": 1,
   "nav_menu": {},
   "number_sections": true,
   "sideBar": true,
   "skip_h1_title": false,
   "title_cell": "Table of Contents",
   "title_sidebar": "Contents",
   "toc_cell": false,
   "toc_position": {},
   "toc_section_display": true,
   "toc_window_display": false
  }
 },
 "nbformat": 4,
 "nbformat_minor": 1
}
