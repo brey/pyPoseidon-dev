{
 "cells": [
  {
   "cell_type": "markdown",
   "metadata": {},
   "source": [
    "## Adjust bathymetry to Coastline "
   ]
  },
  {
   "cell_type": "code",
   "execution_count": null,
   "metadata": {},
   "outputs": [],
   "source": [
    "#to use the full width of the browser window uncomment the code below and execute the cell\n",
    "from IPython.core.display import display, HTML\n",
    "display(HTML(\"<style>.container { width:100% !important; }</style>\"))"
   ]
  },
  {
   "cell_type": "code",
   "execution_count": null,
   "metadata": {},
   "outputs": [],
   "source": [
    "import numpy as np\n",
    "import matplotlib.pyplot as plt\n",
    "from mpl_toolkits.basemap import Basemap"
   ]
  },
  {
   "cell_type": "code",
   "execution_count": null,
   "metadata": {},
   "outputs": [],
   "source": [
    "from pyresample import bilinear, geometry, kd_tree\n",
    "from pyresample import utils\n",
    "import pyproj\n"
   ]
  },
  {
   "cell_type": "code",
   "execution_count": null,
   "metadata": {},
   "outputs": [],
   "source": [
    "from pyPoseidon.dem import *\n",
    "from pyPoseidon.utils.fix import *"
   ]
  },
  {
   "cell_type": "code",
   "execution_count": null,
   "metadata": {},
   "outputs": [],
   "source": [
    "class Basemap(Basemap):\n",
    "    \"\"\" Modify Basemap to use Natural Earth data instead of GSHHG data \"\"\"\n",
    "    def drawcoastlines(self):\n",
    "        shapefile = '/Users/brey/DATA/COASTLINES/naturalearth/coastline/ne_%sm_coastline' % \\\n",
    "                    {'l':110, 'i':50, 'h':10}[self.resolution]\n",
    "        self.readshapefile(shapefile, 'coastline', linewidth=1.)\n",
    "#    def drawcountries(self):\n",
    "#        shapefile = '/Users/brey/Downloads/data/naturalearth/countries/ne_%sm_admin_0_countries' % \\\n",
    "#                    {'l':110, 'm':50, 'h':10}[self.resolution]\n",
    "#        self.readshapefile(shapefile, 'countries', linewidth=0.5)\n",
    "\n",
    "\n"
   ]
  },
  {
   "cell_type": "code",
   "execution_count": null,
   "metadata": {},
   "outputs": [],
   "source": [
    "dic = {'minlon' : 0., # lat/lon window\n",
    "       'maxlon' : 13.,\n",
    "       'minlat' : 54.5,\n",
    "       'maxlat' : 66.5,\n",
    "       'dem':'emodnet',\n",
    "       'dpath':'/Users/brey/DATA/emodnet_bathymetry.nc'}"
   ]
  },
  {
   "cell_type": "code",
   "execution_count": null,
   "metadata": {},
   "outputs": [],
   "source": [
    "dic = {'minlon' : 0., # lat/lon window\n",
    "       'maxlon' : 13.,\n",
    "       'minlat' : 54.5,\n",
    "       'maxlat' : 66.5,\n",
    "       'dem':'gebco',\n",
    "       'dpath':'/Users/brey/DATA/GEBCO_2014_2D.nc'}"
   ]
  },
  {
   "cell_type": "markdown",
   "metadata": {},
   "source": [
    "## Compute bathymetry"
   ]
  },
  {
   "cell_type": "code",
   "execution_count": null,
   "metadata": {},
   "outputs": [],
   "source": [
    "if dic['dem']=='emodnet':\n",
    "    b = emodnet(**dic)\n",
    "elif dic['dem']=='gebco':\n",
    "    b = gebco(**dic)"
   ]
  },
  {
   "cell_type": "code",
   "execution_count": null,
   "metadata": {},
   "outputs": [],
   "source": [
    "b.Dataset"
   ]
  },
  {
   "cell_type": "code",
   "execution_count": null,
   "metadata": {},
   "outputs": [],
   "source": [
    "b.Dataset.val.plot()"
   ]
  },
  {
   "cell_type": "markdown",
   "metadata": {},
   "source": [
    "##  Test pyresample for given grid"
   ]
  },
  {
   "cell_type": "markdown",
   "metadata": {},
   "source": [
    "### Make grid"
   ]
  },
  {
   "cell_type": "code",
   "execution_count": null,
   "metadata": {},
   "outputs": [],
   "source": [
    "## lat,lon grid\n",
    "lon=np.arange(dic['minlon'],dic['maxlon'],.1)\n",
    "lat=np.arange(dic['minlat'],dic['maxlat'],.1)\n",
    "x, y = np.meshgrid(lon,lat)"
   ]
  },
  {
   "cell_type": "markdown",
   "metadata": {},
   "source": [
    "### Test 1 - ImageContainerNearest"
   ]
  },
  {
   "cell_type": "code",
   "execution_count": null,
   "metadata": {},
   "outputs": [],
   "source": [
    "lons = b.Dataset.dlons.values\n",
    "lats = b.Dataset.dlats.values\n",
    "bath = b.Dataset.val.values"
   ]
  },
  {
   "cell_type": "code",
   "execution_count": null,
   "metadata": {},
   "outputs": [],
   "source": [
    "orig = pyresample.geometry.SwathDefinition(lons=lons,lats=lats) # original points\n",
    "targ = pyresample.geometry.SwathDefinition(lons=x,lats=y) # target grid"
   ]
  },
  {
   "cell_type": "code",
   "execution_count": null,
   "metadata": {},
   "outputs": [],
   "source": [
    "grid_con = pyresample.image.ImageContainerNearest(bath, orig, radius_of_influence=50000,fill_value=np.nan,nprocs=4)"
   ]
  },
  {
   "cell_type": "code",
   "execution_count": null,
   "metadata": {},
   "outputs": [],
   "source": [
    "area_con = grid_con.resample(targ)"
   ]
  },
  {
   "cell_type": "code",
   "execution_count": null,
   "metadata": {},
   "outputs": [],
   "source": [
    "result1 = area_con.image_data"
   ]
  },
  {
   "cell_type": "code",
   "execution_count": null,
   "metadata": {},
   "outputs": [],
   "source": []
  },
  {
   "cell_type": "markdown",
   "metadata": {},
   "source": [
    "### Test 2 - kd_tree.resample_nearest"
   ]
  },
  {
   "cell_type": "code",
   "execution_count": null,
   "metadata": {},
   "outputs": [],
   "source": [
    "lons = b.Dataset.dlons.values\n",
    "lats = b.Dataset.dlats.values\n",
    "bath = b.Dataset.val.values"
   ]
  },
  {
   "cell_type": "code",
   "execution_count": null,
   "metadata": {},
   "outputs": [],
   "source": [
    "orig = pyresample.geometry.SwathDefinition(lons=lons,lats=lats) # original points\n",
    "targ = pyresample.geometry.SwathDefinition(lons=x,lats=y) # target grid"
   ]
  },
  {
   "cell_type": "code",
   "execution_count": null,
   "metadata": {},
   "outputs": [],
   "source": [
    "result2 = pyresample.kd_tree.resample_nearest(orig,bath,targ,radius_of_influence=50000,fill_value=np.nan,nprocs=4)"
   ]
  },
  {
   "cell_type": "code",
   "execution_count": null,
   "metadata": {},
   "outputs": [],
   "source": [
    "## Compare \n",
    "np.array_equal(result1,result2)"
   ]
  },
  {
   "cell_type": "code",
   "execution_count": null,
   "metadata": {},
   "outputs": [],
   "source": [
    "plt.figure()\n",
    "m = Basemap(llcrnrlon=dic['minlon'], llcrnrlat=dic['minlat'], urcrnrlon=dic['maxlon'], urcrnrlat=dic['maxlat'],\n",
    "            resolution='i')  # resolution = (l)ow | (i)intermediate | (h)igh\n",
    "m.drawcoastlines()\n",
    "#m.contourf(xw,yw,result1)\n",
    "m.scatter(x,y,c=result2)\n",
    "\n",
    "\n",
    "m.colorbar()"
   ]
  },
  {
   "cell_type": "markdown",
   "metadata": {},
   "source": [
    "### Test 3 - bilinear.resample_bilinear"
   ]
  },
  {
   "cell_type": "code",
   "execution_count": null,
   "metadata": {},
   "outputs": [],
   "source": [
    "#Set lat/lon window for interpolation\n",
    "prj = pyproj.Proj('+proj=eqc +lat_ts=0 +lat_0=0 +lon_0=0 +x_0=0 +y_0=0 +ellps=WGS84 +datum=WGS84 +units=m +no_defs')\n",
    "[[a0,a1],[a2,a3]] = prj([dic['minlon'], dic['minlat']], [dic['maxlon'], dic['maxlat']])\n",
    "\n",
    "a0,a1,a2,a3"
   ]
  },
  {
   "cell_type": "code",
   "execution_count": null,
   "metadata": {
    "scrolled": true
   },
   "outputs": [],
   "source": [
    "target_def = pyresample.geometry.AreaDefinition('', '', '',\n",
    "                                {\n",
    "                                 'lat_0': '0.00', 'lat_ts': '0.00',\n",
    "                                 'lon_0': '0.00', 'proj': 'eqc'},\n",
    "                                x.shape[1], x.shape[0],\n",
    "                                [a0, a1,\n",
    "                                 a2, a3])\n",
    "\n",
    "print(target_def)"
   ]
  },
  {
   "cell_type": "code",
   "execution_count": null,
   "metadata": {},
   "outputs": [],
   "source": [
    "source_def = pyresample.geometry.SwathDefinition(lons=lons,lats=lats) # original bathymetry points"
   ]
  },
  {
   "cell_type": "code",
   "execution_count": null,
   "metadata": {},
   "outputs": [],
   "source": [
    "result3 = bilinear.resample_bilinear(bath, source_def, target_def,\n",
    "                                      radius=50e3, neighbours=32,\n",
    "                                      nprocs=1, fill_value=np.nan,\n",
    "                                      reduce_data=True, segments=None,\n",
    "                                      epsilon=0)\n"
   ]
  },
  {
   "cell_type": "code",
   "execution_count": null,
   "metadata": {},
   "outputs": [],
   "source": [
    "## Compare \n",
    "np.array_equal(result1,result3)"
   ]
  },
  {
   "cell_type": "code",
   "execution_count": null,
   "metadata": {},
   "outputs": [],
   "source": [
    "plt.figure()\n",
    "m = Basemap(llcrnrlon=dic['minlon'], llcrnrlat=dic['minlat'], urcrnrlon=dic['maxlon'], urcrnrlat=dic['maxlat'],\n",
    "            resolution='i')  # resolution = (l)ow | (i)intermediate | (h)igh\n",
    "m.drawcoastlines()\n",
    "#m.contourf(xw,yw,result1)\n",
    "m.scatter(x,y,c=np.flipud(result3))\n",
    "\n",
    "\n",
    "m.colorbar()"
   ]
  },
  {
   "cell_type": "code",
   "execution_count": null,
   "metadata": {},
   "outputs": [],
   "source": [
    "dif = result1 - np.flipud(result3)"
   ]
  },
  {
   "cell_type": "code",
   "execution_count": null,
   "metadata": {},
   "outputs": [],
   "source": [
    "plt.figure()\n",
    "m = Basemap(llcrnrlon=dic['minlon'], llcrnrlat=dic['minlat'], urcrnrlon=dic['maxlon'], urcrnrlat=dic['maxlat'],\n",
    "            resolution='i')  # resolution = (l)ow | (i)intermediate | (h)igh\n",
    "m.drawcoastlines()\n",
    "#m.contourf(xw,yw,result1)\n",
    "m.scatter(x,y,c=dif)\n",
    "\n",
    "\n",
    "m.colorbar()"
   ]
  },
  {
   "cell_type": "markdown",
   "metadata": {},
   "source": [
    "## use the shoreline"
   ]
  },
  {
   "cell_type": "markdown",
   "metadata": {},
   "source": [
    "### Make grid"
   ]
  },
  {
   "cell_type": "code",
   "execution_count": null,
   "metadata": {},
   "outputs": [],
   "source": [
    "## lat,lon grid\n",
    "lon=np.arange(dic['minlon'],dic['maxlon'],.1)\n",
    "lat=np.arange(dic['minlat'],dic['maxlat'],.1)\n",
    "x, y = np.meshgrid(lon,lat)"
   ]
  },
  {
   "cell_type": "code",
   "execution_count": null,
   "metadata": {},
   "outputs": [],
   "source": [
    "dic.update({'grid_x':x, 'grid_y':y})"
   ]
  },
  {
   "cell_type": "code",
   "execution_count": null,
   "metadata": {},
   "outputs": [],
   "source": [
    "points=zip(x.flatten(),y.flatten())"
   ]
  },
  {
   "cell_type": "markdown",
   "metadata": {},
   "source": [
    "### Get Bathymetry"
   ]
  },
  {
   "cell_type": "code",
   "execution_count": null,
   "metadata": {},
   "outputs": [],
   "source": [
    "if dic['dem']=='emodnet':\n",
    "    b = emodnet(**dic)\n",
    "elif dic['dem']=='gebco':\n",
    "    b = gebco(**dic)"
   ]
  },
  {
   "cell_type": "code",
   "execution_count": null,
   "metadata": {},
   "outputs": [],
   "source": [
    "shapefile = '/Users/brey/DATA/COASTLINES/naturalearth/coastline/ne_%sm_coastline.shp' % \\\n",
    "                    {'l':110, 'i':50, 'h':10}['i']"
   ]
  },
  {
   "cell_type": "code",
   "execution_count": null,
   "metadata": {},
   "outputs": [],
   "source": [
    "wmask, cg = fix(b,shapefile)"
   ]
  },
  {
   "cell_type": "code",
   "execution_count": null,
   "metadata": {},
   "outputs": [],
   "source": [
    "xp = b.Dataset.ilons.values\n",
    "yp = b.Dataset.ilats.values\n",
    "          \n",
    "##resample bathymetry\n",
    "xw=np.ma.masked_array(xp,wmask) #wet points \n",
    "yw=np.ma.masked_array(yp,wmask) \n",
    "\n",
    "\n"
   ]
  },
  {
   "cell_type": "code",
   "execution_count": null,
   "metadata": {},
   "outputs": [],
   "source": [
    "%matplotlib notebook"
   ]
  },
  {
   "cell_type": "code",
   "execution_count": null,
   "metadata": {},
   "outputs": [],
   "source": [
    "plt.figure()\n",
    "m = Basemap(llcrnrlon=dic['minlon'], llcrnrlat=dic['minlat'], urcrnrlon=dic['maxlon'], urcrnrlat=dic['maxlat'],\n",
    "            resolution='i')  # resolution = (l)ow | (i)intermediate | (h)igh\n",
    "m.drawcoastlines()\n",
    "#m.contourf(xw,yw,result1)\n",
    "m.scatter(xw,yw,c=b.Dataset.ival)\n",
    "\n",
    "\n",
    "m.colorbar()"
   ]
  },
  {
   "cell_type": "markdown",
   "metadata": {},
   "source": [
    "## Adjust bathymetry"
   ]
  },
  {
   "cell_type": "markdown",
   "metadata": {},
   "source": [
    "### Test 1 - ImageContainerNearest"
   ]
  },
  {
   "cell_type": "code",
   "execution_count": null,
   "metadata": {},
   "outputs": [],
   "source": [
    "xp = b.Dataset.ilons.values\n",
    "yp = b.Dataset.ilats.values\n",
    "          \n",
    "##resample bathymetry\n",
    "xw=np.ma.masked_array(xp,wmask) #wet points \n",
    "yw=np.ma.masked_array(yp,wmask) \n",
    "\n",
    "\n"
   ]
  },
  {
   "cell_type": "code",
   "execution_count": null,
   "metadata": {},
   "outputs": [],
   "source": [
    "b.Dataset.val.data[np.isnan(b.Dataset.val)]=9999. # fill the nan, if present, we values in order to compute values there if needed."
   ]
  },
  {
   "cell_type": "code",
   "execution_count": null,
   "metadata": {},
   "outputs": [],
   "source": [
    "wet = np.ma.masked_array(b.Dataset.val,b.Dataset.val>0)"
   ]
  },
  {
   "cell_type": "code",
   "execution_count": null,
   "metadata": {},
   "outputs": [],
   "source": [
    "\n",
    "\n",
    "\n",
    "mx = np.ma.masked_array(b.Dataset.dlons,b.Dataset.val>0) \n",
    "my = np.ma.masked_array(b.Dataset.dlats,b.Dataset.val>0)\n",
    "\n",
    "\n",
    "\n"
   ]
  },
  {
   "cell_type": "code",
   "execution_count": null,
   "metadata": {},
   "outputs": [],
   "source": [
    "orig = pyresample.geometry.SwathDefinition(lons=mx,lats=my) # original bathymetry points"
   ]
  },
  {
   "cell_type": "code",
   "execution_count": null,
   "metadata": {},
   "outputs": [],
   "source": [
    "targ = pyresample.geometry.SwathDefinition(lons=xw,lats=yw) # grid bathymetry points"
   ]
  },
  {
   "cell_type": "markdown",
   "metadata": {},
   "source": [
    "Note that it works also with pyresample.geometry.GridDefinition but it gives a warning due to Nan masking. The results are the same"
   ]
  },
  {
   "cell_type": "code",
   "execution_count": null,
   "metadata": {},
   "outputs": [],
   "source": [
    "grid_con = pyresample.image.ImageContainerNearest(wet, orig, radius_of_influence=50000,fill_value=np.nan)\n",
    "\n",
    "area_con = grid_con.resample(targ)\n",
    "\n",
    "result1 = area_con.image_data"
   ]
  },
  {
   "cell_type": "code",
   "execution_count": null,
   "metadata": {},
   "outputs": [],
   "source": [
    "plt.figure()\n",
    "m = Basemap(llcrnrlon=dic['minlon'], llcrnrlat=dic['minlat'], urcrnrlon=dic['maxlon'], urcrnrlat=dic['maxlat'],\n",
    "            resolution='i')  # resolution = (l)ow | (i)intermediate | (h)igh\n",
    "m.drawcoastlines()\n",
    "#m.contourf(xw,yw,result1)\n",
    "m.scatter(xw,yw,c=result1)\n",
    "\n",
    "\n",
    "m.colorbar()"
   ]
  },
  {
   "cell_type": "code",
   "execution_count": null,
   "metadata": {},
   "outputs": [],
   "source": [
    "dif1 = b.Dataset.ival - result1"
   ]
  },
  {
   "cell_type": "code",
   "execution_count": null,
   "metadata": {},
   "outputs": [],
   "source": [
    "plt.figure()\n",
    "m = Basemap(llcrnrlon=dic['minlon'], llcrnrlat=dic['minlat'], urcrnrlon=dic['maxlon'], urcrnrlat=dic['maxlat'],\n",
    "            resolution='i')  # resolution = (l)ow | (i)intermediate | (h)igh\n",
    "m.drawcoastlines()\n",
    "m.contourf(xw,yw,dif1)\n",
    "m.colorbar()"
   ]
  },
  {
   "cell_type": "markdown",
   "metadata": {},
   "source": [
    "### Test 2 - kd_tree.resample_nearest"
   ]
  },
  {
   "cell_type": "code",
   "execution_count": null,
   "metadata": {},
   "outputs": [],
   "source": [
    "orig = pyresample.geometry.SwathDefinition(lons=mx,lats=my) # original bathymetry points"
   ]
  },
  {
   "cell_type": "code",
   "execution_count": null,
   "metadata": {},
   "outputs": [],
   "source": [
    "targ = pyresample.geometry.SwathDefinition(lons=xw,lats=yw) # original bathymetry points"
   ]
  },
  {
   "cell_type": "code",
   "execution_count": null,
   "metadata": {},
   "outputs": [],
   "source": [
    "result2 = pyresample.kd_tree.resample_nearest(orig, wet, targ, radius_of_influence=50000,epsilon=0.5, fill_value=np.nan)"
   ]
  },
  {
   "cell_type": "code",
   "execution_count": null,
   "metadata": {},
   "outputs": [],
   "source": [
    "plt.figure()\n",
    "m = Basemap(llcrnrlon=dic['minlon'], llcrnrlat=dic['minlat'], urcrnrlon=dic['maxlon'], urcrnrlat=dic['maxlat'],\n",
    "            resolution='i')  # resolution = (l)ow | (i)intermediate | (h)igh\n",
    "m.drawcoastlines()\n",
    "#m.contourf(xw,yw,result2)\n",
    "m.scatter(xw,yw,c=result2)\n",
    "m.colorbar()"
   ]
  },
  {
   "cell_type": "code",
   "execution_count": null,
   "metadata": {},
   "outputs": [],
   "source": [
    "dif2 = b.Dataset.ival - result2"
   ]
  },
  {
   "cell_type": "code",
   "execution_count": null,
   "metadata": {},
   "outputs": [],
   "source": [
    "plt.figure()\n",
    "m = Basemap(llcrnrlon=dic['minlon'], llcrnrlat=dic['minlat'], urcrnrlon=dic['maxlon'], urcrnrlat=dic['maxlat'],\n",
    "            resolution='i')  # resolution = (l)ow | (i)intermediate | (h)igh\n",
    "m.drawcoastlines()\n",
    "m.contourf(xw,yw,dif2)\n",
    "m.colorbar()"
   ]
  },
  {
   "cell_type": "markdown",
   "metadata": {},
   "source": [
    "### Test 3 - kd_tree.resample_gauss"
   ]
  },
  {
   "cell_type": "code",
   "execution_count": null,
   "metadata": {},
   "outputs": [],
   "source": [
    "orig = pyresample.geometry.SwathDefinition(lons=mx,lats=my) # original bathymetry points"
   ]
  },
  {
   "cell_type": "code",
   "execution_count": null,
   "metadata": {},
   "outputs": [],
   "source": [
    "targ = pyresample.geometry.SwathDefinition(lons=xw,lats=yw) # original bathymetry points"
   ]
  },
  {
   "cell_type": "code",
   "execution_count": null,
   "metadata": {},
   "outputs": [],
   "source": [
    "result3 = pyresample.kd_tree.resample_gauss(orig, wet, targ, radius_of_influence=50000,sigmas=25000,fill_value=np.nan)"
   ]
  },
  {
   "cell_type": "code",
   "execution_count": null,
   "metadata": {},
   "outputs": [],
   "source": [
    "plt.figure()\n",
    "m = Basemap(llcrnrlon=dic['minlon'], llcrnrlat=dic['minlat'], urcrnrlon=dic['maxlon'], urcrnrlat=dic['maxlat'],\n",
    "            resolution='i')  # resolution = (l)ow | (i)intermediate | (h)igh\n",
    "m.drawcoastlines()\n",
    "#m.contourf(xw,yw,result3)\n",
    "m.scatter(xw,yw,c=result3)\n",
    "m.colorbar()"
   ]
  },
  {
   "cell_type": "code",
   "execution_count": null,
   "metadata": {},
   "outputs": [],
   "source": [
    "dif3 = b.Dataset.ival - result3"
   ]
  },
  {
   "cell_type": "code",
   "execution_count": null,
   "metadata": {},
   "outputs": [],
   "source": [
    "plt.figure()\n",
    "m = Basemap(llcrnrlon=dic['minlon'], llcrnrlat=dic['minlat'], urcrnrlon=dic['maxlon'], urcrnrlat=dic['maxlat'],\n",
    "            resolution='i')  # resolution = (l)ow | (i)intermediate | (h)igh\n",
    "m.drawcoastlines()\n",
    "m.contourf(xw,yw,dif3)\n",
    "m.colorbar()"
   ]
  },
  {
   "cell_type": "markdown",
   "metadata": {},
   "source": [
    "#### Test 4 - bilinear.resample_bilinear"
   ]
  },
  {
   "cell_type": "code",
   "execution_count": null,
   "metadata": {},
   "outputs": [],
   "source": [
    "#Set lat/lon window for interpolation\n",
    "prj = pyproj.Proj('+proj=eqc +lat_ts=0 +lat_0=0 +lon_0=0 +x_0=0 +y_0=0 +ellps=WGS84 +datum=WGS84 +units=m +no_defs')\n",
    "[[a0,a1],[a2,a3]] = prj([dic['minlon'], dic['minlat']], [dic['maxlon'], dic['maxlat']])\n",
    "\n",
    "a0,a1,a2,a3"
   ]
  },
  {
   "cell_type": "code",
   "execution_count": null,
   "metadata": {},
   "outputs": [],
   "source": [
    "area_id = ''\n",
    "description = ''\n",
    "proj_id = ''\n",
    "projection = '+proj=eqc +lat_ts=0 +lat_0=0 +lon_0=0 +x_0=0 +y_0=0 +ellps=WGS84 +datum=WGS84 +units=m'\n",
    "x_size = xw.shape[1]\n",
    "y_size = xw.shape[0]\n",
    "area_extent = (a0, a1, a2, a3)\n",
    "target_def = utils.get_area_def(area_id, description, proj_id, projection,\n",
    "                                       x_size, y_size, area_extent)\n",
    "print(target_def)\n",
    "\n"
   ]
  },
  {
   "cell_type": "markdown",
   "metadata": {},
   "source": [
    ".. or ..."
   ]
  },
  {
   "cell_type": "code",
   "execution_count": null,
   "metadata": {},
   "outputs": [],
   "source": [
    "target_def = pyresample.geometry.AreaDefinition('', '', '',\n",
    "                                {\n",
    "                                 'lat_0': '0.00', 'lat_ts': '0.00',\n",
    "                                 'lon_0': '0.00', 'proj': 'eqc'},\n",
    "                                xw.shape[1], xw.shape[0],\n",
    "                                [a0, a1,\n",
    "                                 a2, a3])\n",
    "\n",
    "print(target_def)"
   ]
  },
  {
   "cell_type": "code",
   "execution_count": null,
   "metadata": {},
   "outputs": [],
   "source": [
    "source_def = pyresample.geometry.SwathDefinition(lons=mx,lats=my) # original bathymetry points"
   ]
  },
  {
   "cell_type": "code",
   "execution_count": null,
   "metadata": {},
   "outputs": [],
   "source": [
    "result4 = bilinear.resample_bilinear(wet, source_def, target_def,\n",
    "                                      radius=50e3, neighbours=32,\n",
    "                                      nprocs=1, fill_value=np.nan,\n",
    "                                      reduce_data=True, segments=None,\n",
    "                                      epsilon=0)\n"
   ]
  },
  {
   "cell_type": "code",
   "execution_count": null,
   "metadata": {},
   "outputs": [],
   "source": [
    "result4 = np.flipud(result4) # WHY?"
   ]
  },
  {
   "cell_type": "code",
   "execution_count": null,
   "metadata": {},
   "outputs": [],
   "source": [
    "plt.figure()\n",
    "m = Basemap(llcrnrlon=dic['minlon'], llcrnrlat=dic['minlat'], urcrnrlon=dic['maxlon'], urcrnrlat=dic['maxlat'],\n",
    "            resolution='i')  # resolution = (l)ow | (i)intermediate | (h)igh\n",
    "m.drawcoastlines()\n",
    "#m.contourf(xw,yw,result4)\n",
    "m.scatter(xw,yw,c=result4)\n",
    "m.colorbar()"
   ]
  },
  {
   "cell_type": "code",
   "execution_count": null,
   "metadata": {},
   "outputs": [],
   "source": [
    "dif4 = b.Dataset.ival - result4"
   ]
  },
  {
   "cell_type": "code",
   "execution_count": null,
   "metadata": {},
   "outputs": [],
   "source": [
    "plt.figure()\n",
    "m = Basemap(llcrnrlon=dic['minlon'], llcrnrlat=dic['minlat'], urcrnrlon=dic['maxlon'], urcrnrlat=dic['maxlat'],\n",
    "            resolution='i')  # resolution = (l)ow | (i)intermediate | (h)igh\n",
    "m.drawcoastlines()\n",
    "m.contourf(xw,yw,dif4)\n",
    "m.colorbar()"
   ]
  },
  {
   "cell_type": "markdown",
   "metadata": {},
   "source": [
    "NOTE that bilinear doesn't work here due to Nan values"
   ]
  },
  {
   "cell_type": "code",
   "execution_count": null,
   "metadata": {},
   "outputs": [],
   "source": []
  }
 ],
 "metadata": {
  "kernelspec": {
   "display_name": "dev",
   "language": "python",
   "name": "dev"
  },
  "language_info": {
   "codemirror_mode": {
    "name": "ipython",
    "version": 2
   },
   "file_extension": ".py",
   "mimetype": "text/x-python",
   "name": "python",
   "nbconvert_exporter": "python",
   "pygments_lexer": "ipython2",
   "version": "2.7.15"
  },
  "toc": {
   "base_numbering": 1,
   "nav_menu": {},
   "number_sections": true,
   "sideBar": true,
   "skip_h1_title": false,
   "title_cell": "Table of Contents",
   "title_sidebar": "Contents",
   "toc_cell": false,
   "toc_position": {},
   "toc_section_display": true,
   "toc_window_display": false
  }
 },
 "nbformat": 4,
 "nbformat_minor": 2
}
