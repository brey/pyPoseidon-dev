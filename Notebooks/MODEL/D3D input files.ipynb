{
 "cells": [
  {
   "cell_type": "markdown",
   "metadata": {},
   "source": [
    "# Prototype for D3D input files"
   ]
  },
  {
   "cell_type": "code",
   "execution_count": 1,
   "metadata": {},
   "outputs": [],
   "source": [
    "import pandas as pd"
   ]
  },
  {
   "cell_type": "code",
   "execution_count": 2,
   "metadata": {},
   "outputs": [],
   "source": [
    "import numpy as np"
   ]
  },
  {
   "cell_type": "code",
   "execution_count": 22,
   "metadata": {},
   "outputs": [],
   "source": [
    "import xarray as xr"
   ]
  },
  {
   "cell_type": "markdown",
   "metadata": {},
   "source": [
    "## READ mdf files"
   ]
  },
  {
   "cell_type": "code",
   "execution_count": 3,
   "metadata": {},
   "outputs": [],
   "source": [
    "mdf = pd.read_csv('/Users/brey/GitHub/pyPoseidon/pyPoseidon/misc/default.mdf',sep='=')"
   ]
  },
  {
   "cell_type": "code",
   "execution_count": 4,
   "metadata": {},
   "outputs": [],
   "source": [
    "mdf=mdf.set_index(mdf.columns[0])"
   ]
  },
  {
   "cell_type": "code",
   "execution_count": 5,
   "metadata": {},
   "outputs": [
    {
     "data": {
      "text/plain": [
       " #Delft3D-FLOW  .03.02 3.42.00.17210#     #med.grd#\n",
       "Name: Filcco , dtype: object"
      ]
     },
     "execution_count": 5,
     "metadata": {},
     "output_type": "execute_result"
    }
   ],
   "source": [
    "mdf.iloc[1]"
   ]
  },
  {
   "cell_type": "markdown",
   "metadata": {},
   "source": [
    "### sort out the spaces issue"
   ]
  },
  {
   "cell_type": "code",
   "execution_count": 6,
   "metadata": {},
   "outputs": [],
   "source": [
    "mdfidx = mdf.index.str.strip()"
   ]
  },
  {
   "cell_type": "code",
   "execution_count": 7,
   "metadata": {},
   "outputs": [
    {
     "data": {
      "text/plain": [
       "True"
      ]
     },
     "execution_count": 7,
     "metadata": {},
     "output_type": "execute_result"
    }
   ],
   "source": [
    "'FlNcdf' in mdfidx"
   ]
  },
  {
   "cell_type": "code",
   "execution_count": 9,
   "metadata": {},
   "outputs": [],
   "source": [
    "mdf = pd.read_csv('/Users/brey/Downloads/EUR/D3D/20100201.00/eur01.mdf',sep='=')"
   ]
  },
  {
   "cell_type": "code",
   "execution_count": 10,
   "metadata": {},
   "outputs": [],
   "source": [
    "mdf = mdf.set_index(mdf.columns[0])"
   ]
  },
  {
   "cell_type": "code",
   "execution_count": 11,
   "metadata": {},
   "outputs": [],
   "source": [
    "mdf.index = mdf.index.str.strip()"
   ]
  },
  {
   "cell_type": "code",
   "execution_count": 13,
   "metadata": {},
   "outputs": [
    {
     "data": {
      "text/html": [
       "<div>\n",
       "<style scoped>\n",
       "    .dataframe tbody tr th:only-of-type {\n",
       "        vertical-align: middle;\n",
       "    }\n",
       "\n",
       "    .dataframe tbody tr th {\n",
       "        vertical-align: top;\n",
       "    }\n",
       "\n",
       "    .dataframe thead th {\n",
       "        text-align: right;\n",
       "    }\n",
       "</style>\n",
       "<table border=\"1\" class=\"dataframe\">\n",
       "  <thead>\n",
       "    <tr style=\"text-align: right;\">\n",
       "      <th></th>\n",
       "      <th>#Delft3D-FLOW  .03.02 3.42.00.17210#</th>\n",
       "    </tr>\n",
       "    <tr>\n",
       "      <th>Ident</th>\n",
       "      <th></th>\n",
       "    </tr>\n",
       "  </thead>\n",
       "  <tbody>\n",
       "    <tr>\n",
       "      <th>Commnt</th>\n",
       "      <td></td>\n",
       "    </tr>\n",
       "    <tr>\n",
       "      <th>Filcco</th>\n",
       "      <td>#eur01.grd#</td>\n",
       "    </tr>\n",
       "    <tr>\n",
       "      <th>Filgrd</th>\n",
       "      <td>#eur01.enc#</td>\n",
       "    </tr>\n",
       "    <tr>\n",
       "      <th>MNKmax</th>\n",
       "      <td>771 516 1</td>\n",
       "    </tr>\n",
       "    <tr>\n",
       "      <th>Thick</th>\n",
       "      <td>100.0</td>\n",
       "    </tr>\n",
       "    <tr>\n",
       "      <th>Fildep</th>\n",
       "      <td>#eur01.dep#</td>\n",
       "    </tr>\n",
       "    <tr>\n",
       "      <th>Itdate</th>\n",
       "      <td>#2010-02-01#</td>\n",
       "    </tr>\n",
       "    <tr>\n",
       "      <th>Tunit</th>\n",
       "      <td>#M#</td>\n",
       "    </tr>\n",
       "    <tr>\n",
       "      <th>Tstart</th>\n",
       "      <td>0</td>\n",
       "    </tr>\n",
       "    <tr>\n",
       "      <th>Tstop</th>\n",
       "      <td>720</td>\n",
       "    </tr>\n",
       "    <tr>\n",
       "      <th>Dt</th>\n",
       "      <td>1.0</td>\n",
       "    </tr>\n",
       "    <tr>\n",
       "      <th>Tzone</th>\n",
       "      <td>0</td>\n",
       "    </tr>\n",
       "    <tr>\n",
       "      <th>Sub1</th>\n",
       "      <td>#  W #</td>\n",
       "    </tr>\n",
       "    <tr>\n",
       "      <th>Sub2</th>\n",
       "      <td>#   #</td>\n",
       "    </tr>\n",
       "    <tr>\n",
       "      <th>Wnsvwp</th>\n",
       "      <td>#Y#</td>\n",
       "    </tr>\n",
       "    <tr>\n",
       "      <th>Wndint</th>\n",
       "      <td>#Y#</td>\n",
       "    </tr>\n",
       "    <tr>\n",
       "      <th>Zeta0</th>\n",
       "      <td>0</td>\n",
       "    </tr>\n",
       "    <tr>\n",
       "      <th>Filbnd</th>\n",
       "      <td>##</td>\n",
       "    </tr>\n",
       "    <tr>\n",
       "      <th>Fmtbnd</th>\n",
       "      <td>#FR#</td>\n",
       "    </tr>\n",
       "    <tr>\n",
       "      <th>Filana</th>\n",
       "      <td>##</td>\n",
       "    </tr>\n",
       "    <tr>\n",
       "      <th>Fmtana</th>\n",
       "      <td>#FR#</td>\n",
       "    </tr>\n",
       "    <tr>\n",
       "      <th>Ag</th>\n",
       "      <td>9.81</td>\n",
       "    </tr>\n",
       "    <tr>\n",
       "      <th>Rhow</th>\n",
       "      <td>1000</td>\n",
       "    </tr>\n",
       "    <tr>\n",
       "      <th>Tempw</th>\n",
       "      <td>15</td>\n",
       "    </tr>\n",
       "    <tr>\n",
       "      <th>Salw</th>\n",
       "      <td>31</td>\n",
       "    </tr>\n",
       "    <tr>\n",
       "      <th>Wstres</th>\n",
       "      <td>0.001 0 0.003 25 0.003 25</td>\n",
       "    </tr>\n",
       "    <tr>\n",
       "      <th>Rhoa</th>\n",
       "      <td>1</td>\n",
       "    </tr>\n",
       "    <tr>\n",
       "      <th>Betac</th>\n",
       "      <td>0.5</td>\n",
       "    </tr>\n",
       "    <tr>\n",
       "      <th>Equili</th>\n",
       "      <td>#N#</td>\n",
       "    </tr>\n",
       "    <tr>\n",
       "      <th>Ktemp</th>\n",
       "      <td>0</td>\n",
       "    </tr>\n",
       "    <tr>\n",
       "      <th>...</th>\n",
       "      <td>...</td>\n",
       "    </tr>\n",
       "    <tr>\n",
       "      <th>Trasol</th>\n",
       "      <td>#Cyclic-method#</td>\n",
       "    </tr>\n",
       "    <tr>\n",
       "      <th>Momsol</th>\n",
       "      <td>#Cyclic#</td>\n",
       "    </tr>\n",
       "    <tr>\n",
       "      <th>Filsta</th>\n",
       "      <td>##</td>\n",
       "    </tr>\n",
       "    <tr>\n",
       "      <th>SMhydr</th>\n",
       "      <td>#YYYYY#</td>\n",
       "    </tr>\n",
       "    <tr>\n",
       "      <th>SMderv</th>\n",
       "      <td>#YYYYYY#</td>\n",
       "    </tr>\n",
       "    <tr>\n",
       "      <th>SMproc</th>\n",
       "      <td>#YYYYYYYYYY#</td>\n",
       "    </tr>\n",
       "    <tr>\n",
       "      <th>PMhydr</th>\n",
       "      <td>#YYYYYY#</td>\n",
       "    </tr>\n",
       "    <tr>\n",
       "      <th>PMderv</th>\n",
       "      <td>#YYY#</td>\n",
       "    </tr>\n",
       "    <tr>\n",
       "      <th>PMproc</th>\n",
       "      <td>#YYYYYYYYYY#</td>\n",
       "    </tr>\n",
       "    <tr>\n",
       "      <th>SHhydr</th>\n",
       "      <td>#YYYY#</td>\n",
       "    </tr>\n",
       "    <tr>\n",
       "      <th>SHderv</th>\n",
       "      <td>#YYYYY#</td>\n",
       "    </tr>\n",
       "    <tr>\n",
       "      <th>SHproc</th>\n",
       "      <td>#YYYYYYYYYY#</td>\n",
       "    </tr>\n",
       "    <tr>\n",
       "      <th>SHflux</th>\n",
       "      <td>#YYYY#</td>\n",
       "    </tr>\n",
       "    <tr>\n",
       "      <th>PHhydr</th>\n",
       "      <td>#YYYYYY#</td>\n",
       "    </tr>\n",
       "    <tr>\n",
       "      <th>PHderv</th>\n",
       "      <td>#YYY#</td>\n",
       "    </tr>\n",
       "    <tr>\n",
       "      <th>PHproc</th>\n",
       "      <td>#YYYYYYYYYY#</td>\n",
       "    </tr>\n",
       "    <tr>\n",
       "      <th>PHflux</th>\n",
       "      <td>#YYYY#</td>\n",
       "    </tr>\n",
       "    <tr>\n",
       "      <th>Online</th>\n",
       "      <td>#N#</td>\n",
       "    </tr>\n",
       "    <tr>\n",
       "      <th>Prhis</th>\n",
       "      <td>0 0 0</td>\n",
       "    </tr>\n",
       "    <tr>\n",
       "      <th>Flmap</th>\n",
       "      <td>0 60 720</td>\n",
       "    </tr>\n",
       "    <tr>\n",
       "      <th>Flhis</th>\n",
       "      <td>0 1.0 720</td>\n",
       "    </tr>\n",
       "    <tr>\n",
       "      <th>Flpp</th>\n",
       "      <td>0 0 0</td>\n",
       "    </tr>\n",
       "    <tr>\n",
       "      <th>Flrst</th>\n",
       "      <td>720</td>\n",
       "    </tr>\n",
       "    <tr>\n",
       "      <th>Filwp</th>\n",
       "      <td>#p.amp#</td>\n",
       "    </tr>\n",
       "    <tr>\n",
       "      <th>Filwu</th>\n",
       "      <td>#u.amu#</td>\n",
       "    </tr>\n",
       "    <tr>\n",
       "      <th>Filwv</th>\n",
       "      <td>#v.amv#</td>\n",
       "    </tr>\n",
       "    <tr>\n",
       "      <th>OCorio</th>\n",
       "      <td>#N#</td>\n",
       "    </tr>\n",
       "    <tr>\n",
       "      <th>AirOut</th>\n",
       "      <td>#Y#</td>\n",
       "    </tr>\n",
       "    <tr>\n",
       "      <th>PavBnd</th>\n",
       "      <td>102200</td>\n",
       "    </tr>\n",
       "    <tr>\n",
       "      <th>FlNcdf</th>\n",
       "      <td>#map his#</td>\n",
       "    </tr>\n",
       "  </tbody>\n",
       "</table>\n",
       "<p>82 rows × 1 columns</p>\n",
       "</div>"
      ],
      "text/plain": [
       "         #Delft3D-FLOW  .03.02 3.42.00.17210#\n",
       "Ident                                        \n",
       "Commnt                                       \n",
       "Filcco                            #eur01.grd#\n",
       "Filgrd                            #eur01.enc#\n",
       "MNKmax                              771 516 1\n",
       "Thick                                   100.0\n",
       "Fildep                            #eur01.dep#\n",
       "Itdate                           #2010-02-01#\n",
       "Tunit                                     #M#\n",
       "Tstart                                      0\n",
       "Tstop                                     720\n",
       "Dt                                        1.0\n",
       "Tzone                                       0\n",
       "Sub1                                   #  W #\n",
       "Sub2                                    #   #\n",
       "Wnsvwp                                    #Y#\n",
       "Wndint                                    #Y#\n",
       "Zeta0                                       0\n",
       "Filbnd                                     ##\n",
       "Fmtbnd                                   #FR#\n",
       "Filana                                     ##\n",
       "Fmtana                                   #FR#\n",
       "Ag                                       9.81\n",
       "Rhow                                     1000\n",
       "Tempw                                      15\n",
       "Salw                                       31\n",
       "Wstres              0.001 0 0.003 25 0.003 25\n",
       "Rhoa                                        1\n",
       "Betac                                     0.5\n",
       "Equili                                    #N#\n",
       "Ktemp                                       0\n",
       "...                                       ...\n",
       "Trasol                        #Cyclic-method#\n",
       "Momsol                               #Cyclic#\n",
       "Filsta                                     ##\n",
       "SMhydr                                #YYYYY#\n",
       "SMderv                               #YYYYYY#\n",
       "SMproc                           #YYYYYYYYYY#\n",
       "PMhydr                               #YYYYYY#\n",
       "PMderv                                  #YYY#\n",
       "PMproc                           #YYYYYYYYYY#\n",
       "SHhydr                                 #YYYY#\n",
       "SHderv                                #YYYYY#\n",
       "SHproc                           #YYYYYYYYYY#\n",
       "SHflux                                 #YYYY#\n",
       "PHhydr                               #YYYYYY#\n",
       "PHderv                                  #YYY#\n",
       "PHproc                           #YYYYYYYYYY#\n",
       "PHflux                                 #YYYY#\n",
       "Online                                    #N#\n",
       "Prhis                                   0 0 0\n",
       "Flmap                                0 60 720\n",
       "Flhis                               0 1.0 720\n",
       "Flpp                                    0 0 0\n",
       "Flrst                                     720\n",
       "Filwp                                 #p.amp#\n",
       "Filwu                                 #u.amu#\n",
       "Filwv                                 #v.amv#\n",
       "OCorio                                    #N#\n",
       "AirOut                                    #Y#\n",
       "PavBnd                                 102200\n",
       "FlNcdf                              #map his#\n",
       "\n",
       "[82 rows x 1 columns]"
      ]
     },
     "execution_count": 13,
     "metadata": {},
     "output_type": "execute_result"
    }
   ],
   "source": [
    "mdf"
   ]
  },
  {
   "cell_type": "markdown",
   "metadata": {},
   "source": [
    "### modify "
   ]
  },
  {
   "cell_type": "code",
   "execution_count": 14,
   "metadata": {},
   "outputs": [],
   "source": [
    "mdf.loc[mdf.index.str.contains('Itdate')]='#2016-08-20#'"
   ]
  },
  {
   "cell_type": "code",
   "execution_count": 16,
   "metadata": {},
   "outputs": [
    {
     "data": {
      "text/html": [
       "<div>\n",
       "<style scoped>\n",
       "    .dataframe tbody tr th:only-of-type {\n",
       "        vertical-align: middle;\n",
       "    }\n",
       "\n",
       "    .dataframe tbody tr th {\n",
       "        vertical-align: top;\n",
       "    }\n",
       "\n",
       "    .dataframe thead th {\n",
       "        text-align: right;\n",
       "    }\n",
       "</style>\n",
       "<table border=\"1\" class=\"dataframe\">\n",
       "  <thead>\n",
       "    <tr style=\"text-align: right;\">\n",
       "      <th></th>\n",
       "      <th>#Delft3D-FLOW  .03.02 3.42.00.17210#</th>\n",
       "    </tr>\n",
       "    <tr>\n",
       "      <th>Ident</th>\n",
       "      <th></th>\n",
       "    </tr>\n",
       "  </thead>\n",
       "  <tbody>\n",
       "    <tr>\n",
       "      <th>Itdate</th>\n",
       "      <td>#2016-08-20#</td>\n",
       "    </tr>\n",
       "  </tbody>\n",
       "</table>\n",
       "</div>"
      ],
      "text/plain": [
       "         #Delft3D-FLOW  .03.02 3.42.00.17210#\n",
       "Ident                                        \n",
       "Itdate                           #2016-08-20#"
      ]
     },
     "execution_count": 16,
     "metadata": {},
     "output_type": "execute_result"
    }
   ],
   "source": [
    "mdf.loc[mdf.index.str.contains('Itdate')]"
   ]
  },
  {
   "cell_type": "code",
   "execution_count": 17,
   "metadata": {},
   "outputs": [],
   "source": [
    "if not 'FlNcdf' in mdf.index : mdf.loc['FlNcdf'] = '#map his#'"
   ]
  },
  {
   "cell_type": "markdown",
   "metadata": {},
   "source": [
    "### save"
   ]
  },
  {
   "cell_type": "code",
   "execution_count": 47,
   "metadata": {},
   "outputs": [],
   "source": [
    "mdf.to_csv('/Users/brey/Downloads/test.mdf',sep='=')"
   ]
  },
  {
   "cell_type": "markdown",
   "metadata": {},
   "source": [
    "##  GRID file"
   ]
  },
  {
   "cell_type": "markdown",
   "metadata": {},
   "source": [
    "### Create xarray for grid"
   ]
  },
  {
   "cell_type": "code",
   "execution_count": 18,
   "metadata": {},
   "outputs": [],
   "source": [
    "minlon= -79. \n",
    "maxlon=  -76.\n",
    "minlat= 17.\n",
    "maxlat= 19.\n",
    "resolution=0.2"
   ]
  },
  {
   "cell_type": "code",
   "execution_count": 19,
   "metadata": {},
   "outputs": [],
   "source": [
    "ni=int(round((maxlon-minlon)/resolution)) #these are cell numbers\n",
    "nj=int(round((maxlat-minlat)/resolution))\n",
    "  \n",
    "maxlon=minlon+ni*resolution #adjust max lon to much the grid\n",
    "maxlat=minlat+nj*resolution\n",
    "\n",
    "       \n",
    "ni=ni+1 # transfrom to grid points\n",
    "nj=nj+1\n"
   ]
  },
  {
   "cell_type": "code",
   "execution_count": 20,
   "metadata": {},
   "outputs": [],
   "source": [
    "x=np.linspace(minlon,maxlon,ni)\n",
    "y=np.linspace(minlat,maxlat,nj)\n",
    "gx,gy=np.meshgrid(x,y)\n"
   ]
  },
  {
   "cell_type": "code",
   "execution_count": 23,
   "metadata": {},
   "outputs": [],
   "source": [
    "g = xr.Dataset({'lons': (['x', 'y'], gx),   \n",
    "                'lats': (['x', 'y'], gy)})"
   ]
  },
  {
   "cell_type": "code",
   "execution_count": 24,
   "metadata": {},
   "outputs": [],
   "source": [
    "g.attrs = {'Coordinate System': 'Spherical', 'alfori': 0.0, 'xori': 0.0, 'yori': 0.0}"
   ]
  },
  {
   "cell_type": "code",
   "execution_count": 25,
   "metadata": {},
   "outputs": [
    {
     "data": {
      "text/plain": [
       "<xarray.Dataset>\n",
       "Dimensions:  (x: 11, y: 16)\n",
       "Dimensions without coordinates: x, y\n",
       "Data variables:\n",
       "    lons     (x, y) float64 -79.0 -78.8 -78.6 -78.4 -78.2 -78.0 -77.8 -77.6 ...\n",
       "    lats     (x, y) float64 17.0 17.0 17.0 17.0 17.0 17.0 17.0 17.0 17.0 ...\n",
       "Attributes:\n",
       "    Coordinate System:  Spherical\n",
       "    xori:               0.0\n",
       "    yori:               0.0\n",
       "    alfori:             0.0"
      ]
     },
     "execution_count": 25,
     "metadata": {},
     "output_type": "execute_result"
    }
   ],
   "source": [
    "g"
   ]
  },
  {
   "cell_type": "markdown",
   "metadata": {},
   "source": [
    "### write file"
   ]
  },
  {
   "cell_type": "code",
   "execution_count": 26,
   "metadata": {},
   "outputs": [],
   "source": [
    "filename = '/Users/brey/Downloads/d3d.grd'"
   ]
  },
  {
   "cell_type": "code",
   "execution_count": 27,
   "metadata": {},
   "outputs": [],
   "source": [
    "with open(filename,'w') as f:\n",
    "    f.write('Coordinate System= {}\\n'.format(g.attrs['Coordinate System']))\n",
    "    f.write('{} {}\\n'.format(g.lons.shape[1],g.lons.shape[0]))\n",
    "    f.write('{} {} {}\\n'.format(g.attrs['xori'],g.attrs['yori'],g.attrs['alfori']))\n",
    "    for i in range(g.lons.shape[0]):\n",
    "        f.write('ETA=  {} '.format(i+1))\n",
    "        f.write(' '.join(map(str, g.lons[i,:].values)))\n",
    "        f.write('\\n')\n",
    "    for i in range(g.lats.shape[0]):\n",
    "        f.write('ETA=  {} '.format(i+1))\n",
    "        f.write(' '.join(map(str, g.lats[i,:].values)))\n",
    "        f.write('\\n')\n",
    "\n",
    "    "
   ]
  },
  {
   "cell_type": "markdown",
   "metadata": {},
   "source": [
    "### Read grid file"
   ]
  },
  {
   "cell_type": "code",
   "execution_count": 28,
   "metadata": {},
   "outputs": [],
   "source": [
    "filename = '/Users/brey/Downloads/d3d.grd'"
   ]
  },
  {
   "cell_type": "code",
   "execution_count": 29,
   "metadata": {
    "scrolled": true
   },
   "outputs": [
    {
     "data": {
      "text/html": [
       "<div>\n",
       "<style scoped>\n",
       "    .dataframe tbody tr th:only-of-type {\n",
       "        vertical-align: middle;\n",
       "    }\n",
       "\n",
       "    .dataframe tbody tr th {\n",
       "        vertical-align: top;\n",
       "    }\n",
       "\n",
       "    .dataframe thead th {\n",
       "        text-align: right;\n",
       "    }\n",
       "</style>\n",
       "<table border=\"1\" class=\"dataframe\">\n",
       "  <thead>\n",
       "    <tr style=\"text-align: right;\">\n",
       "      <th></th>\n",
       "      <th>0</th>\n",
       "    </tr>\n",
       "  </thead>\n",
       "  <tbody>\n",
       "    <tr>\n",
       "      <th>0</th>\n",
       "      <td>Coordinate System= Spherical</td>\n",
       "    </tr>\n",
       "    <tr>\n",
       "      <th>1</th>\n",
       "      <td>16 11</td>\n",
       "    </tr>\n",
       "    <tr>\n",
       "      <th>2</th>\n",
       "      <td>0.0 0.0 0.0</td>\n",
       "    </tr>\n",
       "  </tbody>\n",
       "</table>\n",
       "</div>"
      ],
      "text/plain": [
       "                              0\n",
       "0  Coordinate System= Spherical\n",
       "1                         16 11\n",
       "2                   0.0 0.0 0.0"
      ]
     },
     "execution_count": 29,
     "metadata": {},
     "output_type": "execute_result"
    }
   ],
   "source": [
    "header=pd.read_csv(filename,nrows=3,header=None,comment='*')\n",
    "header"
   ]
  },
  {
   "cell_type": "code",
   "execution_count": 30,
   "metadata": {},
   "outputs": [],
   "source": [
    "cs = header.loc[0,0].split('=')[1].strip()\n",
    "ni,nj = header.loc[1,0].split(' ')\n",
    "ni,nj = int(ni),int(nj)\n",
    "alfori, xori, yori = header.loc[2,0].split(' ')"
   ]
  },
  {
   "cell_type": "code",
   "execution_count": 31,
   "metadata": {},
   "outputs": [],
   "source": [
    "d = pd.read_csv(filename,header=2,comment='*',delim_whitespace=True,engine='python',na_values='ETA=')"
   ]
  },
  {
   "cell_type": "code",
   "execution_count": 32,
   "metadata": {},
   "outputs": [],
   "source": [
    "d = d.reset_index()"
   ]
  },
  {
   "cell_type": "code",
   "execution_count": 33,
   "metadata": {},
   "outputs": [],
   "source": [
    "data = d.values[~np.isnan(d.values)]"
   ]
  },
  {
   "cell_type": "code",
   "execution_count": 34,
   "metadata": {},
   "outputs": [],
   "source": [
    "data=np.array(data)"
   ]
  },
  {
   "cell_type": "code",
   "execution_count": 35,
   "metadata": {},
   "outputs": [],
   "source": [
    "data = data.reshape(2,nj,ni+1) # including the row index"
   ]
  },
  {
   "cell_type": "code",
   "execution_count": 36,
   "metadata": {},
   "outputs": [],
   "source": [
    "#clean up the row index\n",
    "data = data[:,:,1:]"
   ]
  },
  {
   "cell_type": "code",
   "execution_count": 37,
   "metadata": {},
   "outputs": [],
   "source": [
    "lons=data[0,:,:]\n",
    "lats=data[1,:,:]"
   ]
  },
  {
   "cell_type": "code",
   "execution_count": 38,
   "metadata": {},
   "outputs": [],
   "source": [
    "g = xr.Dataset({'lons': (['x', 'y'], lons),   \n",
    "                'lats': (['x', 'y'], lats)})"
   ]
  },
  {
   "cell_type": "code",
   "execution_count": 39,
   "metadata": {},
   "outputs": [],
   "source": [
    "g.attrs = {'Coordinate System': cs, 'alfori': alfori, 'xori': xori, 'yori': yori}"
   ]
  },
  {
   "cell_type": "code",
   "execution_count": 40,
   "metadata": {},
   "outputs": [
    {
     "data": {
      "text/plain": [
       "<xarray.Dataset>\n",
       "Dimensions:  (x: 11, y: 16)\n",
       "Dimensions without coordinates: x, y\n",
       "Data variables:\n",
       "    lons     (x, y) float64 -79.0 -78.8 -78.6 -78.4 -78.2 -78.0 -77.8 -77.6 ...\n",
       "    lats     (x, y) float64 17.0 17.0 17.0 17.0 17.0 17.0 17.0 17.0 17.0 ...\n",
       "Attributes:\n",
       "    Coordinate System:  Spherical\n",
       "    xori:               0.0\n",
       "    yori:               0.0\n",
       "    alfori:             0.0"
      ]
     },
     "execution_count": 40,
     "metadata": {},
     "output_type": "execute_result"
    }
   ],
   "source": [
    "g"
   ]
  },
  {
   "cell_type": "code",
   "execution_count": 41,
   "metadata": {},
   "outputs": [
    {
     "data": {
      "text/plain": [
       "<xarray.DataArray 'lons' (x: 11, y: 16)>\n",
       "array([[-79. , -78.8, -78.6, -78.4, -78.2, -78. , -77.8, -77.6, -77.4, -77.2,\n",
       "        -77. , -76.8, -76.6, -76.4, -76.2, -76. ],\n",
       "       [-79. , -78.8, -78.6, -78.4, -78.2, -78. , -77.8, -77.6, -77.4, -77.2,\n",
       "        -77. , -76.8, -76.6, -76.4, -76.2, -76. ],\n",
       "       [-79. , -78.8, -78.6, -78.4, -78.2, -78. , -77.8, -77.6, -77.4, -77.2,\n",
       "        -77. , -76.8, -76.6, -76.4, -76.2, -76. ],\n",
       "       [-79. , -78.8, -78.6, -78.4, -78.2, -78. , -77.8, -77.6, -77.4, -77.2,\n",
       "        -77. , -76.8, -76.6, -76.4, -76.2, -76. ],\n",
       "       [-79. , -78.8, -78.6, -78.4, -78.2, -78. , -77.8, -77.6, -77.4, -77.2,\n",
       "        -77. , -76.8, -76.6, -76.4, -76.2, -76. ],\n",
       "       [-79. , -78.8, -78.6, -78.4, -78.2, -78. , -77.8, -77.6, -77.4, -77.2,\n",
       "        -77. , -76.8, -76.6, -76.4, -76.2, -76. ],\n",
       "       [-79. , -78.8, -78.6, -78.4, -78.2, -78. , -77.8, -77.6, -77.4, -77.2,\n",
       "        -77. , -76.8, -76.6, -76.4, -76.2, -76. ],\n",
       "       [-79. , -78.8, -78.6, -78.4, -78.2, -78. , -77.8, -77.6, -77.4, -77.2,\n",
       "        -77. , -76.8, -76.6, -76.4, -76.2, -76. ],\n",
       "       [-79. , -78.8, -78.6, -78.4, -78.2, -78. , -77.8, -77.6, -77.4, -77.2,\n",
       "        -77. , -76.8, -76.6, -76.4, -76.2, -76. ],\n",
       "       [-79. , -78.8, -78.6, -78.4, -78.2, -78. , -77.8, -77.6, -77.4, -77.2,\n",
       "        -77. , -76.8, -76.6, -76.4, -76.2, -76. ],\n",
       "       [-79. , -78.8, -78.6, -78.4, -78.2, -78. , -77.8, -77.6, -77.4, -77.2,\n",
       "        -77. , -76.8, -76.6, -76.4, -76.2, -76. ]])\n",
       "Dimensions without coordinates: x, y"
      ]
     },
     "execution_count": 41,
     "metadata": {},
     "output_type": "execute_result"
    }
   ],
   "source": [
    "g.lons"
   ]
  },
  {
   "cell_type": "markdown",
   "metadata": {},
   "source": [
    "### Depth file"
   ]
  },
  {
   "cell_type": "code",
   "execution_count": 42,
   "metadata": {},
   "outputs": [],
   "source": [
    "filename = '/Users/brey/Downloads/d3d.dep'"
   ]
  },
  {
   "cell_type": "code",
   "execution_count": 43,
   "metadata": {},
   "outputs": [],
   "source": [
    "de = np.random.rand(g.lons.values.shape[0],g.lons.values.shape[1])"
   ]
  },
  {
   "cell_type": "code",
   "execution_count": 44,
   "metadata": {},
   "outputs": [],
   "source": [
    "de[-1,:]=np.nan"
   ]
  },
  {
   "cell_type": "code",
   "execution_count": 45,
   "metadata": {},
   "outputs": [
    {
     "data": {
      "text/plain": [
       "array([nan, nan, nan, nan, nan, nan, nan, nan, nan, nan, nan, nan, nan,\n",
       "       nan, nan, nan])"
      ]
     },
     "execution_count": 45,
     "metadata": {},
     "output_type": "execute_result"
    }
   ],
   "source": [
    "de[np.isnan(de)]"
   ]
  },
  {
   "cell_type": "code",
   "execution_count": 46,
   "metadata": {},
   "outputs": [],
   "source": [
    "np.savetxt(filename, de)"
   ]
  },
  {
   "cell_type": "code",
   "execution_count": 47,
   "metadata": {},
   "outputs": [
    {
     "data": {
      "text/plain": [
       "array([[8.53369706e-01, 6.37855812e-01, 7.32094030e-01, 9.49404568e-01,\n",
       "        4.02763067e-01, 7.57651294e-01, 4.31412885e-01, 4.21823416e-01,\n",
       "        9.90949861e-01, 1.13694384e-01, 3.91249932e-02, 5.31019097e-01,\n",
       "        8.41419629e-01, 8.89873448e-01, 3.59228465e-01, 4.32567603e-01],\n",
       "       [3.59444109e-01, 4.09617319e-01, 9.03891193e-02, 8.80864198e-03,\n",
       "        3.08417858e-01, 5.58908168e-01, 3.95580152e-01, 7.43260161e-01,\n",
       "        5.04488214e-01, 2.72692386e-01, 8.96610669e-01, 7.51449001e-01,\n",
       "        7.11316109e-01, 1.87904419e-01, 4.70664195e-01, 2.58239908e-01],\n",
       "       [1.86567693e-01, 1.34459919e-01, 4.45432164e-02, 4.48079929e-01,\n",
       "        3.13062764e-01, 9.44692018e-01, 6.23370706e-01, 4.03753270e-01,\n",
       "        2.59382561e-01, 4.40019956e-01, 3.28318115e-01, 8.17279042e-01,\n",
       "        5.91331181e-02, 6.18509983e-02, 1.94763810e-01, 3.91905476e-01],\n",
       "       [5.24792503e-01, 4.02191939e-02, 7.21143802e-04, 8.34551504e-01,\n",
       "        7.23523154e-01, 5.77731533e-01, 9.42634113e-01, 4.77260499e-01,\n",
       "        5.07860084e-01, 2.74216442e-01, 9.55820881e-01, 3.99428510e-01,\n",
       "        6.60652990e-02, 7.87834034e-01, 1.92394388e-01, 5.52257726e-01],\n",
       "       [7.27481817e-01, 8.37445965e-01, 7.70071463e-01, 5.88378872e-01,\n",
       "        2.37022277e-01, 3.78919305e-01, 2.37259819e-01, 3.91869695e-01,\n",
       "        3.11559784e-01, 4.82722680e-01, 1.64665760e-01, 8.83195918e-02,\n",
       "        6.63865787e-02, 6.75026804e-01, 1.90511586e-01, 8.74368206e-01],\n",
       "       [2.53817294e-01, 7.09161405e-01, 5.02891676e-01, 3.39051133e-02,\n",
       "        5.73684603e-01, 4.28075841e-01, 7.53914926e-01, 2.12527021e-01,\n",
       "        8.46009224e-01, 7.82446680e-01, 7.85202190e-01, 9.28998357e-01,\n",
       "        8.07389289e-01, 5.79208743e-01, 2.81705717e-01, 4.81040908e-01],\n",
       "       [1.70835909e-01, 6.41400072e-01, 6.70813681e-01, 2.41367869e-01,\n",
       "        9.97329449e-01, 4.02524498e-01, 5.64988828e-01, 3.09781546e-01,\n",
       "        3.27367137e-01, 6.49451023e-01, 5.11449774e-01, 1.36994421e-01,\n",
       "        9.79864198e-01, 8.61129925e-01, 6.60712106e-01, 4.32101549e-01],\n",
       "       [5.08077394e-01, 1.88517680e-01, 8.41580424e-01, 3.30539623e-01,\n",
       "        4.20103109e-01, 2.75020935e-01, 1.22342805e-01, 9.60830930e-01,\n",
       "        5.43896971e-01, 1.15849126e-01, 2.22804610e-01, 9.62934676e-01,\n",
       "        9.96803813e-01, 9.66517309e-01, 8.36907677e-01, 6.17622917e-01],\n",
       "       [9.43492090e-01, 4.70293840e-01, 7.33608617e-01, 2.77765817e-01,\n",
       "        4.51363875e-01, 2.30614675e-01, 4.87991896e-01, 5.53954396e-01,\n",
       "        1.05646104e-01, 6.32581089e-01, 8.90512223e-01, 7.34047282e-01,\n",
       "        5.97830570e-01, 3.69874037e-01, 7.94899323e-01, 6.65896022e-01],\n",
       "       [7.79773977e-01, 2.74297428e-01, 3.86894127e-01, 2.54360130e-01,\n",
       "        1.08496246e-01, 3.57981107e-01, 5.85645167e-01, 2.81443204e-01,\n",
       "        1.87026036e-02, 4.78308986e-01, 1.54913395e-01, 8.44003154e-01,\n",
       "        1.43339942e-01, 6.97133510e-01, 3.89330421e-01, 9.36988245e-01],\n",
       "       [           nan,            nan,            nan,            nan,\n",
       "                   nan,            nan,            nan,            nan,\n",
       "                   nan,            nan,            nan,            nan,\n",
       "                   nan,            nan,            nan,            nan]])"
      ]
     },
     "execution_count": 47,
     "metadata": {},
     "output_type": "execute_result"
    }
   ],
   "source": [
    "np.loadtxt(filename)"
   ]
  },
  {
   "cell_type": "code",
   "execution_count": null,
   "metadata": {},
   "outputs": [],
   "source": []
  }
 ],
 "metadata": {
  "kernelspec": {
   "display_name": "pyPoseidon",
   "language": "python",
   "name": "pyposeidon"
  },
  "language_info": {
   "codemirror_mode": {
    "name": "ipython",
    "version": 2
   },
   "file_extension": ".py",
   "mimetype": "text/x-python",
   "name": "python",
   "nbconvert_exporter": "python",
   "pygments_lexer": "ipython2",
   "version": "2.7.14"
  },
  "toc": {
   "base_numbering": 1,
   "nav_menu": {},
   "number_sections": true,
   "sideBar": true,
   "skip_h1_title": false,
   "title_cell": "Table of Contents",
   "title_sidebar": "Contents",
   "toc_cell": false,
   "toc_position": {},
   "toc_section_display": true,
   "toc_window_display": false
  }
 },
 "nbformat": 4,
 "nbformat_minor": 2
}
